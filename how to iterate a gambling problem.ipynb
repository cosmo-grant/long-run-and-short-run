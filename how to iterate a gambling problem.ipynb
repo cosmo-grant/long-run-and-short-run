{
 "cells": [
  {
   "cell_type": "code",
   "execution_count": 1,
   "metadata": {},
   "outputs": [],
   "source": [
    "# DO THIS FIRST: FROM THE MENU AT THE TOP, CLICK' 'CELL' THEN 'RUN ALL'.\n",
    "\n",
    "import numpy as np\n",
    "import matplotlib.pyplot as plt\n",
    "from scipy.special import binom\n",
    "from ipywidgets import interact, fixed, interact_manual"
   ]
  },
  {
   "cell_type": "markdown",
   "metadata": {},
   "source": [
    "# How to iterate a gambling problem?"
   ]
  },
  {
   "cell_type": "markdown",
   "metadata": {},
   "source": [
    "## Structure and performance measure\n",
    "\n",
    "We generate a vertical or horizontal gambling problem by iterating a one-off gambling problem. Iterating how? Let's separate two components. \n",
    "\n",
    "The first component is *structure*. In a horizontal gambling problem, an infinite sequence of people each face a gamble in turn, have the same initial bankroll, and everyone has to bet the same amount. In a vertical gambling problem, you face a gamble repeatedly, your bankroll rolls over, and you have to bet the same proportion every time. These descriptions fix the structure of horizontal and vertical gambling problems. In general, to describe the structure is to describe what the bettors *do*.\n",
    "\n",
    "The second component is the *performance measure*. In horizontal gambling problems, the performance measure is the average bankroll. In vertical gambling problems, the performance measure is the growth rate. In general, the performance measure is the criterion by which we judge when this bettor, or group of bettors, outperforms that bettor, or group of bettors. (Don't confuse the performance measure with the bettors' utility functions, which do a quite different job.)\n",
    "\n",
    "The two components, structure and performance measure, together describe how to iterate a one-off gambling problem. The discussion in *The Long-Run and the Short-Run* focused on two ways to iterate one-off problems. Let's consider others."
   ]
  },
  {
   "cell_type": "markdown",
   "metadata": {},
   "source": [
    "## Constraints on performance measures"
   ]
  },
  {
   "cell_type": "markdown",
   "metadata": {},
   "source": [
    "What we care about is when one bettor or group of bettors has more money than another bettor or group of bettors after $n$ rounds. In a horizontal gambling problem, this group has more money than that group after $n$ rounds just if this group's total bankroll after $n$ rounds is greater than that group's total bankroll after $n$ rounds, which holds just if this group's average bankroll after $n$ rounds is greater than that group's average bankroll after $n$ rounds. That's why looking at average rather than total bankroll is harmless: it doesn't change how we compare groups. (It might change how we compare groups after different numbers of rounds, but we're only interested in comparing groups after the same number of rounds.) And it happens that the average is easier to work with than the total. Using the average makes it easy to apply the Laws of Large Numbers, and so to compare how groups do as the number of rounds tends to infinity.\n",
    "\n",
    "Similarly, in a vertical gambling problem, this bettor has more money than that bettor after $n$ rounds just if this bettor's final bankroll after $n$ rounds is greater than that bettor's final bankroll after $n$ rounds, which holds just if this bettor's growth rate after $n$ rounds is greater than that bettor's growth rate after $n$ rounds. That's why looking at growth rate rather than final bankroll is harmless: it doesn't change how we compare bettors. (It might change how we compare bettors after different numbers of rounds, but we're only interested in comparing bettors after the same number of rounds.) And it happens that the growth rate is easier to work with than the final bankroll. Using the growth rate makes it easy to apply the Laws of Large Numbers, and so to compare how bettors do as the number of rounds tends to infinity.\n",
    "\n",
    "Let's say  performance measure *respects what we care about* just in case: if the total of these bettors' final bankrolls after $n$ rounds is greater than the total of those bettors' final bankrolls after $n$ rounds, then the performance measure should return a higher value for these bettors than those bettors.\n",
    "\n",
    "To summarize. The basic performance measure is how much money a bettor, or group of bettors, has: total bankroll in the horizontal case; final bankroll in the vertical case. But we only care about *comparing* groups after the *same* number of rounds: when one bettor or group of bettors has more money after $n$ rounds than another bettor or group of bettors has after $n$ rounds. Because we only care about comparisons after the same number of rounds, it's harmless to look not at quantity of money but at average bankroll in the horizontal case or growth rate in the vertical case, since these performance measures resepct what we care about. And looking at average or growth rate is helpful, since they make the analysis easier: they make it easy to apply the Laws of Large Numbers, and so to compare how groups do as the number of rounds tends to infinity.\n",
    "\n",
    "We're going to consider some other betting structures, which will involve both horizontal and vertical betting. As before, what we care about is when one group has more money than another after $n$ rounds. No matter the structure, this group has more money than that group after $n$ rounds just if the total final bankrolls in this group after $n$ rounds is greater than the total final bankrolls in that group after $n$ rounds. But instead of focusing on the total final bankrolls, we can focus on some other performance measure, as long as it respects what we care about. If that performance measure also makes the analysis easier, all the better.\n",
    "\n",
    "An example. Look not at the total of the final bankrolls---the basic performance measure---but at (total of final bankrolls) divided by (1 + total of final bankrolls). Because the function, viewed as a function of total of final bankrolls, is strictly monotone increasing, it doesn't make a difference to what we care about. (Note that, unlike the average and growth rate, functions of this form don't take the number of the round as an argument. So functions of this form don't change how we compare bettors after *different* numbers of rounds, as well as after the *same* number of rounds. But since we're only interested in comparing bettors after the same number of rounds, this property is irrelevant.)\n",
    "\n",
    "There's no need to settle on a single performance measure. When we change the betting structure, we can change the performance measure too if it helps with the analysis. All that matters is that the performance measure respects what we care about: if the total of these bettors' final bankrolls after $n$ rounds is greater than the total of those bettors' final bankrolls after $n$ rounds, then the performance measure should return a higher value for these bettors than those bettors."
   ]
  },
  {
   "cell_type": "markdown",
   "metadata": {},
   "source": [
    "## First example: n by k, k by n\n",
    "\n",
    "In an *n by 2 gambling problem*, two people, $A_1$ and $A_2$, face gambling problems with win probability $p$ and odds $b$:1 each day. Each of their bankrolls before betting on Day 1 is $r$. And their bankrolls roll over: each persons' bankroll before betting on Day $k+1$ is whatever her bankroll after betting is on Day $k$. They have to bet the same proportion of their bankrolls each day, and as each other. The outcomes of their gambles are independent.\n",
    "\n",
    "Take Example 1 above, where $p=\\frac{1}{2}$, $b=2$ and $r$ is 100 dollars. Suppose each day they both bet proportion $m$, for some $m \\in [0,1]$. What will happen? Here's one way things might go. On Day 1, $A_1$ bets and wins and $A_2$ bets and loses, say. $A_1$ now has $100(1+bm)$ dollars and $A_2$ has $100(1-m)$ dollars. Their combined bankroll is $100(2+(b-1)m)$. On Day 2, both bet and lose, say. $A_1$ now has $100(1+bm)(1-m)$ dollars and $A_2$ now has $100(1-m)^2$ dollars. Their combined bankroll is $100(1-m)(2+(b-1)m)$ dollars. And so on. Look at the total of their final bankrolls as they bet more and more times, or, what comes to the same thing, any performance measure which respects what we care about.\n",
    "\n",
    "We've considered an n by 2 gambling problem. We could consider instead *n by 3*, *n by 4*, and so on. \n",
    "\n",
    "Transposing things, we could also consider a *2 by n* gambling problem. In a 2 by n gambling problem, an infinite sequence of people $A_1$, $A_2$, $A_3$, ... each gamble in turn. On Day $k$, $A_k$ bets twice vertically: that is, she bets, and then bets again, with her bankroll rolling over. They have to bet the same proportion of their bankrolls each day, and as each other. The outcomes of their gambles are independent. Look at the total of their final bankrolls as they bet more and more times, or, what comes to the same thing, any performance measure which respects what we care about.\n",
    "\n",
    "As before, we could also consider *3 by n*, *4 by n*, and so on."
   ]
  },
  {
   "cell_type": "markdown",
   "metadata": {},
   "source": [
    "## Second example: n by n\n",
    "\n",
    "An $n$ by $n$ gambling problem works like this:\n",
    "\n",
    " - Day 1. $A_1$ bets once.\n",
    " - Day 2. $A_1$ bets again, $A_2$ appears and bets twice, so each has bet vertically twice total.\n",
    " - Day 3. $A_1$ bets again, $A_2$ bets again, $A_3$ appears and bets three times, so each has bet vertically three times total.\n",
    " - And so on.\n",
    "\n",
    "The number of agents involved increases with the number of days: at the end of Day $n$, $n$ agents have each bet $n$ times vertically. As usual, they have to bet the same proportion of their bankrolls each day, and as each other. The outcomes of their gambles are independent. Look at the total of their final bankrolls as they bet more and more times, or, what comes to the same thing, any performance measure which respects what we care about."
   ]
  },
  {
   "cell_type": "markdown",
   "metadata": {},
   "source": [
    "## A class of iterated gambling problems\n",
    "\n",
    "Let's visualize structures with a grid. Imagine a grid of points $(i,j) \\in \\mathbb{N}^{2}$. Circling point $(i,j)$ represents that $A_i$ has bet $j$ times vertically. We can visualize a betting structure as a rising curtain of points on the grid.\n",
    "\n",
    "For example, take the $n$ by 2 structure. On Day 1, $A_1$ and $A_2$ bet once. So circle the points (1,1) and (2,1). On Day 2, $A_1$ and $A_2$ bet again vertically. So circle the points (1,2) and (2,2). On Day 3, $A_1$ and $A_2$ bet again vertically. So circle the points (1,3) and (2,3). And so on. We are defining the function \n",
    "\n",
    "\\begin{equation}\n",
    "    f : n \\mapsto [n,n]\n",
    "\\end{equation}\n",
    "\n",
    "which takes a number $n$ and returns a list of numbers, in this case a list of length 2, representing that at the end of Day $n$, $A_1$ and $A_2$ have each bet $n$ times.\n",
    "\n",
    "Another example: the $n$ by $n$ structure. On Day 1, circle (1,1). On Day 2, circle (1,2) and (2,2). On Day 3, circle (1,3), (2,3) and (3,3). And so on. We're defining the function\n",
    "\n",
    "\\begin{equation}\n",
    "    f : n \\mapsto [n,...,n]\n",
    "\\end{equation}\n",
    "\n",
    "which takes a number $n$ and returns a list of numbers, in this case a list of length $n$, representing that at the end of Day $n$, $A_1$, ..., $A_n$ have each bet $n$ times.\n",
    "\n",
    "When you visualize structures on the grid like this, a general definition suggests itself. A *structure function* $f$ takes a number $n$ and returns a list of numbers $[i_1,...,i_k]$, such that for $n \\leq m$:\n",
    "\n",
    " - the length of $f(n)$ is less than or equal to the length of $f(m)$ \n",
    " - each entry of $f(n)$ is less than or equal to the corrresponding entry of $f(m)$\n",
    " \n",
    "The $i^{th}$ entry of $f(n)$ is the number of times $A_i$ has bet at the end of Day $n$. So the constraints correspond to the facts that as the days pass the number of agents who have bet doesn't decrease and the number of times an agent has bet doesn't decrease. The definition also enforces a helpful book-keeping constraint: that $A_i$ starts betting before $A_{i+1}$.\n",
    "\n",
    "With this definition, we've now defined a wide class of iterated gambling problems, of which horizontal gambling problems ($n \\mapsto [1,...,1]$, a list of length $n$) and vertical gambling problems ($n \\mapsto [n]$, a list of length 1) are merely two instances."
   ]
  },
  {
   "cell_type": "markdown",
   "metadata": {},
   "source": [
    "## Conjectures precisified\n",
    "\n",
    "Fix a gambling problem, $G$. A structure function $S$ tells us how to iterate it, giving iterated problem $S_G$. Let's say that betting proportion $m_1$ *does better* than betting proportion $m_2$ in $S_G$ just if people who bet $m_1$ eventually tend to be ahead of people bet $m_2$. More carefully:\n",
    "\n",
    "> For any $\\delta > 0$, there exists an $N$ such that for all $n>N$ the probability that people who bet $m_1$ get ahead of people who bet $m_2$ after Day $n$ in $S_G$ is at least $1-\\delta$.\n",
    "\n",
    "Fix a gambling problem with win probability 0.5 and odds 2:1. Then, for example, betting proportion 1 does better than betting proportion 0.25 in the horizontal iteration, and betting proportion 0.25 does better than betting proportion 1 in the vertical iteration.\n",
    "\n",
    "Let's also say, naturally enough, that betting proportion $m$ *does best* in $S_G$ just if:\n",
    "\n",
    "> For every other proportion $m'$, betting proportion $m$ does better than betting proportion $m'$ in $S_G$.\n",
    "\n",
    "So, with win probability 0.5 and odds 2:1 as before, betting proportion 1 does best in the horizontal iteration and betting proportion 0.25 does best in the vertical iteration. We can now precisify the informal conjecture from *The Long-Run and the Short-Run*, as follows:\n",
    "\n",
    "> For any gambling problem $G$ and any proportion $m$, there exists a structure function $S$ such that $m$ does best in $S_G$.\n",
    "\n",
    "A weaker, but still interesting, conjecture is that:\n",
    "\n",
    "> For any gambling problem $G$ and any proportion $m$ between the MEGR proportion and the MEV proportion in $G$, there exists a structure function $S$ such that $m$ does best in $S_G$.\n",
    "\n",
    "The current definition of *does better* reflects the form of the Weak Law of Large Numbers. We could strengthen the definition by reflecting the form of the Strong Law instead. Let's say that betting proportion $m_1$ *does strongly better* than betting proportion $m_2$ just if with probability 1 eventually people who bet $m_1$ get ahead and stay ahead of people who bet $m_2$. And we can strengthen the definition of *does best* and the conjectures correspondingly.\n",
    "\n",
    "If any of these conjectures is true, it means that most recommendations have a long-run justification.\n",
    "\n",
    "We can lift these definitions to *decision rules*, rather than *recommendations*. Let's say that $d_1$ does better than $d_2$ across $S$ just if for any gambling problem $G$ $d_1$'s recommendation does better than $d_2$'s recommendation in $S_G$, when the recommendations differ, and that $d_1$ does best across $S$ just if for every gambling problem $G$ it does better than any other decision rule in $S_G$. So, for example, MEV does better than MEGR across horizontal iterations, and in fact does best, and MEGR does better than MEV across vertical iterations, and in fact does best. (Here, I'm restricting the quantifiers to gambling problems with positive edge.) A conjecture is then:\n",
    "\n",
    "> For any decision rule $d$, there exists a structure function $S$ such that $d$ does best across $S$.\n",
    "\n",
    "If this conjecture is true, it means that most decision rules have a long-run justification. It follows, I suggest, that long-run justifications of decision rules are cheap, and don't justify the rule's recommendations."
   ]
  },
  {
   "cell_type": "markdown",
   "metadata": {},
   "source": [
    "## Experiments\n",
    "\n",
    "in the code below, I've defined a few structure functions. You can add your own. I've also defined some performance measures: the basic measure of total final bankrolls and some functions of that which respect what we care about. The code then lets you define a gambling problem, choose a structure and performance measure, simulate the corresponding iterated gambling problem, and seeing which bet proportions do better than others. So it's a way of investigating the conjecture. \n",
    "\n",
    "Of course, simulations prove nothing. To verify the conjectures requires mathematics, not simulations. But the simulations are at least suggestive."
   ]
  },
  {
   "cell_type": "code",
   "execution_count": 2,
   "metadata": {},
   "outputs": [],
   "source": [
    "# STRUCTURE FUNCTIONS --- GO WILD!\n",
    "# IF YOU DEFINE YOUR OWN, ADD IT TO THE structuresToName DICTIONARY, SO THAT IT SHOWS UP IN THE DROPDOWN MENU LATER.\n",
    "\n",
    "def horizontal(numDay):\n",
    "    \"\"\"n agents each bet once.\"\"\"\n",
    "    return [1]*numDay\n",
    "\n",
    "def vertical(numDay):\n",
    "    \"\"\"One agent betting n times.\"\"\"\n",
    "    return [numDay]\n",
    "\n",
    "def nByK(k):\n",
    "    \"\"\"k agents each betting n times.\"\"\"\n",
    "    return lambda numDay : [numDay]*k\n",
    "\n",
    "def kByN(k):\n",
    "    \"\"\"n agents each betting k times.\"\"\"\n",
    "    return lambda numDay : [k]*numDay\n",
    "\n",
    "def nByN(numDay):\n",
    "    \"\"\"n agents each betting n times.\"\"\"\n",
    "    return [numDay]*numDay\n",
    "\n",
    "def nByNSquared(numDay):\n",
    "    \"\"\"n squared agents each betting n times.\"\"\"\n",
    "    return [numDay]*numDay**2\n",
    "\n",
    "def nSquaredByN(numDay):\n",
    "    \"\"\"n agents each betting n squared times.\"\"\"\n",
    "    return [numDay**2]*numDay\n",
    "\n",
    "structuresToName = {'horizontal' : horizontal,\n",
    "                    'vertical' : vertical,\n",
    "                    'n by 2' : nByK(2),\n",
    "                    'n by 3' : nByK(3),\n",
    "                    '2 by n' : kByN(2),\n",
    "                    '3 by n' : kByN(3),\n",
    "                    'n by n' : nByN,\n",
    "                   'n by n^2' : nByNSquared,\n",
    "                   'n^2 by n' : nSquaredByN}\n",
    "\n",
    "structuresToDescription = dict([v,k] for k,v in structuresToName.items())"
   ]
  },
  {
   "cell_type": "code",
   "execution_count": 3,
   "metadata": {},
   "outputs": [],
   "source": [
    "def bankrolls(betStructure,numDay,numWinsList,odds,betProp,initialBankroll=1):\n",
    "    \"\"\"Computes agents' bankrolls at end of Day n, given win counts and betting structure.\"\"\"\n",
    "    numBetsList = betStructure(numDay)\n",
    "    return np.array([initialBankroll * (1+odds*betProp)**numWins * (1-betProp)**(numBets - numWins) \\\n",
    "            for (numWins,numBets) in zip(numWinsList,numBetsList)])"
   ]
  },
  {
   "cell_type": "code",
   "execution_count": 4,
   "metadata": {},
   "outputs": [],
   "source": [
    "# PERFORMANCE MEASURES\n",
    "\n",
    "#def averageGrowthRate(bankrolls,betStructure,numDay,initialBankroll=1):\n",
    "#    \"\"\"Computes each agent's growth rate, then averages.\"\"\"\n",
    "#    return np.mean((bankrolls / initialBankroll) ** (1 / np.array(betStructure(numDay)))) # does this preserve order?\n",
    "\n",
    "#def growthRateOfAverage(bankrolls,betStructure,numDay,initialBankroll=1):\n",
    "#    \"\"\"Computes agents' average bankroll, then finds growth rate.\"\"\"\n",
    "#    return np.mean(bankrolls)**(1 / betStructure(numDay)[0]) # what if people have bet different numbers of times?\n",
    "\n",
    "def total(bankrolls,betStructure,numDay,initialBankroll=1):\n",
    "    \"\"\"Computes agents' total combined bankroll (unbounded).\"\"\"\n",
    "    return np.sum(bankrolls)\n",
    "\n",
    "def logTotal(bankrolls,betStructure,numDay,initialBankroll=1):\n",
    "    \"\"\"Computes log of agents' total combined bankroll (unbounded).\"\"\"\n",
    "    return np.log(np.sum(bankrolls))\n",
    "\n",
    "def normalized(bankrolls,betStructure,numDay,initialBankroll=1):\n",
    "    \"\"\"Computes strict monotone function of total combined bankrolls, with range 0-1.\"\"\"\n",
    "    return np.sum(bankrolls) / (np.sum(bankrolls)+1)\n",
    "\n",
    "def normalizedWider(bankrolls,betStructure,numDay,initialBankroll=1):\n",
    "    \"\"\"Computes strict monotone function of total combined bankrolls, with range 0-100.\"\"\"\n",
    "    return 100 * np.sum(bankrolls) / (np.sum(bankrolls)+100000)\n",
    "\n",
    "measuresToName = {'total' : total,\n",
    "                 'log total' : logTotal,\n",
    "                 'normalized 0-1' : normalized,\n",
    "                 'normalized 0-100' : normalizedWider}\n",
    "\n",
    "measuresToDescription = dict([v,k] for k,v in measuresToName.items())"
   ]
  },
  {
   "cell_type": "code",
   "execution_count": 5,
   "metadata": {},
   "outputs": [],
   "source": [
    "def scaledBankrolls(betStructure,numDay,measure,numWinsList,odds,betProp,initialBankroll=1):\n",
    "    \"\"\"Computes performance measure of agents' bankrolls at end of Day n, given win counts and betting structure.\"\"\"\n",
    "    return measure(bankrolls(betStructure,numDay,numWinsList,odds,betProp,initialBankroll),\n",
    "                       betStructure,numDay,initialBankroll)"
   ]
  },
  {
   "cell_type": "code",
   "execution_count": 6,
   "metadata": {},
   "outputs": [],
   "source": [
    "def simulateBetting(betStructure,numDay,measure,odds,winProb,betProp,initialBankroll=1):\n",
    "    \"\"\"Shows how agents' performance evolves over days.\"\"\"\n",
    "    performance = []\n",
    "    cumWins = np.array([np.cumsum(np.random.random(numBets) < winProb) for numBets in betStructure(numDay)]).T\n",
    "    # print(cumWins)\n",
    "    for day in range(1,numDay+1):\n",
    "        numWinsList = [cumWins[numBets-1,index] for (index,numBets) in enumerate(betStructure(day))]\n",
    "        # print(numWinsList)\n",
    "        # print(bankrolls(betStructure,day,numWinsList,odds,betProp))\n",
    "        performance += [scaledBankrolls(betStructure,day,measure,numWinsList,odds,betProp,initialBankroll)]\n",
    "        return performance"
   ]
  },
  {
   "cell_type": "code",
   "execution_count": 11,
   "metadata": {},
   "outputs": [
    {
     "data": {
      "application/vnd.jupyter.widget-view+json": {
       "model_id": "83947f2483f14be5b7ef63034eab49ec",
       "version_major": 2,
       "version_minor": 0
      },
      "text/plain": [
       "interactive(children=(Dropdown(description='betStructure', options={'horizontal': <function horizontal at 0x00…"
      ]
     },
     "metadata": {},
     "output_type": "display_data"
    },
    {
     "data": {
      "text/plain": [
       "<function __main__.plotFourPerformances(betStructure, measure, numDay, odds, winProb, betProp0=0.0, betProp1=0.4, betProp2=0.8, betProp3=1.0, initialBankroll=1)>"
      ]
     },
     "execution_count": 11,
     "metadata": {},
     "output_type": "execute_result"
    }
   ],
   "source": [
    "def plotFourPerformances(betStructure,measure,numDay,odds,winProb,\n",
    "                         betProp0=0.,betProp1=.4,betProp2=.8,betProp3=1.,initialBankroll=1):\n",
    "    cumWins = np.array([np.cumsum(np.random.random(numBets) < winProb) for numBets in betStructure(numDay)]).T\n",
    "    betProps = [betProp0,betProp1,betProp2,betProp3]\n",
    "    performancesAtEnd = []\n",
    "    for betProp in betProps:\n",
    "        \n",
    "        # find how that bet proportion does\n",
    "        performance = []\n",
    "        for day in range(1,numDay+1):\n",
    "            numWinsList = [cumWins[numBets-1,index] for (index,numBets) in enumerate(betStructure(day))]\n",
    "            performance += [scaledBankrolls(betStructure,day,measure,numWinsList,odds,betProp,initialBankroll)]\n",
    "        \n",
    "        # track performance at end\n",
    "        performancesAtEnd += [performance[-1]]\n",
    "        \n",
    "        # plot its performance\n",
    "        label = 'bet proportion: {}'.format(betProp)\n",
    "        plt.plot(range(1,numDay+1),performance,label=label)\n",
    "    \n",
    "    print('Performances at end of play to 5 decimal places: ', np.round(performancesAtEnd,5))\n",
    "    \n",
    "    plt.xlabel('number of days'); plt.ylabel(measuresToDescription[measure])\n",
    "    plt.title(\"\"\"Plots how the agents perform over time \n",
    "    when the betting structure is {}.\"\"\".format(structuresToDescription[betStructure]))\n",
    "    plt.legend()\n",
    "    plt.show()\n",
    "    \n",
    "interact_manual(plotFourPerformances, betStructure=structuresToName, measure=measuresToName,\n",
    "         odds=(0,10,0.5), numDay=(1,200), winProb=(0,1.), betProp0=(0,1,0.05), betProp1=(0,1,0.05),\n",
    "         betProp2=(0,1,0.05), betProp3=(0,1,0.05), initialBankroll=fixed(1))"
   ]
  },
  {
   "cell_type": "markdown",
   "metadata": {},
   "source": [
    "## Deleted material below"
   ]
  },
  {
   "cell_type": "markdown",
   "metadata": {},
   "source": [
    "Let's proceed indirectly, by looking not at their total final bankrolls as they bet more and more times, but at their *average growth rate*. What's that? Well, if their final bankrolls after betting $n$ times with initial bankroll $r$ are $f_1$ and $f_2$, then their average growth rate is $g = \\frac{1}{2} \\big( \\sqrt[n]{\\frac{f_1}{r}} + \\sqrt[n]{\\frac{f_2}{r}} \\big)$.\n",
    "\n",
    "Each time one of them wins, she multiplies her bankroll by $(1+bm)$ and each time one of them loses, she multiplies her bankroll by $(1-m)$. So if their initial bankroll is $r$ dollars, they bet $n$ times each, $A_1$ wins $k_1$ times, and $A_2$ wins $k_2$ times, their combined bankroll is:\n",
    "\n",
    "$$ r \\cdot \\Big( (1+bm)^{k_1} \\cdot (1-m)^{n-k_1} + (1+bm)^{k_2} \\cdot (1-m)^{n-k_2} \\Big) $$\n",
    "\n",
    "And their average growth rate is:\n",
    "\n",
    "$$ \\frac{1}{2} \\Big( (1+bm)^{\\frac{k_1}{n}} \\cdot (1-m)^{\\frac{n-k_1}{n}} + (1+bm)^{\\frac{k_2}{n}} \\cdot (1-m)^{\\frac{n-k_2}{n}} \\Big) $$\n",
    "\n",
    "You can evaluate these two expressions, their combined bankroll and their average growth rate after $k_1$ and $k_2$ wins respectively in $n$ bets, for different values for $n$, $k_1$, $k_2$, $b$, and $m$ using the sliders below. When calculating their combined bankroll, we assume their initial bankroll $r$ is 100 dollars."
   ]
  },
  {
   "cell_type": "code",
   "execution_count": 8,
   "metadata": {},
   "outputs": [
    {
     "data": {
      "application/vnd.jupyter.widget-view+json": {
       "model_id": "e7c9c66396354addb442cb0fa1f4099a",
       "version_major": 2,
       "version_minor": 0
      },
      "text/plain": [
       "interactive(children=(IntSlider(value=50, description='n', min=1), IntSlider(value=30, description='k1'), IntS…"
      ]
     },
     "metadata": {},
     "output_type": "display_data"
    },
    {
     "data": {
      "text/plain": [
       "<function __main__.displayNBy2Stuff(n=50, k1=30, k2=10, odds=2, betProp=0.5)>"
      ]
     },
     "execution_count": 8,
     "metadata": {},
     "output_type": "execute_result"
    }
   ],
   "source": [
    "def nBy2CombinedBankrolls(n,k1,k2,odds,betProp,initialBankroll=1):\n",
    "    \"\"\"Finds combined bankroll after k1, k2 wins in n vertical rounds.\"\"\"\n",
    "    return initialBankroll * ((1+odds*betProp)**k1 * (1-betProp)**(n-k1) +\n",
    "                              (1+odds*betProp)**k2 * (1-betProp)**(n-k2))\n",
    "\n",
    "def nBy2AverageGrowthRate(n,k1,k2,odds,betProp):\n",
    "    \"\"\"Finds average growth rate after k1, k2 wins in n vertical rounds.\"\"\"\n",
    "    return 0.5 * (((1+odds*betProp)**k1 * (1-betProp)**(n-k1))**(1/n) +\n",
    "                  ((1+odds*betProp)**k2 * (1-betProp)**(n-k2))**(1/n))\n",
    "\n",
    "def displayNBy2Stuff(n=50,k1=30,k2=10,odds=2,betProp=.5):\n",
    "    \"\"\"Returns bankroll info after k1, k2 wins in n vertical rounds, assuming initial bankroll is 100 dollars.\"\"\"\n",
    "    if k1 > n or k2 > n:\n",
    "        print(\"That doesn't make sense: number of wins > number of bets!\")\n",
    "    else:\n",
    "        combined = nBy2CombinedBankrolls(n,k1,k2,odds,betProp,100)\n",
    "        roundedCombined = int(np.around(combined))\n",
    "        averageGrowthRate = nBy2AverageGrowthRate(n,k1,k2,odds,betProp)\n",
    "        roundedAverageGrowthRate = np.around(averageGrowthRate,2)\n",
    "        print('Combined bankroll is {} dollars (to nearest dollar).'.format(roundedCombined))\n",
    "        print('Average growth rate is {} (to 2 decimal places).'.format(roundedAverageGrowthRate))\n",
    "        \n",
    "interact(displayNBy2Stuff,n=(1,100),k1=(0,100),k2=(0,100),odds=(0,10,0.5),betProp=(0,1,0.05))"
   ]
  },
  {
   "cell_type": "markdown",
   "metadata": {},
   "source": [
    "How their average growth rate changes as they bet more and more times is a chancy matter, since the outcome of each bet is chancy. You can plot how things might go for a few different choices of bet proportion using the sliders below. Whenever you move a slider, a fresh sequence of bets is simulated and it plots the average growth rate against the number of bets for each choice of bet proportion."
   ]
  },
  {
   "cell_type": "code",
   "execution_count": 9,
   "metadata": {},
   "outputs": [
    {
     "data": {
      "application/vnd.jupyter.widget-view+json": {
       "model_id": "0a5267eaa75143a5b4ecc0079bb5c6a0",
       "version_major": 2,
       "version_minor": 0
      },
      "text/plain": [
       "interactive(children=(FloatSlider(value=5.0, description='odds', max=10.0, step=0.5), FloatSlider(value=0.5, d…"
      ]
     },
     "metadata": {},
     "output_type": "display_data"
    },
    {
     "data": {
      "text/plain": [
       "<function __main__.plotFourNBy2AverageGrowthRates(odds, winProbability, numRounds, betProp0=0.0, betProp1=0.4, betProp2=0.8, betProp3=1.0)>"
      ]
     },
     "execution_count": 9,
     "metadata": {},
     "output_type": "execute_result"
    }
   ],
   "source": [
    "def plotFourNBy2AverageGrowthRates(odds,winProbability,numRounds,betProp0=0.,betProp1=.4,\n",
    "                             betProp2=.8,betProp3=1.):\n",
    "    \"\"\"Plots simulation of four average growth rates after n rounds for given bet proportions.\"\"\"\n",
    "    cumWins1 = np.cumsum(np.random.random(numRounds) < winProbability)\n",
    "    cumWins2 = np.cumsum(np.random.random(numRounds) < winProbability)\n",
    "    betProps = [betProp0,betProp1,betProp2,betProp3]\n",
    "    for betProp in betProps:\n",
    "        averageGrowthRates = [nBy2AverageGrowthRate(numRounds,numWins[0],numWins[1],odds,betProp) \\\n",
    "         for (numRounds,numWins) in enumerate(zip(cumWins1,cumWins2),start=1)]\n",
    "        label = 'bet proportion: {}'.format(betProp)\n",
    "        plt.plot(range(1,numRounds+1),averageGrowthRates,label=label)\n",
    "    plt.xlabel(\"number of times they've each bet\"); plt.ylabel('average growth rate')\n",
    "    plt.legend()\n",
    "    plt.show()\n",
    "    \n",
    "    \n",
    "interact(plotFourNBy2AverageGrowthRates,odds=(0,10,0.5),winProbability=(0,1.), numRounds=(1,100),\n",
    "         betProp0=(0,1,0.05),betProp1=(0,1,0.05),betProp2=(0,1,0.05),betProp3=(0,1,0.05))"
   ]
  },
  {
   "cell_type": "code",
   "execution_count": 10,
   "metadata": {},
   "outputs": [
    {
     "data": {
      "application/vnd.jupyter.widget-view+json": {
       "model_id": "2302dbcd743a49b2ba0dac4b88d9fdaa",
       "version_major": 2,
       "version_minor": 0
      },
      "text/plain": [
       "interactive(children=(FloatSlider(value=5.0, description='odds', max=10.0, step=0.5), FloatSlider(value=0.5, d…"
      ]
     },
     "metadata": {},
     "output_type": "display_data"
    },
    {
     "data": {
      "text/plain": [
       "<function __main__.plotFourNByNAverageGrowthRates(odds, winProbability, numRounds, betProp0=0.0, betProp1=0.4, betProp2=0.8, betProp3=1.0)>"
      ]
     },
     "execution_count": 10,
     "metadata": {},
     "output_type": "execute_result"
    }
   ],
   "source": [
    "def nByNCombinedBankrolls(n,numWinsList,odds,betProp,initialBankroll=1):\n",
    "    \"\"\"Finds combined bankroll after n agents bet in n vertical rounds.\"\"\"\n",
    "    return np.array([(1+odds*betProp)**numWins * (1-betProp)**(n-numWins) for numWins in numWinsList]).sum()\n",
    "\n",
    "def nByNAverageGrowthRate(n,numWinsList,odds,betProp):\n",
    "    \"\"\"Finds average growth rate after n agents bet in n vertical rounds.\"\"\"\n",
    "    return 1/n * np.array([((1+odds*betProp)**numWins * (1-betProp)**(n-numWins))**(1/n) for numWins in numWinsList]).sum()\n",
    "\n",
    "def plotFourNByNAverageGrowthRates(odds,winProbability,numRounds,betProp0=0.,betProp1=.4,\n",
    "                             betProp2=.8,betProp3=1.):\n",
    "    \"\"\"Plots simulation of four average growth rates after n rounds for given bet proportions.\"\"\"\n",
    "    cumWins = np.array([np.cumsum(np.random.random(numRounds) < winProbability) for i in range(numRounds)])\n",
    "    betProps = [betProp0,betProp1,betProp2,betProp3]\n",
    "    for betProp in betProps:\n",
    "        averageGrowthRates = [nByNAverageGrowthRate(dayNumber+1,cumWins[0:dayNumber+1,dayNumber],odds,betProp) \\\n",
    "         for dayNumber in range(numRounds)]\n",
    "        label = 'bet proportion: {}'.format(betProp)\n",
    "        plt.plot(range(1,numRounds+1),averageGrowthRates,label=label)\n",
    "    plt.xlabel(\"number of days\"); plt.ylabel('average growth rate')\n",
    "    plt.legend()\n",
    "    plt.show()\n",
    "\n",
    "interact(plotFourNByNAverageGrowthRates,odds=(0,10,0.5),winProbability=(0,1.),numRounds=(1,100),\n",
    "         betProp0=(0,1,0.05),betProp1=(0,1,0.05),betProp2=(0,1,0.05),betProp3=(0,1,0.05))"
   ]
  }
 ],
 "metadata": {
  "kernelspec": {
   "display_name": "Python 3",
   "language": "python",
   "name": "python3"
  },
  "language_info": {
   "codemirror_mode": {
    "name": "ipython",
    "version": 3
   },
   "file_extension": ".py",
   "mimetype": "text/x-python",
   "name": "python",
   "nbconvert_exporter": "python",
   "pygments_lexer": "ipython3",
   "version": "3.6.5"
  }
 },
 "nbformat": 4,
 "nbformat_minor": 2
}
