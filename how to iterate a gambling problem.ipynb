{
 "cells": [
  {
   "cell_type": "code",
   "execution_count": 1,
   "metadata": {},
   "outputs": [],
   "source": [
    "# DO THIS FIRST: FROM THE MENU AT THE TOP, CLICK' 'CELL' THEN 'RUN ALL'.\n",
    "\n",
    "import numpy as np\n",
    "import matplotlib.pyplot as plt\n",
    "from scipy.special import binom\n",
    "from ipywidgets import interact, fixed, interact_manual"
   ]
  },
  {
   "cell_type": "markdown",
   "metadata": {},
   "source": [
    "# How to iterate a gambling problem?"
   ]
  },
  {
   "cell_type": "markdown",
   "metadata": {},
   "source": [
    "## Background\n",
    "\n",
    "In *The Long-Run and the Short-Run*, I defined gambling problems and the horizontal and vertical iterations of them. I explained why maximizing expected value does best in the horizontal iteration and maximizing expected growth rate does best in the vertical iteration. In this section, I quickly go over that material. (For a fuller discussion, see Section 4 of *The Long-Run and the Short-Run*.) In later sections, I consider other ways to iterate gambling problems and make precise the conjecture that many decision rules have a long-run justification.\n",
    "\n",
    "A *gamble* is a bet with two outcomes: either you win, which happens with probability $p$, and get back what you bet plus $b$ times what you bet; or you lose, which happens with probability $1-p$, and lose what you bet. So a gamble is characterized by the *win probability* $p \\in [0,1]$ and the *payoff odds* $b:1$, where $b \\in \\mathbb{R}_{> 0}$. In a *gambling problem*, you have a bankroll of $r$ dollars and face a gamble, where you can bet any amount in $[0,r]$. We're concerned with the question, *How much should you bet in a gambling problem?*\n",
    "\n",
    "In a *horizontal gambling problem*, an infinite sequence of people $A_1$, $A_2$, $A_3$,... each face a gambling problem with win probability $p$, odds $b:1$ and bankroll $r$ in turn. Everyone has to bet the same amount. We're interested in how the bettors' total bankroll changes as more and more people bet. It turns out that it's more convenient to proceed indirectly, by looking not at the bettors' total bankroll $t$ itself but at their *average* bankroll $\\frac{t}{n}$, where $n$ is the number of people who have bet.\n",
    "\n",
    "In a *vertical gambling problem*, you face a gambling problem with win probability $p$ and odds $b$:1 each day. Your bankroll before betting on Day 1 is $r$. And it rolls over: your bankroll before betting on Day $n+1$ is whatever your bankroll after betting is on Day $n$. You have to bet the same proportion of your bankroll each day. We're interested in how your bankroll changes as you bet more and more times. It turns out that it's more convenient to proceed indirectly, by looking not at your bankroll itself but at your bankroll's *growth rate*. What's that? Well, if your bankroll after betting on Day $n$ is $f$, then your bankroll's growth rate is $\\sqrt[n]{\\frac{f}{r}}$. The growth rate may be viewed as the rate of compound daily interest required to yield $f$ from $r$ in $n$ days."
   ]
  },
  {
   "cell_type": "markdown",
   "metadata": {},
   "source": [
    "## Structure and performance measure\n",
    "\n",
    "We generate a vertical or horizontal gambling problem by iterating a one-off gambling problem. Iterating how? Let's separate two components. \n",
    "\n",
    "The first component is *structure*. In a horizontal gambling problem, an infinite sequence of people each face a gamble in turn, have the same initial bankroll, and everyone has to bet the same amount. In a vertical gambling problem, you face a gamble repeatedly, your bankroll rolls over, and you have to bet the same proportion every time. These descriptions fix the structure of horizontal and vertical gambling problems. In general, to describe the structure is to describe what the bettors *do*.\n",
    "\n",
    "The second component is the *performance measure*. In horizontal gambling problems, the performance measure is the average bankroll. In vertical gambling problems, the performance measure is the growth rate. In general, the performance measure is the criterion by which we judge when this bettor or group of bettors outperforms that bettor or group of bettors. (Don't confuse the performance measure with the bettors' utility functions, which do a quite different job.)\n",
    "\n",
    "The two components, structure and performance measure, together describe how to iterate a one-off gambling problem. The discussion in *The Long-Run and the Short-Run* focused on two ways to iterate one-off problems. Let's consider others."
   ]
  },
  {
   "cell_type": "markdown",
   "metadata": {},
   "source": [
    "## Constraints on performance measures"
   ]
  },
  {
   "cell_type": "markdown",
   "metadata": {},
   "source": [
    "What we care about is when one bettor or group of bettors has more money than another bettor or group of bettors after $n$ rounds. In a horizontal gambling problem, after $n$ rounds, this group has more money than that group just if this group's total bankroll is greater than that group's total bankroll, which holds just if this group's average bankroll is greater than that group's average bankroll. That's why looking at average rather than total bankroll is harmless: it doesn't change how we compare groups. (It might change how we compare groups after different numbers of rounds, but we're only interested in comparing groups after the same number of rounds.) And it happens that the average is easier to work with than the total. Using the average makes it easy to apply the Laws of Large Numbers, and so to compare how groups do as the number of rounds tends to infinity.\n",
    "\n",
    "Similarly, in a vertical gambling problem, after $n$ rounds, this bettor has more money than that bettor just if this bettor's final bankroll is greater than that bettor's final bankroll, which holds just if this bettor's growth rate is greater than that bettor's growth rate. That's why looking at growth rate rather than final bankroll is harmless: it doesn't change how we compare bettors. (It might change how we compare bettors after different numbers of rounds, but we're only interested in comparing bettors after the same number of rounds.) And it happens that the growth rate is easier to work with than the final bankroll. Using the growth rate makes it easy to apply the Laws of Large Numbers, and so to compare how bettors do as the number of rounds tends to infinity.\n",
    "\n",
    "Let's say a performance measure *respects what we care about* just in case: if the total of these bettors' final bankrolls after $n$ rounds is greater than the total of those bettors' final bankrolls after $n$ rounds, then the performance measure returns a higher value for these bettors than those bettors.\n",
    "\n",
    "To summarize. The basic performance measure is how much money a bettor or group of bettors has: total bankroll in the horizontal case; final bankroll in the vertical case. But we only care about *comparing* groups after the *same* number of rounds: when one bettor or group of bettors has more money after $n$ rounds than another bettor or group of bettors has after $n$ rounds. Because we only care about comparisons after the same number of rounds, it's harmless to look not at quantity of money but at average bankroll in the horizontal case or growth rate in the vertical case, since these performance measures respect what we care about. And looking at average or growth rate is helpful, since they make the analysis easier: they make it easy to apply the Laws of Large Numbers, and so to compare how groups do as the number of rounds tends to infinity.\n",
    "\n",
    "We're going to consider some other betting structures, which will involve both horizontal and vertical betting. As before, what we care about is when one group has more money than another after $n$ rounds. No matter the structure, this group has more money than that group after $n$ rounds just if the total final bankrolls in this group after $n$ rounds is greater than the total final bankrolls in that group after $n$ rounds. But instead of focusing on the total final bankrolls, we can focus on some other performance measure, as long as it respects what we care about. If that performance measure also makes the analysis easier, all the better.\n",
    "\n",
    "An example. Look not at the total of the final bankrolls---the basic performance measure---but at (total of final bankrolls) divided by (1 + total of final bankrolls). Because the function, viewed as a function of total of final bankrolls, is strictly monotone increasing, it respects what we care about. (In fact, it respects more than we care about. For note that, unlike the average and growth rate, functions of this form don't take the number of the round as an argument. So functions of this form don't change how we compare bettors after *different* numbers of rounds, as well as after the *same* number of rounds. But since we're only interested in comparing bettors after the same number of rounds, this property is irrelevant.)\n",
    "\n",
    "There's no need to settle on a single performance measure. When we change the betting structure, we can change the performance measure too if it helps with the analysis. All that matters is that the performance measure respects what we care about."
   ]
  },
  {
   "cell_type": "markdown",
   "metadata": {},
   "source": [
    "## Examples: k by n, n by k\n",
    "\n",
    "In an *2 by n gambling problem*, two people, $A_1$ and $A_2$, face gambling problems with win probability $p$ and odds $b$:1 each day. Each of their bankrolls before betting on Day 1 is $r$. And their bankrolls roll over: each persons' bankroll before betting on Day $k+1$ is whatever her bankroll after betting is on Day $k$. They have to bet the same proportion of their bankrolls each day, and as each other. The outcomes of their gambles are independent.\n",
    "\n",
    "Take Example 1 above, where $p=\\frac{1}{2}$, $b=2$ and $r$ is 100 dollars. Suppose each day they both bet proportion $m$, for some $m \\in [0,1]$. What will happen? Here's one way things might go. On Day 1, $A_1$ bets and wins and $A_2$ bets and loses, say. $A_1$ now has $100(1+bm)$ dollars and $A_2$ has $100(1-m)$ dollars. Their combined bankroll is $100(2+(b-1)m)$. On Day 2, both bet and lose, say. $A_1$ now has $100(1+bm)(1-m)$ dollars and $A_2$ now has $100(1-m)^2$ dollars. Their combined bankroll is $100(1-m)(2+(b-1)m)$ dollars. And so on. Look at the total of their final bankrolls as they bet more and more times, or, what comes to the same thing, any performance measure which respects what we care about.\n",
    "\n",
    "We've considered a 2 by n gambling problem. We could consider instead *3 by n*, *4 by n*, and so on. \n",
    "\n",
    "Transposing things, we could also consider a *n by 2* gambling problem. In an n by 2 gambling problem, an infinite sequence of people $A_1$, $A_2$, $A_3$, ... each gamble in turn. On Day $k$, $A_k$ bets twice: that is, she bets, and then bets again, with her bankroll rolling over. Everyone has to bet the same proportion of their bankroll each day, and the same proportion as each other. The outcomes of their gambles are independent. Look at the total of their final bankrolls as they bet more and more times, or, what comes to the same thing, any performance measure which respects what we care about.\n",
    "\n",
    "As before, we could also consider *n by 3*, *n by 4*, and so on."
   ]
  },
  {
   "cell_type": "markdown",
   "metadata": {},
   "source": [
    "## Another example: n by n\n",
    "\n",
    "An *n by n* gambling problem works like this: On Day 1, $A_1$ bets once. On Day 2, $A_1$ bets again, and $A_2$ appears and bets twice, so each has bet twice total. On Day 3, $A_1$ bets again, $A_2$ bets again, and $A_3$ appears and bets three times, so each has bet three times total. And so on. In general, On Day $n$, $n$ agents have each bet $n$ times. As usual, they have to bet the same proportion of their bankrolls each day, and as each other. The outcomes of their gambles are independent. Look at the total of their final bankrolls as more and more people bet more and more times, or, what comes to the same thing, any performance measure which respects what we care about."
   ]
  },
  {
   "cell_type": "markdown",
   "metadata": {},
   "source": [
    "## A class of iterated gambling problems\n",
    "\n",
    "On Day $n$: in a horizontal gambling problem, Agents 1 to $n$ have each bet once; in a vertical gambling problem, Agent 1 has bet $n$ times; in an $n$ by $k$ gambling problem, Agents 1 to $n$ have each bet $k$ times; in a $k$ by $n$ gambling problem, Agents 1 to $k$ have each bet $n$ times; in an $n$ by $n$ gambling problem, Agents 1 to $n$ have each bet $n$ times.\n",
    "\n",
    "A general definition suggests itself. Fix $f, g : \\mathbb{N} \\to \\mathbb{N}$, with both non-decreasing. In an $f$ by $g$ gambling problem, on Day $n$, Agents 1 to $f(n)$ have each bet $g(n)$ times. All our examples so far fit this form. For example, in a horizontal gambling $f : n \\mapsto n$ and $g : n \\mapsto 1$. But many more examples suggest themselves: for example, $2n$ by $n$ or $n^2$ by $n^3$, or ceiling($e^n$) by ceiling($e^{\\sqrt{n}}$) gambling problems.\n",
    "\n",
    "Imagine a grid of points $(i,j) \\in \\mathbb{N}^{2}$. Circling point $(i,j)$ represents that $A_i$ has bet at least $j$ times vertically. We can visualize a betting structure as expanding rectangles of points on the grid.\n",
    "\n",
    "For example, take the 2 by $n$ structure. On Day 1, $A_1$ and $A_2$ bet once. So circle the points (1,1) and (2,1). On Day 2, $A_1$ and $A_2$ bet again. So circle in addition the points (1,2) and (2,2). On Day 3, $A_1$ and $A_2$ bet again. So circle in addition the points (1,3) and (2,3). And so on. The rectangles have constant width 2 and their height increments by 1 each day. Or take the $n$ by $n$ structure. On Day 1, circle (1,1). On Day 2, circle in addition (1,2) and (2,2). On Day 3, circle in addition (1,3), (2,3) and (3,3). And so on. The rectangles are actually squares, whose side-length increments by 1 each day. \n",
    "\n",
    "In general, for an $f$ by $g$ structure function, $f$ controls how the rectangle's width grows and $g$ controls how its height grows. Let's call these *rectangular structure functions*. They're rectangular because the set of circled points on Day $n$ is always a rectangle, with a vertex at (1,1). In other words: on any day, all agents who have bet at all have bet the same number of times.\n",
    "\n",
    "We could consider non-rectangular structure functions too. These allow agents to have bet different numbers of times on a given day, so that the set of circled points on Day $n$ needn't be a rectangle. We can represent them by a function which takes a natural number, representing the day, and returns a list of numbers, representing how many times each agent has bet on that day.\n",
    "\n",
    "For example, the 2 by n structure is represented in this scheme by the function \n",
    "\n",
    "\\begin{equation}\n",
    "    h : n \\mapsto [n,n]\n",
    "\\end{equation}\n",
    "\n",
    "which takes a number $n$ and returns a list of numbers, in this case a list of length 2, representing that at the end of Day $n$, $A_1$ and $A_2$ have each bet $n$ times.\n",
    "\n",
    "Another example: the $n$ by $n$ structure is represented in this scheme by the function\n",
    "\n",
    "\\begin{equation}\n",
    "    h : n \\mapsto [n,...,n]\n",
    "\\end{equation}\n",
    "\n",
    "which takes a number $n$ and returns a list of numbers, in this case a list of length $n$, representing that at the end of Day $n$, $A_1$, ..., $A_n$ have each bet $n$ times.\n",
    "\n",
    "In general, a *structure function*, $h$, takes a number $n$ and returns a list of numbers $[i_1,...,i_k]$, such that for $n \\leq m$:\n",
    "\n",
    " - the length of $h(n)$ is less than or equal to the length of $h(m)$ \n",
    " - each entry of $h(n)$ is less than or equal to the corrresponding entry of $h(m)$\n",
    " \n",
    "where the $i^{th}$ entry of $h(n)$ is the number of times $A_i$ has bet at the end of Day $n$. The constraints correspond to the facts that as the days pass the number of agents who have bet doesn't decrease and the number of times an agent has bet doesn't decrease. The definition also enforces a helpful book-keeping constraint: that $A_i$ starts betting before $A_{i+1}$. Rectangular structure functions are just structure functions whose values are always lists with all entries equal.\n",
    "\n",
    "We've now defined a wide class of iterated gambling problems, of which horizontal gambling problems ($n \\mapsto [1,...,1]$, a list of length $n$) and vertical gambling problems ($n \\mapsto [n]$, a list of length 1) are merely two instances. "
   ]
  },
  {
   "cell_type": "markdown",
   "metadata": {},
   "source": [
    "## Conjectures precisified\n",
    "\n",
    "A gambling problem is characterized by two parameters: the win probability $p$ and payoffs odds $b$:1. Fix a gambling problem $p$, $b$. A structure function $S$ tells us how to iterate it, giving iterated problem $S_{p,b}$. Let's say that betting proportion $m_1$ *does better* than betting proportion $m_2$ in $S_{p,b}$ just if people who bet $m_1$ eventually tend to be ahead of people bet $m_2$. Formally:\n",
    "\n",
    "> The probability that after Day $n$ people who bet $m_1$ are ahead of people who bet $m_2$ in $S_{p,b}$ tends to 1 as $n$ tends to infinity.\n",
    "\n",
    "Let $H$ be the horizontal structure function ($H : n \\mapsto [1,...,1]$, a list of length $n$) and $V$ be the vertical structure function ($V : n \\mapsto [n]$). Betting proportion 1 does better than betting proportion 0.25 in $H_{0.5,2}$ and betting proportion 0.25 does better than betting proportion 1 in in $V_{0.5,2}$.\n",
    "\n",
    "Let's also say, naturally enough, that betting proportion $m$ *does best* in $S_{p,b}$ just if:\n",
    "\n",
    "> For every other proportion $m'$, betting proportion $m$ does better than betting proportion $m'$ in $S_{p,b}$.\n",
    "\n",
    "Betting proportion 1 does best in $H_{0.5,2}$ and betting proportion 0.25 does best in $V_{0.5,2}$. We can now precisify the informal conjecture from *The Long-Run and the Short-Run*, as follows:\n",
    "\n",
    "> For any gambling problem $p, b$ and any proportion $m$, there exists a structure function $S$ such that $m$ does best in $S_{p,b}$.\n",
    "\n",
    "A weaker, but still interesting, conjecture is that:\n",
    "\n",
    "> For any gambling problem $p,b$ and any proportion $m$ between the MEGR proportion and the MEV proportion for $p,b$, there exists a structure function $S$ such that $m$ does best in $S_{p,b}$.\n",
    "\n",
    "The current definition of *does better* reflects the form of the Weak Law of Large Numbers. We could strengthen the definition by reflecting the form of the Strong Law instead. Let's say that betting proportion $m_1$ *does strongly better* than betting proportion $m_2$ in $S_{p,b}$ just if with probability 1 eventually people who bet $m_1$ get ahead and stay ahead of people who bet $m_2$ in $S_{p,b}$. And we can strengthen the definition of *does best* and the conjectures correspondingly.\n",
    "\n",
    "The relations defined so far apply to recommendations, not decision rules. But we can lift the definitions to decision rules easily enough. Let's say that $d_1$ does better than $d_2$ across $S$ just if for any gambling problem $p,b$, $d_1$'s recommendation for $p,b$ does better than $d_2$'s recommendation for $p,b$ in $S_{p,b}$ when the recommendations differ. And let's say that $d_1$ does best across $S$ just if for every gambling problem $p,b$, $d_1$ does better than any other decision rule in $S_G$. So, for example, MEV does better than MEGR across $H$, and in fact does best, and MEGR does better than MEV across $V$, and in fact does best. (An irritating corner case is gambles with zero edge. Let's exclude them for now, so as not to clutter the definitions with irrelevant qualifications.) A conjecture is then:\n",
    "\n",
    "> For many decision rules $d$, there exists a structure function $S$ such that $d$ does best across $S$.\n",
    "\n",
    "If this conjecture is true, it means that many decision rules have a long-run justification. It follows, I suggest, that long-run justifications of decision rules are cheap, and don't justify the rule's recommendations.\n",
    "\n",
    "Update: Ewain Gwynne has shown that MEGR does best across the n by n structure. More generally, MEGR does best across the n by $f(n)$ structure, for $f$ less than exponential. See the state of play [here](https://mathoverflow.net/questions/313415/asymptotic-behavior-of-row-sums-in-2-d-array-of-random-variables)."
   ]
  },
  {
   "cell_type": "markdown",
   "metadata": {},
   "source": [
    "## Experiments\n",
    "\n",
    "in the code below, I've defined a few structure functions. You can add your own. I've also defined some performance measures: the basic measure of total final bankrolls and some others which respect what we care about. The code then lets you define a gambling problem, choose a structure and performance measure, simulate the corresponding iterated gambling problem, and see which bet proportions are doing better than others. So it's a way of investigating the conjecture. \n",
    "\n",
    "Of course, simulations prove nothing. To verify the conjectures requires mathematics, not simulations. But the simulations are at least suggestive."
   ]
  },
  {
   "cell_type": "code",
   "execution_count": 2,
   "metadata": {},
   "outputs": [],
   "source": [
    "# STRUCTURE FUNCTIONS --- GO WILD!\n",
    "# IF YOU DEFINE YOUR OWN, ADD IT TO THE structuresToName DICTIONARY, SO THAT IT SHOWS UP IN THE DROPDOWN MENU LATER.\n",
    "\n",
    "def horizontal(numDay):\n",
    "    \"\"\"n agents each bet once.\"\"\"\n",
    "    return [1]*numDay\n",
    "\n",
    "def vertical(numDay):\n",
    "    \"\"\"One agent betting n times.\"\"\"\n",
    "    return [numDay]\n",
    "\n",
    "def nByK(k):\n",
    "    \"\"\"k agents each betting n times.\"\"\"\n",
    "    return lambda numDay : [numDay]*k\n",
    "\n",
    "def kByN(k):\n",
    "    \"\"\"n agents each betting k times.\"\"\"\n",
    "    return lambda numDay : [k]*numDay\n",
    "\n",
    "def nByN(numDay):\n",
    "    \"\"\"n agents each betting n times.\"\"\"\n",
    "    return [numDay]*numDay\n",
    "\n",
    "def nByNSquared(numDay):\n",
    "    \"\"\"n squared agents each betting n times.\"\"\"\n",
    "    return [numDay]*numDay**2\n",
    "\n",
    "def nSquaredByN(numDay):\n",
    "    \"\"\"n agents each betting n squared times.\"\"\"\n",
    "    return [numDay**2]*numDay\n",
    "\n",
    "def nByExpN(numDay):\n",
    "    \"\"\"e^n agents each betting n times.\"\"\"\n",
    "    return [numDay]*int(np.ceil(np.exp(numDay)))\n",
    "\n",
    "def nByQuasiPolyN(numDay):\n",
    "    \"\"\"n^(logn + 1) agents each betting n times.\"\"\"\n",
    "    return [numDay]*numDay**int((np.log(numDay)+1))\n",
    "\n",
    "def logNByN(numDay):\n",
    "    \"\"\"n agents each betting floor(log(n)) + 1 times.\n",
    "    We add 1 so that on Day 1, at least one agent has bet.\"\"\"\n",
    "    return [int(np.log(numDay)) + 1]*numDay\n",
    "\n",
    "def log2NByN(numDay):\n",
    "    return [int(np.log2(numDay)) + 1]*numDay\n",
    "\n",
    "def isosceles(numDay):\n",
    "    \"\"\"On Day n, Agent k has bet n+1-k times, for Agents 1-n. NON-RECTANGULAR.\"\"\"\n",
    "    return [numDay-i for i in range(numDay)]\n",
    "\n",
    "structuresToName = {'horizontal' : horizontal,\n",
    "                    'vertical' : vertical,\n",
    "                    'n by 2' : nByK(2),\n",
    "                    'n by 3' : nByK(3),\n",
    "                    '2 by n' : kByN(2),\n",
    "                    '3 by n' : kByN(3),\n",
    "                    'n by n' : nByN,\n",
    "                    'n by n^2' : nByNSquared,\n",
    "                    'n^2 by n' : nSquaredByN,\n",
    "                    'n by n^(logn+1)' : nByQuasiPolyN,\n",
    "                    'logn by n' : logNByN,\n",
    "                    'log2NByN' : log2NByN,\n",
    "                    'n by e^n' : nByExpN}\n",
    "\n",
    "structuresToDescription = dict([v,k] for k,v in structuresToName.items())"
   ]
  },
  {
   "cell_type": "code",
   "execution_count": 3,
   "metadata": {},
   "outputs": [
    {
     "name": "stdout",
     "output_type": "stream",
     "text": [
      "[1] [1] [1] [1, 1, 1] [1] [1] [1]\n",
      "[1, 1] [2] [2, 2] [2, 2, 2, 2, 2, 2, 2, 2] [2, 1] [1, 1] [2, 2]\n",
      "[1, 1, 1] [3] [3, 3, 3] [3, 3, 3, 3, 3, 3, 3, 3, 3, 3, 3, 3, 3, 3, 3, 3, 3, 3, 3, 3, 3] [3, 2, 1] [2, 2, 2] [2, 2, 2]\n"
     ]
    }
   ],
   "source": [
    "# TESTS\n",
    "for i in range(1,4):\n",
    "    print(horizontal(i), vertical(i), nByN(i), nByExpN(i), isosceles(i), logNByN(i), log2NByN(i))"
   ]
  },
  {
   "cell_type": "code",
   "execution_count": 4,
   "metadata": {},
   "outputs": [],
   "source": [
    "def bankrolls(betStructure,numDay,numWinsList,odds,betProp,initialBankroll=1):\n",
    "    \"\"\"Returns array of agents' bankrolls at end of Day n, given win counts and betting structure.\"\"\"\n",
    "    numBetsList = betStructure(numDay)\n",
    "    return np.array([initialBankroll * (1+odds*betProp)**numWins * (1-betProp)**(numBets - numWins) \\\n",
    "            for (numWins,numBets) in zip(numWinsList,numBetsList)])"
   ]
  },
  {
   "cell_type": "code",
   "execution_count": 5,
   "metadata": {},
   "outputs": [
    {
     "name": "stdout",
     "output_type": "stream",
     "text": [
      "[3 0 3 0] [2.  0.5 2.  0.5] [0] [1.265625] [1] [10.4976] [2.] [9 9] [0.25 0.25] [1. 4.]\n"
     ]
    }
   ],
   "source": [
    "# TESTS\n",
    "\n",
    "print(bankrolls(horizontal,4,[1,0,1,0],2,1),\n",
    "      bankrolls(horizontal,4,[1,0,1,0],2,.5),\n",
    "      bankrolls(vertical,4,[0],2,1),\n",
    "      bankrolls(vertical,4,[2],2,.25),\n",
    "      bankrolls(vertical,4,[4],2,0),\n",
    "      bankrolls(vertical,4,[4],2,.4),\n",
    "      bankrolls(nByN,1,[1],2,.5),\n",
    "      bankrolls(nByN,2,[2,2],2,1),\n",
    "      bankrolls(nByN,2,[0,0],2,.5),\n",
    "      bankrolls(nByN,2,[1,2],2,.5))"
   ]
  },
  {
   "cell_type": "code",
   "execution_count": 6,
   "metadata": {},
   "outputs": [],
   "source": [
    "# PERFORMANCE MEASURES\n",
    "\n",
    "#def averageGrowthRate(bankrolls,betStructure,numDay,initialBankroll=1):\n",
    "#    \"\"\"Computes each agent's growth rate, then averages.\"\"\"\n",
    "#    return np.mean((bankrolls / initialBankroll) ** (1 / np.array(betStructure(numDay)))) # does this preserve order?\n",
    "\n",
    "def growthRateOfAverage(bankrolls,betStructure,numDay,initialBankroll=1):\n",
    "    \"\"\"Computes agents' average bankroll, then finds growth rate.\"\"\"\n",
    "    return (np.sum(bankrolls) / numDay) ** (1/numDay)\n",
    "\n",
    "def total(bankrolls,betStructure,numDay,initialBankroll=1):\n",
    "    \"\"\"Computes agents' total combined bankroll (unbounded).\"\"\"\n",
    "    return np.sum(bankrolls)\n",
    "\n",
    "def logTotal(bankrolls,betStructure,numDay,initialBankroll=1):\n",
    "    \"\"\"Computes log of agents' total combined bankroll (unbounded).\"\"\"\n",
    "    return np.log(np.sum(bankrolls))\n",
    "\n",
    "def normalized(bankrolls,betStructure,numDay,initialBankroll=1):\n",
    "    \"\"\"Computes strict monotone function of total combined bankrolls, with range 0-1.\"\"\"\n",
    "    return np.sum(bankrolls) / (np.sum(bankrolls)+1)\n",
    "\n",
    "def normalizedWider(bankrolls,betStructure,numDay,initialBankroll=1):\n",
    "    \"\"\"Computes strict monotone function of total combined bankrolls, with range 0-100.\"\"\"\n",
    "    return 100 * np.sum(bankrolls) / (np.sum(bankrolls)+100000)\n",
    "\n",
    "measuresToName = {'total' : total,\n",
    "                 'log total' : logTotal,\n",
    "                  'growth rate of average' : growthRateOfAverage,\n",
    "                 'normalized 0-1' : normalized,\n",
    "                 'normalized 0-100' : normalizedWider}\n",
    "\n",
    "measuresToDescription = dict([v,k] for k,v in measuresToName.items())"
   ]
  },
  {
   "cell_type": "code",
   "execution_count": 7,
   "metadata": {},
   "outputs": [],
   "source": [
    "def scaledBankrolls(betStructure,numDay,measure,numWinsList,odds,betProp,initialBankroll=1):\n",
    "    \"\"\"Computes performance measure of agents' bankrolls at end of Day n, given win counts and betting structure.\"\"\"\n",
    "    return measure(bankrolls(betStructure,numDay,numWinsList,odds,betProp,initialBankroll),\n",
    "                       betStructure,numDay,initialBankroll)"
   ]
  },
  {
   "cell_type": "code",
   "execution_count": 8,
   "metadata": {},
   "outputs": [
    {
     "name": "stdout",
     "output_type": "stream",
     "text": [
      "4.5 0.5 10.5\n"
     ]
    }
   ],
   "source": [
    "# TESTS\n",
    "print(scaledBankrolls(horizontal,3,total,[1,1,0],2,.5),\n",
    "     scaledBankrolls(vertical,3,total,[1],2,.5),\n",
    "     scaledBankrolls(nByN,3,total,[1,2,3],2,.5))"
   ]
  },
  {
   "cell_type": "code",
   "execution_count": 9,
   "metadata": {},
   "outputs": [],
   "source": [
    "def simulateBetting(betStructure,numDay,measure,odds,winProb,betProp,initialBankroll=1):\n",
    "    \"\"\"Simulates how group's performance evolves over days.\n",
    "    \n",
    "    THE IDEA\n",
    "      betStructure(numDay) tells you how many times each agent has bet at end of play\n",
    "      generate cumulative win counts for each agent --- stored in cumWins\n",
    "      i,j entry of cumWins is number of times Agent j+1 has won after i+1 bets\n",
    "      careful: python uses 0-indexing, I use 1-indexing\n",
    "      iterate through days to get cumulative group performance --- stored in performance\n",
    "    \n",
    "    WARNING\n",
    "      assumes a rectangular structure functions\n",
    "      i.e. assumes all entries of betStructure(n) are equal\n",
    "      assumption correct for horizontal, vertical, nByK, kByN, nByN, etc.\n",
    "      if assumption fails, garbage out\n",
    "      \n",
    "      an easy but dumb way to deal with non-rectangular structure functions?\n",
    "        maxNumBets = np.max(betStructure(numDay))\n",
    "        numAgents = len(betStructure(numDay))\n",
    "        cumWins = np.array([np.cumsum(np.random.random(maxNumBets) < winProb) for i in range(numAgents)]).T\n",
    "        The idea is just to generate enough coin flips as though everyone has bet as many times as the oldest agent.\n",
    "        \n",
    "      better idea?\n",
    "        cumWins = [np.cumsum(np.random.random(numBets) < winProb) for numBets in betStructure(numDay)]\n",
    "        this is list of arrays where i-th entry is cum win count of Agent i+1, with shape (numBets of Agent i+1,)\n",
    "    \"\"\"\n",
    "    \n",
    "    performance = [] # ith entry is group's performance at end of Day i+1\n",
    "    cumWins = np.array([np.cumsum(np.random.random(numBets) < winProb) for numBets in betStructure(numDay)]).T\n",
    "    \n",
    "    # cumWins[i,j] is number of times Agent j+1 has won after i+1 bets\n",
    "    #\n",
    "    # EXAMPLES OF CUMWINS\n",
    "    #\n",
    "    #   horizontal [[1 0 0]]\n",
    "    #\n",
    "    #   vertical [[0],\n",
    "    #             [1],\n",
    "    #             [1]]\n",
    "    #\n",
    "    #   nByN [[0,0,0],\n",
    "    #         [1,1,0],\n",
    "    #         [2,1,0]]\n",
    "    #\n",
    "    # SHAPES OF ARRAYS IN DEF OF CUMWINS\n",
    "    #\n",
    "    #   [np.cumsum(np.random.random(numBets) < winProb) for numBets in betStructure(numDay)] is list of arrays of shapes (x,)\n",
    "    #   turned into array with shape (#agents,#bets)    \n",
    "    #   so cumWins has shape (#bets,#agents)\n",
    "    \n",
    "    print(cumWins,cumWins.shape,cumWins[-1,-1])\n",
    "    \n",
    "    for day in range(1,numDay+1):\n",
    "        numWinsList = [cumWins[numBets-1,index] for (index,numBets) in enumerate(betStructure(day))]\n",
    "        # i-entry of numWinsList is number of times Agent i+1 has won at end of that day \n",
    "        print(numWinsList, bankrolls(betStructure,day,numWinsList,odds,betProp))\n",
    "        performance += [scaledBankrolls(betStructure,day,measure,numWinsList,odds,betProp,initialBankroll)]\n",
    "        \n",
    "    return performance\n",
    "    \n",
    "# TESTS\n",
    "# print(simulateBetting(horizontal,3,total,2,.5,.5),\n",
    "#      simulateBetting(vertical,3,total,2,.5,.25),\n",
    "#      simulateBetting(nByN,3,total,2,.5,.4))"
   ]
  },
  {
   "cell_type": "code",
   "execution_count": 22,
   "metadata": {},
   "outputs": [
    {
     "data": {
      "application/vnd.jupyter.widget-view+json": {
       "model_id": "7b8382a14a4f46c9a08e7e64c1d24bcc",
       "version_major": 2,
       "version_minor": 0
      },
      "text/plain": [
       "interactive(children=(Dropdown(description='betStructure', options={'horizontal': <function horizontal at 0x00…"
      ]
     },
     "metadata": {},
     "output_type": "display_data"
    },
    {
     "data": {
      "text/plain": [
       "<function __main__.plotFourPerformances(betStructure, measure, numDay, odds, winProb, betProp0=0.0, betProp1=0.4, betProp2=0.8, betProp3=1.0, initialBankroll=1)>"
      ]
     },
     "execution_count": 22,
     "metadata": {},
     "output_type": "execute_result"
    }
   ],
   "source": [
    "def plotFourPerformances(betStructure,measure,numDay,odds,winProb,\n",
    "                         betProp0=0.,betProp1=.4,betProp2=.8,betProp3=1.,initialBankroll=1):\n",
    "    \"\"\"Plots how four groups do over time in a given betting structure.\"\"\"\n",
    "    \n",
    "    performancesAtEnd = [] # ith entry is group i's performance at end of play\n",
    "    cumWins = np.array([np.cumsum(np.random.random(numBets) < winProb) for numBets in betStructure(numDay)]).T\n",
    "    # print('Cumulative win count (i,j entry is number of times Agent j+1 has won after i+1 bets): {}'.format(cumWins))\n",
    "    betProps = [betProp0,betProp1,betProp2,betProp3]\n",
    "    \n",
    "    for betProp in betProps:\n",
    "        \n",
    "        # get cumulative group performance\n",
    "        performance = [] # ith entry is current group's performance at end of Day i+1\n",
    "        for day in range(1,numDay+1):\n",
    "            numWinsList = [cumWins[numBets-1,index] for (index,numBets) in enumerate(betStructure(day))]\n",
    "            performance += [scaledBankrolls(betStructure,day,measure,numWinsList,odds,betProp,initialBankroll)]\n",
    "        \n",
    "        # track performance at end of play for printing later\n",
    "        performancesAtEnd += [performance[-1]]\n",
    "        \n",
    "        # plot cumulative group performance\n",
    "        label = 'bet proportion: {}'.format(betProp)\n",
    "        plt.plot(range(1,numDay+1),performance,label=label)\n",
    "    \n",
    "    print('Performances at end of play to 5 decimal places: ', np.round(performancesAtEnd,5))\n",
    "    \n",
    "    plt.xlabel('number of days'); plt.ylabel(measuresToDescription[measure])\n",
    "    plt.title(\"\"\"Plots how the agents perform over time \n",
    "    when the betting structure is {}.\"\"\".format(structuresToDescription[betStructure]))\n",
    "    plt.legend()\n",
    "    plt.show()\n",
    "    \n",
    "interact_manual(plotFourPerformances, betStructure=structuresToName, measure=measuresToName,\n",
    "         odds=(0,10,0.5), numDay=(1,500), winProb=(0,1.), betProp0=(0,1,0.05), betProp1=(0,1,0.05),\n",
    "         betProp2=(0,1,0.05), betProp3=(0,1,0.05), initialBankroll=fixed(1))"
   ]
  },
  {
   "cell_type": "code",
   "execution_count": 11,
   "metadata": {},
   "outputs": [
    {
     "data": {
      "application/vnd.jupyter.widget-view+json": {
       "model_id": "d4db682d510e48669af6297e3522aec7",
       "version_major": 2,
       "version_minor": 0
      },
      "text/plain": [
       "interactive(children=(Dropdown(description='betStructure', options={'horizontal': <function horizontal at 0x00…"
      ]
     },
     "metadata": {},
     "output_type": "display_data"
    },
    {
     "data": {
      "text/plain": [
       "<function __main__.countGroupLeads(betStructure, measure, numDay, numTimes, odds=2, winProb=0.5, betProp0=0.0, betProp1=1.0, initialBankroll=1)>"
      ]
     },
     "execution_count": 11,
     "metadata": {},
     "output_type": "execute_result"
    }
   ],
   "source": [
    "def compareTwoPerformances(betStructure,measure,numDay,odds,winProb,betProp0=0.,betProp1=1.,initialBankroll=1):\n",
    "    \"\"\"Returns two groups' performances at end of play.\"\"\"\n",
    "\n",
    "    cumWins = np.array([np.cumsum(np.random.random(numBets) < winProb) for numBets in betStructure(numDay)]).T\n",
    "    betProps = [betProp0,betProp1]\n",
    "    performancesAtEnd = []\n",
    "    \n",
    "    for betProp in betProps:\n",
    "        \n",
    "        # get cumulative group performance\n",
    "        performance = [] # ith entry is current group's performance at end of Day i+1\n",
    "        for day in range(1,numDay+1):\n",
    "            numWinsList = [cumWins[numBets-1,index] for (index,numBets) in enumerate(betStructure(day))]\n",
    "            performance += [scaledBankrolls(betStructure,day,measure,numWinsList,odds,betProp,initialBankroll)]\n",
    "        \n",
    "        # track performance at end of play for printing later\n",
    "        performancesAtEnd += [performance[-1]]\n",
    "    \n",
    "    return performancesAtEnd\n",
    "        \n",
    "def countGroupLeads(betStructure,measure,numDay,numTimes,odds=2,winProb=.5,\n",
    "                          betProp0=0.,betProp1=1.,initialBankroll=1):\n",
    "    \"\"\"Repeatedly simulates how two groups perform, checks which group is in the lead at end of play, and returns tally.\n",
    "    Tally is of form: [number of times betProp0 ahead of betProp1, number of times betProp1 ahead of betProp0]\n",
    "    This lets us estimate the probability that S^m_n > S^m*_n.\"\"\"\n",
    "    \n",
    "    leadCount = [0,0]\n",
    "    for i in range(numTimes):\n",
    "        leadCount[np.argmax(compareTwoPerformances(betStructure,measure,numDay,odds,winProb,\n",
    "                                                   betProp0,betProp1,initialBankroll=1))] += 1\n",
    "    return leadCount\n",
    "    \n",
    "interact_manual(countGroupLeads, betStructure=structuresToName, measure=measuresToName, numTimes=(1,100),\n",
    "                odds=(0,5,0.5), numDay=(1,5000), winProb=(0,1.), betProp0=(0,1,0.05), betProp1=(0,1,0.05),\n",
    "                initialBankroll=fixed(1))"
   ]
  },
  {
   "cell_type": "markdown",
   "metadata": {},
   "source": [
    "### Simulation results"
   ]
  },
  {
   "cell_type": "markdown",
   "metadata": {},
   "source": [
    "Warning: these simulation results are misleading. You need to look at *large* n, much larger than n=100, for the true picture to emerge. In fact, MEGR does best across the n by n structure. More generally, MEGR does best across the n by f(n) structure, for $f$ less than exponential. Thanks to Ewain Gwynne for the result. See the state of play [here](https://mathoverflow.net/questions/313415/asymptotic-behavior-of-row-sums-in-2-d-array-of-random-variables).\n",
    "\n",
    "Comparing lead counts for four bet proportions in the n by n structure. In all cases, I ran the simulation 200 times and in each run recorded which bet proportion was in the lead after 100 days.\n",
    " \n",
    "Results for p=0.5, b=2, so MEGR says bet 0.25: \n",
    "\n",
    ".25  0, .40  200, .80  0, 1.0  0\n",
    "\n",
    ".35  12, .40  90, .45  79, .50  19\n",
    "\n",
    "Results for p=.55, b=2, so MEGR says bet 0.325:\n",
    "\n",
    ".00  0, .30  9, .60  191, 1.0  0\n",
    "\n",
    ".45  110, .55  90, .65  0, .75  0\n",
    "\n",
    ".35  0, .40  0, .45  34, .50  166\n",
    "\n",
    "Results for p=0.5, b=2.1, so MEGR says bet ~0.26:\n",
    "\n",
    ".00  0, .30  143, .60  57, 1.0  0\n",
    "\n",
    ".30  0, .40  131, .50  68, .60  1\n",
    "\n",
    ".35  4, .40  74, .45  90, .50  32\n",
    "\n",
    "Results for p=2/3, b=1, so MEGR says bet 1/3:\n",
    "\n",
    ".00  0, .30  0, .60  200, 1.0  0\n",
    "\n",
    ".40  0, .50  102, .60  96, .70  2\n",
    "\n",
    ".45  3, .50  46, .55  102, .60  49\n",
    "\n",
    "Comparing lead counts for 0.25 and 0.4 in the n by n structure. For n = 100, ..., 900, I ran the simulation 100 times and in each run recorded which bet proportion, 0.25 or 0.4, was in the lead after n days. Odds = 2, win probability = 0.5. Results: [0, 100], [0, 100], [0, 100], [0, 100], [0, 100], [1, 99], [8, 92], [20, 80], [37, 63]"
   ]
  },
  {
   "cell_type": "markdown",
   "metadata": {},
   "source": [
    "## Notes and deleted material below"
   ]
  },
  {
   "cell_type": "code",
   "execution_count": 12,
   "metadata": {},
   "outputs": [
    {
     "data": {
      "image/png": "[encoded data removed]",
      "text/plain": [
       "<Figure size 432x288 with 1 Axes>"
      ]
     },
     "metadata": {},
     "output_type": "display_data"
    }
   ],
   "source": [
    "def ewainProbBound(e,n):\n",
    "    return 1 - n*2*np.exp(-2*e**2*n)\n",
    "\n",
    "plt.plot([ewainProbBound(e/100,2) for e in range(100)])\n",
    "plt.show()"
   ]
  },
  {
   "cell_type": "code",
   "execution_count": 13,
   "metadata": {},
   "outputs": [
    {
     "data": {
      "image/png": "[encoded data removed]",
      "text/plain": [
       "<Figure size 432x288 with 1 Axes>"
      ]
     },
     "metadata": {},
     "output_type": "display_data"
    }
   ],
   "source": [
    "def lowerBound(m,n,e):\n",
    "    return n*((1-m)*(1+2*m))**(n*(0.5-e))\n",
    "\n",
    "def higherBound(m,n,e):\n",
    "    return n*((1-m)*(1+2*m))**(n*(0.5+e))\n",
    "    \n",
    "plt.plot([lowerBound(0.25,n,0.01) for n in range(1000)], label='lower 0.25')\n",
    "plt.plot([higherBound(0.4,n,0.01) for n in range(1000)], label='upper 0.4')\n",
    "plt.legend()\n",
    "plt.show()"
   ]
  },
  {
   "cell_type": "markdown",
   "metadata": {},
   "source": [
    "Let's proceed indirectly, by looking not at their total final bankrolls as they bet more and more times, but at their *average growth rate*. What's that? Well, if their final bankrolls after betting $n$ times with initial bankroll $r$ are $f_1$ and $f_2$, then their average growth rate is $g = \\frac{1}{2} \\big( \\sqrt[n]{\\frac{f_1}{r}} + \\sqrt[n]{\\frac{f_2}{r}} \\big)$.\n",
    "\n",
    "Each time one of them wins, she multiplies her bankroll by $(1+bm)$ and each time one of them loses, she multiplies her bankroll by $(1-m)$. So if their initial bankroll is $r$ dollars, they bet $n$ times each, $A_1$ wins $k_1$ times, and $A_2$ wins $k_2$ times, their combined bankroll is:\n",
    "\n",
    "$$ r \\cdot \\Big( (1+bm)^{k_1} \\cdot (1-m)^{n-k_1} + (1+bm)^{k_2} \\cdot (1-m)^{n-k_2} \\Big) $$\n",
    "\n",
    "And their average growth rate is:\n",
    "\n",
    "$$ \\frac{1}{2} \\Big( (1+bm)^{\\frac{k_1}{n}} \\cdot (1-m)^{\\frac{n-k_1}{n}} + (1+bm)^{\\frac{k_2}{n}} \\cdot (1-m)^{\\frac{n-k_2}{n}} \\Big) $$\n",
    "\n",
    "You can evaluate these two expressions, their combined bankroll and their average growth rate after $k_1$ and $k_2$ wins respectively in $n$ bets, for different values for $n$, $k_1$, $k_2$, $b$, and $m$ using the sliders below. When calculating their combined bankroll, we assume their initial bankroll $r$ is 100 dollars."
   ]
  },
  {
   "cell_type": "code",
   "execution_count": 14,
   "metadata": {},
   "outputs": [
    {
     "data": {
      "application/vnd.jupyter.widget-view+json": {
       "model_id": "44ebb071dc8e41b9bec874bc13eb5f76",
       "version_major": 2,
       "version_minor": 0
      },
      "text/plain": [
       "interactive(children=(IntSlider(value=50, description='n', min=1), IntSlider(value=30, description='k1'), IntS…"
      ]
     },
     "metadata": {},
     "output_type": "display_data"
    },
    {
     "data": {
      "text/plain": [
       "<function __main__.displayNBy2Stuff(n=50, k1=30, k2=10, odds=2, betProp=0.5)>"
      ]
     },
     "execution_count": 14,
     "metadata": {},
     "output_type": "execute_result"
    }
   ],
   "source": [
    "def nBy2CombinedBankrolls(n,k1,k2,odds,betProp,initialBankroll=1):\n",
    "    \"\"\"Finds combined bankroll after k1, k2 wins in n vertical rounds.\"\"\"\n",
    "    return initialBankroll * ((1+odds*betProp)**k1 * (1-betProp)**(n-k1) +\n",
    "                              (1+odds*betProp)**k2 * (1-betProp)**(n-k2))\n",
    "\n",
    "def nBy2AverageGrowthRate(n,k1,k2,odds,betProp):\n",
    "    \"\"\"Finds average growth rate after k1, k2 wins in n vertical rounds.\"\"\"\n",
    "    return 0.5 * (((1+odds*betProp)**k1 * (1-betProp)**(n-k1))**(1/n) +\n",
    "                  ((1+odds*betProp)**k2 * (1-betProp)**(n-k2))**(1/n))\n",
    "\n",
    "def displayNBy2Stuff(n=50,k1=30,k2=10,odds=2,betProp=.5):\n",
    "    \"\"\"Returns bankroll info after k1, k2 wins in n vertical rounds, assuming initial bankroll is 100 dollars.\"\"\"\n",
    "    if k1 > n or k2 > n:\n",
    "        print(\"That doesn't make sense: number of wins > number of bets!\")\n",
    "    else:\n",
    "        combined = nBy2CombinedBankrolls(n,k1,k2,odds,betProp,100)\n",
    "        roundedCombined = int(np.around(combined))\n",
    "        averageGrowthRate = nBy2AverageGrowthRate(n,k1,k2,odds,betProp)\n",
    "        roundedAverageGrowthRate = np.around(averageGrowthRate,2)\n",
    "        print('Combined bankroll is {} dollars (to nearest dollar).'.format(roundedCombined))\n",
    "        print('Average growth rate is {} (to 2 decimal places).'.format(roundedAverageGrowthRate))\n",
    "        \n",
    "interact(displayNBy2Stuff,n=(1,100),k1=(0,100),k2=(0,100),odds=(0,10,0.5),betProp=(0,1,0.05))"
   ]
  },
  {
   "cell_type": "markdown",
   "metadata": {},
   "source": [
    "How their average growth rate changes as they bet more and more times is a chancy matter, since the outcome of each bet is chancy. You can plot how things might go for a few different choices of bet proportion using the sliders below. Whenever you move a slider, a fresh sequence of bets is simulated and it plots the average growth rate against the number of bets for each choice of bet proportion."
   ]
  },
  {
   "cell_type": "code",
   "execution_count": 15,
   "metadata": {},
   "outputs": [
    {
     "data": {
      "application/vnd.jupyter.widget-view+json": {
       "model_id": "2140d8214d51442e81b6c81ee8217568",
       "version_major": 2,
       "version_minor": 0
      },
      "text/plain": [
       "interactive(children=(FloatSlider(value=5.0, description='odds', max=10.0, step=0.5), FloatSlider(value=0.5, d…"
      ]
     },
     "metadata": {},
     "output_type": "display_data"
    },
    {
     "data": {
      "text/plain": [
       "<function __main__.plotFourNBy2AverageGrowthRates(odds, winProbability, numRounds, betProp0=0.0, betProp1=0.4, betProp2=0.8, betProp3=1.0)>"
      ]
     },
     "execution_count": 15,
     "metadata": {},
     "output_type": "execute_result"
    }
   ],
   "source": [
    "def plotFourNBy2AverageGrowthRates(odds,winProbability,numRounds,betProp0=0.,betProp1=.4,\n",
    "                             betProp2=.8,betProp3=1.):\n",
    "    \"\"\"Plots simulation of four average growth rates after n rounds for given bet proportions.\"\"\"\n",
    "    cumWins1 = np.cumsum(np.random.random(numRounds) < winProbability)\n",
    "    cumWins2 = np.cumsum(np.random.random(numRounds) < winProbability)\n",
    "    betProps = [betProp0,betProp1,betProp2,betProp3]\n",
    "    for betProp in betProps:\n",
    "        averageGrowthRates = [nBy2AverageGrowthRate(numRounds,numWins[0],numWins[1],odds,betProp) \\\n",
    "         for (numRounds,numWins) in enumerate(zip(cumWins1,cumWins2),start=1)]\n",
    "        label = 'bet proportion: {}'.format(betProp)\n",
    "        plt.plot(range(1,numRounds+1),averageGrowthRates,label=label)\n",
    "    plt.xlabel(\"number of times they've each bet\"); plt.ylabel('average growth rate')\n",
    "    plt.legend()\n",
    "    plt.show()\n",
    "    \n",
    "    \n",
    "interact(plotFourNBy2AverageGrowthRates,odds=(0,10,0.5),winProbability=(0,1.), numRounds=(1,100),\n",
    "         betProp0=(0,1,0.05),betProp1=(0,1,0.05),betProp2=(0,1,0.05),betProp3=(0,1,0.05))"
   ]
  },
  {
   "cell_type": "code",
   "execution_count": 16,
   "metadata": {},
   "outputs": [
    {
     "data": {
      "application/vnd.jupyter.widget-view+json": {
       "model_id": "c1e4205b79fc42708f4ca26f45a14315",
       "version_major": 2,
       "version_minor": 0
      },
      "text/plain": [
       "interactive(children=(FloatSlider(value=5.0, description='odds', max=10.0, step=0.5), FloatSlider(value=0.5, d…"
      ]
     },
     "metadata": {},
     "output_type": "display_data"
    },
    {
     "data": {
      "text/plain": [
       "<function __main__.plotFourNByNAverageGrowthRates(odds, winProbability, numRounds, betProp0=0.0, betProp1=0.4, betProp2=0.8, betProp3=1.0)>"
      ]
     },
     "execution_count": 16,
     "metadata": {},
     "output_type": "execute_result"
    }
   ],
   "source": [
    "def nByNCombinedBankrolls(n,numWinsList,odds,betProp,initialBankroll=1):\n",
    "    \"\"\"Finds combined bankroll after n agents bet in n vertical rounds.\"\"\"\n",
    "    return np.array([(1+odds*betProp)**numWins * (1-betProp)**(n-numWins) for numWins in numWinsList]).sum()\n",
    "\n",
    "def nByNAverageGrowthRate(n,numWinsList,odds,betProp):\n",
    "    \"\"\"Finds average growth rate after n agents bet in n vertical rounds.\"\"\"\n",
    "    return 1/n * np.array([((1+odds*betProp)**numWins * (1-betProp)**(n-numWins))**(1/n) for numWins in numWinsList]).sum()\n",
    "\n",
    "def plotFourNByNAverageGrowthRates(odds,winProbability,numRounds,betProp0=0.,betProp1=.4,\n",
    "                             betProp2=.8,betProp3=1.):\n",
    "    \"\"\"Plots simulation of four average growth rates after n rounds for given bet proportions.\"\"\"\n",
    "    cumWins = np.array([np.cumsum(np.random.random(numRounds) < winProbability) for i in range(numRounds)])\n",
    "    betProps = [betProp0,betProp1,betProp2,betProp3]\n",
    "    for betProp in betProps:\n",
    "        averageGrowthRates = [nByNAverageGrowthRate(dayNumber+1,cumWins[0:dayNumber+1,dayNumber],odds,betProp) \\\n",
    "         for dayNumber in range(numRounds)]\n",
    "        label = 'bet proportion: {}'.format(betProp)\n",
    "        plt.plot(range(1,numRounds+1),averageGrowthRates,label=label)\n",
    "    plt.xlabel(\"number of days\"); plt.ylabel('average growth rate')\n",
    "    plt.legend()\n",
    "    plt.show()\n",
    "\n",
    "interact(plotFourNByNAverageGrowthRates,odds=(0,10,0.5),winProbability=(0,1.),numRounds=(1,100),\n",
    "         betProp0=(0,1,0.05),betProp1=(0,1,0.05),betProp2=(0,1,0.05),betProp3=(0,1,0.05))"
   ]
  },
  {
   "cell_type": "code",
   "execution_count": 17,
   "metadata": {},
   "outputs": [],
   "source": [
    "def bd(n,k,p):\n",
    "    return binom(n,k)*(p**k)*(1-p)**(n-k)\n",
    "\n",
    "def verticalExpectations(winProb,odds,betProp,numRounds):\n",
    "    \"\"\"Returns E(X_n), where X_n is a bettor's bankroll after n vertical bets.\"\"\"\n",
    "    return np.sum([(1+odds*betProp)**k * (1-betProp)**(numRounds-k) * bd(numRounds,k,winProb) for k in range(numRounds+1)])"
   ]
  },
  {
   "cell_type": "code",
   "execution_count": 18,
   "metadata": {},
   "outputs": [
    {
     "data": {
      "text/plain": [
       "1.25"
      ]
     },
     "execution_count": 18,
     "metadata": {},
     "output_type": "execute_result"
    }
   ],
   "source": [
    "verticalExpectations(.5,2,0.5,1)"
   ]
  },
  {
   "cell_type": "code",
   "execution_count": 19,
   "metadata": {},
   "outputs": [
    {
     "data": {
      "image/png": "[encoded data removed]",
      "text/plain": [
       "<Figure size 432x288 with 1 Axes>"
      ]
     },
     "metadata": {},
     "output_type": "display_data"
    }
   ],
   "source": [
    "for m in [i/5 for i in range(6)]:\n",
    "    label = 'bet prop: {}'.format(m)\n",
    "    plt.plot([verticalExpectations(.5,2,m,n) for n in range(20)],label=label)\n",
    "plt.legend()\n",
    "plt.show()"
   ]
  },
  {
   "cell_type": "code",
   "execution_count": 20,
   "metadata": {},
   "outputs": [
    {
     "data": {
      "image/png": "[encoded data removed]",
      "text/plain": [
       "<Figure size 432x288 with 1 Axes>"
      ]
     },
     "metadata": {},
     "output_type": "display_data"
    }
   ],
   "source": [
    "for p in [i/100 for i in range(101)]:\n",
    "    plt.plot([(1-p**n)**n for n in range(1,1001)])\n",
    "plt.show()"
   ]
  },
  {
   "cell_type": "code",
   "execution_count": 21,
   "metadata": {},
   "outputs": [
    {
     "data": {
      "image/png": "[encoded data removed]",
      "text/plain": [
       "<Figure size 432x288 with 1 Axes>"
      ]
     },
     "metadata": {},
     "output_type": "display_data"
    }
   ],
   "source": [
    "def firstMoment(p,b,m,n):\n",
    "    return (1 + m*(p*b - (1-p)))**n\n",
    "\n",
    "def secondMoment(p,b,m,n):\n",
    "    return (1 + 2*m*(b*p + p - 1) + (m**2)*p*(b**2 - 1))**n\n",
    "\n",
    "def ratioOfMoments(p,b,m,n):\n",
    "    return firstMoment(p,b,m,n) / secondMoment(p,b,m,n)\n",
    "\n",
    "def firstOverRootSecond(p,b,m,n):\n",
    "    return firstMoment(p,b,m,n) / secondMoment(p,b,m,n)**(1/2)\n",
    "\n",
    "plt.plot([n*firstOverRootSecond(.5,2,1,n) for n in range(100)])\n",
    "plt.show()"
   ]
  }
 ],
 "metadata": {
  "kernelspec": {
   "display_name": "Python 3",
   "language": "python",
   "name": "python3"
  },
  "language_info": {
   "codemirror_mode": {
    "name": "ipython",
    "version": 3
   },
   "file_extension": ".py",
   "mimetype": "text/x-python",
   "name": "python",
   "nbconvert_exporter": "python",
   "pygments_lexer": "ipython3",
   "version": "3.6.5"
  }
 },
 "nbformat": 4,
 "nbformat_minor": 2
}
