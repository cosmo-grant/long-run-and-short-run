{
 "cells": [
  {
   "cell_type": "code",
   "execution_count": 10,
   "metadata": {},
   "outputs": [],
   "source": [
    "# DO THIS FIRST: FROM THE MENU AT THE TOP, CLICK' 'CELL' THEN 'RUN ALL'.\n",
    "\n",
    "import numpy as np\n",
    "import matplotlib.pyplot as plt\n",
    "from scipy.special import binom\n",
    "from ipywidgets import interact, fixed, interact_manual"
   ]
  },
  {
   "cell_type": "code",
   "execution_count": 11,
   "metadata": {},
   "outputs": [],
   "source": [
    "# structure functions --- go wild!\n",
    "\n",
    "def horizontal(numDay):\n",
    "    \"\"\"n agents each bet once.\"\"\"\n",
    "    return [1]*numDay\n",
    "\n",
    "def vertical(numDay):\n",
    "    \"\"\"One agent betting n times.\"\"\"\n",
    "    return [numDay]\n",
    "\n",
    "def nByK(k):\n",
    "    \"\"\"k agents each betting n times.\"\"\"\n",
    "    return lambda numDay : [numDay]*k\n",
    "\n",
    "def kByN(k):\n",
    "    \"\"\"n agents each betting k times.\"\"\"\n",
    "    return lambda numDay : [k]*numDay\n",
    "\n",
    "def nByN(numDay):\n",
    "    \"\"\"n agents each betting n times.\"\"\"\n",
    "    return [numDay]*numDay\n",
    "\n",
    "structuresToName = {'horizontal' : horizontal,\n",
    "                    'vertical' : vertical,\n",
    "                    'n by n' : nByN}\n",
    "\n",
    "structuresToDescription = dict([v,k] for k,v in structuresToName.items())"
   ]
  },
  {
   "cell_type": "code",
   "execution_count": 12,
   "metadata": {},
   "outputs": [],
   "source": [
    "def bankrolls(betStructure,numDay,numWinsList,odds,betProp,initialBankroll=1):\n",
    "    \"\"\"Computes agents' bankrolls at end of Day n, given win counts and betting structure.\"\"\"\n",
    "    numBetsList = betStructure(numDay)\n",
    "    return np.array([initialBankroll * (1+odds*betProp)**numWins * (1-betProp)**(numBets - numWins) \\\n",
    "            for (numWins,numBets) in zip(numWinsList,numBetsList)])"
   ]
  },
  {
   "cell_type": "code",
   "execution_count": 13,
   "metadata": {},
   "outputs": [],
   "source": [
    "# performance measures\n",
    "\n",
    "def averageGrowthRate(bankrolls,betStructure,numDay,initialBankroll=1):\n",
    "    \"\"\"Computes each agent's growth rate, then averages.\"\"\"\n",
    "    return np.mean((bankrolls / initialBankroll) ** (1 / np.array(betStructure(numDay))))\n",
    "\n",
    "def growthRateOfAverage(bankrolls,betStructure,numDay,initialBankroll=1):\n",
    "    \"\"\"Computes agents' average bankroll, then finds growth rate.\"\"\"\n",
    "    return np.mean(bankrolls)**(1 / betStructure(numDay)[0]) # what if people have bet different numbers of times?\n",
    "\n",
    "measuresToName = {'average growth rate' : averageGrowthRate,\n",
    "                 'growth rate of average' : growthRateOfAverage}\n",
    "\n",
    "measuresToDescription = dict([v,k] for k,v in measuresToName.items())"
   ]
  },
  {
   "cell_type": "code",
   "execution_count": 14,
   "metadata": {},
   "outputs": [],
   "source": [
    "def scaledBankrolls(betStructure,numDay,measure,numWinsList,odds,betProp,initialBankroll=1):\n",
    "    \"\"\"Computes performance measure of agents' bankrolls at end of Day n, given win counts and betting structure.\"\"\"\n",
    "    return measure(bankrolls(betStructure,numDay,numWinsList,odds,betProp,initialBankroll),\n",
    "                       betStructure,numDay,initialBankroll)"
   ]
  },
  {
   "cell_type": "code",
   "execution_count": 15,
   "metadata": {},
   "outputs": [
    {
     "name": "stdout",
     "output_type": "stream",
     "text": [
      "[[0 1 0 1 0]\n",
      " [0 2 0 1 1]\n",
      " [0 3 1 1 2]]\n",
      "[0]\n",
      "[0.125]\n"
     ]
    },
    {
     "data": {
      "text/plain": [
       "[0.5]"
      ]
     },
     "execution_count": 15,
     "metadata": {},
     "output_type": "execute_result"
    }
   ],
   "source": [
    "def simulateBetting(betStructure,numDay,measure,odds,winProb,betProp,initialBankroll=1):\n",
    "    \"\"\"Shows how agents' performance evolves over days.\"\"\"\n",
    "    performance = []\n",
    "    cumWins = np.array([np.cumsum(np.random.random(numBets) < winProb) for numBets in betStructure(numDay)]).T\n",
    "    print(cumWins)\n",
    "    for day in range(1,numDay+1):\n",
    "        numWinsList = [cumWins[numBets-1,index] for (index,numBets) in enumerate(betStructure(day))]\n",
    "        print(numWinsList)\n",
    "        print(bankrolls(betStructure,day,numWinsList,odds,betProp))\n",
    "        performance += [scaledBankrolls(betStructure,day,measure,numWinsList,odds,betProp,initialBankroll)]\n",
    "        return performance\n",
    "\n",
    "simulateBetting(kByN(3),5,averageGrowthRate,2,.5,.5)"
   ]
  },
  {
   "cell_type": "code",
   "execution_count": 16,
   "metadata": {},
   "outputs": [
    {
     "data": {
      "application/vnd.jupyter.widget-view+json": {
       "model_id": "975b98aab84d4e1eb054164719ac7019",
       "version_major": 2,
       "version_minor": 0
      },
      "text/plain": [
       "interactive(children=(Dropdown(description='betStructure', options={'horizontal': <function horizontal at 0x00…"
      ]
     },
     "metadata": {},
     "output_type": "display_data"
    },
    {
     "data": {
      "text/plain": [
       "<function __main__.plotFourPerformances(betStructure, measure, numDay, odds, winProb, betProp0=0.0, betProp1=0.4, betProp2=0.8, betProp3=1.0, initialBankroll=1)>"
      ]
     },
     "execution_count": 16,
     "metadata": {},
     "output_type": "execute_result"
    }
   ],
   "source": [
    "def plotFourPerformances(betStructure,measure,numDay,odds,winProb,\n",
    "                         betProp0=0.,betProp1=.4,betProp2=.8,betProp3=1.,initialBankroll=1):\n",
    "    cumWins = np.array([np.cumsum(np.random.random(numBets) < winProb) for numBets in betStructure(numDay)]).T\n",
    "    betProps = [betProp0,betProp1,betProp2,betProp3]\n",
    "    for betProp in betProps:\n",
    "        \n",
    "        # find how that bet proportion does\n",
    "        performance = []\n",
    "        for day in range(1,numDay+1):\n",
    "            numWinsList = [cumWins[numBets-1,index] for (index,numBets) in enumerate(betStructure(day))]\n",
    "            performance += [scaledBankrolls(betStructure,day,measure,numWinsList,odds,betProp,initialBankroll)]\n",
    "        \n",
    "        # plot its performance\n",
    "        label = 'bet proportion: {}'.format(betProp)\n",
    "        plt.plot(range(1,numDay+1),performance,label=label)\n",
    "    \n",
    "    plt.xlabel('number of days'); plt.ylabel(measuresToDescription[measure])\n",
    "    plt.title(\"\"\"Plots how the agents perform over time \n",
    "    when the betting structure is {}.\"\"\".format(structuresToDescription[betStructure]))\n",
    "    plt.legend()\n",
    "    plt.show()\n",
    "    \n",
    "interact_manual(plotFourPerformances, betStructure=structuresToName, measure=measuresToName,\n",
    "         odds=(0,10,0.5), numDay=(1,100), winProb=(0,1.), betProp0=(0,1,0.05), betProp1=(0,1,0.05),\n",
    "         betProp2=(0,1,0.05), betProp3=(0,1,0.05), initialBankroll=fixed(1))"
   ]
  },
  {
   "cell_type": "markdown",
   "metadata": {},
   "source": [
    "In an *n by 2 gambling problem*, two people, $A_1$ and $A_2$, face gambling problems with win probability $p$ and odds $b$:1 each day. Each of their bankrolls before betting on Day 1 is $r$. And their bankrolls roll over: each persons' bankroll before betting on Day $k+1$ is whatever her bankroll after betting is on Day $k$. They have to bet the same proportion of their bankrolls each day, and as each other. The outcomes of their gambles are independent.\n",
    "\n",
    "Take Example 1 above, where $p=\\frac{1}{2}$, $b=2$ and $r$ is 100 dollars. Suppose each day they both bet proportion $m$, for some $m \\in [0,1]$. What will happen? Here's one way things might go. On Day 1, $A_1$ bets and wins and $A_2$ bets and loses, say. $A_1$ now has $100(1+bm)$ dollars and $A_2$ has $100(1-m)$ dollars. Their combined bankroll is $100(2+(b-1)m)$. On Day 2, both bet and lose, say. $A_1$ now has $100(1+bm)(1-m)$ dollars and $A_2$ now has $100(1-m)^2$ dollars. Their combined bankroll is $100(1-m)(2+(b-1)m)$ dollars. And so on. We're interested in their combined bankroll as they bet more and more times. \n",
    "\n",
    "Let's proceed indirectly, by looking not at their combined bankroll as they bet more and more times, but at their *average growth rate*. What's that? Well, if their final bankrolls after betting $n$ times with initial bankroll $r$ are $f_1$ and $f_2$, then their average growth rate is $g = \\frac{1}{2} \\big( \\sqrt[n]{\\frac{f_1}{r}} + \\sqrt[n]{\\frac{f_2}{r}} \\big)$.\n",
    "\n",
    "Each time one of them wins, she multiplies her bankroll by $(1+bm)$ and each time one of them loses, she multiplies her bankroll by $(1-m)$. So if their initial bankroll is $r$ dollars, they bet $n$ times each, $A_1$ wins $k_1$ times, and $A_2$ wins $k_2$ times, their combined bankroll is:\n",
    "\n",
    "$$ r \\cdot \\Big( (1+bm)^{k_1} \\cdot (1-m)^{n-k_1} + (1+bm)^{k_2} \\cdot (1-m)^{n-k_2} \\Big) $$\n",
    "\n",
    "And their average growth rate is:\n",
    "\n",
    "$$ \\frac{1}{2} \\Big( (1+bm)^{\\frac{k_1}{n}} \\cdot (1-m)^{\\frac{n-k_1}{n}} + (1+bm)^{\\frac{k_2}{n}} \\cdot (1-m)^{\\frac{n-k_2}{n}} \\Big) $$\n",
    "\n",
    "You can evaluate these two expressions, their combined bankroll and their average growth rate after $k_1$ and $k_2$ wins respectively in $n$ bets, for different values for $n$, $k_1$, $k_2$, $b$, and $m$ using the sliders below. When calculating their combined bankroll, we assume their initial bankroll $r$ is 100 dollars."
   ]
  },
  {
   "cell_type": "code",
   "execution_count": 17,
   "metadata": {},
   "outputs": [
    {
     "data": {
      "application/vnd.jupyter.widget-view+json": {
       "model_id": "6ab2322d50c74157ba3a73e0c38fd9e6",
       "version_major": 2,
       "version_minor": 0
      },
      "text/plain": [
       "interactive(children=(IntSlider(value=50, description='n', min=1), IntSlider(value=30, description='k1'), IntS…"
      ]
     },
     "metadata": {},
     "output_type": "display_data"
    },
    {
     "data": {
      "text/plain": [
       "<function __main__.displayNBy2Stuff(n=50, k1=30, k2=10, odds=2, betProp=0.5)>"
      ]
     },
     "execution_count": 17,
     "metadata": {},
     "output_type": "execute_result"
    }
   ],
   "source": [
    "def nBy2CombinedBankrolls(n,k1,k2,odds,betProp,initialBankroll=1):\n",
    "    \"\"\"Finds combined bankroll after k1, k2 wins in n vertical rounds.\"\"\"\n",
    "    return initialBankroll * ((1+odds*betProp)**k1 * (1-betProp)**(n-k1) +\n",
    "                              (1+odds*betProp)**k2 * (1-betProp)**(n-k2))\n",
    "\n",
    "def nBy2AverageGrowthRate(n,k1,k2,odds,betProp):\n",
    "    \"\"\"Finds average growth rate after k1, k2 wins in n vertical rounds.\"\"\"\n",
    "    return 0.5 * (((1+odds*betProp)**k1 * (1-betProp)**(n-k1))**(1/n) +\n",
    "                  ((1+odds*betProp)**k2 * (1-betProp)**(n-k2))**(1/n))\n",
    "\n",
    "def displayNBy2Stuff(n=50,k1=30,k2=10,odds=2,betProp=.5):\n",
    "    \"\"\"Returns bankroll info after k1, k2 wins in n vertical rounds, assuming initial bankroll is 100 dollars.\"\"\"\n",
    "    if k1 > n or k2 > n:\n",
    "        print(\"That doesn't make sense: number of wins > number of bets!\")\n",
    "    else:\n",
    "        combined = nBy2CombinedBankrolls(n,k1,k2,odds,betProp,100)\n",
    "        roundedCombined = int(np.around(combined))\n",
    "        averageGrowthRate = nBy2AverageGrowthRate(n,k1,k2,odds,betProp)\n",
    "        roundedAverageGrowthRate = np.around(averageGrowthRate,2)\n",
    "        print('Combined bankroll is {} dollars (to nearest dollar).'.format(roundedCombined))\n",
    "        print('Average growth rate is {} (to 2 decimal places).'.format(roundedAverageGrowthRate))\n",
    "        \n",
    "interact(displayNBy2Stuff,n=(1,100),k1=(0,100),k2=(0,100),odds=(0,10,0.5),betProp=(0,1,0.05))"
   ]
  },
  {
   "cell_type": "markdown",
   "metadata": {},
   "source": [
    "How their average growth rate changes as they bet more and more times is a chancy matter, since the outcome of each bet is chancy. You can plot how things might go for a few different choices of bet proportion using the sliders below. Whenever you move a slider, a fresh sequence of bets is simulated and it plots the average growth rate against the number of bets for each choice of bet proportion."
   ]
  },
  {
   "cell_type": "code",
   "execution_count": 18,
   "metadata": {},
   "outputs": [
    {
     "data": {
      "application/vnd.jupyter.widget-view+json": {
       "model_id": "2260898c0cd2498f9bd024b11bef4583",
       "version_major": 2,
       "version_minor": 0
      },
      "text/plain": [
       "interactive(children=(FloatSlider(value=5.0, description='odds', max=10.0, step=0.5), FloatSlider(value=0.5, d…"
      ]
     },
     "metadata": {},
     "output_type": "display_data"
    },
    {
     "data": {
      "text/plain": [
       "<function __main__.plotFourNBy2AverageGrowthRates(odds, winProbability, numRounds, betProp0=0.0, betProp1=0.4, betProp2=0.8, betProp3=1.0)>"
      ]
     },
     "execution_count": 18,
     "metadata": {},
     "output_type": "execute_result"
    }
   ],
   "source": [
    "def plotFourNBy2AverageGrowthRates(odds,winProbability,numRounds,betProp0=0.,betProp1=.4,\n",
    "                             betProp2=.8,betProp3=1.):\n",
    "    \"\"\"Plots simulation of four average growth rates after n rounds for given bet proportions.\"\"\"\n",
    "    cumWins1 = np.cumsum(np.random.random(numRounds) < winProbability)\n",
    "    cumWins2 = np.cumsum(np.random.random(numRounds) < winProbability)\n",
    "    betProps = [betProp0,betProp1,betProp2,betProp3]\n",
    "    for betProp in betProps:\n",
    "        averageGrowthRates = [nBy2AverageGrowthRate(numRounds,numWins[0],numWins[1],odds,betProp) \\\n",
    "         for (numRounds,numWins) in enumerate(zip(cumWins1,cumWins2),start=1)]\n",
    "        label = 'bet proportion: {}'.format(betProp)\n",
    "        plt.plot(range(1,numRounds+1),averageGrowthRates,label=label)\n",
    "    plt.xlabel(\"number of times they've each bet\"); plt.ylabel('average growth rate')\n",
    "    plt.legend()\n",
    "    plt.show()\n",
    "    \n",
    "    \n",
    "interact(plotFourNBy2AverageGrowthRates,odds=(0,10,0.5),winProbability=(0,1.), numRounds=(1,100),\n",
    "         betProp0=(0,1,0.05),betProp1=(0,1,0.05),betProp2=(0,1,0.05),betProp3=(0,1,0.05))"
   ]
  },
  {
   "cell_type": "code",
   "execution_count": 19,
   "metadata": {},
   "outputs": [
    {
     "data": {
      "application/vnd.jupyter.widget-view+json": {
       "model_id": "fa9d8c872db24bfab40729d6c27d9e2d",
       "version_major": 2,
       "version_minor": 0
      },
      "text/plain": [
       "interactive(children=(IntSlider(value=50, description='n', min=1), IntSlider(value=30, description='k1'), IntS…"
      ]
     },
     "metadata": {},
     "output_type": "display_data"
    },
    {
     "data": {
      "text/plain": [
       "<function __main__.displayNBy3Stuff(n=50, k1=30, k2=20, k3=10, odds=2, betProp=0.5)>"
      ]
     },
     "execution_count": 19,
     "metadata": {},
     "output_type": "execute_result"
    }
   ],
   "source": [
    "def nBy3CombinedBankrolls(n,k1,k2,k3,odds,betProp,initialBankroll=1):\n",
    "    \"\"\"Finds combined bankroll after k1, k2, k3 wins in n vertical rounds.\"\"\"\n",
    "    return initialBankroll * ((1+odds*betProp)**k1 * (1-betProp)**(n-k1) +\n",
    "                              (1+odds*betProp)**k2 * (1-betProp)**(n-k2) +\n",
    "                              (1+odds*betProp)**k3 * (1-betProp)**(n-k3))\n",
    "\n",
    "def nBy3AverageGrowthRate(n,k1,k2,k3,odds,betProp):\n",
    "    \"\"\"Finds average growth rate after k1, k2, k3 wins in n vertical rounds.\"\"\"\n",
    "    return 1/3 * (((1+odds*betProp)**k1 * (1-betProp)**(n-k1))**(1/n) +\n",
    "                  ((1+odds*betProp)**k2 * (1-betProp)**(n-k2))**(1/n) +\n",
    "                  ((1+odds*betProp)**k3 * (1-betProp)**(n-k3))**(1/n))\n",
    "\n",
    "def displayNBy3Stuff(n=50,k1=30,k2=20,k3=10,odds=2,betProp=.5):\n",
    "    \"\"\"Returns bankroll info after k1, k2, k3 wins in n vertical rounds, assuming initial bankroll is 100 dollars.\"\"\"\n",
    "    if max(k1,k2,k3) > n:\n",
    "        print(\"That doesn't make sense: number of wins > number of bets!\")\n",
    "    else:\n",
    "        combined = nBy3CombinedBankrolls(n,k1,k2,k3,odds,betProp,100)\n",
    "        roundedCombined = int(np.around(combined))\n",
    "        averageGrowthRate = nBy3AverageGrowthRate(n,k1,k2,k3,odds,betProp)\n",
    "        roundedAverageGrowthRate = np.around(averageGrowthRate,2)\n",
    "        print('Combined bankroll is {} dollars (to nearest dollar).'.format(roundedCombined))\n",
    "        print('Average growth rate is {} (to 2 decimal places).'.format(roundedAverageGrowthRate))\n",
    "        \n",
    "interact(displayNBy3Stuff,n=(1,100),k1=(0,100),k2=(0,100),k3=(0,100),odds=(0,10,0.5),betProp=(0,1,0.05))"
   ]
  },
  {
   "cell_type": "code",
   "execution_count": 20,
   "metadata": {},
   "outputs": [
    {
     "data": {
      "application/vnd.jupyter.widget-view+json": {
       "model_id": "81a80f160389464dae69babc35b83932",
       "version_major": 2,
       "version_minor": 0
      },
      "text/plain": [
       "interactive(children=(FloatSlider(value=5.0, description='odds', max=10.0, step=0.5), FloatSlider(value=0.5, d…"
      ]
     },
     "metadata": {},
     "output_type": "display_data"
    },
    {
     "data": {
      "text/plain": [
       "<function __main__.plotFourNBy3AverageGrowthRates(odds, winProbability, numRounds, betProp0=0.0, betProp1=0.4, betProp2=0.8, betProp3=1.0)>"
      ]
     },
     "execution_count": 20,
     "metadata": {},
     "output_type": "execute_result"
    }
   ],
   "source": [
    "def plotFourNBy3AverageGrowthRates(odds,winProbability,numRounds,betProp0=0.,betProp1=.4,\n",
    "                             betProp2=.8,betProp3=1.):\n",
    "    \"\"\"Plots simulation of four average growth rates after n rounds for given bet proportions.\"\"\"\n",
    "    cumWins1 = np.cumsum(np.random.random(numRounds) < winProbability) # TBD improve this!\n",
    "    cumWins2 = np.cumsum(np.random.random(numRounds) < winProbability)\n",
    "    cumWins3 = np.cumsum(np.random.random(numRounds) < winProbability)\n",
    "    betProps = [betProp0,betProp1,betProp2,betProp3]\n",
    "    for betProp in betProps:\n",
    "        averageGrowthRates = [nBy3AverageGrowthRate(numRounds,numWins[0],numWins[1],numWins[2],odds,betProp) \\\n",
    "         for (numRounds,numWins) in enumerate(zip(cumWins1,cumWins2,cumWins3),start=1)]\n",
    "        label = 'bet proportion: {}'.format(betProp)\n",
    "        plt.plot(range(1,numRounds+1),averageGrowthRates,label=label)\n",
    "    plt.xlabel(\"number of times they've each bet\"); plt.ylabel('average growth rate')\n",
    "    plt.legend()\n",
    "    plt.show()\n",
    "\n",
    "interact(plotFourNBy3AverageGrowthRates,odds=(0,10,0.5),winProbability=(0,1.),numRounds=(1,100),\n",
    "         betProp0=(0,1,0.05),betProp1=(0,1,0.05),betProp2=(0,1,0.05),betProp3=(0,1,0.05))"
   ]
  },
  {
   "cell_type": "markdown",
   "metadata": {},
   "source": [
    "As in 2.1, except now each day an extra agent comes on the scene and catches up with the gambles.\n",
    "\n",
    "Day 1. $A_1$ bets once.\n",
    "\n",
    "Day 2. $A_1$ bets once, $A_2$ appears and bets twice, so each has bet twice total.\n",
    "\n",
    "Day 3. $A_1$ bets once, $A_2$ bets once, $A_3$ appears and bets three times, so each has bet three times total.\n",
    "And so on.\n",
    "\n",
    "The number of agents involved increases with the number of days: at the end of Day $n$, $n$ agents have bet $n$ times each in independent vertical gambling problems.\n",
    "\n",
    "Again, we look at average growth rate."
   ]
  },
  {
   "cell_type": "code",
   "execution_count": 21,
   "metadata": {},
   "outputs": [
    {
     "data": {
      "application/vnd.jupyter.widget-view+json": {
       "model_id": "5d7aed8a3b1e45269e6c5e546e691c2a",
       "version_major": 2,
       "version_minor": 0
      },
      "text/plain": [
       "interactive(children=(FloatSlider(value=5.0, description='odds', max=10.0, step=0.5), FloatSlider(value=0.5, d…"
      ]
     },
     "metadata": {},
     "output_type": "display_data"
    },
    {
     "data": {
      "text/plain": [
       "<function __main__.plotFourNByNAverageGrowthRates(odds, winProbability, numRounds, betProp0=0.0, betProp1=0.4, betProp2=0.8, betProp3=1.0)>"
      ]
     },
     "execution_count": 21,
     "metadata": {},
     "output_type": "execute_result"
    }
   ],
   "source": [
    "def nByNCombinedBankrolls(n,numWinsList,odds,betProp,initialBankroll=1):\n",
    "    \"\"\"Finds combined bankroll after n agents bet in n vertical rounds.\"\"\"\n",
    "    return np.array([(1+odds*betProp)**numWins * (1-betProp)**(n-numWins) for numWins in numWinsList]).sum()\n",
    "\n",
    "def nByNAverageGrowthRate(n,numWinsList,odds,betProp):\n",
    "    \"\"\"Finds average growth rate after n agents bet in n vertical rounds.\"\"\"\n",
    "    return 1/n * np.array([((1+odds*betProp)**numWins * (1-betProp)**(n-numWins))**(1/n) for numWins in numWinsList]).sum()\n",
    "\n",
    "def plotFourNByNAverageGrowthRates(odds,winProbability,numRounds,betProp0=0.,betProp1=.4,\n",
    "                             betProp2=.8,betProp3=1.):\n",
    "    \"\"\"Plots simulation of four average growth rates after n rounds for given bet proportions.\"\"\"\n",
    "    cumWins = np.array([np.cumsum(np.random.random(numRounds) < winProbability) for i in range(numRounds)])\n",
    "    betProps = [betProp0,betProp1,betProp2,betProp3]\n",
    "    for betProp in betProps:\n",
    "        averageGrowthRates = [nByNAverageGrowthRate(dayNumber+1,cumWins[0:dayNumber+1,dayNumber],odds,betProp) \\\n",
    "         for dayNumber in range(numRounds)]\n",
    "        label = 'bet proportion: {}'.format(betProp)\n",
    "        plt.plot(range(1,numRounds+1),averageGrowthRates,label=label)\n",
    "    plt.xlabel(\"number of days\"); plt.ylabel('average growth rate')\n",
    "    plt.legend()\n",
    "    plt.show()\n",
    "\n",
    "interact(plotFourNByNAverageGrowthRates,odds=(0,10,0.5),winProbability=(0,1.),numRounds=(1,100),\n",
    "         betProp0=(0,1,0.05),betProp1=(0,1,0.05),betProp2=(0,1,0.05),betProp3=(0,1,0.05))"
   ]
  }
 ],
 "metadata": {
  "kernelspec": {
   "display_name": "Python 3",
   "language": "python",
   "name": "python3"
  },
  "language_info": {
   "codemirror_mode": {
    "name": "ipython",
    "version": 3
   },
   "file_extension": ".py",
   "mimetype": "text/x-python",
   "name": "python",
   "nbconvert_exporter": "python",
   "pygments_lexer": "ipython3",
   "version": "3.6.5"
  }
 },
 "nbformat": 4,
 "nbformat_minor": 2
}
