{
 "cells": [
  {
   "cell_type": "markdown",
   "metadata": {},
   "source": [
    "# The Long-Run and the Short-Run"
   ]
  },
  {
   "cell_type": "code",
   "execution_count": 42,
   "metadata": {},
   "outputs": [],
   "source": [
    "# DO THIS FIRST: FROM THE MENU AT THE TOP, CLICK' 'CELL' THEN 'RUN ALL'.\n",
    "\n",
    "import numpy as np\n",
    "import pandas as pd\n",
    "import matplotlib.pyplot as plt\n",
    "from scipy.special import binom\n",
    "from ipywidgets import interact, fixed"
   ]
  },
  {
   "cell_type": "markdown",
   "metadata": {},
   "source": [
    "## 1. TL;DR\n",
    "\n",
    "The long-run is about what happens in the limit, or eventually, or in the infinite case. Think *convergence* of a sequence, *common* knowledge, *repeated* games, computing the value of a function for *any* argument, betting *often*. The short-run is about what happens now, or by time $t$, or in a particular case. Think *this term* of a sequence, *mutual* knowledge, *one-off* games, computing the value of a function for *that* argument, betting *once*.\n",
    "\n",
    "Sometimes the long-run is taken to be irrelevant to the short-run (\"in the long run we're all dead\"); and sometimes it's not. When? Why? How?\n",
    "\n",
    "Section 2 describes a toy example to help get clear about the issue. Section 3 describes how in a broad range of fields the long-run is taken to be relevant to the short-run. Section 4 investigates one example in detail: long-run defences of decision rules in betting."
   ]
  },
  {
   "cell_type": "markdown",
   "metadata": {},
   "source": [
    "Contents:\n",
    "  - [1. TL;DR](#1.-TL;DR)\n",
    "  - [2. Toy example](#2.-Toy-example)\n",
    "    - [2.1 Set-up](#2.1-Set-up)\n",
    "    - [2.2 Questions](#2.2-Questions)\n",
    "    - [2.3 Discussion](#2.3-Discussion)\n",
    "  - [3. Non-toy examples](#3.-Non-toy-examples)\n",
    "    - [3.1 Complexity theory](#3.1-Complexity-theory)\n",
    "    - [3.2 Estimators](#3.2-Estimators)\n",
    "    - [3.3 Nash equilibrium](#3.3-Nash-equilibrium)\n",
    "    - [3.4 Sketch of other examples](#3.4-Sketch-of-other-examples)\n",
    "  - [4. Maximize Expected Value v. Maximize Expected Growth Rate](#4.-Maximize-Expected-Value-v.-Maximize-Expected-Growth-Rate)\n",
    "    - [4.1 Gambling problems](#4.1-Gambling-problems)\n",
    "    - [4.2 MEV's recommendation](#4.2-MEV's-recommendation)\n",
    "    - [4.3 MEGR's recommendation](#4.3-MEGR's-recommendation)\n",
    "    - [4.4 When do MEV and MEGR disagree?](#4.4-When-do-MEV-and-MEGR-disagree?)\n",
    "    - [4.5 How does MEV do in the long-run?](#4.5-How-does-MEV-do-in-the-long-run?)\n",
    "    - [4.6 How does MEGR do in the long-run?](#4.6-How-does-MEGR-do-in-the-long-run?)\n",
    "    - [4.7 Discussion](#4.7-Discussion)\n"
   ]
  },
  {
   "cell_type": "markdown",
   "metadata": {},
   "source": [
    "## 2. Toy example"
   ]
  },
  {
   "cell_type": "markdown",
   "metadata": {},
   "source": [
    "### 2.1 Set-up\n",
    "\n",
    "On the whiteboard in my office, I've defined two infinite sequences of real numbers: $x_n$ and $y_n$. Which is closer to 0, $x_{100}$ or $y_{100}$? \n",
    "\n",
    "It's an odd question. For all you know, it might be that, say, $x_n = \\frac{1}{n}$ and $y_n = n$, in which case $x_{100}$ is closer to 0 than $y_{100}$, or that $x_n = n$ and $y_n = \\frac{1}{n}$, in which case $y_{100}$ is closer to 0 than $x_{100}$. And of course I might have made any number of other definitions, where $x_{100}$ is closer to 0 for some and $y_{100}$ is closer to 0 for others. You don't know which is closer to 0.\n",
    "\n",
    "When you don't know the answer to a question, you can still guess. Some guesses may be better than others. But not here. Guessing that $x_{100}$ is closer to 0 is no better and no worse than guessing that $y_{100}$ is closer to 0. After all, I told you next to nothing about the sequences; what little I did say I said about both. Neither guess is better than the other. You might as well flip a coin.\n",
    "\n",
    "You might worry that talking about whether one guess is better than another is ill-defined, unless I add what the costs and benefits of the guesses are. I can fix that if you like: I'll give you \\$1 if you guess correctly and nothing otherwise. It doesn't change anything: still, neither guess is better than the other; you might as well flip a coin."
   ]
  },
  {
   "cell_type": "markdown",
   "metadata": {},
   "source": [
    "### 2.2 Questions\n",
    "\n",
    "Here's an additional bit of information: $x_n \\to 0$ as $n \\to \\infty$. In light of this, reconsider the question: Which is closer to 0, $x_{100}$ or $y_{100}$?\n",
    "\n",
    "For all you know, it might be that, say, $x_n = \\frac{1}{2^n}$ and $y_n = \\frac{1}{n}$, in which case $x_{100}$ is closer to 0, or that $x_n = \\frac{1}{n}$ and $y_n = \\frac{1}{2^n}$, in which case $y_{100}$ is closer to 0. You still don't know the answer to the question. But when you learn that $x_n \\to 0$, does it become better to guess $x_{100}$ than $y_{100}$? On the one hand, *eventually* the $x_n$ are small; but that doesn't entail that $x_{100}$ is small. On the other hand, eventually the $x_n$ *are small*; while for all we know the $y_n$ are always large.\n",
    "\n",
    "The fact that $x_n \\to 0$ is a fact about the long-run. The conjecture that $x_{100}$ is closer to 0 than $y_{100}$ is a conjecture about the short-run. The question *Given that $x_n \\to 0$, is it better to guess $x_{100}$ than $y_{100}$?* is an instance of our general question, *How does the long-run bear on the short-run?*\n",
    "\n",
    "Let's consider variations on the theme. In the situation above, you're told that $x_n \\to 0$ as $n \\to \\infty$ and nothing about $y_n$. The table below describes other situations. For example, the first row, first column is the situation where you're told nothing about either sequence; the second row, first column is the situation above; and so on. The task is to fill in the table with $x_{100}$ when it's better to guess $x_{100}$, $y_{100}$ when it's better to guess $y_{100}$, and *coin* when neither guess is better than the other and you might as well flip a coin. I take it that you should put *coin* in the first row, first column. What about the others?  \n",
    "\n",
    "| $\\phantom{x}$ | no information | $\\mathbf{y_n \\not\\to 0}$ | $\\mathbf{y_n \\to 10^{10}}$ | $\\mathbf{y_n}$ is unbounded | $\\mathbf{y_n \\to \\infty}$ |\n",
    "| ---  | --- | --- | --- | --- | --- |\n",
    "| **no information** |\n",
    "| **$\\mathbf{x_n \\to 0}$** |\n",
    "| **$\\mathbf{x_n}$ is non-increasing** |\n",
    "| **$\\mathbf{\\exists N : x_n=0}$ for all $\\mathbf{n > N}$** |\n",
    "\n",
    "If you're not sure how to fill in the table, an alternative task is to describe relations between the entries: if $x_n$ here then $x_n$ there too; or if *coin* here, then *coin* along the whole row; and so on."
   ]
  },
  {
   "cell_type": "markdown",
   "metadata": {},
   "source": [
    "### 2.3 Discussion"
   ]
  },
  {
   "cell_type": "markdown",
   "metadata": {},
   "source": [
    "#### 2.3.1 What are long-run facts?\n",
    "\n",
    "Let's focus on sequences. A paradigm long-run fact about a sequence is a fact about its limit, say that $x_n \\to 0$ or $y_n \\to \\infty$. It's not obvious how to move from the paradigm to a definition. Here are a few options. (I switch from facts to properties; you state a long-run fact when you ascribe a long-run property.) A property of a sequence is a long-run property just if:\n",
    "\n",
    "  1. all sequences with the property converge to the same limit.\n",
    "  2. the property is definable by taking complements, finite intersections and finite unions of properties satisfying 1.\n",
    "  3. any finite initial segment can be extended to a sequence having the property.\n",
    "  4. any value in any position can be extended to a sequence having the property.\n",
    "  \n",
    "For example, let's see which properties in the table above satisfy which definitions:\n",
    "\n",
    "| $\\phantom{x}$            \t|       1      \t|       2      \t|       3      \t|       4      \t|\n",
    "| ------------------------\t| ------------\t| ------------\t| ------------\t| ------------\t|\n",
    "| tends to 0               \t| $\\checkmark$ \t| $\\checkmark$ \t| $\\checkmark$ \t| $\\checkmark$ \t|\n",
    "| tends to infinity        \t| $\\checkmark$ \t| $\\checkmark$ \t| $\\checkmark$ \t| $\\checkmark$ \t|\n",
    "| is eventually constant 0 \t| $\\checkmark$ \t| $\\checkmark$ \t| $\\checkmark$ \t| $\\checkmark$ \t|\n",
    "| doesn't tend to 0        \t| x            \t| $\\checkmark$ \t| $\\checkmark$ \t| $\\checkmark$ \t|\n",
    "| is unbounded             \t| x            \t| x            \t| $\\checkmark$ \t| $\\checkmark$ \t|\n",
    "| is non-increasing        \t| x            \t| x            \t| x            \t| $\\checkmark$ \t|\n",
    "  \n",
    "As the table suggests, 1 is strictly stronger than 2, which is strictly stronger than 3, which is strictly stronger than 4. We want a theory of how the long-run bears on the short-run. It might turn out that it's better to develop a theory using one definition over another; or it might not matter much."
   ]
  },
  {
   "cell_type": "markdown",
   "metadata": {},
   "source": [
    "#### 2.3.2 The delayer's response: the question is underspecified\n",
    "\n",
    "The delayer advises you not to fill in the table, on the basis that the questions are underspecified.\n",
    "\n",
    "Some questions are underspecified. Examples: What's the area of a triangle with base 5cm? What time is it in Europe? How long is a piece of string? Each question leaves unspecified some parameter on which the answer to the question depends: the height of the triangle, where in Europe, which piece of string. You should decline to answer the questions.\n",
    "\n",
    "Compare: What's the area of the triangle with base 5cm I drew this morning? What time is it where I am in Europe? How long is this piece of string I'm holding? You don't know the answers to these questions. You don't even have any relevant evidence. But there is no unspecified parameter on which the answers depend. After all, I can answer the questions easily enough. You shouldn't decline to answer the questions. You should answer \"I don't know\".\n",
    "\n",
    "You might complain that the questions in the table, like the first set here, *do* leave some parameter unspecified: how I chose the sequences. I might have chosen them by writing down some candidates for $x_n$ and $y_n$, numbering the candidates, and then using a random number generator to select a pair. Or I might have chosen them by flicking through Stephen Abbott's textbook *Understanding Analysis* until two sequences caught my eye. Or I might have chosen them by pinning some definitions to a dart board and aiming double top. And so on. The answers to the questions in the table depend on this parameter. Therefore the questions are underspecified---so the complaint goes.\n",
    "\n",
    "I agree that *your* answers to the questions depend on how I chose the sequences: if you learn that I chose them one way, you'll fill in the table like this; if you learn that I chose another way, you'll fill in the table like that. So much, so obvious. Your answer to a question depends on your information. Change your information and you may change your answer. (Actually, I doubt that being told how I chose the sequences would help you fill in the table, but never mind that.) To show that the question are underspecified, you need to show, not that *your* answers depend on how I chose the sequences, but that, holding fixed what the sequences are, *the* answers depend on how I chose them. Compare: To show that the question *How long is this piece of string I'm holding?* is underspecified, you need to show, not that *your* answer depends on how I chose the string, but that, holding fixed which piece of string I chose, *the* answer depends on how I chose it. The question *How long is this piece of string I'm holding?* is not underspecified. Nor are the questions in the table.\n",
    "\n",
    "You might worry instead that, like *How long is this piece of string I'm holding?*, the questions in the table aren't underspecified but are intractable. Someone who thinks this will put *coin* in every cell. They should read Section 2.3.4 below."
   ]
  },
  {
   "cell_type": "markdown",
   "metadata": {},
   "source": [
    "#### 2.3.3 The Bayesian's response: conditionalize\n",
    "\n",
    "The Bayesian advises you to fill in the table as follows: write down your prior over $x_n$ and $y_n$, conditionalize on the information in the row and column, then enter $x_n$, $y_n$ or *coin* according to whether your posterior that $x_{100}$ is closer to 0 than $y_{100}$ is greater than, smaller than, or equal to a half.\n",
    "\n",
    "For example, suppose your prior over $x_n$ and $y_n$ is:\n",
    "\n",
    "| $\\phantom{x}$\t| $y_n = (-1)^n$ \t| $y_n = min(n,10^{10}) $ \t| $y_n = n-100$ \t|\n",
    "| ----------------------------------\t| --------------\t| ----------------------\t| --------------\t|\n",
    "| $x_n = \\frac{1}{n}$       \t| $\\frac{1}{9}$     | $\\frac{1}{9}$ | $\\frac{1}{9}$  \t|\n",
    "| $x_n = 1000-n$           \t| $\\frac{1}{9}$    \t| $\\frac{1}{9}$            \t| $\\frac{1}{9}$    \t|\n",
    "| $x_n = max(0, 50 - (n-100)^2)$ \t| $\\frac{1}{9}$    \t| $\\frac{1}{9}$             | $\\frac{1}{9}$    \t|\n",
    "\n",
    "Then you should fill in the table like this:\n",
    "\n",
    "| $\\phantom{x}$ | no information | $\\mathbf{y_n \\not\\to 0}$ | $\\mathbf{y_n \\to 10^{10}}$ | $\\mathbf{y_n}$ is unbounded | $\\mathbf{y_n \\to \\infty}$ |\n",
    "| ---  | ---- | --- | --- | --- | --- |\n",
    "| **no information** | $y_{100}$ | $y_{100}$ | $x_{100}$ | $y_{100}$ | $y_{100}$ |\n",
    "| **$\\mathbf{x_n \\to 0}$** | *coin* | *coin* | $x_{100}$ | $y_{100}$ | $y_{100}$ |\n",
    "| **$\\mathbf{x_n}$ is non-increasing** | $y_{100}$ | $y_{100}$ | *coin* | $y_{100}$ | $y_{100}$ |\n",
    "| **$\\mathbf{\\exists N : x_n=0}$ for all $\\mathbf{n > N}$** |$y_{100}$ | $y_{100}$ | $x_{100}$ | $y_{100}$ | $y_{100}$ |\n",
    "\n",
    "It's easy to write down *a* prior over $x_n$ and $y_n$; and given a prior, it's easy to fill in the table. What's hard is to write down *your* prior. Even if someone *has* a prior over $x_n$ and $y_n$, they may not know what it is, in which case they won't know how to follow the Bayesian's advice. I don't think you know what your prior is, even if you have one. So I don't think you know how to follow the Bayesian's advice. The Bayesian's advice doesn't help you fill in the table.\n",
    "\n",
    "I'm not suggesting that you regard all sequences as on a par. You may still rule out some sequences or take some to be more plausible than others. And you're perfectly reasonable to do so: some sequences would have taken me too long to write down; specifying others would involve mathematics which I don't know about; I'm fonder of some sequences than others. To know all that is a long way from having a prior over the space of all pairs of sequences, and even further from knowing what your prior is.\n",
    "\n",
    "Advice that we don't know how to follow can still be good advice. An example I got from Roger White: advising a public speaker to match their volume to the size of the room is good advice, even when the speaker doesn't know how big the room is. (Cf. Williamson on the knowledge norm of assertion.) Even so, it's worth thinking about whether there's advice that we do know how to follow."
   ]
  },
  {
   "cell_type": "markdown",
   "metadata": {},
   "source": [
    "#### 2.3.4 The puritan's response: always flip a coin\n",
    "\n",
    "The puritan advises you to fill in the table by putting *coin* in every cell.\n",
    "\n",
    "The conditions in the table don't entail that $x_{100}$ is closer to 0 than $y_{100}$ or that $y_{100}$ is closer to 0 than $x_{100}$. The deductivist says that $E$ is evidence for $H$ only if $E$ entails $H$. So the deductivist concludes that none of the conditions in the table is evidence either way and you should put *coin* in every cell. The Bayesian says that $E$ is evidence for $H$ when $P(H | E) > P(H)$. But the Bayesian's advice doesn't help us fill in the table; for all the Bayesian's advice helps us, we might as well still put *coin* in every cell.\n",
    "\n",
    "To put *coin* in every cell on the basis that neither the deductivist nor the Bayesian makes you do otherwise is too quick. Perhaps we can devise another theory of evidential support, one that is less severe than the deductivist's and more helpful than the Bayesian's.\n",
    "\n",
    "A preliminary idea. Suppose you face a sequence of questions: *Guess which is closer to 0, $x_k$ or $y_k$?* for each $k$. You have to choose $x_k$ every time or $y_k$ every time. If you have no information about the sequences, then guessing $x_k$ every time is no better and no worse then guessing $y_k$ every time. You might as well flip a coin to decide how to answer. But if you know that $x_n \\to 0$ and $y_n \\not\\to 0$, then by guessing $x_k$ every time you're guaranteed to be right infinitely often; not so for $y_k$. Or if you know that $x_n \\to 0$ and $y_n \\to \\infty$, then by guessing $x_k$ every time you're guaranteed eventually to keep guessing correctly. Perhaps these are reasons to guess $x_{100}$ over $y_{100}$ in the actual scenarios, where you are just asked one question. If you find this idea ridiculous, reassess it after reading the next section.\n",
    "\n",
    "Across a broad range of fields, long-run facts do seem to be taken to support short-run claims. The next section lists examples. If you deny that the long-run bears on the short-run in our toy example, then you should either explain the difference between the toy example and the examples in the next section, or push for revision of scientific practice."
   ]
  },
  {
   "cell_type": "markdown",
   "metadata": {},
   "source": [
    "## 3. Non-toy examples (TO BE COMPLETED)"
   ]
  },
  {
   "cell_type": "markdown",
   "metadata": {},
   "source": [
    "### 3.1 Complexity theory\n",
    "\n",
    "Two algorithms to sort lists: $A$ and $B$. I have a list with 100 entries that needs to be sorted. Which will be quicker, $A$ or $B$?\n",
    "\n",
    "You learn: the time $A$ takes is polynomial in the length of the list; the time $B$ takes is exponential in the length of the list. In light of this, reassess the question.\n",
    "\n",
    "The time an algorithm takes as a function of the size of the input is a long-run property. It is taken, in practice, as a guide to how the algorithm will do in the short-run. In practice, people put their money on $A$.\n",
    "\n",
    "Aside: A notable disconnect between long-run and short-run is SAT-solving. The SAT problem is: given a formula of propositional logic, decide whether it's satisfiable. From [wikipedia](https://en.wikipedia.org/wiki/Boolean_satisfiability_problem):\n",
    "\n",
    "> There is no known algorithm that efficiently solves each SAT problem, and it is generally believed that no such algorithm exists. [...] Nevertheless, as of 2007, heuristic SAT-algorithms are able to solve problem instances involving tens of thousands of variables and formulas consisting of millions of symbols, which is sufficient for many practical SAT problems from, e.g., artificial intelligence, circuit design, and automatic theorem proving."
   ]
  },
  {
   "cell_type": "markdown",
   "metadata": {},
   "source": [
    "### 3.2 Estimators\n",
    "\n",
    "Two estimators: $\\hat{\\theta}_1$ and $\\hat{\\theta}_2$. I have 100 data points. Guess which is closer to the true value, the first estimate or the second?\n",
    "\n",
    "You learn: $\\hat{\\theta}_1$ is asymptotically unbiased; $\\hat{\\theta}_2$ is not. In light of this, reassess the question.\n",
    "\n",
    "Or you learn: $\\hat{\\theta}_1$ is consistent; $\\hat{\\theta}_2$ isn't. In light of this, reassess the question.\n",
    "\n",
    "Being asymptotically unbiased and being consistent are long-run properties. Statisticians advise you to use estimators with these properties; these properties are taken to be virtues of estimators. Statisticians put their money on $\\hat{\\theta}_1$.\n",
    "\n",
    "Review of estimation theory. How can we estimate some unknown parameter $\\theta$, such as the bias of a coin, the average height of MIT students, or the half-life of a chemical? Here's a quick review of the frequentist approach, a standard approach in statistics.\n",
    "\n",
    "Design an experiment such that the distribution of the experimental outcome $X$ depends on $\\theta$. Example: flip the coin, so the experimental outcome $X$ is either 1 (heads) with probability $\\theta$ or 0 (tails) with probability $1-\\theta$. If we repeat the experiment $n$ times then the outcome is a sequence of random variables $X = (X_1, X_2, \\ldots, X_n)$. Example: flip the coin $n$ times. An *estimator* is a function of the outcome, that is, a random variable $\\hat{\\theta}_n = g(X)$, for some function $g$. Example: $\\hat{\\theta}_n = \\frac{X_1 + \\ldots + X_n}{n}$, the proportion of heads in $n$ flips. An *estimate* is a realized value of the estimator. Example: $\\frac{1+0+0+1+0}{5} = \\frac{2}{5}$.\n",
    "\t\n",
    "Given an estimator and the experimental outcome, you have your estimate. But which estimator to use? Here's a key property of an estimator:\n",
    "\t\n",
    "> The *bias* $b_{\\theta}(\\hat{\\theta})$ of the estimator $\\hat{\\theta}$ with respect to $\\theta$ is the expected difference between the estimator and $\\theta$, assuming the true value is $\\theta$:\n",
    "\t\n",
    "$$ b_{\\theta}(\\hat{\\theta}) \\text{  :=  } \\mathbf{E}_\\theta[\\hat{\\theta}_n] - \\theta $$\n",
    "\t\n",
    "Frequentists want good worst-case properties: they want the estimator to do well, no matter what $\\theta$ turns out to be. Here are some ways to spell out that out:\n",
    "\t\n",
    "> $\\hat{\\theta}$ is *unbiased* if $b_{\\theta}(\\hat{\\theta}) = 0$, for all $\\theta$.\n",
    "\n",
    "> $\\hat{\\theta}_n$ is *asymptotically unbiased* if $lim_{n\\to\\infty} b_{\\theta}(\\hat{\\theta}_n) = 0$, for all $\\theta$.\n",
    "\n",
    "> $\\hat{\\theta}$ is *consistent* if it tends in probability to $\\theta$, for all $\\theta$.\n",
    "\n",
    "How to choose an estimator? We have a partial answer: choose one which is consistent and unbiased, or at least asymptotically unbiased. Being aymptotically unbiased and consistent are long-run properties; being unbiased isn't a long-run property, but a typical justification (Laws of Large Numbers) for taking it to be a desirable property of an estimator is a long-run justification.\n",
    "\n",
    "Howson and Urbach don't see why we should care about long-run properties of an estimator. They'd flip a coin to decide between $\\hat{\\theta}_1$ and $\\hat{\\theta}_2$'s estimates. \n",
    "\n",
    "> [T]he idea that a consistent estimator becomes more accurate as the sample increases, and perfectly so in the limit, implies nothing at all about its accuracy on any particular occasion. Arguing for an estimator with this idea in mind would be like defending the use of a dirty measuring instrument on the grounds that if it were cleaner it would be better. (Howson and Urbach 2006)\n",
    "\n",
    "Stick with their metaphor. Two measuring instruments. Guess which measurement is closer to the true value, the first or the second? You learn: if the first instrument were cleaner, its measurement would be better; for all you know, the second instrument is unreliable no matter how clean. In light of this, reassess the question.\n",
    "\n",
    "Also. Don't Howson and Urbach themselves rely on long-run properties sometimes:\n",
    "\n",
    "> The Principle of Stable Estimation assures us that the relative independence of Bayesian estimates from the prior distributions, which we noted in our two examples, is not confined to priors belonging to particular families of distributions. The principle also tells us that provided the sample is sufficiently large, you do not need to describe the prior distribution with great accuracy or precision in order to arrive at a Bayesian estimate that \\emph{is} both accurate and precise. This answers the objection that is sometimes raised against Bayesian estimation that it can rarely get off the ground because of the practical difficulties of accurately ascertaining one's own or other people's prior belief distributions."
   ]
  },
  {
   "cell_type": "markdown",
   "metadata": {},
   "source": [
    "### 3.3 Nash equilibrium\n",
    "\n",
    "You and I are playing *Matching Pennies*. Each of us has a penny. We simultaneously put our pennies on the table: if they match (heads and heads, tails and tails) you win; if they don't (heads and tails, tails and heads) I win. Here's the payoff matrix:\n",
    "\n",
    "| $\\phantom{x}$\t| Heads \t| Tails \t|\n",
    "|-----------\t|:-----:\t|:-----:\t|\n",
    "| **Heads** \t|  1,0  \t|  0,1  \t|\n",
    "| **Tails** \t|  0,1  \t|  1,0  \t|\n",
    "\n",
    "Matching Pennies has a unique Nash equilibrium: each of us randomizes, choosing Heads with probability 1/2 and Tails with probability 1/2, giving each of us expected payoff 1/2.\n",
    "\n",
    "Why play the Nash equilibrium in Matching Pennies?\n",
    "\n",
    "In *Matching Pennies Redux*, we play Matching Pennies repeatedly. You have to stick with your strategy every time, but I don't. Suppose you play some non-Nash strategy, say Heads with probability 1/3 and Tails with probability 2/3, in Matching Pennies Redux. As we play, I learn about your strategy. The longer we play, the more I'll learn about it. For example, after we've played 100 times, you'll probably have played about 33 heads and 67 tails; seeing this, I'll be pretty confident that your strategy is approximately Heads with probability 1/3 and Tails with probability 2/3. (Of course, how long it takes for me to become confident depends on my prior over your strategies; but, except in extreme cases, it'll happen eventually.) I can change my strategy in light of what I learn. So eventually I'll choose a strategy which is a best response to your strategy. Since your strategy is not Nash, it's not a best response to mine. Your payoff is less than 1/2.\n",
    "\n",
    "Now suppose you play the Nash strategy in Matching Pennies Redux. As we play, I learn about your strategy, as before, and eventually I'll choose a strategy which is a best response to it. Since your strategy is Nash, it is a best response to mine. Your payoff is 1/2.\n",
    "\n",
    "The analysis of Matching Pennies Redux is loose: it's missing some *approximately*'s and *probably*'s. But it can be made precise. It might be used as a long-run justification for playing the Nash equilibrium in Matching Pennies and other games. This kind of long-run justification is in the air in some discussions of Nash equilibrium. Compare the long-run defences of decision rules below."
   ]
  },
  {
   "cell_type": "markdown",
   "metadata": {},
   "source": [
    "### 3.4 Sketch of other examples\n",
    "\n",
    "  - *Explanation.* Central Limit Theorem (rough): The sum of any iid random variables tends in distribution to the normal. The distribution of a sum of these 100 iid random variables is approximately normal. Does the CLT explain that?\n",
    "    \n",
    "    \n",
    "  - *Explanation again.* Washing-out Theorem (rough): As the amount of data tends to infinity, the posteriors of any two Bayesians converge. These two Bayesians had very different priors but have observed 100 data points and their posteriors are close. Does the Washing-out Theorem explain that? Howson and Urbach say no:\n",
    "\n",
    "> Since [the washing out theorems] deal only with the properties of the posterior probability function in the limit, as the amount of data increases to infinity, they say nothing at all about its character after any actual and hence finite amount of data; they are therefore incapable of acting in either a normative or an explanatory role. (Howson and Urbach 2006)\n",
    "\n",
    "  - *Inessential appeals to the long-run.* CK -> BI (rough): In any perfect information game, if there is common knowledge of rationality then the players play a backward induction solution. For no $n$ is it true that: in any perfect information game, if there is mutual knowledge of rationality to order $n$, then the players play a backward induction solution. \n",
    "  \n",
    "   But the long-run hypothesis---common knowledge of rationality---*isn't* actually required here, because: in any perfect information game, if there is mutual knowledge of rationality to the order of the depth of the game, then the players play a backward induction solution. The appeal to the long-run is *inessential*.\n",
    "   \n",
    "   Are other appeals to the long-run inessential?\n",
    "   \n",
    "   \n",
    "  - *Essentially long-run theories.* It's hopeless to divide finite sequences into the random and the non-random. It's fruitful to divide infinite sequences into the random and the non-random. The theory of random sequences is an *essentially long-run theory*, like complexity theory.\n",
    "  \n",
    "> The [task of defining random sequences] becomes clearer if one considers instead the set of all infinite binary strings, or sequences of bits. Although in real life applications we are bound to encounter only finite, albeit very long, strings, it is nevertheless worth considering this further idealization. (Volchan 2002)\n",
    "\n",
    "  - *Discontinuities at infinity.* Another interesting disconnect, along with SAT-solving, between long-run and short-run appears in epistemic game theory.\n",
    "  \n",
    "> [Epistemic game theory] has focused on the limiting case of common belief rather than on finite-order beliefs. [...] Interestingly, there are indications that studying these cases may be harder and can lead to quite different answers. Brandenburger and Friedenberg (2013) show that, for a given game, the implication of imposing rationality and $m$th-order belief in rationality, however large $m$ might be, can differ from the implication of imposing rationality and common belief in rationality. There is a 'discontinuity at infinity.' (Brandenburger 2014: xxii)\n",
    "\n",
    "  - *Computability theory*. Take an uncomputable function $f : N \\to N$. A function $g : N \\to N$ is a *finite approximation* of $f$ if for some $n$, $g(k) = f(k)$ for $k \\leq n$ and $g(k) = 0$ otherwise. Given that all finite approximations of $f$ are computable and in practice we could only compute the value of $f$ for finitely many arguments, why should we care in practice that $f$ is uncomputable?\n",
    "  \n",
    "  For a concrete example, compare the following problems: (i) given a sentence of first-order logic, return 1 if it’s satisfiable and 0 otherwise; and (ii) given a sentence of first-order logic, return 1 if it’s satisfiable and of length less than $10^{10^{10}}$, and 0 otherwise. The first is not solvable; the second is. In practice, you are only interested in solving the problem for sentences of length less than $10^{10^{10}}$. So why care in practice that the first problem is not solvable?"
   ]
  },
  {
   "cell_type": "markdown",
   "metadata": {},
   "source": [
    "## 4. Maximize Expected Value v. Maximize Expected Growth Rate"
   ]
  },
  {
   "cell_type": "markdown",
   "metadata": {},
   "source": [
    "### 4.1 Gambling problems"
   ]
  },
  {
   "cell_type": "markdown",
   "metadata": {},
   "source": [
    "A *gamble* is a bet with two outcomes: either you win, which happens with probability $p$, and get back what you bet plus $b$ times what you bet; or you lose, which happens with probability $1-p$, and lose what you bet. So a gamble is characterized by the *win probability* $p \\in [0,1]$ and the *payoff odds* $b:1$, where $b \\in \\mathbb{R}_{> 0}$. In a *gambling problem*, you have a bankroll of $r$ dollars and face a gamble, where you can bet any amount in $[0,r]$. We'll be concerned with the question, *How much should you bet in a gambling problem?*\n",
    "\n",
    "*Example 1:* A casino lets you bet on a coin toss. If it comes up heads, you win; if tails, you lose. The odds are 2:1. Your bankroll is 100 dollars. So if you bet, say, 50 dollars, either you'll win and have 200 dollars, which is double your initial bankroll, or lose and have 50 dollars, which is half your initial bankroll, with equal probability. How much should you bet?\n",
    "\n",
    "*Example 2:* A casino lets you bet on a die roll. If it comes up 1-4, you win; else, you lose. The odds are 1:1. Your bankroll is 100 dollars. So if you bet, say, 50 dollars, you'll win with probability 2/3 and have 150 dollars, which is one and a half times your initial bankroll, or lose with probability 1/3 and have 50 dollars, which is half your initial bankroll. How much should you bet?"
   ]
  },
  {
   "cell_type": "markdown",
   "metadata": {},
   "source": [
    "### 4.2 MEV's recommendation"
   ]
  },
  {
   "cell_type": "markdown",
   "metadata": {},
   "source": [
    "Fix a gamble with win probability $p$ and payoff odds $b:1$ and suppose your bankroll is $r$. The *expected value of betting m dollars* is $p \\cdot (r+bm) + (1-p) \\cdot (r-m)$. Maximize Expected Value (MEV) advises you to bet the amount $m$ which maximizes this quantity, i.e.\n",
    "\n",
    "$$ \\text{argmax}_{m \\in [0,r]} \\text{ } p \\cdot (r+bm) + (1-p) \\cdot (r-m) $$\n",
    "\n",
    "In Example 1 the expected value of betting $m$ dollars comes to $\\frac{1}{2} \\cdot (100+2m) + \\frac{1}{2} \\cdot (100-m)$, which is $100 + \\frac{1}{2}m$. In Example 2 the expected value of betting $m$ dollars is $\\frac{2}{3} \\cdot (100+m) + \\frac{1}{3} \\cdot (100-m)$, which is $100 + \\frac{1}{3}m$. In both examples, the more you bet the higher the expected value, so MEV recommends betting as much as you can, which here is 100 dollars, giving expected value 150 dollars in Example 1 and about 133 dollars in Example 2.\n",
    "\n",
    "You can graph expected value against amount bet in a variety of gambling problems using the sliders below."
   ]
  },
  {
   "cell_type": "code",
   "execution_count": 25,
   "metadata": {},
   "outputs": [
    {
     "data": {
      "application/vnd.jupyter.widget-view+json": {
       "model_id": "85af6fe51fc34aa2b99ff70a30b658fc",
       "version_major": 2,
       "version_minor": 0
      },
      "text/plain": [
       "interactive(children=(FloatSlider(value=2.0, description='odds', max=10.0, step=0.5), FloatSlider(value=0.5, d…"
      ]
     },
     "metadata": {},
     "output_type": "display_data"
    },
    {
     "data": {
      "text/plain": [
       "<function __main__.plotExpectedValue(odds=2, winProb=0.5)>"
      ]
     },
     "execution_count": 25,
     "metadata": {},
     "output_type": "execute_result"
    }
   ],
   "source": [
    "def plotExpectedValue(odds=2,winProb=.5):\n",
    "    \"\"\"Plots expected value against amount bet in a gambling problem.\"\"\"\n",
    "    plt.plot([100 + m*(winProb*(odds+1)-1) for m in range(101)])\n",
    "    plt.xlabel('amount bet ($)'); plt.ylabel('expected value ($)')\n",
    "    plt.show()\n",
    "    \n",
    "interact(plotExpectedValue,odds=(0,10,.5),winProb=(0,1.))"
   ]
  },
  {
   "cell_type": "markdown",
   "metadata": {},
   "source": [
    "The expected value of betting $m$ dollars equals $r + m(p(b+1)-1)$. So the graph of expected value against amount bet is a straight line with gradient $p(b+1)-1$ and $y$-intercept $r$. When $p(b+1)-1 > 0$, the line slopes up and MEV recommends betting your bankroll $r$, which has expected value $rp(b+1).$ When $p(b+1)-1 < 0$, the line slopes down and MEV recommends betting nothing, which has expected value $r$. When $p(b+1)-1 = 0$, the line is horizontal and MEV is indifferent about how much you bet, since all bets have expected value $r$."
   ]
  },
  {
   "cell_type": "markdown",
   "metadata": {},
   "source": [
    "### 4.3 MEGR's recommendation"
   ]
  },
  {
   "cell_type": "markdown",
   "metadata": {},
   "source": [
    "Fix a gamble with win probability $p$ and payoff odds $b:1$ and suppose your bankroll is $r$. The *expected growth rate of betting proportion $m$ of your bankroll* is $(1+bm)^p \\cdot (1-m)^{1-p}$. Maximize Expected Growth Rate (MEGR) advises you to bet the proportion $m$ which maximizes this quantity, i.e.\n",
    "\n",
    "$$ \\text{argmax}_{m \\in [0,1]} \\text{ } (1+bm)^p \\cdot (1-m)^{1-p} $$\n",
    "\n",
    "In Example 1 the expected growth rate of betting proportion $m$ of your bankroll comes to $(1+2m)^{0.5} \\cdot (1-m)^{0.5}$. As it happens, this is maximized over $m \\in [0,1]$ when $m=0.25$. So MEGR recommends betting a quarter of your bankroll, which here is 25 dollars, giving expected growth rate about 1.061. In Example 2 the expected growth rate of betting proportion $m$ comes to $(1+m)^{\\frac{2}{3}} \\cdot (1-m)^{\\frac{1}{3}}$. As it happens, this is maximized over $m \\in [0,1]$ when $m=\\frac{1}{3}$. So MEGR recommends betting a third of your bankroll, which here is about 33 dollars, giving expected growth rate about 1.058.\n",
    "\n",
    "MEGR is due to [John L. Kelly, Jr](https://en.wikipedia.org/wiki/John_Larry_Kelly_Jr.), a researcher at Bell Labs, in 1956. All the mathematical results about MEGR that follow are due to him or people building on his work. [This collection](https://www.amazon.com/KELLY-CAPITAL-GROWTH-INVESTMENT-CRITERION/dp/9814383139/ref=sr_1_fkmr1_1?ie=UTF8&qid=1534612364&sr=8-1-fkmr1&keywords=thorp+kelly+betting) describes the history of MEGR and contains the major papers.\n",
    "\n",
    "You can graph expected growth rate against bet proportion in a variety of gambling problems using the sliders below."
   ]
  },
  {
   "cell_type": "code",
   "execution_count": 26,
   "metadata": {},
   "outputs": [
    {
     "data": {
      "application/vnd.jupyter.widget-view+json": {
       "model_id": "8be72e6ae4304a88ade739fdd97521ea",
       "version_major": 2,
       "version_minor": 0
      },
      "text/plain": [
       "interactive(children=(FloatSlider(value=2.0, description='odds', max=10.0, step=0.5), FloatSlider(value=0.5, d…"
      ]
     },
     "metadata": {},
     "output_type": "display_data"
    },
    {
     "data": {
      "text/plain": [
       "<function __main__.plotExpectedGrowthRate(odds=2, winProb=0.5)>"
      ]
     },
     "execution_count": 26,
     "metadata": {},
     "output_type": "execute_result"
    }
   ],
   "source": [
    "def plotExpectedGrowthRate(odds=2,winProb=.5):\n",
    "    \"\"\"Plots expected growth rate against proportion bet in a gambling problem.\"\"\"\n",
    "    betProps = [i/100 for i in range(101)]\n",
    "    plt.plot(betProps,[(1+odds*m)**winProb * (1-m)**(1-winProb) for m in betProps])\n",
    "    plt.xlabel('proportion of bankroll'); plt.ylabel('expected growth rate')\n",
    "    plt.show()\n",
    "    \n",
    "interact(plotExpectedGrowthRate,odds=(0,10,.5),winProb=(0,1.))"
   ]
  },
  {
   "cell_type": "markdown",
   "metadata": {},
   "source": [
    "It turns out that there's an easy way to find the bet proportion which maximizes expected growth rate in a gambling problem. The *edge* of a gamble is the expected net winnings on a 1 dollar bet, which is $pb - (1-p)$. This is just the expected value of betting 1 dollar, but taking your initial bankroll as the baseline, rather than 0 dollars. In other words, it's the expected *change* in value of betting 1 dollar. The edge equals $p(b+1)-1$, which expression we saw earlier: it's the gradient of the line of expected value against amount bet.\n",
    "\n",
    "MEGR advises you to bet the proportion of your bankroll given by *edge over odds*:\n",
    "\n",
    "$$ \\frac{pb - (1-p)}{b} $$\n",
    "\n",
    "The odds of a gamble $b$ is the net winnings on a 1 dollar bet if you win. So yet another way to put MEGR's advice is to bet expected net winnings over net winnings if you win, on a 1 dollar bet. Or more simply, since the bet size will cancel out, expected net winnings over net winnings if you win.\n",
    "\n",
    "That's how I worked out what MEGR recommends in Examples 1 and 2. In Example 1 the edge is $\\frac{1}{2} \\cdot 2 - \\frac{1}{2} = \\frac{1}{2}$ and the odds are 2:1, so edge over odds is 0.25. In Example 2, the edge is $\\frac{2}{3} - \\frac{1}{3} = \\frac{1}{3}$ and the odds are 1:1, so edge over odds is $\\frac{1}{3}$.\n",
    "\n",
    "A corner case: when $p(b+1)-1 < 0$, the edge is negative, so edge over odds is negative. In that case, the proportion $m \\in [0,1]$ which maximizes expected growth rate is 0, so that's the proportion which MEGR recommends."
   ]
  },
  {
   "cell_type": "markdown",
   "metadata": {},
   "source": [
    "### 4.4 When do MEV and MEGR disagree?"
   ]
  },
  {
   "cell_type": "markdown",
   "metadata": {},
   "source": [
    "As we saw above, when $p(b+1)-1 < 0$, MEV and MEGR agree: they both recommend betting nothing. When $p(b+1)-1 = 0$, MEV is indifferent about how much you bet, and MEGR is not: it still recommends betting nothing. So here we have a mild disagreement. When $p(b+1)-1 > 0$, both MEV and MEGR recommend betting something: MEV recommends betting your bankroll (100 dollars in Examples 1 and 2); MEGR typically recommends betting something less than your bankroll (a quarter in Example 1 and a third in Example 2). So here we typically have a serious disagreement. When MEV and MEGR disagree, which, if either, is right?\n",
    "\n",
    "Note that MEV and MEGR parameterize your options differently. MEV sees your options as betting any *amount* $m \\in [0,r]$, where $r$ is your bankroll. MEGR sees your options as betting any *proportion* $m \\in [0,1]$ of your bankroll. But these are just two ways to parameterize the same set of options. It's a difference not in the represent*ed* but the represent*ation*. See Section 4.7 for further discussion."
   ]
  },
  {
   "cell_type": "markdown",
   "metadata": {},
   "source": [
    "### 4.5 How does MEV do in the long-run?"
   ]
  },
  {
   "cell_type": "markdown",
   "metadata": {},
   "source": [
    "Maximize Expected Value does best in the long-run. Let's unpack what that means.\n",
    "\n",
    "In a *horizontal gambling problem*, an infinite sequence of people $A_1$, $A_2$, $A_3$,... each face a gambling problem with win probability $p$, odds $b:1$ and bankroll $r$ in turn. Everyone has to bet the same amount.\n",
    "\n",
    "Take Example 1 above, where $p=\\frac{1}{2}$, $b=2$ and $r$ is 100 dollars. Suppose everyone bets $m$ dollars, for some $m \\in [0,100]$. What will happen? Here's one way things might go. First, $A_1$ bets and wins, say, giving her $100 + 2m$ dollars. That is her bankroll after betting. Then $A_2$ bets and loses, say, giving her $100-m$ dollars. The bankrolls of $A_1$ and $A_2$ after betting total $200 + m$ dollars. Then $A_3$ bets and wins, say, giving her $100 + 2m$ dollars. The bankrolls of $A_1$, $A_2$, $A_3$ after betting total $300 + 3m$ dollars. And so on. We're interested in the bettors' total bankroll after betting, as more and more people bet.\n",
    "\n",
    "It turns out that it's more convenient to proceed indirectly, by looking not at the bettors' *total* bankroll $t$ but at their *average* bankroll $\\frac{t}{n}$, where $n$ is the number of people who have bet. Given $n$, the two come to the same thing: either determines the other. The higher the total, the higher the average; the higher the average, the higher the total. Looking at the average bankroll rather than total bankroll happens to be more convenient, because the average bankroll is bounded and the total bankroll isn't. But the change is just a change in point of view. It's like changing the scale in which we measure the total bankroll. See Section 4.7 for further discussion. \n",
    "\n",
    "In general, each time someone wins, her resulting bankroll is $r+bm$ dollars and each time someone loses, her resulting bankroll is $r-m$ dollars. So if $A_1$, ..., $A_n$ bet and exactly $k$ of them win, then their total bankroll is:\n",
    "\n",
    "$$ k \\cdot (r + bm) + (n-k) \\cdot (r-m)$$\n",
    "\n",
    "And their average bankroll is:\n",
    "\n",
    "$$ r + \\frac{k}{n} bm - \\frac{n-k}{n} m $$\n",
    "\n",
    "You can evaluate these expressions, the total bankroll and average bankroll after $k$ wins in $n$ bets, for different values for $n$, $k$, $b$, and $m$ using the sliders below. It assumes the initial bankroll $r$ is 100 dollars."
   ]
  },
  {
   "cell_type": "code",
   "execution_count": 27,
   "metadata": {},
   "outputs": [
    {
     "data": {
      "application/vnd.jupyter.widget-view+json": {
       "model_id": "bd042aa5e1b74c94a7769459efb64579",
       "version_major": 2,
       "version_minor": 0
      },
      "text/plain": [
       "interactive(children=(IntSlider(value=50, description='n', min=1), IntSlider(value=50, description='k'), Float…"
      ]
     },
     "metadata": {},
     "output_type": "display_data"
    },
    {
     "data": {
      "text/plain": [
       "<function __main__.displayHorizontalStuff(n, k, odds, betAmount)>"
      ]
     },
     "execution_count": 27,
     "metadata": {},
     "output_type": "execute_result"
    }
   ],
   "source": [
    "def horizontalBankrollTotal(n,k,odds,betAmount,initialBankroll=1):\n",
    "    \"\"\"Finds total bankroll after k wins in n horizontal rounds.\"\"\"\n",
    "    return k*(initialBankroll+odds*betAmount) + (n-k)*(initialBankroll-betAmount)\n",
    "\n",
    "def horizontalBankrollAverage(n,k,odds,betAmount,initialBankroll=1):\n",
    "    \"\"\"Finds average bankroll after k wins in n horizontal rounds.\"\"\"\n",
    "    return (k*(initialBankroll+odds*betAmount) + (n-k)*(initialBankroll-betAmount)) / n\n",
    "\n",
    "def displayHorizontalStuff(n,k,odds,betAmount):\n",
    "    \"\"\"Prints formatted bankroll after k wins in n horizontal rounds.\"\"\"\n",
    "    if k > n:\n",
    "        print(\"That doesn't make sense: number of wins > number of bets!\")\n",
    "    else:\n",
    "        total = horizontalBankrollTotal(n,k,odds,betAmount,100)\n",
    "        roundedTotal = int(np.around(total))\n",
    "        average = horizontalBankrollAverage(n,k,odds,betAmount,100)\n",
    "        roundedAverage = int(np.around(average))\n",
    "        print('Total bankroll is {} dollars (to nearest dollar).'.format(roundedTotal))\n",
    "        print('Average bankroll is {} dollars (to nearest dollar).'.format(roundedAverage))\n",
    "        \n",
    "interact(displayHorizontalStuff,n=(1,100),k=(0,100),odds=(0,10,0.5),betAmount=(0,100))"
   ]
  },
  {
   "cell_type": "markdown",
   "metadata": {},
   "source": [
    "How the bettors' average bankroll changes as more and more people bet is a chancy matter, since the outcome of each bet is chancy. You can plot how things might go for a few different choices of bet amount using the sliders below. Whenever you move a slider, a fresh sequence of bets is simulated and it plots the average bankroll against the number of bettors for each choice of bet amount. It assumes the initial bankroll $r$ is 100 dollars."
   ]
  },
  {
   "cell_type": "code",
   "execution_count": 28,
   "metadata": {},
   "outputs": [
    {
     "data": {
      "application/vnd.jupyter.widget-view+json": {
       "model_id": "7359242b4c4a4c5f91bc9e6942ba0226",
       "version_major": 2,
       "version_minor": 0
      },
      "text/plain": [
       "interactive(children=(FloatSlider(value=5.0, description='odds', max=10.0, step=0.5), FloatSlider(value=0.5, d…"
      ]
     },
     "metadata": {},
     "output_type": "display_data"
    },
    {
     "data": {
      "text/plain": [
       "<function __main__.plotFourHorizontalBankrolls(odds, winProbability, numRounds, betAmount0=0, betAmount1=40, betAmount2=80, betAmount3=100, initialBankroll=1)>"
      ]
     },
     "execution_count": 28,
     "metadata": {},
     "output_type": "execute_result"
    }
   ],
   "source": [
    "def plotFourHorizontalBankrolls(odds,winProbability,numRounds,betAmount0=0,betAmount1=40,\n",
    "                                betAmount2=80,betAmount3=100,initialBankroll=1):\n",
    "    \"\"\"Plots simulation of four average bankrolls over n rounds for given bet amounts.\"\"\"\n",
    "    cumWins = np.cumsum(np.random.random(numRounds) < winProbability)\n",
    "    betAmounts = [betAmount0,betAmount1,betAmount2,betAmount3]\n",
    "    for betAmount in betAmounts:\n",
    "        bankrolls = [initialBankroll] + [horizontalBankrollAverage(numRounds,numWins,odds,betAmount,initialBankroll) \\\n",
    "         for (numRounds,numWins) in enumerate(cumWins,start=1)]\n",
    "        label = 'bet amount: ${}'.format(betAmount)\n",
    "        plt.plot(range(numRounds+1),bankrolls,label=label)\n",
    "    plt.xlabel('number of people who have bet'); plt.ylabel('average bankroll ($)')\n",
    "    plt.title(\"Simulation of how the bettors' average bankroll \\n might change as more and more people bet.\")\n",
    "    plt.legend()\n",
    "    plt.show()\n",
    "    \n",
    "interact(plotFourHorizontalBankrolls,odds=(0,10,0.5),winProbability=(0,1.),\n",
    "         betAmount0=(0,100),betAmount1=(0,100),betAmount2=(0,100),betAmount3=(0,100),\n",
    "         numRounds=(1,100),initialBankroll=fixed(100))"
   ]
  },
  {
   "cell_type": "markdown",
   "metadata": {},
   "source": [
    "You'll notice that for bet amount $m$ the average bankroll is always within $100-m$ and $100+bm$. That's because each bettors' bankroll is within that range, so their average bankroll is too.\n",
    "\n",
    "Try fixing the odds and win probability, and seeing what happens for a few different bet amounts, including the MEV amount, as more and more people bet. For example, set $p=0.5$ and $b=2$ and see what happens for a few different bet amounts, including the MEV amount of 100 dollars, as more and more people bet. The simulations suggest that betting the MEV amount tends eventually to lead to the highest average bankroll.\n",
    "\n",
    "In fact, the simulations suggest something stronger: that as more and more people bet, their average bankroll tends to stabilize around the expected value. For example, if $p = \\frac{1}{2}$, $b=2$ and everyone bets 100 dollars, then the average bankroll after 100 people have bet tends to be around 150 dollars, which is the expected value. You can experiment with other values of $p$, $b$ and bet amounts.\n",
    "\n",
    "The Weak Law of Large Numbers confirms what the simulations suggest. It tells us that:\n",
    "\n",
    "> As more and more people bet, the probability that the number of wins $k$ over the number of people $n$ is within $\\epsilon$ of the win probability $p$ tends to 1, for any $\\epsilon > 0$.\n",
    "\n",
    "Recall that the average bankroll after $k$ wins in $n$ bets is:\n",
    "\n",
    "$$ \\frac{k}{n} \\cdot (r+bm) + \\frac{n-k}{n} \\cdot (r-m) $$\n",
    "\n",
    "Define a function $g(x) = x \\cdot (r+bm) + (1-x) \\cdot (r-m)$. Note that $g$ is continuous, $g(\\frac{k}{n})$ is the average bankroll after $k$ wins in $n$ bets, and $g(p)$ is the expected value of betting $m$ dollars. So the Weak Law implies that:\n",
    "\n",
    "> As more and more people bet, the probability that the average bankroll is within $\\epsilon$ of the expected value tends to 1, for any $\\epsilon > 0$.\n",
    "\n",
    "You can convince yourself that this is true by crunching some numbers. We know that the bettors' average bankroll is chancy: it might be this or that or the other. Let's look at its probability distribution: for each value it might be, what is the probability it is that value? You can plot the distribution below for different values of the parameters. It assumes the initial bankroll is 100 dollars."
   ]
  },
  {
   "cell_type": "code",
   "execution_count": 29,
   "metadata": {},
   "outputs": [
    {
     "data": {
      "application/vnd.jupyter.widget-view+json": {
       "model_id": "dd68bd050f2e44309bc4ebba8d9e545a",
       "version_major": 2,
       "version_minor": 0
      },
      "text/plain": [
       "interactive(children=(FloatSlider(value=5.0, description='odds', max=10.0, step=0.5), FloatSlider(value=0.5, d…"
      ]
     },
     "metadata": {},
     "output_type": "display_data"
    },
    {
     "data": {
      "text/plain": [
       "<function __main__.plotHorizontalBankrollDistribution(odds, winProbability, numRounds, betAmount, initialBankroll=1)>"
      ]
     },
     "execution_count": 29,
     "metadata": {},
     "output_type": "execute_result"
    }
   ],
   "source": [
    "def bd(n,m,p):\n",
    "    return binom(n,m)*(p**m)*(1-p)**(n-m)\n",
    "\n",
    "def horizontalBankrollDistribution(odds,winProbability,numRounds,betAmount,initialBankroll=1):\n",
    "    \"\"\"Finds distribution of bankroll after n horizontal rounds.\"\"\"\n",
    "    df = pd.DataFrame([[bd(numRounds,k,winProbability),\n",
    "        horizontalBankrollAverage(numRounds,k,odds,betAmount,initialBankroll)] for k in range(numRounds+1)])\n",
    "    df = df.groupby(1)[0].apply(np.sum)\n",
    "    df = df.to_frame().reset_index()\n",
    "    df.columns = ['value','probability']\n",
    "    return df\n",
    "\n",
    "def plotHorizontalBankrollDistribution(odds,winProbability,numRounds,betAmount,initialBankroll=1):\n",
    "    \"\"\"Plots distribution of bankroll after n horizontal rounds.\"\"\"\n",
    "    pmf = horizontalBankrollDistribution(odds,winProbability,numRounds,betAmount,initialBankroll)\n",
    "    plt.plot(pmf['value'],pmf['probability'],'o')\n",
    "    plt.xlabel('average bankroll ($)'); plt.ylabel('probability')\n",
    "    plt.title(\"\"\"Probability distribution of average bankroll after \n",
    "    {} people have each bet {} dollars.\"\"\".format(numRounds,betAmount))\n",
    "    plt.show()\n",
    "    \n",
    "interact(plotHorizontalBankrollDistribution,odds=(0,10,0.5),winProbability=(0,1.),numRounds=(1,100),\n",
    "        betAmount=(0,100),initialBankroll=fixed(100))"
   ]
  },
  {
   "cell_type": "markdown",
   "metadata": {},
   "source": [
    "The distributions bear out what the Weak Law implies: that as more and more people bet, the probability that their average bankroll is within $\\epsilon$ of the expected value tends to 1, for any $\\epsilon > 0$. Let's plot those probabilities directly."
   ]
  },
  {
   "cell_type": "code",
   "execution_count": 30,
   "metadata": {},
   "outputs": [
    {
     "data": {
      "application/vnd.jupyter.widget-view+json": {
       "model_id": "21c912c09bae4a3487a4cc3c3ebe85d0",
       "version_major": 2,
       "version_minor": 0
      },
      "text/plain": [
       "interactive(children=(IntSlider(value=20, description='e', max=30, min=5, step=5), FloatSlider(value=2.0, desc…"
      ]
     },
     "metadata": {},
     "output_type": "display_data"
    },
    {
     "data": {
      "text/plain": [
       "<function __main__.plotProbHorizontalClose(e=20, odds=2, winProb=0.5, betAmount=50, initialBankroll=1)>"
      ]
     },
     "execution_count": 30,
     "metadata": {},
     "output_type": "execute_result"
    }
   ],
   "source": [
    "def g(x,odds,betAmount,initialBankroll=1):\n",
    "    \"\"\"Returns average bankroll when #wins/#bets = x.\"\"\"\n",
    "    return x*(initialBankroll+odds*betAmount) + (1-x)*(initialBankroll-betAmount)\n",
    "\n",
    "def probHorizontalClose(n,e,odds,winProb,betAmount,initialBankroll=1):\n",
    "    \"\"\"Computes probability that average bankroll is within e of expected value after n bets.\"\"\"\n",
    "    expectedValue = g(winProb,odds,betAmount,initialBankroll)\n",
    "    closeValues = np.absolute(np.array([g(i/n,odds,betAmount,initialBankroll) for i in range(n+1)]) - \n",
    "                                expectedValue) < e\n",
    "    return np.where(closeValues,\n",
    "             [bd(n,i,winProb) for i in range(0,n+1)],\n",
    "             np.zeros(n+1)).sum()\n",
    "\n",
    "def plotProbHorizontalClose(e=20,odds=2,winProb=.5,betAmount=50,initialBankroll=1):\n",
    "    \"\"\"Plots probability that average bankroll is close to expected value against number of bets.\"\"\"\n",
    "    plt.plot(range(1,101),[probHorizontalClose(i,e,odds,winProb,betAmount,initialBankroll) for i in range(1,101)])\n",
    "    plt.ylabel('probability'); plt.xlabel('number of people who have bet')\n",
    "    plt.title('Probability that average bankroll is within {} of expected bankroll.'.format(e))\n",
    "    plt.show()\n",
    "\n",
    "interact(plotProbHorizontalClose,e=(5,30,5),odds=(0,10,.5),winProb=(0,1.),betAmount=(0,100),initialBankroll=fixed(100))"
   ]
  },
  {
   "cell_type": "markdown",
   "metadata": {},
   "source": [
    "A key consequence: because as more and more people bet their average bankroll tends to stabilize around the expected value, people who bet the amount which maximizes expected value eventually tend to be ahead of people who don't.\n",
    "\n",
    "Imagine two groups of people facing a horizontal gambling problem: one group bets the amount recommended by MEV; the other bets another amount. For any $\\delta > 0$, there exists an $N$ such that for all $n>N$ the probability that $n$ MEV-bettors are ahead of $n$ rival bettors is at least $1-\\delta$.\n",
    "\n",
    "You can investigate this graphically using the sliders below."
   ]
  },
  {
   "cell_type": "code",
   "execution_count": 40,
   "metadata": {},
   "outputs": [
    {
     "data": {
      "application/vnd.jupyter.widget-view+json": {
       "model_id": "1e9e61ee1f8d474cac4448ede1f0a7c4",
       "version_major": 2,
       "version_minor": 0
      },
      "text/plain": [
       "interactive(children=(FloatSlider(value=5.0, description='odds', max=10.0, step=0.5), FloatSlider(value=0.5, d…"
      ]
     },
     "metadata": {},
     "output_type": "display_data"
    },
    {
     "data": {
      "text/plain": [
       "<function __main__.plotHorizontalProbabilityAhead(odds, winProbability, numRounds, betAmount1, betAmount2)>"
      ]
     },
     "execution_count": 40,
     "metadata": {},
     "output_type": "execute_result"
    }
   ],
   "source": [
    "def horizontalProbabilityAhead(odds,winProbability,numRounds,betAmount1,betAmount2):\n",
    "    \"\"\"Finds P(X>Y), where X and Y are two groups' average bankrolls after n rounds.\"\"\"\n",
    "    # can't use horizontalBankrollDistribution, since it groups equal bankrolls and we need to keep them separate\n",
    "    # initial bankroll doesn't matter: we set it to 1\n",
    "    bankrolls1 = np.array([horizontalBankrollAverage(numRounds,k,odds,betAmount1,1) for k in range(numRounds+1)])\n",
    "    bankrolls2 = np.array([horizontalBankrollAverage(numRounds,k,odds,betAmount2,1) for k in range(numRounds+1)])\n",
    "    bprobs = np.array([bd(numRounds,k,winProbability) for k in range(numRounds+1)])\n",
    "    return np.where(bankrolls1 > bankrolls2,bprobs,np.zeros(numRounds+1)).sum()    \n",
    "\n",
    "def plotHorizontalProbabilityAhead(odds,winProbability,numRounds,betAmount1,betAmount2):\n",
    "    \"\"\"Plots P(X>Y), where X and Y are average bankrolls, against number of people who have bet.\"\"\"\n",
    "    probabilitiesAhead = [horizontalProbabilityAhead(odds,winProbability,k,betAmount1,betAmount2) \\\n",
    "                          for k in range(1,numRounds+1)]\n",
    "    plt.plot(range(1,numRounds+1),probabilitiesAhead)\n",
    "    plt.xlabel('number of people who have bet'); plt.ylabel('probability ahead')\n",
    "    plt.title(\"\"\"probability that the average bankroll of people who bet \\n {} dollars\\\n",
    " is greater than people who bet {} dollars\"\"\".format(betAmount1,betAmount2))\n",
    "    plt.show()\n",
    "\n",
    "interact(plotHorizontalProbabilityAhead,odds=(0,10,.5),winProbability=(0,1.),numRounds=(1,100),\n",
    "         betAmount1=(0,100),betAmount2=(0,100))"
   ]
  },
  {
   "cell_type": "markdown",
   "metadata": {},
   "source": [
    "Our original question was *How much should you bet in a gambling problem?* MEV's advice is to bet the amount which maximizes expected value. MEV can be defended by pointing out that *it does best in the horizontal long-run:* people who bet the amount which maximizes expected value eventually tend to be ahead of people who don't."
   ]
  },
  {
   "cell_type": "markdown",
   "metadata": {},
   "source": [
    "### 4.6 How does MEGR do in the long-run?"
   ]
  },
  {
   "cell_type": "markdown",
   "metadata": {},
   "source": [
    "MEGR does best in the long-run. Let's unpack what that means.\n",
    "\n",
    "In a *vertical gambling problem*, you face a gambling problem with win probability $p$ and odds $b$:1 each day. Your bankroll before betting on Day 1 is $r$. And it rolls over: your bankroll before betting on Day $n+1$ is whatever your bankroll after betting is on Day $n$. You have to bet the same proportion of your bankroll each day.\n",
    "\n",
    "Take Example 1 above, where $p=\\frac{1}{2}$, $b=2$ and $r$ is 100 dollars. Suppose each day you bet proportion $m$, for some $m \\in [0,1]$. What will happen? Here's one way things might go. On Day 1, you bet and win, say. You now have $100(1+bm)$ dollars. (Why? Because you had 100 dollars, bet $100m$ dollars, and got back your bet plus $b$ times your bet.) On Day 2, you bet and lose, say. You now have $100(1+bm)(1-m)$ dollars. (Why? Because you had $100(1+bm)$ dollars, bet $100(1+bm)m$ dollars, and lost it.) On Day 3, you bet and win, say. You now have $100(1+bm)(1-m)(1+bm)$ dollars. (Why? Because you had $100(1+bm)(1-m)$ dollars, bet $100(1+bm)(1-m)m$ dollars and got back your bet plus $b$ times your bet.) And so on. We're interested in your final bankroll as you bet more and more times. \n",
    "\n",
    "It turns out that it's more convenient to proceed indirectly, by looking not at your final bankroll but at your bankroll's *growth rate*. What's that? Well, if your final bankroll after betting $n$ times with initial bankroll $r$ is $f$, then your bankroll's growth rate is $g = \\sqrt[n]{\\frac{f}{r}}$. If you multiply your initial bankroll $r$ by the growth rate $g$ each day $n$ times, once for each time you bet, then you get your final bankroll.\n",
    "\n",
    "$$ r \\cdot g^n = r \\cdot \\frac{f}{r} = f $$\n",
    "\n",
    "The growth rate, then, may be viewed as the rate of compound daily interest required to yield $f$ from $r$ in $n$ days. \n",
    "\n",
    "Given your initial bankroll $r$ and the number of bets $n$, your final bankroll comes to the same thing as the growth rate: either determines the other. Given $f$, we have $g = \\sqrt[n]{\\frac{f}{r}}$; and given $g$, we have $f = r \\cdot g^n$. The higher the final bankroll, the higher the growth rate; the higher the growth rate, the higher the final bankroll. Looking at growth rate rather than final bankroll happens to be more convenient, because the growth rate is bounded and the final bankroll isn't. But the change is just a change in point of view. It's a bit like changing the scale in which we measure your final bankroll. See Section 4.7 for further discussion.\n",
    "\n",
    "Each time you win in a vertical gambling problem, you multiply your bankroll by $(1+bm)$ and each time you lose, you multiply your bankroll by $(1-m)$. So if your initial bankroll is $r$ dollars, you bet $n$ times and win $k$ times, your final bankroll is:\n",
    "\n",
    "$$ r \\cdot (1+bm)^k \\cdot (1-m)^{n-k} $$\n",
    "\n",
    "And the growth rate is:\n",
    "\n",
    "$$ (1+bm)^{\\frac{k}{n}} \\cdot (1-m)^{\\frac{n-k}{n}} $$\n",
    "\n",
    "You can evaluate these two expressions, your final bankroll and the growth rate after $k$ wins in $n$ bets, for different values for $n$, $k$, $b$, and $m$ using the sliders below. When calculating your final bankroll, we assume your initial bankroll $r$ is 100 dollars."
   ]
  },
  {
   "cell_type": "code",
   "execution_count": 32,
   "metadata": {},
   "outputs": [
    {
     "data": {
      "application/vnd.jupyter.widget-view+json": {
       "model_id": "a6811cd26f074012ab89b31a4581f609",
       "version_major": 2,
       "version_minor": 0
      },
      "text/plain": [
       "interactive(children=(IntSlider(value=50, description='n', min=1), IntSlider(value=30, description='k'), Float…"
      ]
     },
     "metadata": {},
     "output_type": "display_data"
    },
    {
     "data": {
      "text/plain": [
       "<function __main__.displayVerticalStuff(n=50, k=30, odds=2, betProp=0.5)>"
      ]
     },
     "execution_count": 32,
     "metadata": {},
     "output_type": "execute_result"
    }
   ],
   "source": [
    "def verticalBankrollFinal(n,k,odds,betProp,initialBankroll=1):\n",
    "    \"\"\"Finds final bankroll after k wins in n vertical rounds.\"\"\"\n",
    "    return initialBankroll * (1+odds*betProp)**k * (1-betProp)**(n-k)\n",
    "\n",
    "def verticalBankrollGrowthRate(n,k,odds,betProp):\n",
    "    \"\"\"Finds bankroll growth rate after k wins in n vertical rounds.\"\"\"\n",
    "    return ((1+odds*betProp)**k * (1-betProp)**(n-k))**(1/n)\n",
    "\n",
    "def displayVerticalStuff(n=50,k=30,odds=2,betProp=.5):\n",
    "    \"\"\"Returns bankroll after k wins in n vertical rounds.\"\"\"\n",
    "    if k > n:\n",
    "        print(\"That doesn't make sense: number of wins > number of bets!\")\n",
    "    else:\n",
    "        final = verticalBankrollFinal(n,k,odds,betProp,100)\n",
    "        roundedFinal = int(np.around(final))\n",
    "        growthRate = verticalBankrollGrowthRate(n,k,odds,betProp)\n",
    "        roundedGrowthRate = np.around(growthRate,2)\n",
    "        print('Final bankroll is {} dollars (to nearest dollar).'.format(roundedFinal))\n",
    "        print('Bankroll growth rate is {} (to 2 decimal places).'.format(roundedGrowthRate))\n",
    "        \n",
    "interact(displayVerticalStuff,n=(1,100),k=(0,100),odds=(0,10,0.5),betProp=(0,1,0.05))"
   ]
  },
  {
   "cell_type": "markdown",
   "metadata": {},
   "source": [
    "How your growth rate changes as you bet more and more times is a chancy matter, since the outcome of each bet is chancy. You can plot how things might go for a few different choices of bet proportion using the sliders below. Whenever you move a slider, a fresh sequence of bets is simulated and it plots the growth rate against the number of bets for each choice of bet proportion."
   ]
  },
  {
   "cell_type": "code",
   "execution_count": 33,
   "metadata": {},
   "outputs": [
    {
     "data": {
      "application/vnd.jupyter.widget-view+json": {
       "model_id": "6d9cf2be66f5470fab535e396eeae8a8",
       "version_major": 2,
       "version_minor": 0
      },
      "text/plain": [
       "interactive(children=(FloatSlider(value=5.0, description='odds', max=10.0, step=0.5), FloatSlider(value=0.5, d…"
      ]
     },
     "metadata": {},
     "output_type": "display_data"
    },
    {
     "data": {
      "text/plain": [
       "<function __main__.plotFourVerticalGrowthRates(odds, winProbability, numRounds, betProp0=0.0, betProp1=0.4, betProp2=0.8, betProp3=1.0)>"
      ]
     },
     "execution_count": 33,
     "metadata": {},
     "output_type": "execute_result"
    }
   ],
   "source": [
    "def plotFourVerticalGrowthRates(odds,winProbability,numRounds,betProp0=0.,betProp1=.4,\n",
    "                             betProp2=.8,betProp3=1.):\n",
    "    \"\"\"Plots simulation of four growth rates after n rounds for given bet proportions.\"\"\"\n",
    "    cumWins = np.cumsum(np.random.random(numRounds) < winProbability)\n",
    "    betProps = [betProp0,betProp1,betProp2,betProp3]\n",
    "    for betProp in betProps:\n",
    "        growthRates = [verticalBankrollGrowthRate(numRounds,numWins,odds,betProp) \\\n",
    "         for (numRounds,numWins) in enumerate(cumWins,start=1)]\n",
    "        label = 'bet proportion: {}'.format(betProp)\n",
    "        plt.plot(range(1,numRounds+1),growthRates,label=label)\n",
    "    plt.xlabel('number of times you have bet'); plt.ylabel('growth rate')\n",
    "    plt.legend()\n",
    "    plt.show()\n",
    "    \n",
    "interact(plotFourVerticalGrowthRates,odds=(0,10,0.5),winProbability=(0,1.),\n",
    "         betProp0=(0,1,0.05),betProp1=(0,1,0.05),betProp2=(0,1,0.05),betProp3=(0,1,0.05),\n",
    "         numRounds=(1,100))"
   ]
  },
  {
   "cell_type": "markdown",
   "metadata": {},
   "source": [
    "You'll notice that if you bet proportion $m$ the growth rate is always between $1-m$ and $1+bm$. To see why, look back at the definition of the growth rate: if you always lose the growth rate is $1-m$, if you always win the growth rate is $1+bm$, and if you lose some times and win other times the growth rate is between the two.\n",
    "\n",
    "Try fixing the odds and win probability, and seeing what happens for a few different bet proportions, including the MEGR proportion, as the you bet more and more often. For example, set $p=0.5$ and $b=2$ and see what happens for a few different bet proportions, including the MEGR proportion of 0.25, as you bet more and more often. You'll see that betting the MEGR proportion tends eventually to lead to the highest growth rate.\n",
    "\n",
    "In fact, the simulations suggest something stronger: that as you bet more and more often, your growth rate tends to stabilize around the expected growth rate. For example, if $p = \\frac{1}{2}$, $b=2$ and you bet a quarter of your bankroll, then the growth rate after you have bet 100 times tends to be around 1.061, which is the expected growth rate. You can experiment with other values of $p$, $b$ and bet proportions.\n",
    "\n",
    "The Weak Law of Large Numbers confirms what the simulations suggest. It tells us that:\n",
    "\n",
    "> As you bet more and more often, the probability that the number of wins $k$ over the number of bets $n$ is within $\\epsilon$ of the win probability $p$ tends to 1, for any $\\epsilon > 0$.\n",
    "\n",
    "Recall that the growth rate after $k$ wins in $n$ bets is:\n",
    "\n",
    "$$ (1+bm)^{\\frac{k}{n}} \\cdot (1-m)^{\\frac{n-k}{n}} $$\n",
    "\n",
    "Define a function $g(x) = (1+bm)^x \\cdot (1-m)^{1-x}$. Note that $g$ is continuous, $g(\\frac{k}{n})$ is the growth rate after $k$ wins in $n$ bets, and $g(p)$ is the expected growth rate of betting proportion $m$. So the Weak Law implies that:\n",
    "\n",
    "> As you bet more and more often, the probability that the growth rate is within $\\epsilon$ of the expected growth rate tends to 1, for any $\\epsilon > 0$.\n",
    "\n",
    "You can convince yourself that this is true by crunching some numbers. We know that the growth rate is chancy: it might be this or that or the other. Let's look at its probability distribution: for each value it might be, what is the probability it is that value? You can plot the distribution below for different values of the parameters."
   ]
  },
  {
   "cell_type": "code",
   "execution_count": 38,
   "metadata": {},
   "outputs": [
    {
     "data": {
      "application/vnd.jupyter.widget-view+json": {
       "model_id": "3c65c379e62b4d6a96be8fb5b20d9c7e",
       "version_major": 2,
       "version_minor": 0
      },
      "text/plain": [
       "interactive(children=(FloatSlider(value=5.0, description='odds', max=10.0, step=0.5), FloatSlider(value=0.5, d…"
      ]
     },
     "metadata": {},
     "output_type": "display_data"
    },
    {
     "data": {
      "text/plain": [
       "<function __main__.plotVerticalGrowthRateDistribution(odds, winProbability, numRounds, betProp)>"
      ]
     },
     "execution_count": 38,
     "metadata": {},
     "output_type": "execute_result"
    }
   ],
   "source": [
    "def verticalGrowthRateDistribution(odds,winProbability,numRounds,betProp):\n",
    "    \"\"\"Finds distribution of growth rate of bankroll after n vertical rounds.\"\"\"\n",
    "    df = pd.DataFrame([[bd(numRounds,k,winProbability),\n",
    "        verticalBankrollGrowthRate(numRounds,k,odds,betProp)] for k in range(numRounds+1)])\n",
    "    df = df.groupby(1)[0].apply(np.sum)\n",
    "    df = df.to_frame().reset_index()\n",
    "    df.columns = ['value','probability']\n",
    "    return df\n",
    "\n",
    "def plotVerticalGrowthRateDistribution(odds,winProbability,numRounds,betProp):\n",
    "    \"\"\"Plots distribution of bankroll growth after n vertical rounds.\"\"\"\n",
    "    pmf = verticalGrowthRateDistribution(odds,winProbability,numRounds,betProp)\n",
    "    plt.plot(pmf['value'],pmf['probability'],'o')\n",
    "    plt.xlabel('growth rate'); plt.ylabel('probability')\n",
    "    plt.title(\"\"\"Probability distribution of growth rate\n",
    "    after you bet {} times at proportion {}.\"\"\".format(numRounds,betProp))\n",
    "    plt.show()\n",
    "    \n",
    "interact(plotVerticalGrowthRateDistribution,odds=(0,10,0.5),winProbability=(0,1.),numRounds=(1,100),\n",
    "        betProp=(0,1.,.05))"
   ]
  },
  {
   "cell_type": "markdown",
   "metadata": {},
   "source": [
    "The distributions bear out what the Weak Law implies: that as you bet more and more often, the probability that your growth rate is within $\\epsilon$ of the expected growth rate tends to 1, for any $\\epsilon > 0$. Let's plot those probabilities directly."
   ]
  },
  {
   "cell_type": "code",
   "execution_count": 35,
   "metadata": {},
   "outputs": [
    {
     "data": {
      "application/vnd.jupyter.widget-view+json": {
       "model_id": "81ed8919bd6e4a41bdbe877e2454aa13",
       "version_major": 2,
       "version_minor": 0
      },
      "text/plain": [
       "interactive(children=(FloatSlider(value=0.2, description='e', max=1.0, step=0.05), FloatSlider(value=2.0, desc…"
      ]
     },
     "metadata": {},
     "output_type": "display_data"
    },
    {
     "data": {
      "text/plain": [
       "<function __main__.plotProbVerticalClose(e=0.2, odds=2, winProb=0.5, betProp=0.25)>"
      ]
     },
     "execution_count": 35,
     "metadata": {},
     "output_type": "execute_result"
    }
   ],
   "source": [
    "def h(x,odds,betProp):\n",
    "    \"\"\"Returns growth rate when #wins/#bets = x.\"\"\"\n",
    "    return (1+odds*betProp)**x * (1-betProp)**(1-x)\n",
    "\n",
    "def probVerticalClose(n,e,odds,winProb,betProp):\n",
    "    \"\"\"Computes probability that growth rate is within e of expected growth rate after n bets.\"\"\"\n",
    "    expectedGrowthRate = h(winProb,odds,betProp)\n",
    "    closeValues = np.absolute(np.array([h(i/n,odds,betProp) for i in range(n+1)]) - \n",
    "                                expectedGrowthRate) < e\n",
    "    return np.where(closeValues,\n",
    "             [bd(n,i,winProb) for i in range(0,n+1)],\n",
    "             np.zeros(n+1)).sum()\n",
    "\n",
    "def plotProbVerticalClose(e=.2,odds=2,winProb=.5,betProp=.25):\n",
    "    \"\"\"Plots probability that growth rate is close to expected growth rate against number of bets.\"\"\"\n",
    "    plt.plot(range(1,101),[probVerticalClose(i,e,odds,winProb,betProp) for i in range(1,101)])\n",
    "    plt.ylabel('probability'); plt.xlabel('number of times you have bet')\n",
    "    plt.title('Probability that growth rate is within {} of expected growth rate.'.format(e))\n",
    "    plt.show()\n",
    "\n",
    "interact(plotProbVerticalClose,e=(0,1.,.05),odds=(0,10,.5),winProb=(0,1.),betProp=(0,1.))"
   ]
  },
  {
   "cell_type": "markdown",
   "metadata": {},
   "source": [
    "A key consequence: because as you bet more and more often the growth rate tends to stabilize around the expected growth rate, someone who bets the proportion which maximizes expected growth rate eventually tends to be ahead of someone who doesn't.\n",
    "\n",
    "Imagine two people facing a vertical gambling problem: one bets the proportion recommended by MEGR; the other bets another proportion. For any $\\delta > 0$, there exists an $N$ such that for all $n>N$ the probability that after $n$ bets the MEGR-bettor is ahead of the rival bettor is at least $1-\\delta$.\n",
    "\n",
    "You can investigate this graphically using the sliders below."
   ]
  },
  {
   "cell_type": "code",
   "execution_count": 36,
   "metadata": {},
   "outputs": [
    {
     "data": {
      "application/vnd.jupyter.widget-view+json": {
       "model_id": "1b433777752a46629ee32ce994a7e366",
       "version_major": 2,
       "version_minor": 0
      },
      "text/plain": [
       "interactive(children=(FloatSlider(value=5.0, description='odds', max=10.0, step=0.5), FloatSlider(value=0.5, d…"
      ]
     },
     "metadata": {},
     "output_type": "display_data"
    },
    {
     "data": {
      "text/plain": [
       "<function __main__.plotProbabilityAhead(odds, winProbability, numRounds, betProp1=0.2, betProp2=0.8)>"
      ]
     },
     "execution_count": 36,
     "metadata": {},
     "output_type": "execute_result"
    }
   ],
   "source": [
    "def verticalProbabilityAhead(odds,winProbability,numRounds,betProp1,betProp2):\n",
    "    \"\"\"Finds P(X>Y), where X and Y are two bettors' bankrolls after n vertical rounds.\"\"\"\n",
    "    # can't use verticalBankrollDistribution, since it groups equal bankrolls and we need to keep them separate\n",
    "    growthRates1 = np.array([verticalBankrollGrowthRate(numRounds,k,odds,betProp1) for k in range(numRounds+1)])\n",
    "    growthRates2 = np.array([verticalBankrollGrowthRate(numRounds,k,odds,betProp2) for k in range(numRounds+1)])\n",
    "    bprobs = np.array([bd(numRounds,k,winProbability) for k in range(numRounds+1)])\n",
    "    return np.where(growthRates1 > growthRates2,bprobs,np.zeros(numRounds+1)).sum()    \n",
    "\n",
    "def plotProbabilityAhead(odds,winProbability,numRounds,betProp1=.2,betProp2=.8):\n",
    "    \"\"\"Plots P(X>Y), where X and Y are final bankrolls, against number of times you have bet.\"\"\"\n",
    "    probabilitiesAhead = [verticalProbabilityAhead(odds,winProbability,k,betProp1,betProp2) \\\n",
    "                          for k in range(1,numRounds+1)]\n",
    "    plt.plot(range(1,numRounds+1),probabilitiesAhead)\n",
    "    plt.xlabel('number of times you have bet'); plt.ylabel('probability ahead')\n",
    "    plt.title(\"\"\"Probability that your growth rate is greater \\n \\\n",
    "when you bet {} than {} of your bankroll.\"\"\".format(betProp1,betProp2))\n",
    "    plt.show()\n",
    "\n",
    "interact(plotProbabilityAhead,odds=(0,10,.5),winProbability=(0,1.),numRounds=(1,200),\n",
    "         betProp1=(0,1.,.05),betProp2=(0,1.,.05))"
   ]
  },
  {
   "cell_type": "markdown",
   "metadata": {},
   "source": [
    "Our original question was *How much should you bet in a gambling problem?* MEGR's advice is to bet the amount which maximizes expected growth rate. MEGR can be defended by pointing out that *it does best in the vertical long-run:* in a vertical gambling problem, someone who bets the amount which maximizes expected growth rate eventually tends to be ahead of someone who doesn't."
   ]
  },
  {
   "cell_type": "markdown",
   "metadata": {},
   "source": [
    "### 4.7 Discussion"
   ]
  },
  {
   "cell_type": "markdown",
   "metadata": {},
   "source": [
    "#### Replicable choices, sustainable choices\n",
    "\n",
    "If many MEV-bettors each bet once, they'll eventually tend to be ahead of any rivals, including MEGR-bettors. MEV is the *replicable* choice. If one MEGR-bettor bets many times, she'll eventually tend to be ahead of any rival, including an MEV-bettor. MEGR is the *sustainable* choice. It's common to defend MEV by pointing out that it does best in the long-run. (It's one of the two defences [R. A. Briggs](https://plato.stanford.edu/entries/rationality-normative-utility/#LonRunArg) describes in their survey about MEV.) But that is misleading: maybe MEV does best in the horizontal long-run, but the horizontal is just one dimension; in other dimensions, MEV doesn't do best.\n",
    "\n",
    "Compare: to control the roll of an aircraft, it's best to use the ailerons; to control the pitch, it's best to use the elevator; to control the yaw, it's best to use the rudder. If you try to control the aircraft using just the ailerons, or just the elevator, or just the rudder, things will go badly. Don't focus on a single dimension."
   ]
  },
  {
   "cell_type": "markdown",
   "metadata": {},
   "source": [
    "#### Parameterizing options, projecting behaviour\n",
    "\n",
    "When we talk about how MEV-bettors do in *vertical* gambling problems, or how MEGR-bettors do in *horizontal* gambling problems, we need to be clear about *what* they do, for they're out of their natural habitats. We need to make clear how we *project* behaviour in a one-off gambling problem to behaviour in a repeated gambling problem. \n",
    "\n",
    "Remember that MEV and MEGR parameterize the options in a one-off gambling problem differently: MEV sees your options as betting any amount in $[0,r]$; MEGR sees your options as betting any proportion in $[0,1]$. These different parameterizations suggest different projections: bet the same amount or bet the same proportion.\n",
    "\n",
    "By definition, bettors in vertical gambling problems, which are MEGR's natural habitat, bet the same proportion every time. In particular, MEV-bettors in vertical gambling problems bet the same proportion every time. By definition, bettors in horizontal gambling problems, which are MEV's natural habitat, bet the same amount every time. In particular, MEGR-bettors in horizontal gambling problems bet the same amount every time. As it happens, in a horizontal gambling problem, betting the same amount comes to the same thing as betting the same proportion, since all the bettors' initial bankrolls are equal.\n",
    "\n",
    "Parameterizing and projecting by amount or by proportion don't exhaust the options---far from it. So how should we parameterize and project? That's a fair question (cf. [the Bertrand Paradox](https://en.wikipedia.org/wiki/Bertrand_paradox_%28probability%29) and Goodman's New Riddle of Induction). The focus here is on the long-run and the short-run, not parameterization and projection; but the two issues may interact in interesting ways."
   ]
  },
  {
   "cell_type": "markdown",
   "metadata": {},
   "source": [
    "#### (In)essential parts of the story\n",
    "\n",
    "In a horizontal gambling problem, many people bet once, everyone bets the same amount, and we look at their total bankroll, or actually, since it turns out to be more convenient, their average bankroll. In a vertical gambling problem, one person bets many times, she bets the same proportion every time, and we look at her final bankroll, or actually, since it turns out to be more convenient, the growth rate. Of course, we could just as well say that in a horizontal gambling problem, one person bets many times, as long as we add that her bankroll resets every time, and that in a vertical gambling problem, many people bet once, as long as we add that each bettor's bankroll after betting becomes the next bettor's bankroll before betting. What matters is how the bankroll changes from bet to bet, not the number of bettors or how many times each of them bets. Contrasting many people betting once and one person betting many times just makes things easier to say."
   ]
  },
  {
   "cell_type": "markdown",
   "metadata": {},
   "source": [
    "#### How to iterate a decision problem?\n",
    "\n",
    "We generate a vertical or horizontal gambling problem from a one-off gambling problem by iterating the one-off problem. Iterating how? Let's separate two components. \n",
    "\n",
    "The first component is *structure*. In a horizontal gambling problem, an infinite sequence of people each face a gamble in turn, have the same initial bankroll, and everyone has to bet the same amount. In a vertical gambling problem, you face a gamble repeatedly, your bankroll rolls over, and you have to bet the same proportion every time. These descriptions fix the structure of horizontal and vertical gambling problems. In general, to describe the structure is to describe what the bettors *do*.\n",
    "\n",
    "The second component is the *performance measure*. In horizontal gambling problems, the performance measure is the total bankroll, or, which comes to the same thing, average bankroll. In vertical gambling problems, the performance measure is the final bankroll, or, which comes to the same thing, the growth rate. In general, the performance measure is the criterion by which you judge when this bettor, or group of bettors, outperforms that bettor, or group of bettors. (Don't confuse the performance measure with the bettors' utility functions, which do a quite different job. I discuss utility functions later in this section.)\n",
    "\n",
    "The two components, structure and performance measure, together describe how to iterate a one-off gambling problem. The discussion has focused on two ways to iterate one-off problems. Let's consider others.\n",
    "\n",
    "We could change the performance measure. Instead of using average bankroll in a horizontal gambling problem, we could use: the average of the squares, the average of the cube roots, the geometric or harmonic average, some function which combines average and variance. And so on. Instead of using growth rate in a vertical gambling problem, we could use: the growth rate of the logs, the growth rate of the ceilings, the minimum or maximum growth rate across bets, some function which combines growth rate and median. And so on. The options are endless. Some choices of performance measure won't change the analysis. They're changes of scale, like moving from total bankroll and final bankroll to average bankroll and growth rate. Other choices will change the analysis. Using average bankroll and growth rate is hardly arbitrary, but perhaps other options have equal claim and would yield different results.\n",
    "\n",
    "We could change the structure. Example: Imagine two bettors, $A$ and $B$, who each face a gambling problem with win probability $p$ and odds $b$:1 repeatedly. Each of their bankrolls before betting on Day 1 is $r$. After betting each day, they pool and divide their bankrolls, to give each their initial bankroll for the next day. They have to bet the same proportion each day and the same proportion as each other. The structure is a mix of the vertical and the horizontal: it involves two people each facing a vertical gambling problem, but with an additional step where their bankrolls are averaged after betting each day. What does best in this iterated gambling problem: what MEV recommends in the one-off gambling problem, what MEGR recommends in the one-off gambling problem, or something else? Of course, that's merely one example. The options are endless. \n",
    "\n",
    "When we iterate a gambling problem horizontally, what MEV recommends in the one-off problem does best. That is a long-run justification for MEV. When we iterate a gambling problem vertically, what MEGR recommends in the one-off problem does best. That is a long-run justification for MEGR. Conjecture: For most recommendations in one-off gambling problems, there is a way to iterate the one-off problem such that that recommendation does best. Most decision rules have a long-run justification. Long-run justifications of decision rules are cheap.\n",
    "\n",
    "To resolve the conjecture, think up ways to iterate one-off gambling problems, analyze them as in Sections 4.5 and 4.6, then reverse-engineer decision rules which are vindicated by the analyses. That's what I'll work on next."
   ]
  },
  {
   "cell_type": "markdown",
   "metadata": {},
   "source": [
    "#### Beyond gambling problems\n",
    "\n",
    "We've focused on a narrow class of decision problems: gambling problems. What about other decisions problems?\n",
    "\n",
    "In a standard decision-theoretic framework, a decision problem specifies, among other things, a range of available actions and associates an expected value with each action. Therefore MEV's advice---choose an action which maximizes expected value---is well-defined in all decision problems, not just gambling problems. MEGR's advice---choose an action which maximizes expected growth rate---is well-defined in *some* other decision problems, such as betting on gambles with multiple mutually exclusive outcomes, rather than just two outcomes. But it's not well-defined in all decision problems. For it to be well-defined, the actions and outcomes must lie on the same scale, roughly speaking. It would be nice to find a generalization of MEGR's advice which does apply across all decision problems. We might start on that problem by characterizing precisely when MEGR's advice is well-defined."
   ]
  },
  {
   "cell_type": "markdown",
   "metadata": {},
   "source": [
    "#### From long-run to long-run to short-run\n",
    "\n",
    "Distinguish three claims:\n",
    "\n",
    "1. MEV-bettors eventually tend to be ahead of rival bettors in horizontal gambling problems.\n",
    "2. People in a horizontal gambling problem should bet the MEV amount.\n",
    "3. Someone in a gambling problem should bet the MEV amount.\n",
    "\n",
    "Similarly,\n",
    "    \n",
    "<ol start=\"4\">\n",
    "  <li>An MEGR-bettor eventually tends to be ahead of a rival bettor in a vertical gambling problem.</li>\n",
    "  <li>Someone in a vertical gambling problem should bet the MEGR proportion.</li>\n",
    "  <li>Someone in a gambling problem should bet the MEGR proportion.</li>\n",
    "</ol>\n",
    "\n",
    "1 and 4 are true. That's what we established in the previous sections. (In fact, stronger things than 1 and 4 are true.) But what is the relation between 1, 2, and 3, or between 4, 5, and 6? I'll focus on 1, 2, 3. Similar things can be said about 4, 5, 6.\n",
    "\n",
    "*Does 1 support 2?* In Section 2, we discussed whether 7 supports 8:\n",
    "\n",
    "<ol start=\"7\">\n",
    "  <li>$x_n$ tends to 0 and $y_n$ tends to 1</li>\n",
    "  <li>$x_{100}$ is closer to 0 than $y_{100}$</li>\n",
    "</ol>\n",
    "\n",
    "Whether 1 supports 2 is similar, but note two differences. First, it's not true that MEV-bettors eventually *are* ahead of rival bettors; what is true is that MEV-bettors eventually *tend* to be ahead of rival bettors. 1 is probabilistic, not categorical. By contrast, 7 is categorical, not probabilistic. (But both are long-run.) Second, 8 is about particular members of the sequences, the 100$^{th}$ members. 2 isn't. Compare 2 to \"People in a horizontal gambling problem who bet the MEV amount tend to be ahead of people who don't after 100 bets.\"\n",
    "\n",
    "We might try to get from 1 to 2 via a principle like this: Option X is better than Option Y if someone who does X is more likely than not to end up ahead of someone who does Y. Applying the principle to horizontal gambling problems is tricky, since it's not clear what *ends up* means when the number of bets is unbounded. But anyway surely the principle is false. Consider one-off gambling problems: when $p < \\frac{1}{2}$, someone who bets nothing is more likely than not to end up ahead of someone who bets something; when $p > \\frac{1}{2}$, someone who bets something is more likely than not to end up ahead of someone who bets nothing. It doesn't follow that when $p < \\frac{1}{2}$ betting nothing is better than betting something or when $p > \\frac{1}{2}$ betting something is better than betting nothing. So even if the principle did apply neatly to horizontal gambling problems, it's false anyway.\n",
    "\n",
    "Stronger things than 1 are true. If 1 doesn't support 2, we might have better luck with them. Or we might not.\n",
    "\n",
    "*Does 2 support 3?* It's a bad strategy, in general, to evaluate a recommendation in one decision problem by seeing how that recommendation does in another decision problem. For one thing, the strategy just replaces one evaluation task (evaluate the recommendation in *this* decision problem) with another (evaluate the recommendation in *that* decision problem). When the second evaluation task is easier than the first, this may constitute progress; but when it isn't, it doesn't. For another thing, why should we evaluate a recommendation in one decision problem by seeing how it does in another? We don't evaluate weightlifters by seeing how they do in the pole-vault. To use 2 to support 3 is to evaluate recommendations in one decision problem, a gambling problem, by seeing how they do in another, a horizontal gambling problem. If the strategy is bad in general, is it any better in this particular case?\n",
    "\n",
    "To support the first point, earlier in the section I suggested that it's not straightforward to evaluate MEV's recommendation in horizontal gambling problems. On the second point, standard objections to evaluating MEV's recommendation in a gambling problem by seeing how it does in a horizontal gambling problem are that no decision *will* be repeated indefinitely, most *won't* even be repeated often, some *can't* be repeated often, and even those which *will* be repeated are not independent. To these we can add: if you should bet the MEV amount in a horizontal gambling problem, then you should bet the MEGR proportion in a vertical gambling problem; but MEV and MEGR disagree in one-off gambling problems.\n",
    "\n",
    "To spell out the last point in full: If 2 is true then 5 is true. If (if 2 is true then 3 is true) then (if 5 is true then 6 is true). Either 3 is false or 6 is false. So, 2 is false. And by a similar argument, 5 is false.\n",
    "\n",
    "*Does 1 support 3?* 1 is two long-runs away from 3, when you go via 2, for 1 is a long-run away from 2 and 2 is a long-run away from 3. I doubt whether 1 supports 2 or 2 supports 3. So I doubt whether 1 supports 3 via 2. 1 might support 3 not via 2. But I'm skeptical."
   ]
  },
  {
   "cell_type": "markdown",
   "metadata": {},
   "source": [
    "#### Maximize expected log value\n",
    "\n",
    "Fix a gamble with win probability $p$ and payoff odds $b:1$ and suppose your bankroll is $r$. The *expected log value of betting m dollars* is $p \\cdot log(r+bm) + (1-p) \\cdot log(r-m)$. Maximize Expected Log Value (MELV) advises you to bet the amount $m$ which maximizes this quantity. You can graph expected log value against amount bet in a variety of gambling problems using the sliders below. It assumes your initial bankroll is 100 dollars."
   ]
  },
  {
   "cell_type": "code",
   "execution_count": 37,
   "metadata": {},
   "outputs": [
    {
     "data": {
      "application/vnd.jupyter.widget-view+json": {
       "model_id": "348c4f8ea05848da998c28211bfafb98",
       "version_major": 2,
       "version_minor": 0
      },
      "text/plain": [
       "interactive(children=(FloatSlider(value=2.0, description='odds', max=10.0, step=0.5), FloatSlider(value=0.5, d…"
      ]
     },
     "metadata": {},
     "output_type": "display_data"
    },
    {
     "data": {
      "text/plain": [
       "<function __main__.plotExpectedLogValue(odds=2, winProb=0.5)>"
      ]
     },
     "execution_count": 37,
     "metadata": {},
     "output_type": "execute_result"
    }
   ],
   "source": [
    "def plotExpectedLogValue(odds=2,winProb=.5):\n",
    "    \"\"\"Plots expected log value against amount bet in a gambling problem.\"\"\"\n",
    "    plt.plot([winProb*np.log(100+odds*m) + (1-winProb)*np.log(100-m) for m in range(0,100)]) # upper bound is 100, not 101\n",
    "    plt.xlabel('amount bet ($)'); plt.ylabel('expected log value ($)')\n",
    "    plt.show()\n",
    "    \n",
    "interact(plotExpectedLogValue,odds=(0,10,.5),winProb=(0,1.,.05))"
   ]
  },
  {
   "cell_type": "markdown",
   "metadata": {},
   "source": [
    "In Example 1, where $p$ = 0.5 and $b$ = 2, the expected log value of betting $m$ dollars comes to $0.5 \\cdot log(100+2m) + 0.5 \\cdot log(100-m)$. In Example 2, where $p=\\frac{2}{3}$ and $b=1$, the expected log value of betting $m$ dollars comes to $\\frac{2}{3} \\cdot log(100+m) + \\frac{1}{3} \\cdot log(100-m)$. Setting the sliders and looking at the graphs suggests that expected log bankroll is maximized in Example 1 when $m$ is about 25 dollars, at about 4.664, and in Example 2 when $m$ is about 33 dollars, at about 4.661. So MELV recommends betting 25 dollars, which is a quarter of your bankroll, in Example 1, and about 33 dollars, which is about a third of your bankroll, in Example 2.\n",
    "\n",
    "We've seen these proportions before: they're the proportions MEGR recommends in Examples 1 and 2. That's no accident: it turns out that in any gambling problem, MELB's recommendation agrees with MEGR's recommendation. (MELB puts its recommendation in terms of amount and MEGR puts it in terms of proportion, but that doesn't matter.) So a third way to put MEGR's recommendation, along with *maximize expected growth rate* and *bet edge over odds*, is *maximize expected log value*.\n",
    "\n",
    "Does this fact show that MEV and MEGR really agree, except that MEV assumes the agent's utility is a linear function of money and MEGR assumes that it's logarithmic? No. Take an agent for whom utility can be identified with money and ask *How should she bet in Example 1?* MEV says she should bet her bankroll; MEGR says she should bet a quarter of her bankroll. They disagree. And similarly in other gambling problems. It's irrelevant to point out that MEV's recommendation for an agent with a linear utility function agrees with MEGR's recommendation for an agent with a logarithmic utility function. What matters is what they recommend for a fixed agent.\n",
    "\n",
    "I implicitly assumed throughout that the agent's utility is a linear function of money. That made things easy to think about and to say. Suppose instead that the agent's utility function is some non-linear function $u$ of money. We have to adjust the definitions of MEV and MEGR by applying $u$ to any dollar amounts. That's the easy part. The hard part is to adjust the definitions of horizontal and vertical gambling problems. As things stand, the long-run results above won't in general hold when $u$ is non-linear. (Imagine what happens when $u$ is bounded or non-increasing.) When you change how utility relates to money, you need also to change how you turn a one-off gambling problem into an infinite gambling problem, if you want the long-run results above still to hold.\n",
    "\n",
    "It's not obvous how non-linear utility functions interact with long-run defences of decision rules. One interesting question is whether non-linear utility functions break the symmetry between MEV and MEGR. In any case, this much is clear: MEV and MEGR do disagree."
   ]
  },
  {
   "cell_type": "markdown",
   "metadata": {},
   "source": [
    "#### Breaking the symmetry\n",
    "\n",
    "MEV's recommendation does best in horizontal gambling problems; MEGR's recommendation does best in vertical gambling problems. So does the long-run tell in favour of one over the other? The discussion of MEV and MEGR is symmetric. To break the symmetry, we'll have to look elsewhere.\n",
    "\n",
    "When you apply a decision rule to a decision problem, you get a recommendaton about the problem. In a long-run defence of the rule, you iterate the problem, iterate the recommendation, and show that the iterated recommendation does best in the iterated problem. Keep the problems and recommendations straight: the one-off problem and recommendation about the one-off problem, and the iterated problem and iterated recommendation. To get the recommendation about the one-off problem, you apply the rule to the one-off problem; to get the iterated recommendation, you iterate the recommendation about the one-off problem.\n",
    "\n",
    "A preliminary idea. Having got things straight, let's mix them up. Apply the decision rule to the iterated problem too, giving a recommendation about the iterated problem. Check whether the recommendation about the iterated problem is the same as the iterated recommendation about the one-off problem. If it is, the long-run defence is *nice*; if not, *nasty*. Nice long-run defences are better than nasty ones. That's the idea. \n",
    "\n",
    "It's tricky to apply the idea to MEV and MEGR. I'll briefly sketch two problems. In the long-run defence of MEV, the one-off problem is a gambling problem and the iterated problem is a horizontal gambling problem. What does MEV recommend when applied to the iterated problem? The options are to bet any amount in $[0,r]$. The states are the infinite sequences of outcomes of gambles. The difficulty comes in defining the outcomes: What is the bettors' average bankroll after all of them---infinitely many---have gambled? In the long-run defence of MEGR, the one-off problem is a gambling problem and the iterated problem is a vertical gambling problem. The problem is immediate: MEGR doesn't apply to vertical gambling problems."
   ]
  },
  {
   "cell_type": "markdown",
   "metadata": {},
   "source": [
    "#### Risk aversion\n",
    "\n",
    "Assume the win probability $p$ is less than 1.\n",
    "\n",
    "In a vertical gambling problem, betting proportion 1 is high-risk, high-reward. On the one hand, after your first loss, your bankroll is 0 dollars and you can't recover. You typically soon go bust and with probability 1 you go bust eventually. On the other hand, as long as you keep winning, the more you bet the more you make. Betting proportion less than 1 is lower-risk, lower-reward. On the one hand, you never go bust. Since you never bet everything, you always have something. On the other hand, as long as you keep winning, you would have made more had you bet more. When the edge of a gamble is positive, MEV recommends betting proportion 1. MEV is high-risk, high-reward. MEGR never recommends betting proportion 1. MEGR is lower-risk, lower-reward. \n",
    "\n",
    "Do these observations show that MEGR and MEV really agree, except that MEGR-bettors are risk-averse and MEV-bettors are not? No.\n",
    "\n",
    "An MEGR-bettor in a vertical gambling problem never goes bust. But nor does any other bettor who bets less than proportion 1. Never going bust is easy. That is not what distinguishes MEGR from its rivals. We've already seen what distinguishes MEGR from its rivals: in a vertical gambling problem, someone who bets the amount which maximizes expected growth rate eventually tends to be ahead of someone who doesn't.\n",
    "\n",
    "Fix a model of risk-aversion. Suppose we showed: for any gambling problem there exists a setting of the model's risk parameters such that MEV's risk-weighted recommendation agrees with MEGR's non-risk-weighted recommendation. Such a result wouldn't be significant. When two theories conflict and you add parameters to one it's to be expected that for any phenomenon you can set the parameters to bring the theories into line about that phenomenon. Now swap the quantifiers. Suppose we showed: there exists a setting of the model's risk parameters such that for any gambling problem MEV's risk-weighted recommendation agrees with MEGR's non-risk-weighted recommendation. That result would be significant."
   ]
  },
  {
   "cell_type": "markdown",
   "metadata": {},
   "source": [
    "#### Other long-run properties\n",
    "\n",
    "We applied the Weak Law of Large Numbers to horizontal and vertical gambling problems to see how bettors do in the long-run. But the Weak Law is just one result we could apply. There are others. For example, the Strong Law of Large Numbers tells us that:\n",
    "\n",
    "> With probability 1, as more and more people bet, or one person bets more and more often, the number of wins $k$ over the number of bets $n$ tends to the win probability $p$.\n",
    "\n",
    "And therefore:\n",
    "\n",
    "> With probability 1, as more and more people bet in a horizontal gambling problem their average bankroll tends to the expected value; and with probability 1, as you bet more and more often in a vertical gambling problem, the growth rate tends to the expected growth rate.\n",
    "\n",
    "The key consequences for us are that: in horizontal gambling problems, with probability 1 eventually people who bet the amount which maximizes expected value get ahead and stay ahead of people who don't; and in vertical gambling problems, with probability 1 eventually someone who bets the proportion which maximizes expected growth rate gets ahead and stays ahead of someone who doesn't. No doubt there are other results we could apply which would have other interesting consequences."
   ]
  }
 ],
 "metadata": {
  "kernelspec": {
   "display_name": "Python 3",
   "language": "python",
   "name": "python3"
  },
  "language_info": {
   "codemirror_mode": {
    "name": "ipython",
    "version": 3
   },
   "file_extension": ".py",
   "mimetype": "text/x-python",
   "name": "python",
   "nbconvert_exporter": "python",
   "pygments_lexer": "ipython3",
   "version": "3.6.5"
  },
  "widgets": {
   "application/vnd.jupyter.widget-state+json": {
    "state": {
     "001326e9d57945539d2fa847ef7f56b2": {
      "model_module": "@jupyter-widgets/controls",
      "model_module_version": "1.1.0",
      "model_name": "FloatSliderModel",
      "state": {
       "description": "odds",
       "layout": "IPY_MODEL_554f6e97853e4ea8b6037b082a8f8255",
       "max": 10,
       "step": 0.5,
       "style": "IPY_MODEL_1d0cecc4ab974b46a173fd51db6103f2",
       "value": 5
      }
     },
     "00bf43d323554fa39978482728047f59": {
      "model_module": "@jupyter-widgets/base",
      "model_module_version": "1.0.0",
      "model_name": "LayoutModel",
      "state": {}
     },
     "01a82161f30f46528713ffa832ecd517": {
      "model_module": "@jupyter-widgets/controls",
      "model_module_version": "1.1.0",
      "model_name": "FloatSliderModel",
      "state": {
       "description": "winProb",
       "layout": "IPY_MODEL_14ed3b097a6d458d830502e5d31d8b91",
       "max": 1,
       "step": 0.1,
       "style": "IPY_MODEL_c36b8cfac16147159facd01e93c39edf",
       "value": 0.5
      }
     },
     "02119397fd7244f4a84675b67d6f58fe": {
      "model_module": "@jupyter-widgets/controls",
      "model_module_version": "1.1.0",
      "model_name": "VBoxModel",
      "state": {
       "_dom_classes": [
        "widget-interact"
       ],
       "children": [
        "IPY_MODEL_39fbd03afe004f0d83e05692c4478d1a",
        "IPY_MODEL_2b8fc71d85914c97912989cbd31f6966",
        "IPY_MODEL_63e277567724497dbb3744a9bea81f99"
       ],
       "layout": "IPY_MODEL_bbebaf1f1845419a895ef73f20c0715f"
      }
     },
     "03cdb2d17a75478f8c61744f00d4a54f": {
      "model_module": "@jupyter-widgets/output",
      "model_module_version": "1.0.0",
      "model_name": "OutputModel",
      "state": {
       "layout": "IPY_MODEL_37b06b2e064441a98145ad3c7fb03a72",
       "outputs": [
        {
         "data": {
          "image/png": "iVBORw0KGgoAAAANSUhEUgAAAYgAAAEKCAYAAAAIO8L1AAAABHNCSVQICAgIfAhkiAAAAAlwSFlz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\nWj8AAAAASUVORK5CYII=\n",
          "text/plain": "<matplotlib.figure.Figure at 0x1d10a961eb8>"
         },
         "metadata": {},
         "output_type": "display_data"
        }
       ]
      }
     },
     "047b058803bb450aac1855f2251025fa": {
      "model_module": "@jupyter-widgets/controls",
      "model_module_version": "1.1.0",
      "model_name": "SliderStyleModel",
      "state": {
       "description_width": ""
      }
     },
     "04bf5c616de44d3aab27559c91480d2f": {
      "model_module": "@jupyter-widgets/base",
      "model_module_version": "1.0.0",
      "model_name": "LayoutModel",
      "state": {}
     },
     "07a9b355c7d441c0a65e7c8774475ca5": {
      "model_module": "@jupyter-widgets/base",
      "model_module_version": "1.0.0",
      "model_name": "LayoutModel",
      "state": {}
     },
     "07c1c61f7193433796cbcc776c2d4966": {
      "model_module": "@jupyter-widgets/base",
      "model_module_version": "1.0.0",
      "model_name": "LayoutModel",
      "state": {}
     },
     "08a0b279dbfa48078d42e5873e694ab2": {
      "model_module": "@jupyter-widgets/controls",
      "model_module_version": "1.1.0",
      "model_name": "IntSliderModel",
      "state": {
       "description": "betAmount",
       "layout": "IPY_MODEL_fd1b05046cb14317a094c7426da6a887",
       "style": "IPY_MODEL_5fb8e0efcbd04ab88fb3b1005d9c63a9",
       "value": 50
      }
     },
     "0936d4e079134cffbf239be732d285c9": {
      "model_module": "@jupyter-widgets/base",
      "model_module_version": "1.0.0",
      "model_name": "LayoutModel",
      "state": {}
     },
     "098b05a9245c423cadd3af6b0084111c": {
      "model_module": "@jupyter-widgets/controls",
      "model_module_version": "1.1.0",
      "model_name": "SliderStyleModel",
      "state": {
       "description_width": ""
      }
     },
     "0a4acf4c860c4e229b041634b160ae44": {
      "model_module": "@jupyter-widgets/controls",
      "model_module_version": "1.1.0",
      "model_name": "SliderStyleModel",
      "state": {
       "description_width": ""
      }
     },
     "0ae5be0e49fc4abaaa1678036d7aa002": {
      "model_module": "@jupyter-widgets/controls",
      "model_module_version": "1.1.0",
      "model_name": "VBoxModel",
      "state": {
       "_dom_classes": [
        "widget-interact"
       ],
       "children": [
        "IPY_MODEL_4a23b693ade74accbc170713ed6b2cd5",
        "IPY_MODEL_6374153179e2479cab1e6e0e6fc492ab",
        "IPY_MODEL_03cdb2d17a75478f8c61744f00d4a54f"
       ],
       "layout": "IPY_MODEL_a08f04c2104a4a6086872fac7dd0e747"
      }
     },
     "0b094c13fb0c4bfb8264beabce23defc": {
      "model_module": "@jupyter-widgets/base",
      "model_module_version": "1.0.0",
      "model_name": "LayoutModel",
      "state": {}
     },
     "0c3fe53725da468d818e55b68cd56df8": {
      "model_module": "@jupyter-widgets/controls",
      "model_module_version": "1.1.0",
      "model_name": "VBoxModel",
      "state": {
       "_dom_classes": [
        "widget-interact"
       ],
       "children": [
        "IPY_MODEL_f5e16717d2a744e0b7f4e69181dab2e4",
        "IPY_MODEL_6242d7d0a0664eaa822821d97d75355c",
        "IPY_MODEL_a6113681cba2405ba1c4a221822940d6"
       ],
       "layout": "IPY_MODEL_c7686858110b484ab7a299cdb7a2f50e"
      }
     },
     "0c79b068e3ed4d6d898ec93d70e0662c": {
      "model_module": "@jupyter-widgets/base",
      "model_module_version": "1.0.0",
      "model_name": "LayoutModel",
      "state": {}
     },
     "0d2f20631e924d08b6819145ce7f600f": {
      "model_module": "@jupyter-widgets/controls",
      "model_module_version": "1.1.0",
      "model_name": "FloatSliderModel",
      "state": {
       "description": "betProp",
       "layout": "IPY_MODEL_e675075472504aada4672599ae89ebd5",
       "max": 1,
       "step": 0.1,
       "style": "IPY_MODEL_f02fb4b1074b4c578cde9b19680356c2",
       "value": 0.25
      }
     },
     "0ded31f1ddc646a5ac4ab3f9678a56d0": {
      "model_module": "@jupyter-widgets/output",
      "model_module_version": "1.0.0",
      "model_name": "OutputModel",
      "state": {
       "layout": "IPY_MODEL_714028d26f134755bf08a5d71b971bf4",
       "outputs": [
        {
         "data": {
          "image/png": "iVBORw0KGgoAAAANSUhEUgAAAZMAAAElCAYAAAAhjw8JAAAABHNCSVQICAgIfAhkiAAAAAlwSFlz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\n1JRH7cPQZQEAAAAASUVORK5CYII=\n",
          "text/plain": "<matplotlib.figure.Figure at 0x1d10bea7898>"
         },
         "metadata": {},
         "output_type": "display_data"
        }
       ]
      }
     },
     "0e78999e59ae45f4918002ddbcfe4607": {
      "model_module": "@jupyter-widgets/base",
      "model_module_version": "1.0.0",
      "model_name": "LayoutModel",
      "state": {}
     },
     "0eb9c60b77a844d188bc249869f88b80": {
      "model_module": "@jupyter-widgets/output",
      "model_module_version": "1.0.0",
      "model_name": "OutputModel",
      "state": {
       "layout": "IPY_MODEL_eb0d38f035ea47ae8c1daadb5d606f70",
       "outputs": [
        {
         "data": {
          "image/png": "iVBORw0KGgoAAAANSUhEUgAAAZQAAAElCAYAAADDUxRwAAAABHNCSVQICAgIfAhkiAAAAAlwSFlz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\nCcXMzCrx/wHuQ7iH9U8RHQAAAABJRU5ErkJggg==\n",
          "text/plain": "<matplotlib.figure.Figure at 0x1d10bffda90>"
         },
         "metadata": {},
         "output_type": "display_data"
        }
       ]
      }
     },
     "1024c59a64aa4644891ffdeec6f45057": {
      "model_module": "@jupyter-widgets/controls",
      "model_module_version": "1.1.0",
      "model_name": "VBoxModel",
      "state": {
       "_dom_classes": [
        "widget-interact"
       ],
       "children": [
        "IPY_MODEL_8b841327eccd40fa83ed847a8ce0256f",
        "IPY_MODEL_9be6f57522cb4f8db1754dbf7f7eb26f",
        "IPY_MODEL_34f2091022c7410fbe4debf128dd19d7"
       ],
       "layout": "IPY_MODEL_a76b0bce699b4de59e8eb44eeadea110"
      }
     },
     "105e16b038d148ff90fad2b86adf6ae7": {
      "model_module": "@jupyter-widgets/controls",
      "model_module_version": "1.1.0",
      "model_name": "SliderStyleModel",
      "state": {
       "description_width": ""
      }
     },
     "1070b7e89637496c95e4d6a013ee125a": {
      "model_module": "@jupyter-widgets/controls",
      "model_module_version": "1.1.0",
      "model_name": "SliderStyleModel",
      "state": {
       "description_width": ""
      }
     },
     "109b0bbcb5224bfd8222dc38934c4b62": {
      "model_module": "@jupyter-widgets/controls",
      "model_module_version": "1.1.0",
      "model_name": "IntSliderModel",
      "state": {
       "description": "numRounds",
       "layout": "IPY_MODEL_504937bfaf3d47a39258477584b6ed56",
       "max": 200,
       "min": 1,
       "style": "IPY_MODEL_c41c68d10d434c798c3b679e2d0483c9",
       "value": 100
      }
     },
     "1485c933371f46c1bc31df5b059c3110": {
      "model_module": "@jupyter-widgets/controls",
      "model_module_version": "1.1.0",
      "model_name": "VBoxModel",
      "state": {
       "_dom_classes": [
        "widget-interact"
       ],
       "children": [
        "IPY_MODEL_203832c0585f42b48ec1657673f13925",
        "IPY_MODEL_d049334c5d8f435a8dcbe859717f251a",
        "IPY_MODEL_1b5c7365f76c4e1daac8f31e06639989",
        "IPY_MODEL_dd190c3ef33d45bdacb91fc5de3c036f",
        "IPY_MODEL_f428c968e92a42dc8e3e70c84edf734d"
       ],
       "layout": "IPY_MODEL_e3b4304e34f841e898f55fc75073e6fa"
      }
     },
     "148a2b9bc9164616983dcbda169d0158": {
      "model_module": "@jupyter-widgets/controls",
      "model_module_version": "1.1.0",
      "model_name": "FloatSliderModel",
      "state": {
       "description": "winProbability",
       "layout": "IPY_MODEL_9630983c9c014115b14fe7ccb3b02be7",
       "max": 1,
       "step": 0.1,
       "style": "IPY_MODEL_4b9ef8b2106a4304b34011187503e1d7",
       "value": 0.5
      }
     },
     "149746acd23448e6b814e7cbc865744b": {
      "model_module": "@jupyter-widgets/controls",
      "model_module_version": "1.1.0",
      "model_name": "IntSliderModel",
      "state": {
       "description": "numRounds",
       "layout": "IPY_MODEL_a8f7d1f89ebb420288e29314f05e0ba4",
       "min": 1,
       "style": "IPY_MODEL_89de49f34baa4ca4a85ee79e0da21eec",
       "value": 50
      }
     },
     "14c38fda546d44edbca9bef427a1e6d2": {
      "model_module": "@jupyter-widgets/base",
      "model_module_version": "1.0.0",
      "model_name": "LayoutModel",
      "state": {}
     },
     "14df1f3327294e28af6243eb12d2ef07": {
      "model_module": "@jupyter-widgets/output",
      "model_module_version": "1.0.0",
      "model_name": "OutputModel",
      "state": {
       "layout": "IPY_MODEL_171b023cd14943a480ab9fb82aecd45d",
       "outputs": [
        {
         "data": {
          "image/png": "iVBORw0KGgoAAAANSUhEUgAAAaQAAAEWCAYAAAApTuNLAAAABHNCSVQICAgIfAhkiAAAAAlwSFlz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\nosAwMwAAAABJRU5ErkJggg==\n",
          "text/plain": "<matplotlib.figure.Figure at 0x1d10c0ef710>"
         },
         "metadata": {},
         "output_type": "display_data"
        }
       ]
      }
     },
     "14ed3b097a6d458d830502e5d31d8b91": {
      "model_module": "@jupyter-widgets/base",
      "model_module_version": "1.0.0",
      "model_name": "LayoutModel",
      "state": {}
     },
     "1610e55566a5495fb1b57dfbc0c3c4f7": {
      "model_module": "@jupyter-widgets/controls",
      "model_module_version": "1.1.0",
      "model_name": "VBoxModel",
      "state": {
       "_dom_classes": [
        "widget-interact"
       ],
       "children": [
        "IPY_MODEL_dd73eb655480467fb8ab3bb147821c33",
        "IPY_MODEL_1c3fd58ad25e4334b0c8ca377632ff4a",
        "IPY_MODEL_fd12b4e7af55445a93dc14fe15ab0fb7",
        "IPY_MODEL_87c766c26e0a434b81ba3614d93a817a",
        "IPY_MODEL_91c4f2c47f7948e8824aab08a727c3d8",
        "IPY_MODEL_0eb9c60b77a844d188bc249869f88b80"
       ],
       "layout": "IPY_MODEL_b9b9fac14eef433092e2573c90071fea"
      }
     },
     "170ae59298b843acb6652fcdad82c0aa": {
      "model_module": "@jupyter-widgets/base",
      "model_module_version": "1.0.0",
      "model_name": "LayoutModel",
      "state": {}
     },
     "171b023cd14943a480ab9fb82aecd45d": {
      "model_module": "@jupyter-widgets/base",
      "model_module_version": "1.0.0",
      "model_name": "LayoutModel",
      "state": {}
     },
     "175613b635104d3cbd69cd7399f688db": {
      "model_module": "@jupyter-widgets/base",
      "model_module_version": "1.0.0",
      "model_name": "LayoutModel",
      "state": {}
     },
     "17d09b23d2af438eb0b783b15e8d986f": {
      "model_module": "@jupyter-widgets/controls",
      "model_module_version": "1.1.0",
      "model_name": "SliderStyleModel",
      "state": {
       "description_width": ""
      }
     },
     "18489b89ca994992a4fecc5e5d3f10e3": {
      "model_module": "@jupyter-widgets/base",
      "model_module_version": "1.0.0",
      "model_name": "LayoutModel",
      "state": {}
     },
     "185d02c14a354c3292e58360fd55dc80": {
      "model_module": "@jupyter-widgets/controls",
      "model_module_version": "1.1.0",
      "model_name": "IntSliderModel",
      "state": {
       "description": "betAmount1",
       "layout": "IPY_MODEL_f9e03c1be73c4e2dafed679d6101afdc",
       "style": "IPY_MODEL_90341589eb22434c90ad73f47f169891",
       "value": 40
      }
     },
     "18b3193aa76e49bb89abf8284fd642a9": {
      "model_module": "@jupyter-widgets/controls",
      "model_module_version": "1.1.0",
      "model_name": "SliderStyleModel",
      "state": {
       "description_width": ""
      }
     },
     "19a0d2ce23c642068937961240fee222": {
      "model_module": "@jupyter-widgets/base",
      "model_module_version": "1.0.0",
      "model_name": "LayoutModel",
      "state": {}
     },
     "19d5cc27b90f4f4fb0f9eed44c74ebc9": {
      "model_module": "@jupyter-widgets/base",
      "model_module_version": "1.0.0",
      "model_name": "LayoutModel",
      "state": {}
     },
     "1ab101d274d441efa9f46df8dfd6a38d": {
      "model_module": "@jupyter-widgets/base",
      "model_module_version": "1.0.0",
      "model_name": "LayoutModel",
      "state": {}
     },
     "1b5c7365f76c4e1daac8f31e06639989": {
      "model_module": "@jupyter-widgets/controls",
      "model_module_version": "1.1.0",
      "model_name": "FloatSliderModel",
      "state": {
       "description": "odds",
       "layout": "IPY_MODEL_5d4b1393e098484f9382b59a9706f146",
       "max": 10,
       "step": 0.5,
       "style": "IPY_MODEL_deb6e58910aa4117a737f5b0ec0ff349",
       "value": 2
      }
     },
     "1b5ebaedcbd847d19be420fd075fb446": {
      "model_module": "@jupyter-widgets/controls",
      "model_module_version": "1.1.0",
      "model_name": "VBoxModel",
      "state": {
       "_dom_classes": [
        "widget-interact"
       ],
       "children": [
        "IPY_MODEL_4c3c21fcc6cc4f218f4966fd970c2888",
        "IPY_MODEL_f4a47d6d98234dbab342eeae6c65d4e4",
        "IPY_MODEL_01a82161f30f46528713ffa832ecd517",
        "IPY_MODEL_47e8384b3e99462da7ed77a7567424fb",
        "IPY_MODEL_a148c0f10c9042dfbff3474e10090fba"
       ],
       "layout": "IPY_MODEL_9facf6d9e5f94fb681a9290fda7423cb"
      }
     },
     "1b6581fe22a6486f86f8fac2fbf42889": {
      "model_module": "@jupyter-widgets/base",
      "model_module_version": "1.0.0",
      "model_name": "LayoutModel",
      "state": {}
     },
     "1b91acee1d484a59b9e9dbe545646478": {
      "model_module": "@jupyter-widgets/base",
      "model_module_version": "1.0.0",
      "model_name": "LayoutModel",
      "state": {}
     },
     "1c3fd58ad25e4334b0c8ca377632ff4a": {
      "model_module": "@jupyter-widgets/controls",
      "model_module_version": "1.1.0",
      "model_name": "FloatSliderModel",
      "state": {
       "description": "winProbability",
       "layout": "IPY_MODEL_afeef2bb2ccb4fdc8efeeb7e1bce092c",
       "max": 1,
       "step": 0.1,
       "style": "IPY_MODEL_42d0eabaec9247f2a5a0ba02552cc53d"
      }
     },
     "1c64dc76f4ee49dc85ada936f07ad218": {
      "model_module": "@jupyter-widgets/base",
      "model_module_version": "1.0.0",
      "model_name": "LayoutModel",
      "state": {}
     },
     "1c9c72b0661b451ea243d6c702779895": {
      "model_module": "@jupyter-widgets/base",
      "model_module_version": "1.0.0",
      "model_name": "LayoutModel",
      "state": {}
     },
     "1d0cecc4ab974b46a173fd51db6103f2": {
      "model_module": "@jupyter-widgets/controls",
      "model_module_version": "1.1.0",
      "model_name": "SliderStyleModel",
      "state": {
       "description_width": ""
      }
     },
     "1d4aa47a4e654cb7ad4db29d9b79e8ae": {
      "model_module": "@jupyter-widgets/base",
      "model_module_version": "1.0.0",
      "model_name": "LayoutModel",
      "state": {}
     },
     "1f5c73d20479476ca4282d88e6cbb416": {
      "model_module": "@jupyter-widgets/base",
      "model_module_version": "1.0.0",
      "model_name": "LayoutModel",
      "state": {}
     },
     "200485cf1d974089b7d267665d8815bc": {
      "model_module": "@jupyter-widgets/base",
      "model_module_version": "1.0.0",
      "model_name": "LayoutModel",
      "state": {}
     },
     "203832c0585f42b48ec1657673f13925": {
      "model_module": "@jupyter-widgets/controls",
      "model_module_version": "1.1.0",
      "model_name": "IntSliderModel",
      "state": {
       "description": "n",
       "layout": "IPY_MODEL_3328f302a29f4d9094c723be7d1f31cd",
       "min": 1,
       "style": "IPY_MODEL_7720b22838a2426a889e492188f6e0d0",
       "value": 50
      }
     },
     "203ffbeaf5c547f98f82d909eaded196": {
      "model_module": "@jupyter-widgets/controls",
      "model_module_version": "1.1.0",
      "model_name": "FloatSliderModel",
      "state": {
       "description": "odds",
       "layout": "IPY_MODEL_0936d4e079134cffbf239be732d285c9",
       "max": 10,
       "step": 0.5,
       "style": "IPY_MODEL_de789ab7b5cb44e8a7f250361ffc6ea9",
       "value": 5
      }
     },
     "2065a31bbe7a45e9b7bf659e5cc74de4": {
      "model_module": "@jupyter-widgets/base",
      "model_module_version": "1.0.0",
      "model_name": "LayoutModel",
      "state": {}
     },
     "2197dd3e554a493d8208428fc6e395e7": {
      "model_module": "@jupyter-widgets/base",
      "model_module_version": "1.0.0",
      "model_name": "LayoutModel",
      "state": {}
     },
     "21e70a8e26a14554814c24e2b4254bd0": {
      "model_module": "@jupyter-widgets/base",
      "model_module_version": "1.0.0",
      "model_name": "LayoutModel",
      "state": {}
     },
     "224167927dff4c4a9c6d2911d424904a": {
      "model_module": "@jupyter-widgets/base",
      "model_module_version": "1.0.0",
      "model_name": "LayoutModel",
      "state": {}
     },
     "22e9de00bc4b464ab5ee439931442936": {
      "model_module": "@jupyter-widgets/base",
      "model_module_version": "1.0.0",
      "model_name": "LayoutModel",
      "state": {}
     },
     "24aabf303f5b459bb7ad9447bb014559": {
      "model_module": "@jupyter-widgets/base",
      "model_module_version": "1.0.0",
      "model_name": "LayoutModel",
      "state": {}
     },
     "25da156768e249ecaf42a4d5c8770a60": {
      "model_module": "@jupyter-widgets/controls",
      "model_module_version": "1.1.0",
      "model_name": "SliderStyleModel",
      "state": {
       "description_width": ""
      }
     },
     "26239aa4d5c040428716cb1ebbbc37e6": {
      "model_module": "@jupyter-widgets/controls",
      "model_module_version": "1.1.0",
      "model_name": "SliderStyleModel",
      "state": {
       "description_width": ""
      }
     },
     "26dc5fb254de4248ae14f5648c63b2ca": {
      "model_module": "@jupyter-widgets/base",
      "model_module_version": "1.0.0",
      "model_name": "LayoutModel",
      "state": {}
     },
     "26fac5fba29b4b6883495abb95b57f8f": {
      "model_module": "@jupyter-widgets/base",
      "model_module_version": "1.0.0",
      "model_name": "LayoutModel",
      "state": {}
     },
     "27be65b2a360488eb1430d9f0937b011": {
      "model_module": "@jupyter-widgets/base",
      "model_module_version": "1.0.0",
      "model_name": "LayoutModel",
      "state": {}
     },
     "27f23111533d40449f2cc71babe674ff": {
      "model_module": "@jupyter-widgets/base",
      "model_module_version": "1.0.0",
      "model_name": "LayoutModel",
      "state": {}
     },
     "280434b65e1841dc9f182944abef04ec": {
      "model_module": "@jupyter-widgets/controls",
      "model_module_version": "1.1.0",
      "model_name": "IntSliderModel",
      "state": {
       "description": "betAmount",
       "layout": "IPY_MODEL_a2b98b875013445fbb4eb8e21767d3a7",
       "style": "IPY_MODEL_474a7029374340daa1aee9680ea9a6bd",
       "value": 50
      }
     },
     "28363a3f82254ef38557fbbe31e6ff8f": {
      "model_module": "@jupyter-widgets/base",
      "model_module_version": "1.0.0",
      "model_name": "LayoutModel",
      "state": {}
     },
     "29e8a27c2fd64aa3bc6ea65e3bc83641": {
      "model_module": "@jupyter-widgets/controls",
      "model_module_version": "1.1.0",
      "model_name": "IntSliderModel",
      "state": {
       "description": "betAmount",
       "layout": "IPY_MODEL_2efb7eaad3b44b9296c3fd051040bc35",
       "style": "IPY_MODEL_cd72c57f357e4df69f0840e46fbb949b",
       "value": 50
      }
     },
     "2b8fc71d85914c97912989cbd31f6966": {
      "model_module": "@jupyter-widgets/controls",
      "model_module_version": "1.1.0",
      "model_name": "FloatSliderModel",
      "state": {
       "description": "winProb",
       "layout": "IPY_MODEL_1b6581fe22a6486f86f8fac2fbf42889",
       "max": 1,
       "step": 0.05,
       "style": "IPY_MODEL_971dd495983c473d81d3eb15f418fcf8",
       "value": 0.5
      }
     },
     "2c130ed809644c8795d4cfb2dec5090b": {
      "model_module": "@jupyter-widgets/output",
      "model_module_version": "1.0.0",
      "model_name": "OutputModel",
      "state": {
       "layout": "IPY_MODEL_a0faac7e4c714d7ba79eca32514a3236",
       "outputs": [
        {
         "data": {
          "image/png": "iVBORw0KGgoAAAANSUhEUgAAAZMAAAElCAYAAAAhjw8JAAAABHNCSVQICAgIfAhkiAAAAAlwSFlz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\n1JRH7cPQZQEAAAAASUVORK5CYII=\n",
          "text/plain": "<matplotlib.figure.Figure at 0x1d10c054160>"
         },
         "metadata": {},
         "output_type": "display_data"
        }
       ]
      }
     },
     "2cde06a73a2f4d91ba3f8827b10b0d22": {
      "model_module": "@jupyter-widgets/controls",
      "model_module_version": "1.1.0",
      "model_name": "SliderStyleModel",
      "state": {
       "description_width": ""
      }
     },
     "2d9fd12a11b94aaba8a12aa1ce019d96": {
      "model_module": "@jupyter-widgets/controls",
      "model_module_version": "1.1.0",
      "model_name": "FloatSliderModel",
      "state": {
       "description": "winProbability",
       "layout": "IPY_MODEL_d59adf8df29a41eaa4fb0ac9cbeee762",
       "max": 1,
       "step": 0.1,
       "style": "IPY_MODEL_490a4798062b40a28552f13f039c7a57",
       "value": 0.5
      }
     },
     "2db5334f58bd483eabe248db7604b561": {
      "model_module": "@jupyter-widgets/controls",
      "model_module_version": "1.1.0",
      "model_name": "IntSliderModel",
      "state": {
       "description": "betAmount0",
       "layout": "IPY_MODEL_46b40974f8c1466ea682534801e4622a",
       "style": "IPY_MODEL_5e9813a4a4c1488391387f2947840d11"
      }
     },
     "2e41236b836b412faa879ee992d3b5d3": {
      "model_module": "@jupyter-widgets/base",
      "model_module_version": "1.0.0",
      "model_name": "LayoutModel",
      "state": {}
     },
     "2efb7eaad3b44b9296c3fd051040bc35": {
      "model_module": "@jupyter-widgets/base",
      "model_module_version": "1.0.0",
      "model_name": "LayoutModel",
      "state": {}
     },
     "30163b96987d45719162e25d1f266651": {
      "model_module": "@jupyter-widgets/controls",
      "model_module_version": "1.1.0",
      "model_name": "FloatSliderModel",
      "state": {
       "description": "odds",
       "layout": "IPY_MODEL_a5356fef93714338958f35931ce36d0f",
       "max": 10,
       "step": 0.5,
       "style": "IPY_MODEL_cbd1b1942ce94fbcac47a8e8196b9429",
       "value": 2
      }
     },
     "3224d538a992420c95266cc8ff78b4a0": {
      "model_module": "@jupyter-widgets/controls",
      "model_module_version": "1.1.0",
      "model_name": "SliderStyleModel",
      "state": {
       "description_width": ""
      }
     },
     "325a45b0e3cd4500b4e5ffe8cdc44b8a": {
      "model_module": "@jupyter-widgets/controls",
      "model_module_version": "1.1.0",
      "model_name": "IntSliderModel",
      "state": {
       "description": "k",
       "layout": "IPY_MODEL_1c64dc76f4ee49dc85ada936f07ad218",
       "style": "IPY_MODEL_c54eff47ef9d4602899fcc92aef39997",
       "value": 50
      }
     },
     "3291fbf63b6041c09f73ec15510c13ba": {
      "model_module": "@jupyter-widgets/base",
      "model_module_version": "1.0.0",
      "model_name": "LayoutModel",
      "state": {}
     },
     "3328f302a29f4d9094c723be7d1f31cd": {
      "model_module": "@jupyter-widgets/base",
      "model_module_version": "1.0.0",
      "model_name": "LayoutModel",
      "state": {}
     },
     "34f2091022c7410fbe4debf128dd19d7": {
      "model_module": "@jupyter-widgets/output",
      "model_module_version": "1.0.0",
      "model_name": "OutputModel",
      "state": {
       "layout": "IPY_MODEL_751aa08c3c904d9e82fd77650331927c",
       "outputs": [
        {
         "data": {
          "image/png": "iVBORw0KGgoAAAANSUhEUgAAAYgAAAEKCAYAAAAIO8L1AAAABHNCSVQICAgIfAhkiAAAAAlwSFlz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\nWj8AAAAASUVORK5CYII=\n",
          "text/plain": "<matplotlib.figure.Figure at 0x1d10bef1518>"
         },
         "metadata": {},
         "output_type": "display_data"
        }
       ]
      }
     },
     "35117a388bee4cbba6c3189ce97e6791": {
      "model_module": "@jupyter-widgets/base",
      "model_module_version": "1.0.0",
      "model_name": "LayoutModel",
      "state": {}
     },
     "358555d7972d41699dfebb7cbc57e4e9": {
      "model_module": "@jupyter-widgets/base",
      "model_module_version": "1.0.0",
      "model_name": "LayoutModel",
      "state": {}
     },
     "36d9cd557c634ef395e124cf8c3da699": {
      "model_module": "@jupyter-widgets/base",
      "model_module_version": "1.0.0",
      "model_name": "LayoutModel",
      "state": {}
     },
     "37b06b2e064441a98145ad3c7fb03a72": {
      "model_module": "@jupyter-widgets/base",
      "model_module_version": "1.0.0",
      "model_name": "LayoutModel",
      "state": {}
     },
     "37c80d05a2e04b19aa0c0903712c0e16": {
      "model_module": "@jupyter-widgets/controls",
      "model_module_version": "1.1.0",
      "model_name": "SliderStyleModel",
      "state": {
       "description_width": ""
      }
     },
     "37ed1f77005d4057b7f3fda52991fb27": {
      "model_module": "@jupyter-widgets/controls",
      "model_module_version": "1.1.0",
      "model_name": "FloatSliderModel",
      "state": {
       "description": "winProbability",
       "layout": "IPY_MODEL_fc0c2ad091d64f968bfa4a7928f28c06",
       "max": 1,
       "step": 0.1,
       "style": "IPY_MODEL_dbdea43c244344fb86a5dc6ce3859764",
       "value": 0.5
      }
     },
     "3867ab7c662643c4b9a228997e6d3325": {
      "model_module": "@jupyter-widgets/controls",
      "model_module_version": "1.1.0",
      "model_name": "FloatSliderModel",
      "state": {
       "description": "betProp1",
       "layout": "IPY_MODEL_4772f52f045d403cbc4457f8c129163d",
       "max": 1,
       "step": 0.05,
       "style": "IPY_MODEL_438e004ad0054cdab1e91034b528b84b",
       "value": 0.4
      }
     },
     "38ff8e3c0251452e950ca1f0014e8b86": {
      "model_module": "@jupyter-widgets/controls",
      "model_module_version": "1.1.0",
      "model_name": "IntSliderModel",
      "state": {
       "description": "numRounds",
       "layout": "IPY_MODEL_76daf41cfe7344b4b795f8e46edf7ee8",
       "min": 1,
       "style": "IPY_MODEL_c9860bb0bbd9479fa3fb352f1b4bee66",
       "value": 50
      }
     },
     "39fbd03afe004f0d83e05692c4478d1a": {
      "model_module": "@jupyter-widgets/controls",
      "model_module_version": "1.1.0",
      "model_name": "FloatSliderModel",
      "state": {
       "description": "odds",
       "layout": "IPY_MODEL_64d5f3c03252404eb25295e1266c57d9",
       "max": 10,
       "step": 0.5,
       "style": "IPY_MODEL_9fa78871b9f749cd8bd382f490c57897",
       "value": 2
      }
     },
     "3a6831656b9e49d2b543b71a0447a1b9": {
      "model_module": "@jupyter-widgets/controls",
      "model_module_version": "1.1.0",
      "model_name": "VBoxModel",
      "state": {
       "_dom_classes": [
        "widget-interact"
       ],
       "children": [
        "IPY_MODEL_ff4ba4fab411486eb59a86231e5b623d",
        "IPY_MODEL_37ed1f77005d4057b7f3fda52991fb27",
        "IPY_MODEL_ba71341eb43d44b38145328734fe85e8",
        "IPY_MODEL_c0be5ea0c321411da31255297f0bffed",
        "IPY_MODEL_185d02c14a354c3292e58360fd55dc80",
        "IPY_MODEL_d5cd62da6db146c8865792e495d2a203",
        "IPY_MODEL_7987eb64bb7c49ea8f6f8ec092a5df14",
        "IPY_MODEL_8290c6ff615849fdbf0833f9c537dcf5"
       ],
       "layout": "IPY_MODEL_26fac5fba29b4b6883495abb95b57f8f"
      }
     },
     "3af29bae5f6745eb91b59e031733e7d3": {
      "model_module": "@jupyter-widgets/controls",
      "model_module_version": "1.1.0",
      "model_name": "SliderStyleModel",
      "state": {
       "description_width": ""
      }
     },
     "3b85ca6c8dee4792a69113e7ea943f96": {
      "model_module": "@jupyter-widgets/base",
      "model_module_version": "1.0.0",
      "model_name": "LayoutModel",
      "state": {}
     },
     "3bc11198e83647989a0b0ae288f16254": {
      "model_module": "@jupyter-widgets/controls",
      "model_module_version": "1.1.0",
      "model_name": "VBoxModel",
      "state": {
       "_dom_classes": [
        "widget-interact"
       ],
       "children": [
        "IPY_MODEL_958d7381a3e04e0daaca5231d15e30c8",
        "IPY_MODEL_961160e136d642869256f7eb4c0e0149",
        "IPY_MODEL_bdf30240c4ac47ecb74052964c172bd7"
       ],
       "layout": "IPY_MODEL_ce0ccb4016144d0684114bd194121769"
      }
     },
     "3d205c0905be4d279f678548208ad825": {
      "model_module": "@jupyter-widgets/controls",
      "model_module_version": "1.1.0",
      "model_name": "IntSliderModel",
      "state": {
       "description": "e",
       "layout": "IPY_MODEL_5222162719c142deae3c3f2f9ca8e5b8",
       "max": 30,
       "min": 5,
       "step": 5,
       "style": "IPY_MODEL_43affc34c5c04d608e7dd6c7422d0311",
       "value": 20
      }
     },
     "3e5cecb37b10486dbfb129647c8364db": {
      "model_module": "@jupyter-widgets/controls",
      "model_module_version": "1.1.0",
      "model_name": "SliderStyleModel",
      "state": {
       "description_width": ""
      }
     },
     "3ea2b7f2567c4d7aab6394657752726d": {
      "model_module": "@jupyter-widgets/controls",
      "model_module_version": "1.1.0",
      "model_name": "IntSliderModel",
      "state": {
       "description": "k",
       "layout": "IPY_MODEL_bb1d3848329e4200a92c317723508712",
       "style": "IPY_MODEL_f9ae7a935b1741f7be185180df3aff48",
       "value": 50
      }
     },
     "3eca649cbee342abb5141cd85ebecb07": {
      "model_module": "@jupyter-widgets/controls",
      "model_module_version": "1.1.0",
      "model_name": "SliderStyleModel",
      "state": {
       "description_width": ""
      }
     },
     "3eff3a87f8814d1e8c4b4823dbffd88c": {
      "model_module": "@jupyter-widgets/controls",
      "model_module_version": "1.1.0",
      "model_name": "FloatSliderModel",
      "state": {
       "description": "winProb",
       "layout": "IPY_MODEL_fd1a6a31df01430f9224fd86bb6572d5",
       "max": 1,
       "step": 0.1,
       "style": "IPY_MODEL_ffedb511ba9e4a11a741941c0199a20b",
       "value": 0.5
      }
     },
     "40a88353f1b94aebb3a40e7a7faa5d97": {
      "model_module": "@jupyter-widgets/controls",
      "model_module_version": "1.1.0",
      "model_name": "SliderStyleModel",
      "state": {
       "description_width": ""
      }
     },
     "4255a4a6b960480a85fdbc4545479e2c": {
      "model_module": "@jupyter-widgets/controls",
      "model_module_version": "1.1.0",
      "model_name": "SliderStyleModel",
      "state": {
       "description_width": ""
      }
     },
     "428a67c8c5c54efa85271d0d6b926a65": {
      "model_module": "@jupyter-widgets/controls",
      "model_module_version": "1.1.0",
      "model_name": "SliderStyleModel",
      "state": {
       "description_width": ""
      }
     },
     "42d0eabaec9247f2a5a0ba02552cc53d": {
      "model_module": "@jupyter-widgets/controls",
      "model_module_version": "1.1.0",
      "model_name": "SliderStyleModel",
      "state": {
       "description_width": ""
      }
     },
     "4319b99f8f5e4a63a1e22742433bdadc": {
      "model_module": "@jupyter-widgets/controls",
      "model_module_version": "1.1.0",
      "model_name": "VBoxModel",
      "state": {
       "_dom_classes": [
        "widget-interact"
       ],
       "children": [
        "IPY_MODEL_b5b8cbd43f09489c8675eb1b35771b51",
        "IPY_MODEL_b69202170ad44905abd6b6b1ccd5ad96",
        "IPY_MODEL_e5c0f0b38fbf405e9e9f0ff607a83da0",
        "IPY_MODEL_d253e809261a497daa3af6909b9a6690",
        "IPY_MODEL_a3db45746ab64c31804913abb46cb8c0",
        "IPY_MODEL_6d6d59a82d6848e88a0d71896d94cf0c",
        "IPY_MODEL_836dec40b9e641bcb6479aa2cad4225d",
        "IPY_MODEL_c0a00787db5342a289066dacd4e33f0a"
       ],
       "layout": "IPY_MODEL_27be65b2a360488eb1430d9f0937b011"
      }
     },
     "438e004ad0054cdab1e91034b528b84b": {
      "model_module": "@jupyter-widgets/controls",
      "model_module_version": "1.1.0",
      "model_name": "SliderStyleModel",
      "state": {
       "description_width": ""
      }
     },
     "43affc34c5c04d608e7dd6c7422d0311": {
      "model_module": "@jupyter-widgets/controls",
      "model_module_version": "1.1.0",
      "model_name": "SliderStyleModel",
      "state": {
       "description_width": ""
      }
     },
     "450b40d9b07845598bb1348c9b11f6f4": {
      "model_module": "@jupyter-widgets/controls",
      "model_module_version": "1.1.0",
      "model_name": "SliderStyleModel",
      "state": {
       "description_width": ""
      }
     },
     "468399ada4474f589fc910e5c1cb4afc": {
      "model_module": "@jupyter-widgets/controls",
      "model_module_version": "1.1.0",
      "model_name": "SliderStyleModel",
      "state": {
       "description_width": ""
      }
     },
     "46b40974f8c1466ea682534801e4622a": {
      "model_module": "@jupyter-widgets/base",
      "model_module_version": "1.0.0",
      "model_name": "LayoutModel",
      "state": {}
     },
     "474a7029374340daa1aee9680ea9a6bd": {
      "model_module": "@jupyter-widgets/controls",
      "model_module_version": "1.1.0",
      "model_name": "SliderStyleModel",
      "state": {
       "description_width": ""
      }
     },
     "4772f52f045d403cbc4457f8c129163d": {
      "model_module": "@jupyter-widgets/base",
      "model_module_version": "1.0.0",
      "model_name": "LayoutModel",
      "state": {}
     },
     "47e8384b3e99462da7ed77a7567424fb": {
      "model_module": "@jupyter-widgets/controls",
      "model_module_version": "1.1.0",
      "model_name": "IntSliderModel",
      "state": {
       "description": "betAmount",
       "layout": "IPY_MODEL_5dbf35681fb64a1a8c33171626b795e3",
       "style": "IPY_MODEL_dc4f05bf038840c3bcaec8ee87701255",
       "value": 50
      }
     },
     "48361c05c1a14ed19ffc1309521623bc": {
      "model_module": "@jupyter-widgets/controls",
      "model_module_version": "1.1.0",
      "model_name": "IntSliderModel",
      "state": {
       "description": "k",
       "layout": "IPY_MODEL_19a0d2ce23c642068937961240fee222",
       "style": "IPY_MODEL_bf240e99857b4c57815d08162b04dbbf",
       "value": 50
      }
     },
     "48839804a1b44244abdbf6adf05079da": {
      "model_module": "@jupyter-widgets/base",
      "model_module_version": "1.0.0",
      "model_name": "LayoutModel",
      "state": {}
     },
     "490a4798062b40a28552f13f039c7a57": {
      "model_module": "@jupyter-widgets/controls",
      "model_module_version": "1.1.0",
      "model_name": "SliderStyleModel",
      "state": {
       "description_width": ""
      }
     },
     "4a23b693ade74accbc170713ed6b2cd5": {
      "model_module": "@jupyter-widgets/controls",
      "model_module_version": "1.1.0",
      "model_name": "FloatSliderModel",
      "state": {
       "description": "odds",
       "layout": "IPY_MODEL_71e6b23e38f4498caa279d1236679ff4",
       "max": 10,
       "step": 0.5,
       "style": "IPY_MODEL_1070b7e89637496c95e4d6a013ee125a",
       "value": 2
      }
     },
     "4a604658b2c74120941452065972cd91": {
      "model_module": "@jupyter-widgets/controls",
      "model_module_version": "1.1.0",
      "model_name": "VBoxModel",
      "state": {
       "_dom_classes": [
        "widget-interact"
       ],
       "children": [
        "IPY_MODEL_99a18a7edc8b4d87a146479a2c6a2c73",
        "IPY_MODEL_fd9e9357170f4e5699459f9d4fd6c89e",
        "IPY_MODEL_5df4bb45ea92495b93cb580ddeb921aa",
        "IPY_MODEL_0d2f20631e924d08b6819145ce7f600f",
        "IPY_MODEL_a109c796ab4e47aca12882b795e711ad"
       ],
       "layout": "IPY_MODEL_bfb3cba6479442d29ade538021e6e0b7"
      }
     },
     "4a6a89a761d046d3bea8f4ed3cea3203": {
      "model_module": "@jupyter-widgets/controls",
      "model_module_version": "1.1.0",
      "model_name": "FloatSliderModel",
      "state": {
       "description": "winProbability",
       "layout": "IPY_MODEL_63b0316e78d546a89dd8f98ae70dd497",
       "max": 1,
       "step": 0.1,
       "style": "IPY_MODEL_8d718c0a30164d3496a19a04ce51c048",
       "value": 0.5
      }
     },
     "4af302ec73654489842f7d9f45923b5c": {
      "model_module": "@jupyter-widgets/base",
      "model_module_version": "1.0.0",
      "model_name": "LayoutModel",
      "state": {}
     },
     "4b2cd6685c414831b06c1a4eafca7dc4": {
      "model_module": "@jupyter-widgets/base",
      "model_module_version": "1.0.0",
      "model_name": "LayoutModel",
      "state": {}
     },
     "4b6fbb0b950d4f3eaca55ba878c47942": {
      "model_module": "@jupyter-widgets/controls",
      "model_module_version": "1.1.0",
      "model_name": "SliderStyleModel",
      "state": {
       "description_width": ""
      }
     },
     "4b9ef8b2106a4304b34011187503e1d7": {
      "model_module": "@jupyter-widgets/controls",
      "model_module_version": "1.1.0",
      "model_name": "SliderStyleModel",
      "state": {
       "description_width": ""
      }
     },
     "4bcf772204114e33bc19454bd703c560": {
      "model_module": "@jupyter-widgets/base",
      "model_module_version": "1.0.0",
      "model_name": "LayoutModel",
      "state": {}
     },
     "4be98a89f5694bd590ca41e043207a2b": {
      "model_module": "@jupyter-widgets/base",
      "model_module_version": "1.0.0",
      "model_name": "LayoutModel",
      "state": {}
     },
     "4c3c21fcc6cc4f218f4966fd970c2888": {
      "model_module": "@jupyter-widgets/controls",
      "model_module_version": "1.1.0",
      "model_name": "IntSliderModel",
      "state": {
       "description": "e",
       "layout": "IPY_MODEL_ff3a7f69caa0453394ec18a1d8ecd450",
       "max": 30,
       "min": 5,
       "step": 5,
       "style": "IPY_MODEL_d147ca0556284b269629d37d52d1f966",
       "value": 20
      }
     },
     "4c6dc80a02d641bd8fc2f6e268793aee": {
      "model_module": "@jupyter-widgets/base",
      "model_module_version": "1.0.0",
      "model_name": "LayoutModel",
      "state": {}
     },
     "4cb497dff81b41e599f16450226629ac": {
      "model_module": "@jupyter-widgets/controls",
      "model_module_version": "1.1.0",
      "model_name": "FloatSliderModel",
      "state": {
       "description": "betProp2",
       "layout": "IPY_MODEL_27f23111533d40449f2cc71babe674ff",
       "max": 1,
       "step": 0.05,
       "style": "IPY_MODEL_e23253f690b046acb42bb78ca316164a",
       "value": 0.8
      }
     },
     "4d8e3cf07d7d418baeddd9f8919d6726": {
      "model_module": "@jupyter-widgets/output",
      "model_module_version": "1.0.0",
      "model_name": "OutputModel",
      "state": {
       "layout": "IPY_MODEL_5f0ec520244f4dc2a7465b6197c2d9e0",
       "outputs": [
        {
         "data": {
          "image/png": "iVBORw0KGgoAAAANSUhEUgAAAZUAAAElCAYAAAAskX9OAAAABHNCSVQICAgIfAhkiAAAAAlwSFlz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\nQKvTfbOiK00AAAAASUVORK5CYII=\n",
          "text/plain": "<matplotlib.figure.Figure at 0x1d10bde1240>"
         },
         "metadata": {},
         "output_type": "display_data"
        }
       ]
      }
     },
     "4fe7b12d0c9a47a49a7741cad5fcb65e": {
      "model_module": "@jupyter-widgets/controls",
      "model_module_version": "1.1.0",
      "model_name": "SliderStyleModel",
      "state": {
       "description_width": ""
      }
     },
     "504937bfaf3d47a39258477584b6ed56": {
      "model_module": "@jupyter-widgets/base",
      "model_module_version": "1.0.0",
      "model_name": "LayoutModel",
      "state": {}
     },
     "50f5e2a422ce460d87719b2a448fbb14": {
      "model_module": "@jupyter-widgets/controls",
      "model_module_version": "1.1.0",
      "model_name": "IntSliderModel",
      "state": {
       "description": "betAmount",
       "layout": "IPY_MODEL_07a9b355c7d441c0a65e7c8774475ca5",
       "style": "IPY_MODEL_53d86fad469140b89d3bd2abfe903bc3",
       "value": 50
      }
     },
     "5222162719c142deae3c3f2f9ca8e5b8": {
      "model_module": "@jupyter-widgets/base",
      "model_module_version": "1.0.0",
      "model_name": "LayoutModel",
      "state": {}
     },
     "52c7962a1b1648be9e5b764866918466": {
      "model_module": "@jupyter-widgets/controls",
      "model_module_version": "1.1.0",
      "model_name": "FloatSliderModel",
      "state": {
       "description": "winProb",
       "layout": "IPY_MODEL_de56653c975f44228ec93021f09b1465",
       "max": 1,
       "step": 0.1,
       "style": "IPY_MODEL_fc5f2767d6e84a4d998795334d98021b",
       "value": 0.5
      }
     },
     "53d86fad469140b89d3bd2abfe903bc3": {
      "model_module": "@jupyter-widgets/controls",
      "model_module_version": "1.1.0",
      "model_name": "SliderStyleModel",
      "state": {
       "description_width": ""
      }
     },
     "5436a360199d44859067da2202629ad1": {
      "model_module": "@jupyter-widgets/base",
      "model_module_version": "1.0.0",
      "model_name": "LayoutModel",
      "state": {}
     },
     "554f6e97853e4ea8b6037b082a8f8255": {
      "model_module": "@jupyter-widgets/base",
      "model_module_version": "1.0.0",
      "model_name": "LayoutModel",
      "state": {}
     },
     "5606b8b6209746acb5b78dea2f380ae9": {
      "model_module": "@jupyter-widgets/controls",
      "model_module_version": "1.1.0",
      "model_name": "IntSliderModel",
      "state": {
       "description": "betAmount",
       "layout": "IPY_MODEL_3291fbf63b6041c09f73ec15510c13ba",
       "style": "IPY_MODEL_dd2fd096fb694d279e1f697a413221e1",
       "value": 50
      }
     },
     "5919309f053e4605a654673bc7bdd3a8": {
      "model_module": "@jupyter-widgets/controls",
      "model_module_version": "1.1.0",
      "model_name": "SliderStyleModel",
      "state": {
       "description_width": ""
      }
     },
     "597e85820b6a436d844a67a6052f830f": {
      "model_module": "@jupyter-widgets/controls",
      "model_module_version": "1.1.0",
      "model_name": "FloatSliderModel",
      "state": {
       "description": "odds",
       "layout": "IPY_MODEL_1d4aa47a4e654cb7ad4db29d9b79e8ae",
       "max": 10,
       "step": 0.5,
       "style": "IPY_MODEL_40a88353f1b94aebb3a40e7a7faa5d97",
       "value": 2
      }
     },
     "5a0bef997b1546f788272d5f0011fa89": {
      "model_module": "@jupyter-widgets/controls",
      "model_module_version": "1.1.0",
      "model_name": "VBoxModel",
      "state": {
       "_dom_classes": [
        "widget-interact"
       ],
       "children": [
        "IPY_MODEL_7bc7055253564c71b41dea85fbb60cd1",
        "IPY_MODEL_325a45b0e3cd4500b4e5ffe8cdc44b8a",
        "IPY_MODEL_203ffbeaf5c547f98f82d909eaded196",
        "IPY_MODEL_08a0b279dbfa48078d42e5873e694ab2",
        "IPY_MODEL_b40c48139f94470aa2ae974544ab7714"
       ],
       "layout": "IPY_MODEL_14c38fda546d44edbca9bef427a1e6d2"
      }
     },
     "5cd288e3cebc4c4093c99faa4baafa51": {
      "model_module": "@jupyter-widgets/base",
      "model_module_version": "1.0.0",
      "model_name": "LayoutModel",
      "state": {}
     },
     "5d2bc766b2a747ad9c1ae446c471086e": {
      "model_module": "@jupyter-widgets/controls",
      "model_module_version": "1.1.0",
      "model_name": "FloatSliderModel",
      "state": {
       "description": "winProbability",
       "layout": "IPY_MODEL_cb63272f361f4a14b50f4c07208adbac",
       "max": 1,
       "step": 0.1,
       "style": "IPY_MODEL_37c80d05a2e04b19aa0c0903712c0e16",
       "value": 0.5
      }
     },
     "5d4b1393e098484f9382b59a9706f146": {
      "model_module": "@jupyter-widgets/base",
      "model_module_version": "1.0.0",
      "model_name": "LayoutModel",
      "state": {}
     },
     "5d50309707cc42748a0b56504eaf9141": {
      "model_module": "@jupyter-widgets/base",
      "model_module_version": "1.0.0",
      "model_name": "LayoutModel",
      "state": {}
     },
     "5dbf35681fb64a1a8c33171626b795e3": {
      "model_module": "@jupyter-widgets/base",
      "model_module_version": "1.0.0",
      "model_name": "LayoutModel",
      "state": {}
     },
     "5df4bb45ea92495b93cb580ddeb921aa": {
      "model_module": "@jupyter-widgets/controls",
      "model_module_version": "1.1.0",
      "model_name": "FloatSliderModel",
      "state": {
       "description": "winProb",
       "layout": "IPY_MODEL_7d0c66e953704118bf01e21741356f3d",
       "max": 1,
       "step": 0.1,
       "style": "IPY_MODEL_f3d586fc1a884d77b2fc397a3e4044c3",
       "value": 0.5
      }
     },
     "5e9813a4a4c1488391387f2947840d11": {
      "model_module": "@jupyter-widgets/controls",
      "model_module_version": "1.1.0",
      "model_name": "SliderStyleModel",
      "state": {
       "description_width": ""
      }
     },
     "5eb775ff7e1149538799916e2e2a9aa8": {
      "model_module": "@jupyter-widgets/base",
      "model_module_version": "1.0.0",
      "model_name": "LayoutModel",
      "state": {}
     },
     "5f0ec520244f4dc2a7465b6197c2d9e0": {
      "model_module": "@jupyter-widgets/base",
      "model_module_version": "1.0.0",
      "model_name": "LayoutModel",
      "state": {}
     },
     "5f37425821a743db9549468d5207f6d8": {
      "model_module": "@jupyter-widgets/controls",
      "model_module_version": "1.1.0",
      "model_name": "VBoxModel",
      "state": {
       "_dom_classes": [
        "widget-interact"
       ],
       "children": [
        "IPY_MODEL_9ba7113803fc494884405d5ed6190b0e",
        "IPY_MODEL_48361c05c1a14ed19ffc1309521623bc",
        "IPY_MODEL_ed6ef58221134684acbe8fc1804b2b9e",
        "IPY_MODEL_692fb069f45848e7ad89c54770436750",
        "IPY_MODEL_7adcf273c85a4fe6b234b967284b394d"
       ],
       "layout": "IPY_MODEL_bd7bcb4668c24de4b4dec51529f2d2b6"
      }
     },
     "5fb8e0efcbd04ab88fb3b1005d9c63a9": {
      "model_module": "@jupyter-widgets/controls",
      "model_module_version": "1.1.0",
      "model_name": "SliderStyleModel",
      "state": {
       "description_width": ""
      }
     },
     "6092e5f48c484132bbba00182bcbc891": {
      "model_module": "@jupyter-widgets/controls",
      "model_module_version": "1.1.0",
      "model_name": "SliderStyleModel",
      "state": {
       "description_width": ""
      }
     },
     "616241525dae480286bf71d4355f6da4": {
      "model_module": "@jupyter-widgets/controls",
      "model_module_version": "1.1.0",
      "model_name": "SliderStyleModel",
      "state": {
       "description_width": ""
      }
     },
     "616b7625d5664077a337cf1cf806d9f1": {
      "model_module": "@jupyter-widgets/controls",
      "model_module_version": "1.1.0",
      "model_name": "FloatSliderModel",
      "state": {
       "description": "odds",
       "layout": "IPY_MODEL_e74270051a184bb2944da16540be1dab",
       "max": 10,
       "step": 0.5,
       "style": "IPY_MODEL_9a010cff31a0477ea6f5f586f5d20a7d",
       "value": 2
      }
     },
     "6242d7d0a0664eaa822821d97d75355c": {
      "model_module": "@jupyter-widgets/controls",
      "model_module_version": "1.1.0",
      "model_name": "FloatSliderModel",
      "state": {
       "description": "winProb",
       "layout": "IPY_MODEL_24aabf303f5b459bb7ad9447bb014559",
       "max": 1,
       "step": 0.05,
       "style": "IPY_MODEL_3e5cecb37b10486dbfb129647c8364db",
       "value": 0.5
      }
     },
     "6355788a346f4934b3bbf076f8b3dc29": {
      "model_module": "@jupyter-widgets/base",
      "model_module_version": "1.0.0",
      "model_name": "LayoutModel",
      "state": {}
     },
     "6374153179e2479cab1e6e0e6fc492ab": {
      "model_module": "@jupyter-widgets/controls",
      "model_module_version": "1.1.0",
      "model_name": "FloatSliderModel",
      "state": {
       "description": "winProb",
       "layout": "IPY_MODEL_b8b12c10adbf4462a6bf19010e6f0f19",
       "max": 1,
       "step": 0.1,
       "style": "IPY_MODEL_72be24b491004886b539eafe7eebd6f5",
       "value": 0.5
      }
     },
     "63b0316e78d546a89dd8f98ae70dd497": {
      "model_module": "@jupyter-widgets/base",
      "model_module_version": "1.0.0",
      "model_name": "LayoutModel",
      "state": {}
     },
     "63e277567724497dbb3744a9bea81f99": {
      "model_module": "@jupyter-widgets/output",
      "model_module_version": "1.0.0",
      "model_name": "OutputModel",
      "state": {
       "layout": "IPY_MODEL_48839804a1b44244abdbf6adf05079da",
       "outputs": [
        {
         "data": {
          "image/png": "iVBORw0KGgoAAAANSUhEUgAAAYwAAAEKCAYAAAAB0GKPAAAABHNCSVQICAgIfAhkiAAAAAlwSFlz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\nAAAAAElFTkSuQmCC\n",
          "text/plain": "<matplotlib.figure.Figure at 0x1d10bea2dd8>"
         },
         "metadata": {},
         "output_type": "display_data"
        }
       ]
      }
     },
     "63fefc6ca93a422190cd8f36da37e17c": {
      "model_module": "@jupyter-widgets/controls",
      "model_module_version": "1.1.0",
      "model_name": "FloatSliderModel",
      "state": {
       "description": "winProbability",
       "layout": "IPY_MODEL_b5e8a3f0a48d4d1696e0a0370603bf82",
       "max": 1,
       "step": 0.1,
       "style": "IPY_MODEL_7ab892b2c744451caec0f10521357e8e",
       "value": 0.5
      }
     },
     "64d5f3c03252404eb25295e1266c57d9": {
      "model_module": "@jupyter-widgets/base",
      "model_module_version": "1.0.0",
      "model_name": "LayoutModel",
      "state": {}
     },
     "67883a245aaf43c29f2b1dfa69573688": {
      "model_module": "@jupyter-widgets/controls",
      "model_module_version": "1.1.0",
      "model_name": "FloatSliderModel",
      "state": {
       "description": "odds",
       "layout": "IPY_MODEL_4bcf772204114e33bc19454bd703c560",
       "max": 10,
       "step": 0.5,
       "style": "IPY_MODEL_26239aa4d5c040428716cb1ebbbc37e6",
       "value": 5
      }
     },
     "67ffa657c07e42fdb17392317680df50": {
      "model_module": "@jupyter-widgets/output",
      "model_module_version": "1.0.0",
      "model_name": "OutputModel",
      "state": {
       "layout": "IPY_MODEL_28363a3f82254ef38557fbbe31e6ff8f",
       "outputs": [
        {
         "data": {
          "image/png": "iVBORw0KGgoAAAANSUhEUgAAAYUAAAEKCAYAAAD9xUlFAAAABHNCSVQICAgIfAhkiAAAAAlwSFlz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\nB++QS1pLbYcAAAAASUVORK5CYII=\n",
          "text/plain": "<matplotlib.figure.Figure at 0x1d10b96d160>"
         },
         "metadata": {},
         "output_type": "display_data"
        }
       ]
      }
     },
     "691ad8080b2d42cbabf4c941a703cd44": {
      "model_module": "@jupyter-widgets/base",
      "model_module_version": "1.0.0",
      "model_name": "LayoutModel",
      "state": {}
     },
     "692fb069f45848e7ad89c54770436750": {
      "model_module": "@jupyter-widgets/controls",
      "model_module_version": "1.1.0",
      "model_name": "IntSliderModel",
      "state": {
       "description": "betAmount",
       "layout": "IPY_MODEL_7c44eae0c54f4fd0a238e604d79c560e",
       "style": "IPY_MODEL_616241525dae480286bf71d4355f6da4",
       "value": 50
      }
     },
     "699fade441e342e49d2f52fdbb0d857c": {
      "model_module": "@jupyter-widgets/controls",
      "model_module_version": "1.1.0",
      "model_name": "VBoxModel",
      "state": {
       "_dom_classes": [
        "widget-interact"
       ],
       "children": [
        "IPY_MODEL_3d205c0905be4d279f678548208ad825",
        "IPY_MODEL_597e85820b6a436d844a67a6052f830f",
        "IPY_MODEL_52c7962a1b1648be9e5b764866918466",
        "IPY_MODEL_50f5e2a422ce460d87719b2a448fbb14",
        "IPY_MODEL_bf1413931262446293e4e1a533838dda"
       ],
       "layout": "IPY_MODEL_35117a388bee4cbba6c3189ce97e6791"
      }
     },
     "69b9b63638d945c5b3abc33a7de3de19": {
      "model_module": "@jupyter-widgets/base",
      "model_module_version": "1.0.0",
      "model_name": "LayoutModel",
      "state": {}
     },
     "6b96eddca05b43f79f23150eeb47f9f7": {
      "model_module": "@jupyter-widgets/controls",
      "model_module_version": "1.1.0",
      "model_name": "SliderStyleModel",
      "state": {
       "description_width": ""
      }
     },
     "6c93dcb41fb140d2a2fab3abe7db5a3d": {
      "model_module": "@jupyter-widgets/base",
      "model_module_version": "1.0.0",
      "model_name": "LayoutModel",
      "state": {}
     },
     "6d6d59a82d6848e88a0d71896d94cf0c": {
      "model_module": "@jupyter-widgets/controls",
      "model_module_version": "1.1.0",
      "model_name": "IntSliderModel",
      "state": {
       "description": "betAmount2",
       "layout": "IPY_MODEL_fbb3aa356fc24b9aa37c67fd824b0ad7",
       "style": "IPY_MODEL_25da156768e249ecaf42a4d5c8770a60",
       "value": 80
      }
     },
     "6d8e0effe198494883ee834b4292de69": {
      "model_module": "@jupyter-widgets/controls",
      "model_module_version": "1.1.0",
      "model_name": "FloatSliderModel",
      "state": {
       "description": "winProb",
       "layout": "IPY_MODEL_175613b635104d3cbd69cd7399f688db",
       "max": 1,
       "step": 0.1,
       "style": "IPY_MODEL_7fa3f0c07acc40249b538b1314995733",
       "value": 0.5
      }
     },
     "6e9029bc031c4d2883be1343312c1d83": {
      "model_module": "@jupyter-widgets/controls",
      "model_module_version": "1.1.0",
      "model_name": "SliderStyleModel",
      "state": {
       "description_width": ""
      }
     },
     "6ffcb603aa2d4a5e9ba60627aee942f2": {
      "model_module": "@jupyter-widgets/controls",
      "model_module_version": "1.1.0",
      "model_name": "SliderStyleModel",
      "state": {
       "description_width": ""
      }
     },
     "7000a7b517c14552baece004ea31ea22": {
      "model_module": "@jupyter-widgets/output",
      "model_module_version": "1.0.0",
      "model_name": "OutputModel",
      "state": {
       "layout": "IPY_MODEL_ea5d7c5ad64140229ab4485e19bbb16c",
       "outputs": [
        {
         "data": {
          "image/png": "iVBORw0KGgoAAAANSUhEUgAAAYUAAAElCAYAAAALP/6mAAAABHNCSVQICAgIfAhkiAAAAAlwSFlz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\n",
          "text/plain": "<matplotlib.figure.Figure at 0x1d10bd9be48>"
         },
         "metadata": {},
         "output_type": "display_data"
        }
       ]
      }
     },
     "714028d26f134755bf08a5d71b971bf4": {
      "model_module": "@jupyter-widgets/base",
      "model_module_version": "1.0.0",
      "model_name": "LayoutModel",
      "state": {}
     },
     "71e6b23e38f4498caa279d1236679ff4": {
      "model_module": "@jupyter-widgets/base",
      "model_module_version": "1.0.0",
      "model_name": "LayoutModel",
      "state": {}
     },
     "72be24b491004886b539eafe7eebd6f5": {
      "model_module": "@jupyter-widgets/controls",
      "model_module_version": "1.1.0",
      "model_name": "SliderStyleModel",
      "state": {
       "description_width": ""
      }
     },
     "7485d819b707492a8ab5d63a80498412": {
      "model_module": "@jupyter-widgets/base",
      "model_module_version": "1.0.0",
      "model_name": "LayoutModel",
      "state": {}
     },
     "751aa08c3c904d9e82fd77650331927c": {
      "model_module": "@jupyter-widgets/base",
      "model_module_version": "1.0.0",
      "model_name": "LayoutModel",
      "state": {}
     },
     "76daf41cfe7344b4b795f8e46edf7ee8": {
      "model_module": "@jupyter-widgets/base",
      "model_module_version": "1.0.0",
      "model_name": "LayoutModel",
      "state": {}
     },
     "7720b22838a2426a889e492188f6e0d0": {
      "model_module": "@jupyter-widgets/controls",
      "model_module_version": "1.1.0",
      "model_name": "SliderStyleModel",
      "state": {
       "description_width": ""
      }
     },
     "78a35af1a082436ba4d9925eafa23f80": {
      "model_module": "@jupyter-widgets/controls",
      "model_module_version": "1.1.0",
      "model_name": "SliderStyleModel",
      "state": {
       "description_width": ""
      }
     },
     "7987eb64bb7c49ea8f6f8ec092a5df14": {
      "model_module": "@jupyter-widgets/controls",
      "model_module_version": "1.1.0",
      "model_name": "IntSliderModel",
      "state": {
       "description": "betAmount3",
       "layout": "IPY_MODEL_4c6dc80a02d641bd8fc2f6e268793aee",
       "style": "IPY_MODEL_91195f7d0298438a9de5927fd83f0fc6",
       "value": 100
      }
     },
     "7ab892b2c744451caec0f10521357e8e": {
      "model_module": "@jupyter-widgets/controls",
      "model_module_version": "1.1.0",
      "model_name": "SliderStyleModel",
      "state": {
       "description_width": ""
      }
     },
     "7adcf273c85a4fe6b234b967284b394d": {
      "model_module": "@jupyter-widgets/output",
      "model_module_version": "1.0.0",
      "model_name": "OutputModel",
      "state": {
       "layout": "IPY_MODEL_19d5cc27b90f4f4fb0f9eed44c74ebc9",
       "outputs": [
        {
         "name": "stdout",
         "output_type": "stream",
         "text": "Total bankroll is 17500 dollars (to nearest dollar).\nAverage bankroll is 350 dollars (to nearest dollar).\n"
        }
       ]
      }
     },
     "7bc7055253564c71b41dea85fbb60cd1": {
      "model_module": "@jupyter-widgets/controls",
      "model_module_version": "1.1.0",
      "model_name": "IntSliderModel",
      "state": {
       "description": "n",
       "layout": "IPY_MODEL_1b91acee1d484a59b9e9dbe545646478",
       "min": 1,
       "style": "IPY_MODEL_f10f768007f24f94afc7a6e58c0b376c",
       "value": 50
      }
     },
     "7be4bbc00b4d40c59b91c5e8ad80cf06": {
      "model_module": "@jupyter-widgets/controls",
      "model_module_version": "1.1.0",
      "model_name": "IntSliderModel",
      "state": {
       "description": "betAmount2",
       "layout": "IPY_MODEL_5eb775ff7e1149538799916e2e2a9aa8",
       "style": "IPY_MODEL_2cde06a73a2f4d91ba3f8827b10b0d22",
       "value": 80
      }
     },
     "7c44eae0c54f4fd0a238e604d79c560e": {
      "model_module": "@jupyter-widgets/base",
      "model_module_version": "1.0.0",
      "model_name": "LayoutModel",
      "state": {}
     },
     "7d0c66e953704118bf01e21741356f3d": {
      "model_module": "@jupyter-widgets/base",
      "model_module_version": "1.0.0",
      "model_name": "LayoutModel",
      "state": {}
     },
     "7d8d1545a99c44eabdb8f147834081f2": {
      "model_module": "@jupyter-widgets/controls",
      "model_module_version": "1.1.0",
      "model_name": "IntSliderModel",
      "state": {
       "description": "n",
       "layout": "IPY_MODEL_691ad8080b2d42cbabf4c941a703cd44",
       "min": 1,
       "style": "IPY_MODEL_988ff68a81b44f15a6f62f7d791608cc",
       "value": 50
      }
     },
     "7f1f13be160b4c14980bc058e976841b": {
      "model_module": "@jupyter-widgets/controls",
      "model_module_version": "1.1.0",
      "model_name": "SliderStyleModel",
      "state": {
       "description_width": ""
      }
     },
     "7fa3f0c07acc40249b538b1314995733": {
      "model_module": "@jupyter-widgets/controls",
      "model_module_version": "1.1.0",
      "model_name": "SliderStyleModel",
      "state": {
       "description_width": ""
      }
     },
     "7fad6f8e6e4e49da8c37ccea19cfe9dd": {
      "model_module": "@jupyter-widgets/controls",
      "model_module_version": "1.1.0",
      "model_name": "SliderStyleModel",
      "state": {
       "description_width": ""
      }
     },
     "80a0eb95b66e43c58ef0bce3ae3ce494": {
      "model_module": "@jupyter-widgets/base",
      "model_module_version": "1.0.0",
      "model_name": "LayoutModel",
      "state": {}
     },
     "8247e38a9d9e4445a5e8fe1cfed071bd": {
      "model_module": "@jupyter-widgets/controls",
      "model_module_version": "1.1.0",
      "model_name": "FloatSliderModel",
      "state": {
       "description": "odds",
       "layout": "IPY_MODEL_cc1c52b3157c44a28616bac4346d1964",
       "max": 10,
       "step": 0.5,
       "style": "IPY_MODEL_f35a38e4a7154a1fa6a6eab49110966a",
       "value": 2
      }
     },
     "827373c9d99a4b4c9c49cbe61757d3ec": {
      "model_module": "@jupyter-widgets/base",
      "model_module_version": "1.0.0",
      "model_name": "LayoutModel",
      "state": {}
     },
     "8290c6ff615849fdbf0833f9c537dcf5": {
      "model_module": "@jupyter-widgets/output",
      "model_module_version": "1.0.0",
      "model_name": "OutputModel",
      "state": {
       "layout": "IPY_MODEL_b597e8ce57024ee18cee5e3a2380b22d",
       "outputs": [
        {
         "data": {
          "image/png": "iVBORw0KGgoAAAANSUhEUgAAAZUAAAElCAYAAAAskX9OAAAABHNCSVQICAgIfAhkiAAAAAlwSFlz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\nSUVORK5CYII=\n",
          "text/plain": "<matplotlib.figure.Figure at 0x1d10c060e48>"
         },
         "metadata": {},
         "output_type": "display_data"
        }
       ]
      }
     },
     "8316fbeec23b46bc9619c138c5f0106d": {
      "model_module": "@jupyter-widgets/base",
      "model_module_version": "1.0.0",
      "model_name": "LayoutModel",
      "state": {}
     },
     "836dec40b9e641bcb6479aa2cad4225d": {
      "model_module": "@jupyter-widgets/controls",
      "model_module_version": "1.1.0",
      "model_name": "IntSliderModel",
      "state": {
       "description": "betAmount3",
       "layout": "IPY_MODEL_83c9eaf9ea584a6cba6c8085556f9ff2",
       "style": "IPY_MODEL_f5024e8b114d4b5ca2710dcc565bde0e",
       "value": 100
      }
     },
     "83c9eaf9ea584a6cba6c8085556f9ff2": {
      "model_module": "@jupyter-widgets/base",
      "model_module_version": "1.0.0",
      "model_name": "LayoutModel",
      "state": {}
     },
     "87c766c26e0a434b81ba3614d93a817a": {
      "model_module": "@jupyter-widgets/controls",
      "model_module_version": "1.1.0",
      "model_name": "IntSliderModel",
      "state": {
       "description": "betAmount1",
       "layout": "IPY_MODEL_e6895af6418c46c39090ccb41cc5eb27",
       "style": "IPY_MODEL_428a67c8c5c54efa85271d0d6b926a65",
       "value": 50
      }
     },
     "87e4d02874cb4318beaaaf520eaa4437": {
      "model_module": "@jupyter-widgets/controls",
      "model_module_version": "1.1.0",
      "model_name": "FloatSliderModel",
      "state": {
       "description": "betProp",
       "layout": "IPY_MODEL_debb5ff2cf4e42fda2ac0e5436dec52a",
       "max": 1,
       "step": 0.05,
       "style": "IPY_MODEL_8deedd5ff8cc4ef8be6555db7a5fa8b7",
       "value": 0.5
      }
     },
     "89de49f34baa4ca4a85ee79e0da21eec": {
      "model_module": "@jupyter-widgets/controls",
      "model_module_version": "1.1.0",
      "model_name": "SliderStyleModel",
      "state": {
       "description_width": ""
      }
     },
     "8a3f2bf838cd4b24a6410581d1f0e3b7": {
      "model_module": "@jupyter-widgets/controls",
      "model_module_version": "1.1.0",
      "model_name": "FloatSliderModel",
      "state": {
       "description": "winProb",
       "layout": "IPY_MODEL_fc3f625af83f4b26a5267bb95fc91052",
       "max": 1,
       "step": 0.1,
       "style": "IPY_MODEL_f8d7e70fea4c4c66b025dfd6aa09b04f",
       "value": 0.5
      }
     },
     "8aa92f17061844269fefe250f42b58d5": {
      "model_module": "@jupyter-widgets/base",
      "model_module_version": "1.0.0",
      "model_name": "LayoutModel",
      "state": {}
     },
     "8acb9efaca1940889639b2baa6b46726": {
      "model_module": "@jupyter-widgets/controls",
      "model_module_version": "1.1.0",
      "model_name": "SliderStyleModel",
      "state": {
       "description_width": ""
      }
     },
     "8b841327eccd40fa83ed847a8ce0256f": {
      "model_module": "@jupyter-widgets/controls",
      "model_module_version": "1.1.0",
      "model_name": "FloatSliderModel",
      "state": {
       "description": "odds",
       "layout": "IPY_MODEL_3b85ca6c8dee4792a69113e7ea943f96",
       "max": 10,
       "step": 0.5,
       "style": "IPY_MODEL_c91cd8347af34af3a58a6de2726dbb75",
       "value": 2
      }
     },
     "8c6d427ea38340e38f2e3ce3858f47db": {
      "model_module": "@jupyter-widgets/output",
      "model_module_version": "1.0.0",
      "model_name": "OutputModel",
      "state": {
       "layout": "IPY_MODEL_04bf5c616de44d3aab27559c91480d2f",
       "outputs": [
        {
         "data": {
          "image/png": "iVBORw0KGgoAAAANSUhEUgAAAYgAAAEKCAYAAAAIO8L1AAAABHNCSVQICAgIfAhkiAAAAAlwSFlz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\nWj8AAAAASUVORK5CYII=\n",
          "text/plain": "<matplotlib.figure.Figure at 0x1d10bfda390>"
         },
         "metadata": {},
         "output_type": "display_data"
        }
       ]
      }
     },
     "8d1a9d2e2b1444eb8832a11a3f13f546": {
      "model_module": "@jupyter-widgets/base",
      "model_module_version": "1.0.0",
      "model_name": "LayoutModel",
      "state": {}
     },
     "8d718c0a30164d3496a19a04ce51c048": {
      "model_module": "@jupyter-widgets/controls",
      "model_module_version": "1.1.0",
      "model_name": "SliderStyleModel",
      "state": {
       "description_width": ""
      }
     },
     "8deedd5ff8cc4ef8be6555db7a5fa8b7": {
      "model_module": "@jupyter-widgets/controls",
      "model_module_version": "1.1.0",
      "model_name": "SliderStyleModel",
      "state": {
       "description_width": ""
      }
     },
     "8f2f82f7d8dc4262ab34a61d399101a5": {
      "model_module": "@jupyter-widgets/controls",
      "model_module_version": "1.1.0",
      "model_name": "VBoxModel",
      "state": {
       "_dom_classes": [
        "widget-interact"
       ],
       "children": [
        "IPY_MODEL_001326e9d57945539d2fa847ef7f56b2",
        "IPY_MODEL_63fefc6ca93a422190cd8f36da37e17c",
        "IPY_MODEL_149746acd23448e6b814e7cbc865744b",
        "IPY_MODEL_87e4d02874cb4318beaaaf520eaa4437",
        "IPY_MODEL_d5a49cb908384a3bbd1de0c9ffa98630"
       ],
       "layout": "IPY_MODEL_1f5c73d20479476ca4282d88e6cbb416"
      }
     },
     "901030edd672466f902258213789cf64": {
      "model_module": "@jupyter-widgets/controls",
      "model_module_version": "1.1.0",
      "model_name": "FloatSliderModel",
      "state": {
       "description": "winProbability",
       "layout": "IPY_MODEL_97acbfa2d36140d19452c70d6820d18c",
       "max": 1,
       "step": 0.1,
       "style": "IPY_MODEL_468399ada4474f589fc910e5c1cb4afc",
       "value": 0.5
      }
     },
     "90341589eb22434c90ad73f47f169891": {
      "model_module": "@jupyter-widgets/controls",
      "model_module_version": "1.1.0",
      "model_name": "SliderStyleModel",
      "state": {
       "description_width": ""
      }
     },
     "90b783681b004f199677d1c1a0c0cf01": {
      "model_module": "@jupyter-widgets/controls",
      "model_module_version": "1.1.0",
      "model_name": "IntSliderModel",
      "state": {
       "description": "betAmount",
       "layout": "IPY_MODEL_2197dd3e554a493d8208428fc6e395e7",
       "style": "IPY_MODEL_dd722254695e433d804724a93569d593",
       "value": 50
      }
     },
     "91195f7d0298438a9de5927fd83f0fc6": {
      "model_module": "@jupyter-widgets/controls",
      "model_module_version": "1.1.0",
      "model_name": "SliderStyleModel",
      "state": {
       "description_width": ""
      }
     },
     "91263df72d314fe8b0bcf61f3af58d39": {
      "model_module": "@jupyter-widgets/controls",
      "model_module_version": "1.1.0",
      "model_name": "IntSliderModel",
      "state": {
       "description": "numRounds",
       "layout": "IPY_MODEL_00bf43d323554fa39978482728047f59",
       "min": 1,
       "style": "IPY_MODEL_4255a4a6b960480a85fdbc4545479e2c",
       "value": 50
      }
     },
     "91c4f2c47f7948e8824aab08a727c3d8": {
      "model_module": "@jupyter-widgets/controls",
      "model_module_version": "1.1.0",
      "model_name": "IntSliderModel",
      "state": {
       "description": "betAmount2",
       "layout": "IPY_MODEL_de4dfd85148942e680a0012d5d6b044a",
       "style": "IPY_MODEL_d229eaf640f54aa8a1373c779f12a394",
       "value": 50
      }
     },
     "9290ae6fc93349b3be9309bfaf32aa4c": {
      "model_module": "@jupyter-widgets/controls",
      "model_module_version": "1.1.0",
      "model_name": "FloatSliderModel",
      "state": {
       "description": "odds",
       "layout": "IPY_MODEL_a041cc983c71440ab7a3455037729bd5",
       "max": 10,
       "step": 0.5,
       "style": "IPY_MODEL_78a35af1a082436ba4d9925eafa23f80",
       "value": 5
      }
     },
     "93354485c6cc4c478214025915a6ba64": {
      "model_module": "@jupyter-widgets/base",
      "model_module_version": "1.0.0",
      "model_name": "LayoutModel",
      "state": {}
     },
     "93d9af27f7d3494999cd11f494a33280": {
      "model_module": "@jupyter-widgets/controls",
      "model_module_version": "1.1.0",
      "model_name": "SliderStyleModel",
      "state": {
       "description_width": ""
      }
     },
     "940f18a905ae4912916ab9c54472012e": {
      "model_module": "@jupyter-widgets/base",
      "model_module_version": "1.0.0",
      "model_name": "LayoutModel",
      "state": {}
     },
     "94224fcae37940b7a5d566375b6194df": {
      "model_module": "@jupyter-widgets/base",
      "model_module_version": "1.0.0",
      "model_name": "LayoutModel",
      "state": {}
     },
     "953bc4033a21444c9f695f85963da853": {
      "model_module": "@jupyter-widgets/controls",
      "model_module_version": "1.1.0",
      "model_name": "VBoxModel",
      "state": {
       "_dom_classes": [
        "widget-interact"
       ],
       "children": [
        "IPY_MODEL_616b7625d5664077a337cf1cf806d9f1",
        "IPY_MODEL_8a3f2bf838cd4b24a6410581d1f0e3b7",
        "IPY_MODEL_67ffa657c07e42fdb17392317680df50"
       ],
       "layout": "IPY_MODEL_acb30d48e8204e19acf87754a44bba76"
      }
     },
     "9570b6b84f0740d0aac79d9ee24a82f4": {
      "model_module": "@jupyter-widgets/controls",
      "model_module_version": "1.1.0",
      "model_name": "VBoxModel",
      "state": {
       "_dom_classes": [
        "widget-interact"
       ],
       "children": [
        "IPY_MODEL_9cf2704a3a21479d8d415c538b0b9ca4",
        "IPY_MODEL_2d9fd12a11b94aaba8a12aa1ce019d96",
        "IPY_MODEL_b88f124f7ace4fc2b40c446a49512f42",
        "IPY_MODEL_29e8a27c2fd64aa3bc6ea65e3bc83641",
        "IPY_MODEL_a80bd375ef49449faf2231adcf035c33"
       ],
       "layout": "IPY_MODEL_dc911b9cff09499e83200645b1e10105"
      }
     },
     "958d7381a3e04e0daaca5231d15e30c8": {
      "model_module": "@jupyter-widgets/controls",
      "model_module_version": "1.1.0",
      "model_name": "FloatSliderModel",
      "state": {
       "description": "odds",
       "layout": "IPY_MODEL_cf9474ac55044a1e8cc13bba4ec163a9",
       "max": 10,
       "step": 0.5,
       "style": "IPY_MODEL_6e9029bc031c4d2883be1343312c1d83",
       "value": 2
      }
     },
     "95cc66ce3e6543acb4b467479fc0b04e": {
      "model_module": "@jupyter-widgets/controls",
      "model_module_version": "1.1.0",
      "model_name": "SliderStyleModel",
      "state": {
       "description_width": ""
      }
     },
     "961160e136d642869256f7eb4c0e0149": {
      "model_module": "@jupyter-widgets/controls",
      "model_module_version": "1.1.0",
      "model_name": "FloatSliderModel",
      "state": {
       "description": "winProb",
       "layout": "IPY_MODEL_b2eb02dee8164aa7bede6fadb46ad1c2",
       "max": 1,
       "step": 0.1,
       "style": "IPY_MODEL_3af29bae5f6745eb91b59e031733e7d3",
       "value": 0.5
      }
     },
     "9630983c9c014115b14fe7ccb3b02be7": {
      "model_module": "@jupyter-widgets/base",
      "model_module_version": "1.0.0",
      "model_name": "LayoutModel",
      "state": {}
     },
     "971dd495983c473d81d3eb15f418fcf8": {
      "model_module": "@jupyter-widgets/controls",
      "model_module_version": "1.1.0",
      "model_name": "SliderStyleModel",
      "state": {
       "description_width": ""
      }
     },
     "97a5e97598f14c89b4df8fea1c9e8533": {
      "model_module": "@jupyter-widgets/base",
      "model_module_version": "1.0.0",
      "model_name": "LayoutModel",
      "state": {}
     },
     "97acbfa2d36140d19452c70d6820d18c": {
      "model_module": "@jupyter-widgets/base",
      "model_module_version": "1.0.0",
      "model_name": "LayoutModel",
      "state": {}
     },
     "988ff68a81b44f15a6f62f7d791608cc": {
      "model_module": "@jupyter-widgets/controls",
      "model_module_version": "1.1.0",
      "model_name": "SliderStyleModel",
      "state": {
       "description_width": ""
      }
     },
     "99a18a7edc8b4d87a146479a2c6a2c73": {
      "model_module": "@jupyter-widgets/controls",
      "model_module_version": "1.1.0",
      "model_name": "FloatSliderModel",
      "state": {
       "description": "e",
       "layout": "IPY_MODEL_224167927dff4c4a9c6d2911d424904a",
       "max": 1,
       "step": 0.05,
       "style": "IPY_MODEL_a0b86046f7534dab8f515dcf0fdaac82",
       "value": 0.2
      }
     },
     "9a010cff31a0477ea6f5f586f5d20a7d": {
      "model_module": "@jupyter-widgets/controls",
      "model_module_version": "1.1.0",
      "model_name": "SliderStyleModel",
      "state": {
       "description_width": ""
      }
     },
     "9afa1ab9991846adada2368cd1a3cca9": {
      "model_module": "@jupyter-widgets/base",
      "model_module_version": "1.0.0",
      "model_name": "LayoutModel",
      "state": {}
     },
     "9b72e99d481f48beb96c03cdbd904691": {
      "model_module": "@jupyter-widgets/base",
      "model_module_version": "1.0.0",
      "model_name": "LayoutModel",
      "state": {}
     },
     "9ba7113803fc494884405d5ed6190b0e": {
      "model_module": "@jupyter-widgets/controls",
      "model_module_version": "1.1.0",
      "model_name": "IntSliderModel",
      "state": {
       "description": "n",
       "layout": "IPY_MODEL_daf828993699409385c06e2e059d5d9f",
       "min": 1,
       "style": "IPY_MODEL_b1bc00c028a34979aaa935321474e958",
       "value": 50
      }
     },
     "9be6f57522cb4f8db1754dbf7f7eb26f": {
      "model_module": "@jupyter-widgets/controls",
      "model_module_version": "1.1.0",
      "model_name": "FloatSliderModel",
      "state": {
       "description": "winProb",
       "layout": "IPY_MODEL_e9ce0e1af21c419391f4ea206f2196d4",
       "max": 1,
       "step": 0.1,
       "style": "IPY_MODEL_b85ffa0cacd04e92a0aaf2f6a7d91d0d",
       "value": 0.5
      }
     },
     "9cf2704a3a21479d8d415c538b0b9ca4": {
      "model_module": "@jupyter-widgets/controls",
      "model_module_version": "1.1.0",
      "model_name": "FloatSliderModel",
      "state": {
       "description": "odds",
       "layout": "IPY_MODEL_0c79b068e3ed4d6d898ec93d70e0662c",
       "max": 10,
       "step": 0.5,
       "style": "IPY_MODEL_7f1f13be160b4c14980bc058e976841b",
       "value": 5
      }
     },
     "9d63d0a5c35c4b4ab5ff802e359faf42": {
      "model_module": "@jupyter-widgets/controls",
      "model_module_version": "1.1.0",
      "model_name": "SliderStyleModel",
      "state": {
       "description_width": ""
      }
     },
     "9de9f3de108449f08ef11d087b12b004": {
      "model_module": "@jupyter-widgets/controls",
      "model_module_version": "1.1.0",
      "model_name": "VBoxModel",
      "state": {
       "_dom_classes": [
        "widget-interact"
       ],
       "children": [
        "IPY_MODEL_c80a61308c844ebba0780ac843b008e0",
        "IPY_MODEL_6d8e0effe198494883ee834b4292de69",
        "IPY_MODEL_e33a609713b944e494b24ae27e65a64f"
       ],
       "layout": "IPY_MODEL_9b72e99d481f48beb96c03cdbd904691"
      }
     },
     "9fa78871b9f749cd8bd382f490c57897": {
      "model_module": "@jupyter-widgets/controls",
      "model_module_version": "1.1.0",
      "model_name": "SliderStyleModel",
      "state": {
       "description_width": ""
      }
     },
     "9facf6d9e5f94fb681a9290fda7423cb": {
      "model_module": "@jupyter-widgets/base",
      "model_module_version": "1.0.0",
      "model_name": "LayoutModel",
      "state": {}
     },
     "a041cc983c71440ab7a3455037729bd5": {
      "model_module": "@jupyter-widgets/base",
      "model_module_version": "1.0.0",
      "model_name": "LayoutModel",
      "state": {}
     },
     "a04cebbc6c4c4a99a00d934a22f7d03f": {
      "model_module": "@jupyter-widgets/base",
      "model_module_version": "1.0.0",
      "model_name": "LayoutModel",
      "state": {}
     },
     "a051317def3745a3bf2b6104f250a226": {
      "model_module": "@jupyter-widgets/base",
      "model_module_version": "1.0.0",
      "model_name": "LayoutModel",
      "state": {}
     },
     "a08f04c2104a4a6086872fac7dd0e747": {
      "model_module": "@jupyter-widgets/base",
      "model_module_version": "1.0.0",
      "model_name": "LayoutModel",
      "state": {}
     },
     "a0b86046f7534dab8f515dcf0fdaac82": {
      "model_module": "@jupyter-widgets/controls",
      "model_module_version": "1.1.0",
      "model_name": "SliderStyleModel",
      "state": {
       "description_width": ""
      }
     },
     "a0faac7e4c714d7ba79eca32514a3236": {
      "model_module": "@jupyter-widgets/base",
      "model_module_version": "1.0.0",
      "model_name": "LayoutModel",
      "state": {}
     },
     "a109c796ab4e47aca12882b795e711ad": {
      "model_module": "@jupyter-widgets/output",
      "model_module_version": "1.0.0",
      "model_name": "OutputModel",
      "state": {
       "layout": "IPY_MODEL_5cd288e3cebc4c4093c99faa4baafa51",
       "outputs": [
        {
         "data": {
          "image/png": "iVBORw0KGgoAAAANSUhEUgAAAaEAAAEWCAYAAADPZygPAAAABHNCSVQICAgIfAhkiAAAAAlwSFlz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\n7gs8AAAAAElFTkSuQmCC\n",
          "text/plain": "<matplotlib.figure.Figure at 0x1d10bdf9a58>"
         },
         "metadata": {},
         "output_type": "display_data"
        }
       ]
      }
     },
     "a123106b818f4578842d17510d2c9a45": {
      "model_module": "@jupyter-widgets/base",
      "model_module_version": "1.0.0",
      "model_name": "LayoutModel",
      "state": {}
     },
     "a148c0f10c9042dfbff3474e10090fba": {
      "model_module": "@jupyter-widgets/output",
      "model_module_version": "1.0.0",
      "model_name": "OutputModel",
      "state": {
       "layout": "IPY_MODEL_d7b44106d5244a8bb06ab35aeb55f252",
       "outputs": [
        {
         "data": {
          "image/png": "iVBORw0KGgoAAAANSUhEUgAAAaQAAAEWCAYAAAApTuNLAAAABHNCSVQICAgIfAhkiAAAAAlwSFlz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\nosAwMwAAAABJRU5ErkJggg==\n",
          "text/plain": "<matplotlib.figure.Figure at 0x1d10c1cc780>"
         },
         "metadata": {},
         "output_type": "display_data"
        }
       ]
      }
     },
     "a2b92db837f9453ca1fe25bd83415bfa": {
      "model_module": "@jupyter-widgets/controls",
      "model_module_version": "1.1.0",
      "model_name": "VBoxModel",
      "state": {
       "_dom_classes": [
        "widget-interact"
       ],
       "children": [
        "IPY_MODEL_7d8d1545a99c44eabdb8f147834081f2",
        "IPY_MODEL_3ea2b7f2567c4d7aab6394657752726d",
        "IPY_MODEL_aea0da197e1740aa914f9832d10296c3",
        "IPY_MODEL_a393596191ac41b58d457ac4d7cb693b",
        "IPY_MODEL_c4de2a576b33407581e3cba35c028c92"
       ],
       "layout": "IPY_MODEL_4be98a89f5694bd590ca41e043207a2b"
      }
     },
     "a2b98b875013445fbb4eb8e21767d3a7": {
      "model_module": "@jupyter-widgets/base",
      "model_module_version": "1.0.0",
      "model_name": "LayoutModel",
      "state": {}
     },
     "a393596191ac41b58d457ac4d7cb693b": {
      "model_module": "@jupyter-widgets/controls",
      "model_module_version": "1.1.0",
      "model_name": "IntSliderModel",
      "state": {
       "description": "betAmount",
       "layout": "IPY_MODEL_b818ad78f8284fc4aaaf8c0b0835f188",
       "style": "IPY_MODEL_9d63d0a5c35c4b4ab5ff802e359faf42",
       "value": 50
      }
     },
     "a3db45746ab64c31804913abb46cb8c0": {
      "model_module": "@jupyter-widgets/controls",
      "model_module_version": "1.1.0",
      "model_name": "IntSliderModel",
      "state": {
       "description": "betAmount1",
       "layout": "IPY_MODEL_6c93dcb41fb140d2a2fab3abe7db5a3d",
       "style": "IPY_MODEL_b4855b3a511c4615953dd1553ec29833",
       "value": 40
      }
     },
     "a5157f8919304d4b8403e62a9258dbcc": {
      "model_module": "@jupyter-widgets/controls",
      "model_module_version": "1.1.0",
      "model_name": "VBoxModel",
      "state": {
       "_dom_classes": [
        "widget-interact"
       ],
       "children": [
        "IPY_MODEL_fe117d154fa14ffd96e86a6f40f61294",
        "IPY_MODEL_148a2b9bc9164616983dcbda169d0158",
        "IPY_MODEL_b66fb9e32edd4dfb8992d5b814904712",
        "IPY_MODEL_280434b65e1841dc9f182944abef04ec",
        "IPY_MODEL_0ded31f1ddc646a5ac4ab3f9678a56d0"
       ],
       "layout": "IPY_MODEL_200485cf1d974089b7d267665d8815bc"
      }
     },
     "a5356fef93714338958f35931ce36d0f": {
      "model_module": "@jupyter-widgets/base",
      "model_module_version": "1.0.0",
      "model_name": "LayoutModel",
      "state": {}
     },
     "a5cb8543f6ee452a8b685ccb318b6ba8": {
      "model_module": "@jupyter-widgets/controls",
      "model_module_version": "1.1.0",
      "model_name": "SliderStyleModel",
      "state": {
       "description_width": ""
      }
     },
     "a6113681cba2405ba1c4a221822940d6": {
      "model_module": "@jupyter-widgets/output",
      "model_module_version": "1.0.0",
      "model_name": "OutputModel",
      "state": {
       "layout": "IPY_MODEL_f65aac46bded46eb88674bddf01e670d",
       "outputs": [
        {
         "data": {
          "image/png": "iVBORw0KGgoAAAANSUhEUgAAAYwAAAEKCAYAAAAB0GKPAAAABHNCSVQICAgIfAhkiAAAAAlwSFlz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\nAAAAAElFTkSuQmCC\n",
          "text/plain": "<matplotlib.figure.Figure at 0x1d10bf2feb8>"
         },
         "metadata": {},
         "output_type": "display_data"
        }
       ]
      }
     },
     "a697c815b24c4a2a9160c1cdf060ec4f": {
      "model_module": "@jupyter-widgets/controls",
      "model_module_version": "1.1.0",
      "model_name": "SliderStyleModel",
      "state": {
       "description_width": ""
      }
     },
     "a76b0bce699b4de59e8eb44eeadea110": {
      "model_module": "@jupyter-widgets/base",
      "model_module_version": "1.0.0",
      "model_name": "LayoutModel",
      "state": {}
     },
     "a80bd375ef49449faf2231adcf035c33": {
      "model_module": "@jupyter-widgets/output",
      "model_module_version": "1.0.0",
      "model_name": "OutputModel",
      "state": {
       "layout": "IPY_MODEL_ea68b7408c814e69885899e26a710fbc",
       "outputs": [
        {
         "data": {
          "image/png": "iVBORw0KGgoAAAANSUhEUgAAAZMAAAElCAYAAAAhjw8JAAAABHNCSVQICAgIfAhkiAAAAAlwSFlz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\n1JRH7cPQZQEAAAAASUVORK5CYII=\n",
          "text/plain": "<matplotlib.figure.Figure at 0x1d10be18a20>"
         },
         "metadata": {},
         "output_type": "display_data"
        }
       ]
      }
     },
     "a875671b3a3f439f8296e40d4c74b5cf": {
      "model_module": "@jupyter-widgets/controls",
      "model_module_version": "1.1.0",
      "model_name": "SliderStyleModel",
      "state": {
       "description_width": ""
      }
     },
     "a8f7d1f89ebb420288e29314f05e0ba4": {
      "model_module": "@jupyter-widgets/base",
      "model_module_version": "1.0.0",
      "model_name": "LayoutModel",
      "state": {}
     },
     "a9b2e1de78504a82bb6e4a4671997d14": {
      "model_module": "@jupyter-widgets/output",
      "model_module_version": "1.0.0",
      "model_name": "OutputModel",
      "state": {
       "layout": "IPY_MODEL_9afa1ab9991846adada2368cd1a3cca9",
       "outputs": [
        {
         "data": {
          "image/png": "iVBORw0KGgoAAAANSUhEUgAAAXwAAAEKCAYAAAARnO4WAAAABHNCSVQICAgIfAhkiAAAAAlwSFlz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\nRU5ErkJggg==\n",
          "text/plain": "<matplotlib.figure.Figure at 0x1d10c0c9978>"
         },
         "metadata": {},
         "output_type": "display_data"
        }
       ]
      }
     },
     "acb30d48e8204e19acf87754a44bba76": {
      "model_module": "@jupyter-widgets/base",
      "model_module_version": "1.0.0",
      "model_name": "LayoutModel",
      "state": {}
     },
     "ad565032d6ef4f7492b8a2b8e35bdc3b": {
      "model_module": "@jupyter-widgets/controls",
      "model_module_version": "1.1.0",
      "model_name": "IntSliderModel",
      "state": {
       "description": "betAmount3",
       "layout": "IPY_MODEL_5d50309707cc42748a0b56504eaf9141",
       "style": "IPY_MODEL_95cc66ce3e6543acb4b467479fc0b04e",
       "value": 100
      }
     },
     "addd5670e12d49cdbe0603d14854d168": {
      "model_module": "@jupyter-widgets/base",
      "model_module_version": "1.0.0",
      "model_name": "LayoutModel",
      "state": {}
     },
     "aea0da197e1740aa914f9832d10296c3": {
      "model_module": "@jupyter-widgets/controls",
      "model_module_version": "1.1.0",
      "model_name": "FloatSliderModel",
      "state": {
       "description": "odds",
       "layout": "IPY_MODEL_b121085994d144f8959d01c60f0e1e11",
       "max": 10,
       "step": 0.5,
       "style": "IPY_MODEL_e7fcf24b00b142ed874b796d029b1753",
       "value": 5
      }
     },
     "af3e66e1c98a404ab697876a5b5afce2": {
      "model_module": "@jupyter-widgets/controls",
      "model_module_version": "1.1.0",
      "model_name": "FloatSliderModel",
      "state": {
       "description": "betProp2",
       "layout": "IPY_MODEL_6355788a346f4934b3bbf076f8b3dc29",
       "max": 1,
       "step": 0.05,
       "style": "IPY_MODEL_6b96eddca05b43f79f23150eeb47f9f7",
       "value": 0.8
      }
     },
     "afeef2bb2ccb4fdc8efeeb7e1bce092c": {
      "model_module": "@jupyter-widgets/base",
      "model_module_version": "1.0.0",
      "model_name": "LayoutModel",
      "state": {}
     },
     "b031b8bdc2ed4999bd75b6892fbd7a78": {
      "model_module": "@jupyter-widgets/controls",
      "model_module_version": "1.1.0",
      "model_name": "SliderStyleModel",
      "state": {
       "description_width": ""
      }
     },
     "b121085994d144f8959d01c60f0e1e11": {
      "model_module": "@jupyter-widgets/base",
      "model_module_version": "1.0.0",
      "model_name": "LayoutModel",
      "state": {}
     },
     "b1bc00c028a34979aaa935321474e958": {
      "model_module": "@jupyter-widgets/controls",
      "model_module_version": "1.1.0",
      "model_name": "SliderStyleModel",
      "state": {
       "description_width": ""
      }
     },
     "b1fafbe8b3b8408688f1b7f11be9cc94": {
      "model_module": "@jupyter-widgets/controls",
      "model_module_version": "1.1.0",
      "model_name": "FloatSliderModel",
      "state": {
       "description": "odds",
       "layout": "IPY_MODEL_93354485c6cc4c478214025915a6ba64",
       "max": 10,
       "step": 0.5,
       "style": "IPY_MODEL_450b40d9b07845598bb1348c9b11f6f4",
       "value": 5
      }
     },
     "b2eb02dee8164aa7bede6fadb46ad1c2": {
      "model_module": "@jupyter-widgets/base",
      "model_module_version": "1.0.0",
      "model_name": "LayoutModel",
      "state": {}
     },
     "b40c48139f94470aa2ae974544ab7714": {
      "model_module": "@jupyter-widgets/output",
      "model_module_version": "1.0.0",
      "model_name": "OutputModel",
      "state": {
       "layout": "IPY_MODEL_d3803431e2fb4f309213e8441a3e9c46",
       "outputs": [
        {
         "name": "stdout",
         "output_type": "stream",
         "text": "Total bankroll is 17500 dollars (to nearest dollar).\nAverage bankroll is 350 dollars (to nearest dollar).\n"
        }
       ]
      }
     },
     "b4855b3a511c4615953dd1553ec29833": {
      "model_module": "@jupyter-widgets/controls",
      "model_module_version": "1.1.0",
      "model_name": "SliderStyleModel",
      "state": {
       "description_width": ""
      }
     },
     "b597e8ce57024ee18cee5e3a2380b22d": {
      "model_module": "@jupyter-widgets/base",
      "model_module_version": "1.0.0",
      "model_name": "LayoutModel",
      "state": {}
     },
     "b5b8cbd43f09489c8675eb1b35771b51": {
      "model_module": "@jupyter-widgets/controls",
      "model_module_version": "1.1.0",
      "model_name": "FloatSliderModel",
      "state": {
       "description": "odds",
       "layout": "IPY_MODEL_a123106b818f4578842d17510d2c9a45",
       "max": 10,
       "step": 0.5,
       "style": "IPY_MODEL_c2f0a918150b4f88ac5d74f8c159f14b",
       "value": 5
      }
     },
     "b5e8a3f0a48d4d1696e0a0370603bf82": {
      "model_module": "@jupyter-widgets/base",
      "model_module_version": "1.0.0",
      "model_name": "LayoutModel",
      "state": {}
     },
     "b66fb9e32edd4dfb8992d5b814904712": {
      "model_module": "@jupyter-widgets/controls",
      "model_module_version": "1.1.0",
      "model_name": "IntSliderModel",
      "state": {
       "description": "numRounds",
       "layout": "IPY_MODEL_26dc5fb254de4248ae14f5648c63b2ca",
       "min": 1,
       "style": "IPY_MODEL_c9cc33b80d834b8dbae87b4d93b6034f",
       "value": 50
      }
     },
     "b6869a5ad96141b1866b65c996fb6c59": {
      "model_module": "@jupyter-widgets/controls",
      "model_module_version": "1.1.0",
      "model_name": "FloatSliderModel",
      "state": {
       "description": "odds",
       "layout": "IPY_MODEL_94224fcae37940b7a5d566375b6194df",
       "max": 10,
       "step": 0.5,
       "style": "IPY_MODEL_6ffcb603aa2d4a5e9ba60627aee942f2",
       "value": 5
      }
     },
     "b69202170ad44905abd6b6b1ccd5ad96": {
      "model_module": "@jupyter-widgets/controls",
      "model_module_version": "1.1.0",
      "model_name": "FloatSliderModel",
      "state": {
       "description": "winProbability",
       "layout": "IPY_MODEL_cecba4f8750f4ce791edf469758d588b",
       "max": 1,
       "step": 0.1,
       "style": "IPY_MODEL_bac506aa706a49c48a6e1aa9c5d342de",
       "value": 0.5
      }
     },
     "b7d34fed87b64a7cba85fd76d005c342": {
      "model_module": "@jupyter-widgets/controls",
      "model_module_version": "1.1.0",
      "model_name": "VBoxModel",
      "state": {
       "_dom_classes": [
        "widget-interact"
       ],
       "children": [
        "IPY_MODEL_67883a245aaf43c29f2b1dfa69573688",
        "IPY_MODEL_4a6a89a761d046d3bea8f4ed3cea3203",
        "IPY_MODEL_b917cdc5130645a7a19bbb8559d8618a",
        "IPY_MODEL_5606b8b6209746acb5b78dea2f380ae9",
        "IPY_MODEL_2c130ed809644c8795d4cfb2dec5090b"
       ],
       "layout": "IPY_MODEL_0e78999e59ae45f4918002ddbcfe4607"
      }
     },
     "b818ad78f8284fc4aaaf8c0b0835f188": {
      "model_module": "@jupyter-widgets/base",
      "model_module_version": "1.0.0",
      "model_name": "LayoutModel",
      "state": {}
     },
     "b85ffa0cacd04e92a0aaf2f6a7d91d0d": {
      "model_module": "@jupyter-widgets/controls",
      "model_module_version": "1.1.0",
      "model_name": "SliderStyleModel",
      "state": {
       "description_width": ""
      }
     },
     "b88f124f7ace4fc2b40c446a49512f42": {
      "model_module": "@jupyter-widgets/controls",
      "model_module_version": "1.1.0",
      "model_name": "IntSliderModel",
      "state": {
       "description": "numRounds",
       "layout": "IPY_MODEL_4af302ec73654489842f7d9f45923b5c",
       "min": 1,
       "style": "IPY_MODEL_ff77f7f15dff418ea34bc5532ca99cad",
       "value": 50
      }
     },
     "b8b12c10adbf4462a6bf19010e6f0f19": {
      "model_module": "@jupyter-widgets/base",
      "model_module_version": "1.0.0",
      "model_name": "LayoutModel",
      "state": {}
     },
     "b917cdc5130645a7a19bbb8559d8618a": {
      "model_module": "@jupyter-widgets/controls",
      "model_module_version": "1.1.0",
      "model_name": "IntSliderModel",
      "state": {
       "description": "numRounds",
       "layout": "IPY_MODEL_1ab101d274d441efa9f46df8dfd6a38d",
       "min": 1,
       "style": "IPY_MODEL_5919309f053e4605a654673bc7bdd3a8",
       "value": 50
      }
     },
     "b9b9fac14eef433092e2573c90071fea": {
      "model_module": "@jupyter-widgets/base",
      "model_module_version": "1.0.0",
      "model_name": "LayoutModel",
      "state": {}
     },
     "ba71341eb43d44b38145328734fe85e8": {
      "model_module": "@jupyter-widgets/controls",
      "model_module_version": "1.1.0",
      "model_name": "IntSliderModel",
      "state": {
       "description": "numRounds",
       "layout": "IPY_MODEL_0b094c13fb0c4bfb8264beabce23defc",
       "min": 1,
       "style": "IPY_MODEL_105e16b038d148ff90fad2b86adf6ae7",
       "value": 50
      }
     },
     "bac506aa706a49c48a6e1aa9c5d342de": {
      "model_module": "@jupyter-widgets/controls",
      "model_module_version": "1.1.0",
      "model_name": "SliderStyleModel",
      "state": {
       "description_width": ""
      }
     },
     "bb1d3848329e4200a92c317723508712": {
      "model_module": "@jupyter-widgets/base",
      "model_module_version": "1.0.0",
      "model_name": "LayoutModel",
      "state": {}
     },
     "bbebaf1f1845419a895ef73f20c0715f": {
      "model_module": "@jupyter-widgets/base",
      "model_module_version": "1.0.0",
      "model_name": "LayoutModel",
      "state": {}
     },
     "bd7bcb4668c24de4b4dec51529f2d2b6": {
      "model_module": "@jupyter-widgets/base",
      "model_module_version": "1.0.0",
      "model_name": "LayoutModel",
      "state": {}
     },
     "bdf30240c4ac47ecb74052964c172bd7": {
      "model_module": "@jupyter-widgets/output",
      "model_module_version": "1.0.0",
      "model_name": "OutputModel",
      "state": {
       "layout": "IPY_MODEL_7485d819b707492a8ab5d63a80498412",
       "outputs": [
        {
         "data": {
          "image/png": "iVBORw0KGgoAAAANSUhEUgAAAYUAAAEKCAYAAAD9xUlFAAAABHNCSVQICAgIfAhkiAAAAAlwSFlz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\nB++QS1pLbYcAAAAASUVORK5CYII=\n",
          "text/plain": "<matplotlib.figure.Figure at 0x1d10bf45a90>"
         },
         "metadata": {},
         "output_type": "display_data"
        }
       ]
      }
     },
     "bf1413931262446293e4e1a533838dda": {
      "model_module": "@jupyter-widgets/output",
      "model_module_version": "1.0.0",
      "model_name": "OutputModel",
      "state": {
       "layout": "IPY_MODEL_358555d7972d41699dfebb7cbc57e4e9",
       "outputs": [
        {
         "data": {
          "image/png": "iVBORw0KGgoAAAANSUhEUgAAAaQAAAEWCAYAAAApTuNLAAAABHNCSVQICAgIfAhkiAAAAAlwSFlz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\nosAwMwAAAABJRU5ErkJggg==\n",
          "text/plain": "<matplotlib.figure.Figure at 0x1d103b583c8>"
         },
         "metadata": {},
         "output_type": "display_data"
        }
       ]
      }
     },
     "bf240e99857b4c57815d08162b04dbbf": {
      "model_module": "@jupyter-widgets/controls",
      "model_module_version": "1.1.0",
      "model_name": "SliderStyleModel",
      "state": {
       "description_width": ""
      }
     },
     "bfb3cba6479442d29ade538021e6e0b7": {
      "model_module": "@jupyter-widgets/base",
      "model_module_version": "1.0.0",
      "model_name": "LayoutModel",
      "state": {}
     },
     "c0a00787db5342a289066dacd4e33f0a": {
      "model_module": "@jupyter-widgets/output",
      "model_module_version": "1.0.0",
      "model_name": "OutputModel",
      "state": {
       "layout": "IPY_MODEL_df33d1cb457742b8b6a6fe9560cc173c",
       "outputs": [
        {
         "data": {
          "image/png": "iVBORw0KGgoAAAANSUhEUgAAAZUAAAElCAYAAAAskX9OAAAABHNCSVQICAgIfAhkiAAAAAlwSFlz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\nNBqNRlNnaKWi0Wg0mjrj/wPyjReYR1c//QAAAABJRU5ErkJggg==\n",
          "text/plain": "<matplotlib.figure.Figure at 0x1d10b97fc88>"
         },
         "metadata": {},
         "output_type": "display_data"
        }
       ]
      }
     },
     "c0a806d032134b4388d1cf670398eed8": {
      "model_module": "@jupyter-widgets/base",
      "model_module_version": "1.0.0",
      "model_name": "LayoutModel",
      "state": {}
     },
     "c0be5ea0c321411da31255297f0bffed": {
      "model_module": "@jupyter-widgets/controls",
      "model_module_version": "1.1.0",
      "model_name": "IntSliderModel",
      "state": {
       "description": "betAmount0",
       "layout": "IPY_MODEL_940f18a905ae4912916ab9c54472012e",
       "style": "IPY_MODEL_8acb9efaca1940889639b2baa6b46726"
      }
     },
     "c2f0a918150b4f88ac5d74f8c159f14b": {
      "model_module": "@jupyter-widgets/controls",
      "model_module_version": "1.1.0",
      "model_name": "SliderStyleModel",
      "state": {
       "description_width": ""
      }
     },
     "c36b8cfac16147159facd01e93c39edf": {
      "model_module": "@jupyter-widgets/controls",
      "model_module_version": "1.1.0",
      "model_name": "SliderStyleModel",
      "state": {
       "description_width": ""
      }
     },
     "c41c68d10d434c798c3b679e2d0483c9": {
      "model_module": "@jupyter-widgets/controls",
      "model_module_version": "1.1.0",
      "model_name": "SliderStyleModel",
      "state": {
       "description_width": ""
      }
     },
     "c4de2a576b33407581e3cba35c028c92": {
      "model_module": "@jupyter-widgets/output",
      "model_module_version": "1.0.0",
      "model_name": "OutputModel",
      "state": {
       "layout": "IPY_MODEL_1c9c72b0661b451ea243d6c702779895",
       "outputs": [
        {
         "name": "stdout",
         "output_type": "stream",
         "text": "Total bankroll is 17500 dollars (to nearest dollar).\nAverage bankroll is 350 dollars (to nearest dollar).\n"
        }
       ]
      }
     },
     "c54eff47ef9d4602899fcc92aef39997": {
      "model_module": "@jupyter-widgets/controls",
      "model_module_version": "1.1.0",
      "model_name": "SliderStyleModel",
      "state": {
       "description_width": ""
      }
     },
     "c7686858110b484ab7a299cdb7a2f50e": {
      "model_module": "@jupyter-widgets/base",
      "model_module_version": "1.0.0",
      "model_name": "LayoutModel",
      "state": {}
     },
     "c80a61308c844ebba0780ac843b008e0": {
      "model_module": "@jupyter-widgets/controls",
      "model_module_version": "1.1.0",
      "model_name": "FloatSliderModel",
      "state": {
       "description": "odds",
       "layout": "IPY_MODEL_d50b2a35bfa0438a975ebefbad43f3e8",
       "max": 10,
       "step": 0.5,
       "style": "IPY_MODEL_93d9af27f7d3494999cd11f494a33280",
       "value": 2
      }
     },
     "c8dba2226e8141fea0a9304068139973": {
      "model_module": "@jupyter-widgets/base",
      "model_module_version": "1.0.0",
      "model_name": "LayoutModel",
      "state": {}
     },
     "c91cd8347af34af3a58a6de2726dbb75": {
      "model_module": "@jupyter-widgets/controls",
      "model_module_version": "1.1.0",
      "model_name": "SliderStyleModel",
      "state": {
       "description_width": ""
      }
     },
     "c9860bb0bbd9479fa3fb352f1b4bee66": {
      "model_module": "@jupyter-widgets/controls",
      "model_module_version": "1.1.0",
      "model_name": "SliderStyleModel",
      "state": {
       "description_width": ""
      }
     },
     "c9cc33b80d834b8dbae87b4d93b6034f": {
      "model_module": "@jupyter-widgets/controls",
      "model_module_version": "1.1.0",
      "model_name": "SliderStyleModel",
      "state": {
       "description_width": ""
      }
     },
     "c9dcd551fdbc4e9b88e1a04137f6712d": {
      "model_module": "@jupyter-widgets/controls",
      "model_module_version": "1.1.0",
      "model_name": "FloatSliderModel",
      "state": {
       "description": "betProp3",
       "layout": "IPY_MODEL_4b2cd6685c414831b06c1a4eafca7dc4",
       "max": 1,
       "step": 0.05,
       "style": "IPY_MODEL_6092e5f48c484132bbba00182bcbc891",
       "value": 1
      }
     },
     "cb63272f361f4a14b50f4c07208adbac": {
      "model_module": "@jupyter-widgets/base",
      "model_module_version": "1.0.0",
      "model_name": "LayoutModel",
      "state": {}
     },
     "cbd1b1942ce94fbcac47a8e8196b9429": {
      "model_module": "@jupyter-widgets/controls",
      "model_module_version": "1.1.0",
      "model_name": "SliderStyleModel",
      "state": {
       "description_width": ""
      }
     },
     "cc1c52b3157c44a28616bac4346d1964": {
      "model_module": "@jupyter-widgets/base",
      "model_module_version": "1.0.0",
      "model_name": "LayoutModel",
      "state": {}
     },
     "cd72c57f357e4df69f0840e46fbb949b": {
      "model_module": "@jupyter-widgets/controls",
      "model_module_version": "1.1.0",
      "model_name": "SliderStyleModel",
      "state": {
       "description_width": ""
      }
     },
     "ce0ccb4016144d0684114bd194121769": {
      "model_module": "@jupyter-widgets/base",
      "model_module_version": "1.0.0",
      "model_name": "LayoutModel",
      "state": {}
     },
     "cecba4f8750f4ce791edf469758d588b": {
      "model_module": "@jupyter-widgets/base",
      "model_module_version": "1.0.0",
      "model_name": "LayoutModel",
      "state": {}
     },
     "ced71387eb524f0ab6db3322cdf38e97": {
      "model_module": "@jupyter-widgets/base",
      "model_module_version": "1.0.0",
      "model_name": "LayoutModel",
      "state": {}
     },
     "cf9474ac55044a1e8cc13bba4ec163a9": {
      "model_module": "@jupyter-widgets/base",
      "model_module_version": "1.0.0",
      "model_name": "LayoutModel",
      "state": {}
     },
     "d049334c5d8f435a8dcbe859717f251a": {
      "model_module": "@jupyter-widgets/controls",
      "model_module_version": "1.1.0",
      "model_name": "IntSliderModel",
      "state": {
       "description": "k",
       "layout": "IPY_MODEL_8316fbeec23b46bc9619c138c5f0106d",
       "style": "IPY_MODEL_b031b8bdc2ed4999bd75b6892fbd7a78",
       "value": 30
      }
     },
     "d06dfd4727a74e008b1da7be29853128": {
      "model_module": "@jupyter-widgets/base",
      "model_module_version": "1.0.0",
      "model_name": "LayoutModel",
      "state": {}
     },
     "d147ca0556284b269629d37d52d1f966": {
      "model_module": "@jupyter-widgets/controls",
      "model_module_version": "1.1.0",
      "model_name": "SliderStyleModel",
      "state": {
       "description_width": ""
      }
     },
     "d229eaf640f54aa8a1373c779f12a394": {
      "model_module": "@jupyter-widgets/controls",
      "model_module_version": "1.1.0",
      "model_name": "SliderStyleModel",
      "state": {
       "description_width": ""
      }
     },
     "d253e809261a497daa3af6909b9a6690": {
      "model_module": "@jupyter-widgets/controls",
      "model_module_version": "1.1.0",
      "model_name": "IntSliderModel",
      "state": {
       "description": "betAmount0",
       "layout": "IPY_MODEL_e11d9099981b4b7dbefd7917771ecfa5",
       "style": "IPY_MODEL_a697c815b24c4a2a9160c1cdf060ec4f"
      }
     },
     "d318292536224a93985c14ca9b8d5ecc": {
      "model_module": "@jupyter-widgets/controls",
      "model_module_version": "1.1.0",
      "model_name": "SliderStyleModel",
      "state": {
       "description_width": ""
      }
     },
     "d3803431e2fb4f309213e8441a3e9c46": {
      "model_module": "@jupyter-widgets/base",
      "model_module_version": "1.0.0",
      "model_name": "LayoutModel",
      "state": {}
     },
     "d50b2a35bfa0438a975ebefbad43f3e8": {
      "model_module": "@jupyter-widgets/base",
      "model_module_version": "1.0.0",
      "model_name": "LayoutModel",
      "state": {}
     },
     "d531c206999d4cc4a04ce05af40c625b": {
      "model_module": "@jupyter-widgets/controls",
      "model_module_version": "1.1.0",
      "model_name": "IntSliderModel",
      "state": {
       "description": "betAmount1",
       "layout": "IPY_MODEL_ced71387eb524f0ab6db3322cdf38e97",
       "style": "IPY_MODEL_0a4acf4c860c4e229b041634b160ae44",
       "value": 40
      }
     },
     "d566f3bb4f954e12b3d564f28aa94f1b": {
      "model_module": "@jupyter-widgets/controls",
      "model_module_version": "1.1.0",
      "model_name": "FloatSliderModel",
      "state": {
       "description": "winProbability",
       "layout": "IPY_MODEL_827373c9d99a4b4c9c49cbe61757d3ec",
       "max": 1,
       "step": 0.1,
       "style": "IPY_MODEL_a875671b3a3f439f8296e40d4c74b5cf",
       "value": 0.5
      }
     },
     "d59adf8df29a41eaa4fb0ac9cbeee762": {
      "model_module": "@jupyter-widgets/base",
      "model_module_version": "1.0.0",
      "model_name": "LayoutModel",
      "state": {}
     },
     "d5a49cb908384a3bbd1de0c9ffa98630": {
      "model_module": "@jupyter-widgets/output",
      "model_module_version": "1.0.0",
      "model_name": "OutputModel",
      "state": {
       "layout": "IPY_MODEL_e73a93add72e4846ada87413337fa1b4",
       "outputs": [
        {
         "data": {
          "image/png": "iVBORw0KGgoAAAANSUhEUgAAAYwAAAElCAYAAAD3KtVsAAAABHNCSVQICAgIfAhkiAAAAAlwSFlz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\n/wGQLXm8mW0dKQAAAABJRU5ErkJggg==\n",
          "text/plain": "<matplotlib.figure.Figure at 0x1d10be081d0>"
         },
         "metadata": {},
         "output_type": "display_data"
        }
       ]
      }
     },
     "d5cd62da6db146c8865792e495d2a203": {
      "model_module": "@jupyter-widgets/controls",
      "model_module_version": "1.1.0",
      "model_name": "IntSliderModel",
      "state": {
       "description": "betAmount2",
       "layout": "IPY_MODEL_80a0eb95b66e43c58ef0bce3ae3ce494",
       "style": "IPY_MODEL_4fe7b12d0c9a47a49a7741cad5fcb65e",
       "value": 80
      }
     },
     "d64fb13668e84fce98ffecc0502a2e1f": {
      "model_module": "@jupyter-widgets/controls",
      "model_module_version": "1.1.0",
      "model_name": "FloatSliderModel",
      "state": {
       "description": "betProp1",
       "layout": "IPY_MODEL_69b9b63638d945c5b3abc33a7de3de19",
       "max": 1,
       "step": 0.05,
       "style": "IPY_MODEL_047b058803bb450aac1855f2251025fa",
       "value": 0.2
      }
     },
     "d7b44106d5244a8bb06ab35aeb55f252": {
      "model_module": "@jupyter-widgets/base",
      "model_module_version": "1.0.0",
      "model_name": "LayoutModel",
      "state": {}
     },
     "da2b3187f9724039a308a575f925dbfc": {
      "model_module": "@jupyter-widgets/base",
      "model_module_version": "1.0.0",
      "model_name": "LayoutModel",
      "state": {}
     },
     "daf828993699409385c06e2e059d5d9f": {
      "model_module": "@jupyter-widgets/base",
      "model_module_version": "1.0.0",
      "model_name": "LayoutModel",
      "state": {}
     },
     "dbdea43c244344fb86a5dc6ce3859764": {
      "model_module": "@jupyter-widgets/controls",
      "model_module_version": "1.1.0",
      "model_name": "SliderStyleModel",
      "state": {
       "description_width": ""
      }
     },
     "dc4f05bf038840c3bcaec8ee87701255": {
      "model_module": "@jupyter-widgets/controls",
      "model_module_version": "1.1.0",
      "model_name": "SliderStyleModel",
      "state": {
       "description_width": ""
      }
     },
     "dc911b9cff09499e83200645b1e10105": {
      "model_module": "@jupyter-widgets/base",
      "model_module_version": "1.0.0",
      "model_name": "LayoutModel",
      "state": {}
     },
     "dd190c3ef33d45bdacb91fc5de3c036f": {
      "model_module": "@jupyter-widgets/controls",
      "model_module_version": "1.1.0",
      "model_name": "FloatSliderModel",
      "state": {
       "description": "betProp",
       "layout": "IPY_MODEL_d06dfd4727a74e008b1da7be29853128",
       "max": 1,
       "step": 0.05,
       "style": "IPY_MODEL_f9dfa3c2c37c4a5b9c9b72110837d50b",
       "value": 0.5
      }
     },
     "dd2fd096fb694d279e1f697a413221e1": {
      "model_module": "@jupyter-widgets/controls",
      "model_module_version": "1.1.0",
      "model_name": "SliderStyleModel",
      "state": {
       "description_width": ""
      }
     },
     "dd722254695e433d804724a93569d593": {
      "model_module": "@jupyter-widgets/controls",
      "model_module_version": "1.1.0",
      "model_name": "SliderStyleModel",
      "state": {
       "description_width": ""
      }
     },
     "dd73eb655480467fb8ab3bb147821c33": {
      "model_module": "@jupyter-widgets/controls",
      "model_module_version": "1.1.0",
      "model_name": "FloatSliderModel",
      "state": {
       "description": "odds",
       "layout": "IPY_MODEL_22e9de00bc4b464ab5ee439931442936",
       "max": 10,
       "step": 0.5,
       "style": "IPY_MODEL_a5cb8543f6ee452a8b685ccb318b6ba8",
       "value": 5
      }
     },
     "ddbe757affc5419faf6e96caaab81c8b": {
      "model_module": "@jupyter-widgets/controls",
      "model_module_version": "1.1.0",
      "model_name": "VBoxModel",
      "state": {
       "_dom_classes": [
        "widget-interact"
       ],
       "children": [
        "IPY_MODEL_fcadde48098e4e4583adb3b5b2a0de75",
        "IPY_MODEL_8247e38a9d9e4445a5e8fe1cfed071bd",
        "IPY_MODEL_fbd2047c37874921bcf7b7b3a1292a74",
        "IPY_MODEL_90b783681b004f199677d1c1a0c0cf01",
        "IPY_MODEL_14df1f3327294e28af6243eb12d2ef07"
       ],
       "layout": "IPY_MODEL_07c1c61f7193433796cbcc776c2d4966"
      }
     },
     "de0a6c1bd3b243f580e5a77f4d89901a": {
      "model_module": "@jupyter-widgets/controls",
      "model_module_version": "1.1.0",
      "model_name": "SliderStyleModel",
      "state": {
       "description_width": ""
      }
     },
     "de21a8fc768c450885b0b873b9ab62fc": {
      "model_module": "@jupyter-widgets/controls",
      "model_module_version": "1.1.0",
      "model_name": "SliderStyleModel",
      "state": {
       "description_width": ""
      }
     },
     "de2573fd72a04918b8018b599920e3a4": {
      "model_module": "@jupyter-widgets/base",
      "model_module_version": "1.0.0",
      "model_name": "LayoutModel",
      "state": {}
     },
     "de3e2a7bbe4c42af9b42f001a22ba132": {
      "model_module": "@jupyter-widgets/controls",
      "model_module_version": "1.1.0",
      "model_name": "VBoxModel",
      "state": {
       "_dom_classes": [
        "widget-interact"
       ],
       "children": [
        "IPY_MODEL_b6869a5ad96141b1866b65c996fb6c59",
        "IPY_MODEL_d566f3bb4f954e12b3d564f28aa94f1b",
        "IPY_MODEL_91263df72d314fe8b0bcf61f3af58d39",
        "IPY_MODEL_2db5334f58bd483eabe248db7604b561",
        "IPY_MODEL_d531c206999d4cc4a04ce05af40c625b",
        "IPY_MODEL_7be4bbc00b4d40c59b91c5e8ad80cf06",
        "IPY_MODEL_ad565032d6ef4f7492b8a2b8e35bdc3b",
        "IPY_MODEL_4d8e3cf07d7d418baeddd9f8919d6726"
       ],
       "layout": "IPY_MODEL_a04cebbc6c4c4a99a00d934a22f7d03f"
      }
     },
     "de4dfd85148942e680a0012d5d6b044a": {
      "model_module": "@jupyter-widgets/base",
      "model_module_version": "1.0.0",
      "model_name": "LayoutModel",
      "state": {}
     },
     "de56653c975f44228ec93021f09b1465": {
      "model_module": "@jupyter-widgets/base",
      "model_module_version": "1.0.0",
      "model_name": "LayoutModel",
      "state": {}
     },
     "de789ab7b5cb44e8a7f250361ffc6ea9": {
      "model_module": "@jupyter-widgets/controls",
      "model_module_version": "1.1.0",
      "model_name": "SliderStyleModel",
      "state": {
       "description_width": ""
      }
     },
     "deb6e58910aa4117a737f5b0ec0ff349": {
      "model_module": "@jupyter-widgets/controls",
      "model_module_version": "1.1.0",
      "model_name": "SliderStyleModel",
      "state": {
       "description_width": ""
      }
     },
     "debb5ff2cf4e42fda2ac0e5436dec52a": {
      "model_module": "@jupyter-widgets/base",
      "model_module_version": "1.0.0",
      "model_name": "LayoutModel",
      "state": {}
     },
     "df33d1cb457742b8b6a6fe9560cc173c": {
      "model_module": "@jupyter-widgets/base",
      "model_module_version": "1.0.0",
      "model_name": "LayoutModel",
      "state": {}
     },
     "e0fb29f9db194a079cc5ac704f20a9e0": {
      "model_module": "@jupyter-widgets/controls",
      "model_module_version": "1.1.0",
      "model_name": "VBoxModel",
      "state": {
       "_dom_classes": [
        "widget-interact"
       ],
       "children": [
        "IPY_MODEL_b1fafbe8b3b8408688f1b7f11be9cc94",
        "IPY_MODEL_5d2bc766b2a747ad9c1ae446c471086e",
        "IPY_MODEL_109b0bbcb5224bfd8222dc38934c4b62",
        "IPY_MODEL_d64fb13668e84fce98ffecc0502a2e1f",
        "IPY_MODEL_af3e66e1c98a404ab697876a5b5afce2",
        "IPY_MODEL_7000a7b517c14552baece004ea31ea22"
       ],
       "layout": "IPY_MODEL_21e70a8e26a14554814c24e2b4254bd0"
      }
     },
     "e11d9099981b4b7dbefd7917771ecfa5": {
      "model_module": "@jupyter-widgets/base",
      "model_module_version": "1.0.0",
      "model_name": "LayoutModel",
      "state": {}
     },
     "e23253f690b046acb42bb78ca316164a": {
      "model_module": "@jupyter-widgets/controls",
      "model_module_version": "1.1.0",
      "model_name": "SliderStyleModel",
      "state": {
       "description_width": ""
      }
     },
     "e2d257a83f2341688dee16ab3509bd16": {
      "model_module": "@jupyter-widgets/controls",
      "model_module_version": "1.1.0",
      "model_name": "FloatSliderModel",
      "state": {
       "description": "betProp0",
       "layout": "IPY_MODEL_5436a360199d44859067da2202629ad1",
       "max": 1,
       "step": 0.05,
       "style": "IPY_MODEL_3224d538a992420c95266cc8ff78b4a0"
      }
     },
     "e33a609713b944e494b24ae27e65a64f": {
      "model_module": "@jupyter-widgets/output",
      "model_module_version": "1.0.0",
      "model_name": "OutputModel",
      "state": {
       "layout": "IPY_MODEL_18489b89ca994992a4fecc5e5d3f10e3",
       "outputs": [
        {
         "data": {
          "image/png": "iVBORw0KGgoAAAANSUhEUgAAAYUAAAEKCAYAAAD9xUlFAAAABHNCSVQICAgIfAhkiAAAAAlwSFlz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\nB++QS1pLbYcAAAAASUVORK5CYII=\n",
          "text/plain": "<matplotlib.figure.Figure at 0x1d10bf01518>"
         },
         "metadata": {},
         "output_type": "display_data"
        }
       ]
      }
     },
     "e3b4304e34f841e898f55fc75073e6fa": {
      "model_module": "@jupyter-widgets/base",
      "model_module_version": "1.0.0",
      "model_name": "LayoutModel",
      "state": {}
     },
     "e5c0f0b38fbf405e9e9f0ff607a83da0": {
      "model_module": "@jupyter-widgets/controls",
      "model_module_version": "1.1.0",
      "model_name": "IntSliderModel",
      "state": {
       "description": "numRounds",
       "layout": "IPY_MODEL_addd5670e12d49cdbe0603d14854d168",
       "min": 1,
       "style": "IPY_MODEL_4b6fbb0b950d4f3eaca55ba878c47942",
       "value": 50
      }
     },
     "e675075472504aada4672599ae89ebd5": {
      "model_module": "@jupyter-widgets/base",
      "model_module_version": "1.0.0",
      "model_name": "LayoutModel",
      "state": {}
     },
     "e6895af6418c46c39090ccb41cc5eb27": {
      "model_module": "@jupyter-widgets/base",
      "model_module_version": "1.0.0",
      "model_name": "LayoutModel",
      "state": {}
     },
     "e6bf2578c6cf4f06ace3842afc5fa498": {
      "model_module": "@jupyter-widgets/controls",
      "model_module_version": "1.1.0",
      "model_name": "VBoxModel",
      "state": {
       "_dom_classes": [
        "widget-interact"
       ],
       "children": [
        "IPY_MODEL_9290ae6fc93349b3be9309bfaf32aa4c",
        "IPY_MODEL_901030edd672466f902258213789cf64",
        "IPY_MODEL_38ff8e3c0251452e950ca1f0014e8b86",
        "IPY_MODEL_e2d257a83f2341688dee16ab3509bd16",
        "IPY_MODEL_3867ab7c662643c4b9a228997e6d3325",
        "IPY_MODEL_4cb497dff81b41e599f16450226629ac",
        "IPY_MODEL_c9dcd551fdbc4e9b88e1a04137f6712d",
        "IPY_MODEL_a9b2e1de78504a82bb6e4a4671997d14"
       ],
       "layout": "IPY_MODEL_2e41236b836b412faa879ee992d3b5d3"
      }
     },
     "e73a93add72e4846ada87413337fa1b4": {
      "model_module": "@jupyter-widgets/base",
      "model_module_version": "1.0.0",
      "model_name": "LayoutModel",
      "state": {}
     },
     "e74270051a184bb2944da16540be1dab": {
      "model_module": "@jupyter-widgets/base",
      "model_module_version": "1.0.0",
      "model_name": "LayoutModel",
      "state": {}
     },
     "e7fcf24b00b142ed874b796d029b1753": {
      "model_module": "@jupyter-widgets/controls",
      "model_module_version": "1.1.0",
      "model_name": "SliderStyleModel",
      "state": {
       "description_width": ""
      }
     },
     "e9ce0e1af21c419391f4ea206f2196d4": {
      "model_module": "@jupyter-widgets/base",
      "model_module_version": "1.0.0",
      "model_name": "LayoutModel",
      "state": {}
     },
     "ea5d7c5ad64140229ab4485e19bbb16c": {
      "model_module": "@jupyter-widgets/base",
      "model_module_version": "1.0.0",
      "model_name": "LayoutModel",
      "state": {}
     },
     "ea68b7408c814e69885899e26a710fbc": {
      "model_module": "@jupyter-widgets/base",
      "model_module_version": "1.0.0",
      "model_name": "LayoutModel",
      "state": {}
     },
     "eb0d38f035ea47ae8c1daadb5d606f70": {
      "model_module": "@jupyter-widgets/base",
      "model_module_version": "1.0.0",
      "model_name": "LayoutModel",
      "state": {}
     },
     "ed6ef58221134684acbe8fc1804b2b9e": {
      "model_module": "@jupyter-widgets/controls",
      "model_module_version": "1.1.0",
      "model_name": "FloatSliderModel",
      "state": {
       "description": "odds",
       "layout": "IPY_MODEL_36d9cd557c634ef395e124cf8c3da699",
       "max": 10,
       "step": 0.5,
       "style": "IPY_MODEL_098b05a9245c423cadd3af6b0084111c",
       "value": 5
      }
     },
     "f02fb4b1074b4c578cde9b19680356c2": {
      "model_module": "@jupyter-widgets/controls",
      "model_module_version": "1.1.0",
      "model_name": "SliderStyleModel",
      "state": {
       "description_width": ""
      }
     },
     "f10f768007f24f94afc7a6e58c0b376c": {
      "model_module": "@jupyter-widgets/controls",
      "model_module_version": "1.1.0",
      "model_name": "SliderStyleModel",
      "state": {
       "description_width": ""
      }
     },
     "f35a38e4a7154a1fa6a6eab49110966a": {
      "model_module": "@jupyter-widgets/controls",
      "model_module_version": "1.1.0",
      "model_name": "SliderStyleModel",
      "state": {
       "description_width": ""
      }
     },
     "f3d586fc1a884d77b2fc397a3e4044c3": {
      "model_module": "@jupyter-widgets/controls",
      "model_module_version": "1.1.0",
      "model_name": "SliderStyleModel",
      "state": {
       "description_width": ""
      }
     },
     "f428c968e92a42dc8e3e70c84edf734d": {
      "model_module": "@jupyter-widgets/output",
      "model_module_version": "1.0.0",
      "model_name": "OutputModel",
      "state": {
       "layout": "IPY_MODEL_a051317def3745a3bf2b6104f250a226",
       "outputs": [
        {
         "name": "stdout",
         "output_type": "stream",
         "text": "Final bankroll is 102400 dollars (to nearest dollar).\nBankroll growth rate is 102400.0 (to 2 decimal places).\n"
        }
       ]
      }
     },
     "f4a47d6d98234dbab342eeae6c65d4e4": {
      "model_module": "@jupyter-widgets/controls",
      "model_module_version": "1.1.0",
      "model_name": "FloatSliderModel",
      "state": {
       "description": "odds",
       "layout": "IPY_MODEL_8aa92f17061844269fefe250f42b58d5",
       "max": 10,
       "step": 0.5,
       "style": "IPY_MODEL_fdbff2198e434952b13c7b59cd3ef2a7",
       "value": 2
      }
     },
     "f5024e8b114d4b5ca2710dcc565bde0e": {
      "model_module": "@jupyter-widgets/controls",
      "model_module_version": "1.1.0",
      "model_name": "SliderStyleModel",
      "state": {
       "description_width": ""
      }
     },
     "f5e16717d2a744e0b7f4e69181dab2e4": {
      "model_module": "@jupyter-widgets/controls",
      "model_module_version": "1.1.0",
      "model_name": "FloatSliderModel",
      "state": {
       "description": "odds",
       "layout": "IPY_MODEL_97a5e97598f14c89b4df8fea1c9e8533",
       "max": 10,
       "step": 0.5,
       "style": "IPY_MODEL_7fad6f8e6e4e49da8c37ccea19cfe9dd",
       "value": 2
      }
     },
     "f65aac46bded46eb88674bddf01e670d": {
      "model_module": "@jupyter-widgets/base",
      "model_module_version": "1.0.0",
      "model_name": "LayoutModel",
      "state": {}
     },
     "f8d7e70fea4c4c66b025dfd6aa09b04f": {
      "model_module": "@jupyter-widgets/controls",
      "model_module_version": "1.1.0",
      "model_name": "SliderStyleModel",
      "state": {
       "description_width": ""
      }
     },
     "f9ae7a935b1741f7be185180df3aff48": {
      "model_module": "@jupyter-widgets/controls",
      "model_module_version": "1.1.0",
      "model_name": "SliderStyleModel",
      "state": {
       "description_width": ""
      }
     },
     "f9dfa3c2c37c4a5b9c9b72110837d50b": {
      "model_module": "@jupyter-widgets/controls",
      "model_module_version": "1.1.0",
      "model_name": "SliderStyleModel",
      "state": {
       "description_width": ""
      }
     },
     "f9e03c1be73c4e2dafed679d6101afdc": {
      "model_module": "@jupyter-widgets/base",
      "model_module_version": "1.0.0",
      "model_name": "LayoutModel",
      "state": {}
     },
     "fbb3aa356fc24b9aa37c67fd824b0ad7": {
      "model_module": "@jupyter-widgets/base",
      "model_module_version": "1.0.0",
      "model_name": "LayoutModel",
      "state": {}
     },
     "fbd2047c37874921bcf7b7b3a1292a74": {
      "model_module": "@jupyter-widgets/controls",
      "model_module_version": "1.1.0",
      "model_name": "FloatSliderModel",
      "state": {
       "description": "winProb",
       "layout": "IPY_MODEL_da2b3187f9724039a308a575f925dbfc",
       "max": 1,
       "step": 0.1,
       "style": "IPY_MODEL_de21a8fc768c450885b0b873b9ab62fc",
       "value": 0.5
      }
     },
     "fc0c2ad091d64f968bfa4a7928f28c06": {
      "model_module": "@jupyter-widgets/base",
      "model_module_version": "1.0.0",
      "model_name": "LayoutModel",
      "state": {}
     },
     "fc3f625af83f4b26a5267bb95fc91052": {
      "model_module": "@jupyter-widgets/base",
      "model_module_version": "1.0.0",
      "model_name": "LayoutModel",
      "state": {}
     },
     "fc5f2767d6e84a4d998795334d98021b": {
      "model_module": "@jupyter-widgets/controls",
      "model_module_version": "1.1.0",
      "model_name": "SliderStyleModel",
      "state": {
       "description_width": ""
      }
     },
     "fcadde48098e4e4583adb3b5b2a0de75": {
      "model_module": "@jupyter-widgets/controls",
      "model_module_version": "1.1.0",
      "model_name": "IntSliderModel",
      "state": {
       "description": "e",
       "layout": "IPY_MODEL_8d1a9d2e2b1444eb8832a11a3f13f546",
       "max": 30,
       "min": 5,
       "step": 5,
       "style": "IPY_MODEL_17d09b23d2af438eb0b783b15e8d986f",
       "value": 20
      }
     },
     "fd12b4e7af55445a93dc14fe15ab0fb7": {
      "model_module": "@jupyter-widgets/controls",
      "model_module_version": "1.1.0",
      "model_name": "IntSliderModel",
      "state": {
       "description": "numRounds",
       "layout": "IPY_MODEL_c0a806d032134b4388d1cf670398eed8",
       "min": 1,
       "style": "IPY_MODEL_d318292536224a93985c14ca9b8d5ecc",
       "value": 50
      }
     },
     "fd1a6a31df01430f9224fd86bb6572d5": {
      "model_module": "@jupyter-widgets/base",
      "model_module_version": "1.0.0",
      "model_name": "LayoutModel",
      "state": {}
     },
     "fd1b05046cb14317a094c7426da6a887": {
      "model_module": "@jupyter-widgets/base",
      "model_module_version": "1.0.0",
      "model_name": "LayoutModel",
      "state": {}
     },
     "fd9e9357170f4e5699459f9d4fd6c89e": {
      "model_module": "@jupyter-widgets/controls",
      "model_module_version": "1.1.0",
      "model_name": "FloatSliderModel",
      "state": {
       "description": "odds",
       "layout": "IPY_MODEL_2065a31bbe7a45e9b7bf659e5cc74de4",
       "max": 10,
       "step": 0.5,
       "style": "IPY_MODEL_3eca649cbee342abb5141cd85ebecb07",
       "value": 2
      }
     },
     "fdbff2198e434952b13c7b59cd3ef2a7": {
      "model_module": "@jupyter-widgets/controls",
      "model_module_version": "1.1.0",
      "model_name": "SliderStyleModel",
      "state": {
       "description_width": ""
      }
     },
     "fe117d154fa14ffd96e86a6f40f61294": {
      "model_module": "@jupyter-widgets/controls",
      "model_module_version": "1.1.0",
      "model_name": "FloatSliderModel",
      "state": {
       "description": "odds",
       "layout": "IPY_MODEL_de2573fd72a04918b8018b599920e3a4",
       "max": 10,
       "step": 0.5,
       "style": "IPY_MODEL_18b3193aa76e49bb89abf8284fd642a9",
       "value": 5
      }
     },
     "fe634dc7512646eca8df5be77adfef73": {
      "model_module": "@jupyter-widgets/controls",
      "model_module_version": "1.1.0",
      "model_name": "VBoxModel",
      "state": {
       "_dom_classes": [
        "widget-interact"
       ],
       "children": [
        "IPY_MODEL_30163b96987d45719162e25d1f266651",
        "IPY_MODEL_3eff3a87f8814d1e8c4b4823dbffd88c",
        "IPY_MODEL_8c6d427ea38340e38f2e3ce3858f47db"
       ],
       "layout": "IPY_MODEL_c8dba2226e8141fea0a9304068139973"
      }
     },
     "ff3a7f69caa0453394ec18a1d8ecd450": {
      "model_module": "@jupyter-widgets/base",
      "model_module_version": "1.0.0",
      "model_name": "LayoutModel",
      "state": {}
     },
     "ff4ba4fab411486eb59a86231e5b623d": {
      "model_module": "@jupyter-widgets/controls",
      "model_module_version": "1.1.0",
      "model_name": "FloatSliderModel",
      "state": {
       "description": "odds",
       "layout": "IPY_MODEL_170ae59298b843acb6652fcdad82c0aa",
       "max": 10,
       "step": 0.5,
       "style": "IPY_MODEL_de0a6c1bd3b243f580e5a77f4d89901a",
       "value": 5
      }
     },
     "ff77f7f15dff418ea34bc5532ca99cad": {
      "model_module": "@jupyter-widgets/controls",
      "model_module_version": "1.1.0",
      "model_name": "SliderStyleModel",
      "state": {
       "description_width": ""
      }
     },
     "ffedb511ba9e4a11a741941c0199a20b": {
      "model_module": "@jupyter-widgets/controls",
      "model_module_version": "1.1.0",
      "model_name": "SliderStyleModel",
      "state": {
       "description_width": ""
      }
     }
    },
    "version_major": 2,
    "version_minor": 0
   }
  }
 },
 "nbformat": 4,
 "nbformat_minor": 2
}
