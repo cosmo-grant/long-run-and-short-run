{
 "cells": [
  {
   "cell_type": "markdown",
   "metadata": {
    "deletable": true,
    "editable": true
   },
   "source": [
    "# The Long-Run and the Short-Run"
   ]
  },
  {
   "cell_type": "code",
   "execution_count": 96,
   "metadata": {
    "collapsed": true,
    "deletable": true,
    "editable": true
   },
   "outputs": [],
   "source": [
    "# TO RUN A CELL WITH CODE IN IT, SELECT IT THEN PRESS CTRL+ENTER.\n",
    "# RUN THE CELLS IN ORDER, STARTING WITH THIS ONE.\n",
    "\n",
    "import numpy as np\n",
    "import pandas as pd\n",
    "import matplotlib.pyplot as plt\n",
    "from scipy.special import binom\n",
    "from ipywidgets import interact, fixed"
   ]
  },
  {
   "cell_type": "markdown",
   "metadata": {
    "deletable": true,
    "editable": true
   },
   "source": [
    "<a id='1. TL;DR'></a>"
   ]
  },
  {
   "cell_type": "markdown",
   "metadata": {
    "deletable": true,
    "editable": true
   },
   "source": [
    "## 1. TL;DR\n",
    "\n",
    "The long-run is about what happens in the limit, or eventually, or in the infinite case. Think *convergence* of a sequence, *common* knowledge, *repeated* games, computing the value of a function for *any* argument, betting *often*. The short-run is about what happens now, or by time $t$, or in a particular case. Think *this term* of a sequence, *mutual* knowledge, *one-off* games, computing the value of a function for *that* argument, betting *once*.\n",
    "\n",
    "Sometimes the long-run is taken to be irrelevant to the short-run (\"in the long run we're all dead\"); and sometimes it's not. When? Why? How?\n",
    "\n",
    "Section 2 describes a toy example to help get clear about the issue. Section 3 describes how in a broad range of fields the long-run is taken to be relevant to the short-run. Section 4 investigates one example in detail: long-run defences of decision rules in betting."
   ]
  },
  {
   "cell_type": "markdown",
   "metadata": {
    "deletable": true,
    "editable": true
   },
   "source": [
    "Contents:\n",
    "  - [1. TL;DR](#1. TL;DR)\n",
    "  - [2. Toy example](#2. Toy example)\n",
    "    - [2.1 Set-up](#2.1 Set-up)\n",
    "    - [2.2 Questions](#2.2 Questions)\n",
    "    - [2.3 Discussion](#2.3 Discussion)\n",
    "  - [3. Non-toy examples](#3. Non-toy examples)\n",
    "    - [3.1 Complexity theory](#3.1 Complexity theory)\n",
    "    - [3.2 Estimators](#3.2 Estimators)\n",
    "    - [3.3 Nash equilibrium](#3.3 Nash equilibrium)\n",
    "    - [3.4 Sketch of other examples](#3.4 Sketch of other examples)\n",
    "  - [4. MEV vs. MEGR](#4. MEV vs. MEGR)\n",
    "    - [4.1 Gambling problems](#4.1 Gambling problems)\n",
    "    - [4.2 MEV's recommendation](#4.2 MEVs recommendation)\n",
    "    - [4.3 MEGR's recommendation](#4.3 MEGRs recommendation)\n",
    "    - [4.4 When do MEV and MEGR disagree?](#4.4 When do MEV and MEGR disagree?)\n",
    "    - [4.5 How does MEV do in the long-run?](4.5 How does MEV do in the long-run?)\n",
    "    - [4.6 How does MEGR do in the long-run?](4.6 How does MEGR do in the long-run?)\n",
    "    - [4.7 Discussion](#4.7 Discussion)\n"
   ]
  },
  {
   "cell_type": "markdown",
   "metadata": {
    "deletable": true,
    "editable": true
   },
   "source": [
    "<a id='2. Toy example'></a>"
   ]
  },
  {
   "cell_type": "markdown",
   "metadata": {
    "deletable": true,
    "editable": true
   },
   "source": [
    "## 2. Toy example"
   ]
  },
  {
   "cell_type": "markdown",
   "metadata": {
    "deletable": true,
    "editable": true
   },
   "source": [
    "<a id='2.1 Set-up'></a>"
   ]
  },
  {
   "cell_type": "markdown",
   "metadata": {
    "deletable": true,
    "editable": true
   },
   "source": [
    "### 2.1 Set-up\n",
    "\n",
    "On the whiteboard in my office, I've defined two infinite sequences of real numbers: $x_n$ and $y_n$. Which is closer to 0, $x_{100}$ or $y_{100}$? \n",
    "\n",
    "It's an odd question. For all you know, it might be that, say, $x_n = \\frac{1}{n}$ and $y_n = n$, in which case $x_{100}$ is closer to 0 than $y_{100}$, or that $x_n = n$ and $y_n = \\frac{1}{n}$, in which case $y_{100}$ is closer to 0 than $x_{100}$. And of course I might have made any number of other definitions, where $x_{100}$ is closer to 0 for some and $y_{100}$ is closer to 0 for others. You don't know which is closer to 0.\n",
    "\n",
    "When you don't know the answer to a question, you can still guess. Some guesses may be better than others. But not here. Guessing that $x_{100}$ is closer to 0 is no better and no worse than guessing that $y_{100}$ is closer to 0. After all, I told you next to nothing about the sequences; what little I did say I said about both. Neither guess is better than the other. You might as well flip a coin.\n",
    "\n",
    "You might worry that talking about whether one guess is better than another is ill-defined, unless I add what the costs and benefits of the guesses are. I can fix that if you like: I'll give you \\$1 if you guess correctly and nothing otherwise. It doesn't change anything: still, neither guess is better than the other; you might as well flip a coin."
   ]
  },
  {
   "cell_type": "markdown",
   "metadata": {
    "deletable": true,
    "editable": true
   },
   "source": [
    "<a id='2.2 Questions'></a>"
   ]
  },
  {
   "cell_type": "markdown",
   "metadata": {
    "deletable": true,
    "editable": true
   },
   "source": [
    "### 2.2 Questions\n",
    "\n",
    "Here's an additional bit of information: $x_n \\to 0$ as $n \\to \\infty$. In light of this, reconsider the question: Which is closer to 0, $x_{100}$ or $y_{100}$?\n",
    "\n",
    "For all you know, it might be that, say, $x_n = \\frac{1}{2^n}$ and $y_n = \\frac{1}{n}$, in which case $x_{100}$ is closer to 0, or that $x_n = \\frac{1}{n}$ and $y_n = \\frac{1}{2^n}$, in which case $y_{100}$ is closer to 0. You still don't know the answer to the question. But when you learn that $x_n \\to 0$, does it become better to guess $x_{100}$ than $y_{100}$? On the one hand, *eventually* the $x_n$ are small; but that doesn't entail that $x_{100}$ is small. On the other hand, eventually the $x_n$ *are small*; while for all we know the $y_n$ are always large.\n",
    "\n",
    "The fact that $x_n \\to 0$ is a fact about the long-run. The conjecture that $x_{100}$ is closer to 0 than $y_{100}$ is a conjecture about the short-run. The question *Given that $x_n \\to 0$, is it better to guess $x_{100}$ than $y_{100}$?* is an instance of our general question, *How does the long-run bear on the short-run?*\n",
    "\n",
    "Let's consider variations on the theme. In the situation above, you're told that $x_n \\to 0$ as $n \\to \\infty$ and nothing about $y_n$. The table below describes other situations. For example, the first row, first column is the situation where you're told nothing about either sequence; the second row, first column is the situation above; and so on. The task is to fill in the table with $x_{100}$ when it's better to guess $x_{100}$, $y_{100}$ when it's better to guess $y_{100}$, and *coin* when neither guess is better than the other and you might as well flip a coin. I take it that you should put *coin* in the first row, first column. What about the others?  \n",
    "\n",
    "| | no information | $\\mathbf{y_n \\not\\to 0}$ | $\\mathbf{y_n \\to 10^{10}}$ | $\\mathbf{y_n}$ is unbounded | $\\mathbf{y_n \\to \\infty}$ |\n",
    "| ---  |:----: |:---: |:---: | :---: | :---: |\n",
    "| **no information** | | $\\phantom{xxxxxxxxxxxxxx}$ | $\\phantom{xxxxxxxxxxxxxx}$ | $\\phantom{xxxxxxxxxxxxxx}$ | $\\phantom{xxxxxxxxxxxxxx}$ |\n",
    "| **$\\mathbf{x_n \\to 0}$** | | | | | |\n",
    "| **$\\mathbf{x_n}$ is non-increasing** | | | | | |\n",
    "| **$\\mathbf{\\exists N : x_n=0}$ for all $\\mathbf{n > N}$** | | | |  | $\\phantom{x}$ |\n",
    "\n",
    "If you're not sure how to fill in the table, an alternative task is to describe relations between the entries: if $x_n$ here then $x_n$ there too; or if *coin* here, then *coin* along the whole row; and so on."
   ]
  },
  {
   "cell_type": "markdown",
   "metadata": {
    "deletable": true,
    "editable": true
   },
   "source": [
    "<a id='2.3 Discussion'></a>"
   ]
  },
  {
   "cell_type": "markdown",
   "metadata": {
    "deletable": true,
    "editable": true
   },
   "source": [
    "### 2.3 Discussion"
   ]
  },
  {
   "cell_type": "markdown",
   "metadata": {
    "deletable": true,
    "editable": true
   },
   "source": [
    "#### 2.3.1 What are long-run facts?\n",
    "\n",
    "Let's focus on sequences. A paradigm long-run fact about a sequence is a fact about its limit, say that $x_n \\to 0$ or $y_n \\to \\infty$. It's not obvious how to move from the paradigm to a definition. Here are a few options. (I switch from facts to properties; you state a long-run fact when you ascribe a long-run property.) A property of a sequence is a long-run property just if:\n",
    "\n",
    "  1. all sequences with the property converge to the same limit.\n",
    "  2. the property is definable by taking complements, finite intersections and finite unions of properties satisfying 1.\n",
    "  3. any finite initial segment can be extended to a sequence having the property.\n",
    "  4. any value in any position can be extended to a sequence having the property.\n",
    "  \n",
    "For example, let's see which properties in the table above satisfy which definitions:\n",
    "\n",
    "|                          \t|       1      \t|       2      \t|       3      \t|       4      \t|\n",
    "| ------------------------\t|:------------:\t|:------------:\t|:------------:\t|:------------:\t|\n",
    "| tends to 0               \t| $\\checkmark$ \t| $\\checkmark$ \t| $\\checkmark$ \t| $\\checkmark$ \t|\n",
    "| tends to infinity        \t| $\\checkmark$ \t| $\\checkmark$ \t| $\\checkmark$ \t| $\\checkmark$ \t|\n",
    "| is eventually constant 0 \t| $\\checkmark$ \t| $\\checkmark$ \t| $\\checkmark$ \t| $\\checkmark$ \t|\n",
    "| doesn't tend to 0        \t| x            \t| $\\checkmark$ \t| $\\checkmark$ \t| $\\checkmark$ \t|\n",
    "| is unbounded             \t| x            \t| x            \t| $\\checkmark$ \t| $\\checkmark$ \t|\n",
    "| is non-increasing        \t| x            \t| x            \t| x            \t| $\\checkmark$ \t|\n",
    "  \n",
    "As the table suggests, 1 is strictly stronger than 2, which is strictly stronger than 3, which is strictly stronger than 4. We want a theory of how the long-run bears on the short-run. It might turn out that it's better to develop a theory using one definition over another; or it might not matter much."
   ]
  },
  {
   "cell_type": "markdown",
   "metadata": {
    "deletable": true,
    "editable": true
   },
   "source": [
    "#### 2.3.2 The delayer's response: the question is underspecified\n",
    "\n",
    "The delayer advises you to decline to fill in the table, on the basis that the questions are underspecified.\n",
    "\n",
    "Some questions are underspecified. Examples: What's the area of a triangle with base 5cm? What time is it in Europe? How long is a piece of string? Each question leaves unspecified some parameter on which the answer to the question depends: the height of the triangle, where in Europe, which piece of string. You should decline to answer the questions.\n",
    "\n",
    "Compare: What's the area of the triangle with base 5cm I drew this morning? What time is it where I am in Europe? How long is this piece of string I'm holding? You don't know the answers to these questions. But there is no unspecified parameter on which the answers depend. The questions are intractable, not underspecified. You shouldn't decline to answer the questions. You should answer \"I don't know\".\n",
    "\n",
    "You might complain that the questions in the table, like the first set here, *do* leave some parameter unspecified: how I chose the sequences. I might have chosen them by writing down some candidates for $x_n$ and $y_n$, numbering the candidates, and then using a random number generator to select a pair. Or I might have chosen them by flicking through Stephen Abbott's textbook *Understanding Analysis* until two sequences caught my eye. Or I might have chosen them by pinning some definitions to a dart board and aiming double top. And so on. The answers to the questions in the table depend on this parameter. Therefore the questions are underspecified---so the complaint goes.\n",
    "\n",
    "I agree that *your* answers to the questions depend on how I chose the sequences: if you learn that I chose them one way, you'll fill in the table like this; if you learn that I chose another way, you'll fill in the table like that. So much, so obvious. Your answer to a question depends on your information. Change your information and you may change your answer. (Actually, I doubt that being told how I chose the sequences would help you fill in the table, but never mind that.) To show that the question are underspecified, you need to show, not that *your* answers depend on how I chose the sequences, but that, holding fixed what the sequences are, *the* answers depend on how I chose them. Compare: To show that the question *How long is this piece of string I'm holding?* is underspecified, you need to show, not that *your* answer depends on how I chose the string, but that, holding fixed which piece of string I chose, *the* answer depends on how I chose it. The question *How long is this piece of string I'm holding?* is not underspecified; nor are the questions in the table.\n",
    "\n",
    "You might worry instead that, like *How long is this piece of string I'm holding?*, the questions in the table aren't underspecified but are intractable. Someone who thinks this will put *coin* in every cell. They should read Section 2.3.4 below."
   ]
  },
  {
   "cell_type": "markdown",
   "metadata": {
    "deletable": true,
    "editable": true
   },
   "source": [
    "#### 2.3.3 The Bayesian's response: conditionalize\n",
    "\n",
    "The Bayesian advises you to fill in the table as follows: write down your prior over $x_n$ and $y_n$, conditionalize on the information in the row and column, then enter $x_n$, $y_n$ or *coin* according to whether your posterior that $x_{100}$ is closer to 0 than $y_{100}$ is greater than, smaller than, or equal to a half.\n",
    "\n",
    "For example, suppose your prior over $x_n$ and $y_n$ is:\n",
    "\n",
    "| $\\phantom{xxxxxxxxxxxxxxxxxxxxxxxxxxxxx}$\t| $y_n = (-1)^n$ \t| $y_n = min(n,10^{10}) $ \t| $y_n = n-100$ \t|\n",
    "|-----------------------------------\t|:--------------:\t|:----------------------:\t|:--------------:\t|\n",
    "| $x_n = \\frac{1}{n}$       \t| $\\phantom{xxxxxxxxx} \\frac{1}{9} \\phantom{xxxxxxxxx}$     | $\\phantom{xxxxxxxxx} \\frac{1}{9} \\phantom{xxxxxxxxx}$             | $\\phantom{xxxxxxxxx} \\frac{1}{9} \\phantom{xxxxxxxxx}$  \t|\n",
    "| $x_n = 1000-n$           \t| $\\frac{1}{9}$    \t| $\\frac{1}{9}$            \t| $\\frac{1}{9}$    \t|\n",
    "| $x_n = max(0, 50 - (n-100)^2)$ \t| $\\frac{1}{9}$    \t| $\\frac{1}{9}$             | $\\frac{1}{9}$    \t|\n",
    "\n",
    "Then you should fill in the table like this:\n",
    "\n",
    "| | no information | $\\mathbf{y_n \\not\\to 0}$ | $\\mathbf{y_n \\to 10^{10}}$ | $\\mathbf{y_n}$ is unbounded | $\\mathbf{y_n \\to \\infty}$ |\n",
    "| ---  |:----: |:---: |:---: | :---: | :---: |\n",
    "| **no information** | $y_{100}$ | $\\phantom{xxxxx} y_{100} \\phantom{xxxxx}$ | $\\phantom{xxxxx} x_{100} \\phantom{xxxxx}$ | $y_{100}$ | $\\phantom{xxxxx} y_{100} \\phantom{xxxxx}$ |\n",
    "| **$\\mathbf{x_n \\to 0}$** | *coin* | *coin* | $x_{100}$ | $y_{100}$ | $y_{100}$ |\n",
    "| **$\\mathbf{x_n}$ is non-increasing** | $y_{100}$ | $y_{100}$ | *coin* | $y_{100}$ | $y_{100}$ |\n",
    "| **$\\mathbf{\\exists N : x_n=0}$ for all $\\mathbf{n > N}$** |$y_{100}$ | $y_{100}$ | $x_{100}$ | $y_{100}$ | $y_{100}$ |\n",
    "\n",
    "It's easy to write down *a* prior over $x_n$ and $y_n$; and given a prior, it's easy to fill in the table. What's hard is to write down *your* prior. Even if someone *has* a prior over $x_n$ and $y_n$, they may not know what it is, in which case they won't know how to follow the Bayesian's advice. I don't think you know what your prior is, even if you have one. So I don't think you know how to follow the Bayesian's advice. The Bayesian's advice doesn't help you fill in the table.\n",
    "\n",
    "I'm not suggesting that you regard all sequences as on a par. You may still rule out some sequences or take some to be more plausible than others. And you're perfectly reasonable to do so: some sequences would have taken me too long to write down; specifying others would involve mathematics which I don't know about; I'm fonder of some sequences than others. To know all that is a long way from having a prior over the space of all pairs of sequences, and even further from knowing what your prior is.\n",
    "\n",
    "Advice that we don't know how to follow can still be good advice. An example I got from Roger White: advising a public speaker to match their volume to the size of the room is good advice, even when the speaker doesn't know how big the room is. (Cf. Williamson on the knowledge norm of assertion.) Even so, it's worth thinking about whether there's advice that we do know how to follow."
   ]
  },
  {
   "cell_type": "markdown",
   "metadata": {
    "deletable": true,
    "editable": true
   },
   "source": [
    "#### 2.3.4 The puritan's response: always flip a coin\n",
    "\n",
    "The puritan advises you to fill in the table by putting *coin* in every cell.\n",
    "\n",
    "The conditions in the table don't entail that $x_{100}$ is closer to 0 than $y_{100}$ or that $y_{100}$ is closer to 0 than $x_{100}$. The deductivist says that *E* is evidence for *H* only if *E* entails *H*. So the deductivist concludes that none of the conditions in the table is evidence either way and you should put *coin* in every cell. The Bayesian says that *E* is evidence for *H* when *P(H | E) > P(H)*. But the Bayesian's advice doesn't help us fill in the table; for all the Bayesian's advice, we might as well still put *coin* in every cell.\n",
    "\n",
    "To put *coin* in every cell on the basis that neither the deductivist nor the Bayesian makes you do otherwise is too quick. Perhaps we can devise another theory of evidential support, one that is less severe than the deductivist's and more helpful than the Bayesian's.\n",
    "\n",
    "A preliminary idea. Suppose you face a sequence of questions: *Guess which is closer to 0, $x_k$ or $y_k$?* for each $k$. You have to choose $x_k$ every time or $y_k$ every time. If you have no information about the sequences, then guessing $x_k$ every time is no better and no worse then guessing $y_k$ every time. You might as well flip a coin to decide how to answer. But if you know that $x_n \\to 0$ and $y_n \\not\\to 0$, then by guessing $x_k$ every time you're guaranteed to be right infinitely often; not so for $y_k$. Or if you know that $x_n \\to 0$ and $y_n \\to \\infty$, then by guessing $x_k$ every time you're guaranteed eventually to keep guessing correctly. Perhaps these are reasons to guess $x_{100}$ over $y_{100}$ in the actual scenarios, where you are just asked one question. If you find this idea ridiculous, reassess it after reading the next section.\n",
    "\n",
    "Across a broad range of fields, long-run facts do seem to be taken to support short-run claims. The next section lists examples. If you deny that the long-run bears on the short-run in our toy example, then you should either explain the difference between the toy example and the examples in the next section, or push for revision of scientific practice."
   ]
  },
  {
   "cell_type": "markdown",
   "metadata": {
    "deletable": true,
    "editable": true
   },
   "source": [
    "<a id='3. Non-toy examples'></a>"
   ]
  },
  {
   "cell_type": "markdown",
   "metadata": {
    "deletable": true,
    "editable": true
   },
   "source": [
    "## 3. Non-toy examples (TO BE COMPLETED)"
   ]
  },
  {
   "cell_type": "markdown",
   "metadata": {},
   "source": [
    "<a id='3.1 Complexity theory'></a>"
   ]
  },
  {
   "cell_type": "markdown",
   "metadata": {
    "deletable": true,
    "editable": true
   },
   "source": [
    "### 3.1 Complexity theory\n",
    "\n",
    "Two algorithms to sort lists: $A$ and $B$. I have a list with 100 entries that needs to be sorted. Which will be quicker, $A$ or $B$?\n",
    "\n",
    "You learn: the time $A$ takes is polynomial in the length of the list; the time $B$ takes is exponential in the length of the list. In light of this, reassess the question.\n",
    "\n",
    "The time an algorithm takes as a function of the size of the input is a long-run property. It is taken, in practice, as a guide to how the algorithm will do in the short-run. In practice, people put their money on $A$.\n",
    "\n",
    "Aside: A notable disconnect between long-run and short-run is SAT-solving. The SAT problem is: given a formula of propositional logic, decide whether it's satisfiable. From [wikipedia](https://en.wikipedia.org/wiki/Boolean_satisfiability_problem):\n",
    "\n",
    "> There is no known algorithm that efficiently solves each SAT problem, and it is generally believed that no such algorithm exists. [...] Nevertheless, as of 2007, heuristic SAT-algorithms are able to solve problem instances involving tens of thousands of variables and formulas consisting of millions of symbols, which is sufficient for many practical SAT problems from, e.g., artificial intelligence, circuit design, and automatic theorem proving."
   ]
  },
  {
   "cell_type": "markdown",
   "metadata": {},
   "source": [
    "<a id='3.2 Estimators'></a>"
   ]
  },
  {
   "cell_type": "markdown",
   "metadata": {
    "deletable": true,
    "editable": true
   },
   "source": [
    "### 3.2 Estimators\n",
    "\n",
    "Two estimators: $\\hat{\\theta}_1$ and $\\hat{\\theta}_2$. I have 100 data points. Guess which is closer to the true value, the first estimate or the second?\n",
    "\n",
    "You learn: $\\hat{\\theta}_1$ is asymptotically unbiased; $\\hat{\\theta}_2$ is not. In light of this, reassess the question.\n",
    "\n",
    "Or you learn: $\\hat{\\theta}_1$ is consistent; $\\hat{\\theta}_2$ isn't. In light of this, reassess the question.\n",
    "\n",
    "Being asymptotically unbiased and being consistent are long-run properties. Statisticians advise you to use estimators with these properties; these properties are taken to be virtues of estimators. Statisticians put their money on $\\hat{\\theta}_1$.\n",
    "\n",
    "Review of estimation theory. How can we estimate some unknown parameter $\\theta$, such as the bias of a coin, the average height of MIT students, or the half-life of a chemical? Here's a quick review of the frequentist approach, a standard approach in statistics.\n",
    "\n",
    "Design an experiment such that the distribution of the experimental outcome $X$ depends on $\\theta$. Example: flip the coin, so the experimental outcome $X$ is either 1 (heads) with probability $\\theta$ or 0 (tails) with probability $1-\\theta$. If we repeat the experiment $n$ times then the outcome is a sequence of random variables $X = (X_1, X_2, \\ldots, X_n)$. Example: flip the coin $n$ times. An *estimator* is a function of the outcome, that is, a random variable $\\hat{\\theta}_n = g(X)$, for some function $g$. Example: $\\hat{\\theta}_n = \\frac{X_1 + \\ldots + X_n}{n}$, the proportion of heads in $n$ flips. An *estimate* is a realized value of the estimator. Example: $\\frac{1+0+0+1+0}{5} = \\frac{2}{5}$.\n",
    "\t\n",
    "Given an estimator and the experimental outcome, you have your estimate. But which estimator to use? Here's a key property of an estimator:\n",
    "\t\n",
    "> The *bias* $b_{\\theta}(\\hat{\\theta})$ of the estimator $\\hat{\\theta}$ with respect to $\\theta$ is the expected difference between the estimator and $\\theta$, assuming the true value is $\\theta$:\n",
    "\t\n",
    "$$ b_{\\theta}(\\hat{\\theta}) \\text{  :=  } \\mathbf{E}_\\theta[\\hat{\\theta}_n] - \\theta $$\n",
    "\t\n",
    "Frequentists want good worst-case properties: they want the estimator to do well, no matter what $\\theta$ turns out to be. Here are some ways to spell out that out:\n",
    "\t\n",
    "> $\\hat{\\theta}$ is *unbiased* if $b_{\\theta}(\\hat{\\theta}) = 0$, for all $\\theta$.\n",
    "\n",
    "> $\\hat{\\theta}_n$ is *asymptotically unbiased* if $lim_{n\\to\\infty} b_{\\theta}(\\hat{\\theta}_n) = 0$, for all $\\theta$.\n",
    "\n",
    "> $\\hat{\\theta}$ is *consistent* if it tends in probability to $\\theta$, for all $\\theta$.\n",
    "\n",
    "How to choose an estimator? We have a partial answer: choose one which is consistent and unbiased, or at least asymptotically unbiased. Being aymptotically unbiased and consistent are long-run properties; being unbiased isn't a long-run property, but a typical justification (Laws of Large Numbers) for taking it to be a desirable property of an estimator is a long-run justification.\n",
    "\n",
    "Howson and Urbach don't see why we should care about long-run properties of an estimator. They'd flip a coin to decide between $\\hat{\\theta}_1$ and $\\hat{\\theta}_2$'s estimates. \n",
    "\n",
    "> [T]he idea that a consistent estimator becomes more accurate as the sample increases, and perfectly so in the limit, implies nothing at all about its accuracy on any particular occasion. Arguing for an estimator with this idea in mind would be like defending the use of a dirty measuring instrument on the grounds that if it were cleaner it would be better. (Howson and Urbach 2006)\n",
    "\n",
    "Stick with their metaphor. Two measuring instruments. Guess which measurement is closer to the true value, the first or the second? You learn: if the first instrument were cleaner, its measurement would be better; for all you know, the second instrument is unreliable no matter how clean. In light of this, reassess the question."
   ]
  },
  {
   "cell_type": "markdown",
   "metadata": {},
   "source": [
    "<a id='3.3 Nash equilibrium'></a>"
   ]
  },
  {
   "cell_type": "markdown",
   "metadata": {
    "deletable": true,
    "editable": true
   },
   "source": [
    "### 3.3 Nash equilibrium\n",
    "\n",
    "You and I are playing *Matching Pennies*. Each of us has a penny. We simultaneously put our pennies on the table: if they match (heads and heads, tails and tails) you win; if they don't (heads and tails, tails and heads) I win. Here's the payoff matrix:\n",
    "\n",
    "|           \t| Heads \t| Tails \t|\n",
    "|-----------\t|:-----:\t|:-----:\t|\n",
    "| **Heads** \t|  1,0  \t|  0,1  \t|\n",
    "| **Tails** \t|  0,1  \t|  1,0  \t|\n",
    "\n",
    "Matching Pennies has a unique Nash equilibrium: each of us randomizes, choosing Heads with probability 1/2 and Tails with probability 1/2, giving each of us expected payoff 1/2.\n",
    "\n",
    "Why play the Nash equilibrium in Matching Pennies?\n",
    "\n",
    "In *Matching Pennies Redux*, we play Matching Pennies repeatedly. You have to stick with your strategy every time, but I don't. Suppose you play some non-Nash strategy, say Heads with probability 1/3 and Tails with probability 2/3, in Matching Pennies Redux. As we play, I learn about your strategy. The longer we play, the more I'll learn about it. For example, after we've played 100 times, you'll probably have played about 33 heads and 67 tails; seeing this, I'll be pretty confident that your strategy is approximately Heads with probability 1/3 and Tails with probability 2/3. (Of course, how long it takes for me to become confident depends on my prior over your strategies; but, except in extreme cases, it'll happen eventually.) I can change my strategy in light of what I learn. So eventually I'll choose a strategy which is a best response to your strategy. Since your strategy is not Nash, it's not a best response to mine. Your payoff is less than 1/2.\n",
    "\n",
    "Now suppose you play the Nash strategy in Matching Pennies Redux. As we play, I learn about your strategy, as before, and eventually I'll choose a strategy which which is a best response to it. Since your strategy is Nash, it is a best response to mine. Your payoff is 1/2.\n",
    "\n",
    "The analysis of Matching Pennies Redux is loose: it's missing some *approximately*'s and *probably*'s. But it can be made precise. It might be used as a long-run justification for playing the Nash equilibrium in Matching Pennies and other games. This kind of long-run justification is in the air in some discussions of Nash equilibrium. Compare the long-run defences of decision rules below."
   ]
  },
  {
   "cell_type": "markdown",
   "metadata": {},
   "source": [
    "<a id='3.4 Sketch of other examples'></a>"
   ]
  },
  {
   "cell_type": "markdown",
   "metadata": {
    "deletable": true,
    "editable": true
   },
   "source": [
    "### 3.4 Sketch of other examples\n",
    "\n",
    "  - *Explanation.* Central Limit Theorem (rough): The sum of any iid random variables tends in distribution to the normal. The distribution of a sum of these 100 iid random variables is approximately normal. Does the CLT explain that?\n",
    "    \n",
    "    \n",
    "  - *Explanation again.* Washing-out Theorem (rough): As the amount of data tends to infinity, the posteriors of any two Bayesians converge. These two Bayesians had very different priors but have observed 100 data points and their posteriors are close. Does the Washing-out Theorem explain that? Howson and Urbach say no:\n",
    "\n",
    "> Since [the washing out theorems] deal only with the properties of the posterior probability function in the limit, as the amount of data increases to infinity, they say nothing at all about its character after any actual and hence finite amount of data; they are therefore incapable of acting in either a normative or an explanatory role. (Howson and Urbach 2006)\n",
    "\n",
    "  - *Inessential appeals to the long-run.* CK -> BI (rough): In any perfect information game, if there is common knowledge of rationality then the players play a backward induction solution. For no $n$ is it true that: in any perfect information game, if there is mutual knowledge of rationality to order $n$, then the players play a backward induction solution. \n",
    "  \n",
    "   But the long-run hypothesis---common knowledge of rationality---*isn't* actually required here, because: in any perfect information game, if there is mutual knowledge of rationality to the order of the depth of the game, then the players play a backward induction solution. The appeal to the long-run is *inessential*.\n",
    "   \n",
    "   Are other appeals to the long-run inessential?\n",
    "   \n",
    "   \n",
    "  - *Essentially long-run theories.* It's hopeless to divide finite sequences into the random and the non-random. It's fruitful to divide infinite sequences into the random and the non-random. The theory of random sequences is an *essentially long-run theory*, like complexity theory.\n",
    "  \n",
    "> The [task of defining random sequences] becomes clearer if one considers instead the set of all infinite binary strings, or sequences of bits. Although in real life applications we are bound to encounter only finite, albeit very long, strings, it is nevertheless worth considering this further idealization. (Volchan 2002)\n",
    "\n",
    "  - *Discontinuities at infinity.* Another interesting disconnect, along with SAT-solving, between long-run and short-run appears in epistemic game theory.\n",
    "  \n",
    "> [Epistemic game theory] has focused on the limiting case of common belief rather than on finite-order beliefs. [...] Interestingly, there are indications that studying these cases may be harder and can lead to quite different answers. Brandenburger and Friedenberg (2013) show that, for a given game, the implication of imposing rationality and $m$th-order belief in rationality, however large $m$ might be, can differ from the implication of imposing rationality and common belief in rationality. There is a 'discontinuity at infinity.' (Brandenburger 2014: xxii)\n",
    "\n",
    "  - *Computability theory*. Take an uncomputable function $f : N \\to N$. A function $g : N \\to N$ is a *finite approximation* of $f$ if for some $n$, $g(k) = f(k)$ for $k \\leq n$ and $g(k) = 0$ otherwise. Given that all finite approximations of $f$ are computable and in practice we could only compute the value of $f$ for finitely many arguments, why should we care in practice that $f$ is uncomputable?\n",
    "  \n",
    "  For a concrete example, compare the following problems: (i) given a sentence of first-order logic, return 1 if it’s satisfiable and 0 otherwise; and (ii) given a sentence of first-order logic, return 1 if it’s satisfiable and of length less than $10^{10^{10}}$, and 0 otherwise. The first is not solvable; the second is. In practice, you are only interested in solving the problem for sentences of length less than $10^{10^{10}}$. So why care in practice that the first problem is not solvable?"
   ]
  },
  {
   "cell_type": "markdown",
   "metadata": {
    "deletable": true,
    "editable": true
   },
   "source": [
    "<a id='4. MEV v. MEGR'></a>"
   ]
  },
  {
   "cell_type": "markdown",
   "metadata": {
    "deletable": true,
    "editable": true
   },
   "source": [
    "## 4. Maximize Expected Value v. Maximize Expected Growth Rate"
   ]
  },
  {
   "cell_type": "markdown",
   "metadata": {
    "deletable": true,
    "editable": true
   },
   "source": [
    "<a id='4.1 Gambling problems'></a>"
   ]
  },
  {
   "cell_type": "markdown",
   "metadata": {
    "deletable": true,
    "editable": true
   },
   "source": [
    "### 4.1 Gambling problems"
   ]
  },
  {
   "cell_type": "markdown",
   "metadata": {
    "deletable": true,
    "editable": true
   },
   "source": [
    "A *gamble* is a bet with two outcomes: either you win, which happens with probability $p$, and get back what you bet plus $b$ times what you bet; or you lose, which happens with probability $1-p$, and lose what you bet. So a gamble is characterized by the *win probability* $p \\in [0,1]$ and the *payoff odds* $b:1$, where $b \\in \\mathbb{R}_{> 0}$. In a *gambling problem*, you have a bankroll of $r$ dollars and face a gamble, where you can bet any amount in $[0,r]$. We'll be concerned with the question, *How much should you bet in a gambling problem?*\n",
    "\n",
    "*Example 1:* A casino lets you bet on a coin toss. If it comes up heads, you win; if tails, you lose. The odds are 2:1. Your bankroll is \\$100. So if you bet, say, \\$50, either you'll win and have \\$200, which is double your initial bankroll, or lose and have \\$50, which is half your initial bankroll, with equal probability. How much should you bet?\n",
    "\n",
    "*Example 2:* A casino lets you bet on a die roll. If it comes up 1-4, you win; else, you lose. The odds are 1:1. Your bankroll is \\$100. So if you bet, say, \\$50, you'll win with probability 2/3 and have \\$150, which is one and a half times your initial bankroll, or lose with probability 1/3 and have \\$50, which is half your initial bankroll. How much should you bet?"
   ]
  },
  {
   "cell_type": "markdown",
   "metadata": {
    "deletable": true,
    "editable": true
   },
   "source": [
    "<a id='4.2 MEVs recommendation'></a>"
   ]
  },
  {
   "cell_type": "markdown",
   "metadata": {
    "deletable": true,
    "editable": true
   },
   "source": [
    "### 4.2 MEV's recommendation"
   ]
  },
  {
   "cell_type": "markdown",
   "metadata": {
    "deletable": true,
    "editable": true
   },
   "source": [
    "Fix a gamble with win probability $p$ and payoff odds $b:1$ and suppose your bankroll is $r$. The *expected value of betting m dollars* is $p \\cdot (r+bm) + (1-p) \\cdot (r-m)$. Maximize Expected Value (MEV) advises you to bet the amount $m$ which maximizes this quantity, i.e.\n",
    "\n",
    "$$ \\text{argmax}_{m \\in [0,r]} \\text{ } p \\cdot (r+bm) + (1-p) \\cdot (r-m) $$\n",
    "\n",
    "In Example 1 the expected value of betting $m$ dollars comes to $\\frac{1}{2} \\cdot (100+2m) + \\frac{1}{2} \\cdot (100-m)$, which is $100 + \\frac{1}{2}m$. In Example 2 the expected value of betting $m$ dollars is $\\frac{2}{3} \\cdot (100+m) + \\frac{1}{3} \\cdot (100-m)$, which is $100 + \\frac{1}{3}m$. In both examples, the more you bet the higher the expected value, so MEV recommends betting as much as you can, which here is 100 dollars, giving expected value 150 dollars in Example 1 and about 133 dollars in Example 2.\n",
    "\n",
    "You can graph expected value against amount bet in a variety of gambling problems using the sliders below."
   ]
  },
  {
   "cell_type": "code",
   "execution_count": 97,
   "metadata": {
    "collapsed": false,
    "deletable": true,
    "editable": true
   },
   "outputs": [
    {
     "data": {
      "application/vnd.jupyter.widget-view+json": {
       "model_id": "908828c4e64d4143bc52cc5e17e28a8b",
       "version_major": 2,
       "version_minor": 0
      },
      "text/html": [
       "<p>Failed to display Jupyter Widget of type <code>interactive</code>.</p>\n",
       "<p>\n",
       "  If you're reading this message in the Jupyter Notebook or JupyterLab Notebook, it may mean\n",
       "  that the widgets JavaScript is still loading. If this message persists, it\n",
       "  likely means that the widgets JavaScript library is either not installed or\n",
       "  not enabled. See the <a href=\"https://ipywidgets.readthedocs.io/en/stable/user_install.html\">Jupyter\n",
       "  Widgets Documentation</a> for setup instructions.\n",
       "</p>\n",
       "<p>\n",
       "  If you're reading this message in another frontend (for example, a static\n",
       "  rendering on GitHub or <a href=\"https://nbviewer.jupyter.org/\">NBViewer</a>),\n",
       "  it may mean that your frontend doesn't currently support widgets.\n",
       "</p>\n"
      ],
      "text/plain": [
       "interactive(children=(FloatSlider(value=2.0, description='odds', max=10.0, step=0.5), FloatSlider(value=0.5, description='winProb', max=1.0), Output()), _dom_classes=('widget-interact',))"
      ]
     },
     "metadata": {},
     "output_type": "display_data"
    },
    {
     "data": {
      "text/plain": [
       "<function __main__.plotExpectedValue(odds=2, winProb=0.5)>"
      ]
     },
     "execution_count": 97,
     "metadata": {},
     "output_type": "execute_result"
    }
   ],
   "source": [
    "def plotExpectedValue(odds=2,winProb=.5):\n",
    "    \"\"\"Plots expected value against amount bet in a gambling problem.\"\"\"\n",
    "    plt.plot([100 + m*(winProb*(odds+1)-1) for m in range(101)])\n",
    "    plt.xlabel('amount bet ($)'); plt.ylabel('expected value ($)')\n",
    "    plt.show()\n",
    "    \n",
    "interact(plotExpectedValue,odds=(0,10,.5),winProb=(0,1.))"
   ]
  },
  {
   "cell_type": "markdown",
   "metadata": {
    "deletable": true,
    "editable": true
   },
   "source": [
    "The expected value of betting $m$ dollars equals $r + m(p(b+1)-1)$. So the graph of expected value against amount bet is a straight line with gradient $p(b+1)-1$ and $y$-intercept $r$. When $p(b+1)-1 > 0$, the line slopes up and MEV recommends betting your bankroll $r$, which has expected value $rp(b+1).$ When $p(b+1)-1 < 0$, the line slopes down and MEV recommends betting nothing, which has expected value $r$. When $p(b+1)-1 = 0$, the line is horizontal and MEV is indifferent about how much you bet, since all bets have expected value $r$."
   ]
  },
  {
   "cell_type": "markdown",
   "metadata": {
    "deletable": true,
    "editable": true
   },
   "source": [
    "<a id='4.3 MEGRs recommendation'></a>"
   ]
  },
  {
   "cell_type": "markdown",
   "metadata": {
    "deletable": true,
    "editable": true
   },
   "source": [
    "### 4.3 MEGR's recommendation"
   ]
  },
  {
   "cell_type": "markdown",
   "metadata": {
    "deletable": true,
    "editable": true
   },
   "source": [
    "Fix a gamble with win probability $p$ and payoff odds $b:1$ and suppose your bankroll is $r$. The *expected growth rate of betting proportion $m$ of your bankroll* is $(1+bm)^p \\cdot (1-m)^{1-p}$. Maximize Expected Growth Rate (MEGR) advises you to bet the proportion $m$ which maximizes this quantity, i.e.\n",
    "\n",
    "$$ \\text{argmax}_{m \\in [0,1]} \\text{ } (1+bm)^p \\cdot (1-m)^{1-p} $$\n",
    "\n",
    "In Example 1 the expected growth rate of betting proportion $m$ of your bankroll comes to $(1+2m)^{0.5} \\cdot (1-m)^{0.5}$. As it happens, this is maximized over $m \\in [0,1]$ when $m=0.25$. So MEGR recommends betting a quarter of your bankroll, which here is 25 dollars, giving expected growth rate about 1.061. In Example 2 the expected growth rate of betting proportion $m$ comes to $(1+m)^{\\frac{2}{3}} \\cdot (1-m)^{\\frac{1}{3}}$. As it happens, this is is maximized over $m \\in [0,1]$ when $m=\\frac{1}{3}$. So MEGR recommends betting a third of your bankroll, which here is about 33 dollars, giving expected growth rate about 1.058.\n",
    "\n",
    "MEGR is due to [John L. Kelly, Jr](https://en.wikipedia.org/wiki/John_Larry_Kelly_Jr.), a researcher at Bell Labs, in 1956. All the mathematical results about MEGR that follow are due to him or people building on his work. [This collection](https://www.amazon.com/KELLY-CAPITAL-GROWTH-INVESTMENT-CRITERION/dp/9814383139/ref=sr_1_fkmr1_1?ie=UTF8&qid=1534612364&sr=8-1-fkmr1&keywords=thorp+kelly+betting) describes the history of MEGR and contains the major papers.\n",
    "\n",
    "You can graph expected growth rate against bet proportion in a variety of gambling problems using the sliders below."
   ]
  },
  {
   "cell_type": "code",
   "execution_count": 98,
   "metadata": {
    "collapsed": false,
    "deletable": true,
    "editable": true
   },
   "outputs": [
    {
     "data": {
      "application/vnd.jupyter.widget-view+json": {
       "model_id": "308bf7d1785448dea6f184de7e52b76b",
       "version_major": 2,
       "version_minor": 0
      },
      "text/html": [
       "<p>Failed to display Jupyter Widget of type <code>interactive</code>.</p>\n",
       "<p>\n",
       "  If you're reading this message in the Jupyter Notebook or JupyterLab Notebook, it may mean\n",
       "  that the widgets JavaScript is still loading. If this message persists, it\n",
       "  likely means that the widgets JavaScript library is either not installed or\n",
       "  not enabled. See the <a href=\"https://ipywidgets.readthedocs.io/en/stable/user_install.html\">Jupyter\n",
       "  Widgets Documentation</a> for setup instructions.\n",
       "</p>\n",
       "<p>\n",
       "  If you're reading this message in another frontend (for example, a static\n",
       "  rendering on GitHub or <a href=\"https://nbviewer.jupyter.org/\">NBViewer</a>),\n",
       "  it may mean that your frontend doesn't currently support widgets.\n",
       "</p>\n"
      ],
      "text/plain": [
       "interactive(children=(FloatSlider(value=2.0, description='odds', max=10.0, step=0.5), FloatSlider(value=0.5, description='winProb', max=1.0), Output()), _dom_classes=('widget-interact',))"
      ]
     },
     "metadata": {},
     "output_type": "display_data"
    },
    {
     "data": {
      "text/plain": [
       "<function __main__.plotExpectedGrowthRate(odds=2, winProb=0.5)>"
      ]
     },
     "execution_count": 98,
     "metadata": {},
     "output_type": "execute_result"
    }
   ],
   "source": [
    "def plotExpectedGrowthRate(odds=2,winProb=.5):\n",
    "    \"\"\"Plots expected growth rate against proportion bet in a gambling problem.\"\"\"\n",
    "    betProps = [i/100 for i in range(101)]\n",
    "    plt.plot(betProps,[(1+odds*m)**winProb * (1-m)**(1-winProb) for m in betProps])\n",
    "    plt.xlabel('proportion of bankroll'); plt.ylabel('expected growth rate')\n",
    "    plt.show()\n",
    "    \n",
    "interact(plotExpectedGrowthRate,odds=(0,10,.5),winProb=(0,1.))"
   ]
  },
  {
   "cell_type": "markdown",
   "metadata": {
    "deletable": true,
    "editable": true
   },
   "source": [
    "It turns out that there's an easy way to find the bet proportion which maximizes expected growth rate in a gambling problem. The *edge* of a gamble is the expected net winnings on a 1 dollar bet, which is $pb - (1-p)$. This is just the expected value of betting 1 dollar, but taking your initial bankroll as the baseline, rather than 0 dollars. In other words, it's the expected *change* in value of betting 1 dollar. The edge equals $p(b+1)-1$, which expression we saw earlier: it's the gradient of the line of expected value against amount bet.\n",
    "\n",
    "MEGR advises you to bet the proportion of your bankroll given by *edge over odds*:\n",
    "\n",
    "$$ \\frac{pb - (1-p)}{b} $$\n",
    "\n",
    "The odds of a gamble $b$ is the net winnings on a 1 dollar bet if you win. So yet another way to put MEGR's advice is to bet expected net winnings over net winnings if you win, on a 1 dollar bet. Or more simply, since the bet size will cancel out, expected net winnings over net winnings if you win.\n",
    "\n",
    "That's how I worked out what MEGR recommends in Examples 1 and 2. In Example 1 the edge is $\\frac{1}{2} \\cdot 2 - \\frac{1}{2} = \\frac{1}{2}$ and the odds are 2:1, so edge over odds is 0.25. In Example 2, the edge is $\\frac{2}{3} - \\frac{1}{3} = \\frac{1}{3}$ and the odds are 1:1, so edge over odds is $\\frac{1}{3}$.\n",
    "\n",
    "A corner case: when $p(b+1)-1 < 0$, the edge is negative, so edge over odds is negative. In that case, the proportion $m \\in [0,1]$ which maximizes expected growth rate is 0, so that's the proportion which MEGR recommends."
   ]
  },
  {
   "cell_type": "markdown",
   "metadata": {
    "deletable": true,
    "editable": true
   },
   "source": [
    "<a id='4.4 When do MEV and MEGR disagree?'></a>"
   ]
  },
  {
   "cell_type": "markdown",
   "metadata": {
    "deletable": true,
    "editable": true
   },
   "source": [
    "### 4.4 When do MEV and MEGR disagree?"
   ]
  },
  {
   "cell_type": "markdown",
   "metadata": {
    "deletable": true,
    "editable": true
   },
   "source": [
    "As we saw above, when $p(b+1)-1 < 0$, MEV and MEGR agree: they both recommend betting nothing. When $p(b+1)-1 = 0$, MEV is indifferent about how much you bet, and MEGR is not: it still recommends betting nothing. So here we have a mild disagreement. When $p(b+1)-1 > 0$, both MEV and MEGR recommend betting something: MEV recommends betting your bankroll (100 dollars in Examples 1 and 2); MEGR typically recommends betting something less than your bankroll (a quarter in Example 1 and a third in Example 2). So here we typically have a serious disagreement. When MEV and MEGR disagree, which, if either, is right?\n",
    "\n",
    "Note that MEV and MEGR parameterize your options differently. MEV sees your options as betting any *amount* $m \\in [0,r]$, where $r$ is your bankroll. MEGR sees your options as betting any *proportion* $m \\in [0,1]$ of your bankroll. But these are just two ways to parameterize the same set of options. It's a difference not in the represent*ed* but the represent*ation*. See Section TBD below for further discussion."
   ]
  },
  {
   "cell_type": "markdown",
   "metadata": {
    "deletable": true,
    "editable": true
   },
   "source": [
    "<a id='4.5 How does MEV do in the long-run?'></a>"
   ]
  },
  {
   "cell_type": "markdown",
   "metadata": {
    "deletable": true,
    "editable": true
   },
   "source": [
    "### 4.5 How does MEV do in the long-run?"
   ]
  },
  {
   "cell_type": "markdown",
   "metadata": {
    "deletable": true,
    "editable": true
   },
   "source": [
    "Maximize Expected Value does best in the long-run. Let's unpack what that means.\n",
    "\n",
    "In a *horizontal gambling problem*, an infinite sequence of people $A_1$, $A_2$, $A_3$,... each face a gambling problem with win probability $p$, odds $b:1$ and bankroll $r$ in turn. Everyone has to bet the same amount.\n",
    "\n",
    "Take Example 1 above, where $p=\\frac{1}{2}$, $b=2$ and $r$ is 100 dollars. Suppose everyone bets $m$ dollars, for some $m \\in [0,100]$. What will happen? Here's one way things might go. First, $A_1$ bets and wins, say, giving her $100 + 2m$ dollars. That is her bankroll after betting. Then $A_2$ bets and loses, say, giving her $100-m$ dollars. The bankrolls of $A_1$ and $A_2$ after betting total $200 + m$ dollars. Then $A_3$ bets and wins, say, giving her $100 + 2m$ dollars. The bankrolls of $A_1$, $A_2$, $A_3$ after betting total $300 + 3m$ dollars. And so on. We're interested in the bettors' total bankroll after betting, as more and more people bet.\n",
    "\n",
    "It turns out that it's more convenient to proceed indirectly, by looking not at the bettors' *total* bankroll $t$ but at their *average* bankroll $\\frac{t}{n}$, where $n$ is the number of people who have bet. Given $n$, the two come to the same thing: either determines the other. The higher the total, the higher the average; the higher the average, the higher the total. Looking at the average bankroll rather than total bankroll happens to be more convenient, because the average bankroll is bounded and the total bankroll isn't. But the change is just a change in point of view. It's like changing the scale in which we measure the total bankroll. See Section TBD for further discussion. \n",
    "\n",
    "In general, each time someone wins, her resulting bankroll is $r+bm$ dollars and each time someone loses, her resulting bankroll is $r-m$ dollars. So if $A_1$, ..., $A_n$ bet and exactly $k$ of them win, then their total bankroll is:\n",
    "\n",
    "$$ k \\cdot (r + bm) + (n-k) \\cdot (r-m)$$\n",
    "\n",
    "And their average bankroll is:\n",
    "\n",
    "$$ r + \\frac{k}{n} bm - \\frac{n-k}{n} m $$\n",
    "\n",
    "You can evaluate these expressions, the total bankroll and average bankroll after $k$ wins in $n$ bets, for different values for $n$, $k$, $b$, and $m$ using the sliders below. It assumes the initial bankroll $r$ is 100 dollars."
   ]
  },
  {
   "cell_type": "code",
   "execution_count": 99,
   "metadata": {
    "collapsed": false,
    "deletable": true,
    "editable": true
   },
   "outputs": [
    {
     "data": {
      "application/vnd.jupyter.widget-view+json": {
       "model_id": "e79687a7026b44c389c9158fb4119b26",
       "version_major": 2,
       "version_minor": 0
      },
      "text/html": [
       "<p>Failed to display Jupyter Widget of type <code>interactive</code>.</p>\n",
       "<p>\n",
       "  If you're reading this message in the Jupyter Notebook or JupyterLab Notebook, it may mean\n",
       "  that the widgets JavaScript is still loading. If this message persists, it\n",
       "  likely means that the widgets JavaScript library is either not installed or\n",
       "  not enabled. See the <a href=\"https://ipywidgets.readthedocs.io/en/stable/user_install.html\">Jupyter\n",
       "  Widgets Documentation</a> for setup instructions.\n",
       "</p>\n",
       "<p>\n",
       "  If you're reading this message in another frontend (for example, a static\n",
       "  rendering on GitHub or <a href=\"https://nbviewer.jupyter.org/\">NBViewer</a>),\n",
       "  it may mean that your frontend doesn't currently support widgets.\n",
       "</p>\n"
      ],
      "text/plain": [
       "interactive(children=(IntSlider(value=50, description='n', min=1), IntSlider(value=50, description='k'), FloatSlider(value=5.0, description='odds', max=10.0, step=0.5), IntSlider(value=50, description='betAmount'), Output()), _dom_classes=('widget-interact',))"
      ]
     },
     "metadata": {},
     "output_type": "display_data"
    },
    {
     "data": {
      "text/plain": [
       "<function __main__.displayHorizontalStuff(n, k, odds, betAmount)>"
      ]
     },
     "execution_count": 99,
     "metadata": {},
     "output_type": "execute_result"
    }
   ],
   "source": [
    "def horizontalBankroll(n,k,odds,betAmount,initialBankroll=1):\n",
    "    \"\"\"Finds total bankroll after k wins in n horizontal rounds.\"\"\"\n",
    "    return k*(initialBankroll+odds*betAmount) + (n-k)*(initialBankroll-betAmount)\n",
    "\n",
    "def displayHorizontalStuff(n,k,odds,betAmount):\n",
    "    \"\"\"Prints formatted bankroll after k wins in n horizontal rounds.\"\"\"\n",
    "    if k > n:\n",
    "        print(\"That doesn't make sense: number of wins > number of bets!\")\n",
    "    else:\n",
    "        total = horizontalBankroll(n,k,odds,betAmount,100)\n",
    "        roundedTotal = int(np.around(total))\n",
    "        roundedAverage = int(np.around(total / n))\n",
    "        print('Total bankroll is {} dollars (to nearest dollar).'.format(roundedTotal))\n",
    "        print('Average bankroll is {} dollars (to nearest dollar).'.format(roundedAverage))\n",
    "        \n",
    "interact(displayHorizontalStuff,n=(1,100),k=(0,100),odds=(0,10,0.5),betAmount=(0,100))"
   ]
  },
  {
   "cell_type": "markdown",
   "metadata": {
    "deletable": true,
    "editable": true
   },
   "source": [
    "How the bettors' average bankroll changes as more and more people bet is a chancy matter, since the outcome of each bet is chancy. You can plot how things might go for a few different choices of bet amount using the sliders below. Whenever you move a slider, a fresh sequence of bets is simulated and it plots the average bankroll against the number of bettors for each choice of bet amount. It assumes the initial bankroll $r$ is 100 dollars."
   ]
  },
  {
   "cell_type": "code",
   "execution_count": 100,
   "metadata": {
    "collapsed": false,
    "deletable": true,
    "editable": true
   },
   "outputs": [
    {
     "data": {
      "application/vnd.jupyter.widget-view+json": {
       "model_id": "72dbc010be734fd2bb02b25f8678a641",
       "version_major": 2,
       "version_minor": 0
      },
      "text/html": [
       "<p>Failed to display Jupyter Widget of type <code>interactive</code>.</p>\n",
       "<p>\n",
       "  If you're reading this message in the Jupyter Notebook or JupyterLab Notebook, it may mean\n",
       "  that the widgets JavaScript is still loading. If this message persists, it\n",
       "  likely means that the widgets JavaScript library is either not installed or\n",
       "  not enabled. See the <a href=\"https://ipywidgets.readthedocs.io/en/stable/user_install.html\">Jupyter\n",
       "  Widgets Documentation</a> for setup instructions.\n",
       "</p>\n",
       "<p>\n",
       "  If you're reading this message in another frontend (for example, a static\n",
       "  rendering on GitHub or <a href=\"https://nbviewer.jupyter.org/\">NBViewer</a>),\n",
       "  it may mean that your frontend doesn't currently support widgets.\n",
       "</p>\n"
      ],
      "text/plain": [
       "interactive(children=(FloatSlider(value=5.0, description='odds', max=10.0, step=0.5), FloatSlider(value=0.5, description='winProbability', max=1.0), IntSlider(value=50, description='numRounds', min=1), IntSlider(value=0, description='betAmount0'), IntSlider(value=40, description='betAmount1'), IntSlider(value=80, description='betAmount2'), IntSlider(value=100, description='betAmount3'), Output()), _dom_classes=('widget-interact',))"
      ]
     },
     "metadata": {},
     "output_type": "display_data"
    },
    {
     "data": {
      "text/plain": [
       "<function __main__.plotFourHorizontalBankrolls(odds, winProbability, numRounds, betAmount0=0, betAmount1=40, betAmount2=80, betAmount3=100, initialBankroll=1)>"
      ]
     },
     "execution_count": 100,
     "metadata": {},
     "output_type": "execute_result"
    }
   ],
   "source": [
    "def plotFourHorizontalBankrolls(odds,winProbability,numRounds,betAmount0=0,betAmount1=40,\n",
    "                                betAmount2=80,betAmount3=100,initialBankroll=1):\n",
    "    \"\"\"Plots simulation of four average bankrolls over n rounds for given bet amounts.\"\"\"\n",
    "    cumWins = np.cumsum(np.random.random(numRounds) < winProbability)\n",
    "    betAmounts = [betAmount0,betAmount1,betAmount2,betAmount3]\n",
    "    for betAmount in betAmounts:\n",
    "        bankrolls = [initialBankroll] + [horizontalBankroll(numRounds,numWins,odds,betAmount,initialBankroll) \\\n",
    "         for (numRounds,numWins) in enumerate(cumWins,start=1)]\n",
    "        label = 'bet amount: ${}'.format(betAmount)\n",
    "        plt.plot(range(numRounds+1),bankrolls,label=label)\n",
    "    plt.xlabel('number of people who have bet'); plt.ylabel('average bankroll ($)')\n",
    "    plt.title(\"Simulation of how the bettors' average bankroll \\n might change as more and more people bet.\")\n",
    "    plt.legend()\n",
    "    plt.show()\n",
    "    \n",
    "interact(plotFourHorizontalBankrolls,odds=(0,10,0.5),winProbability=(0,1.),\n",
    "         betAmount0=(0,100),betAmount1=(0,100),betAmount2=(0,100),betAmount3=(0,100),\n",
    "         numRounds=(1,100),initialBankroll=fixed(100))"
   ]
  },
  {
   "cell_type": "markdown",
   "metadata": {
    "deletable": true,
    "editable": true
   },
   "source": [
    "You'll notice that for bet amount $m$ the average bankroll is always within $100-m$ and $100+bm$. That's because each bettors' bankroll is within that range, so their average bankroll is too.\n",
    "\n",
    "Try fixing the odds and win probability, and seeing what happens for a few different bet amounts, including the MEV amount, as more and more people bet. For example, set $p=0.5$ and $b=2$ and see what happens for a few different bet amounts, including the MEV amount of 100 dollars, as more and more people bet. The simulations suggest that betting the MEV amount tends eventually to lead to the highest average bankroll.\n",
    "\n",
    "In fact, the simulations suggest something stronger: that as more and more people bet, their average bankroll tends to stabilize around the expected value. For example, if $p = \\frac{1}{2}$, $b=2$ and everyone bets 100 dollars, then the average bankroll after 100 people have bet tends to be around 150 dollars, which is the expected value. You can experiment with other values of $p$, $b$ and bet amounts.\n",
    "\n",
    "The Weak Law of Large Numbers confirms what the simulations suggest. It tells us that:\n",
    "\n",
    "> As more and more people bet, the probability that the number of wins $k$ over the number of people $n$ is within $\\epsilon$ of the win probability $p$ tends to 1, for any $\\epsilon > 0$.\n",
    "\n",
    "Recall that the average bankroll after $k$ wins in $n$ bets is:\n",
    "\n",
    "$$ \\frac{k}{n} \\cdot (r+bm) + \\frac{n-k}{n} \\cdot (r-m) $$\n",
    "\n",
    "Define a function $g(x) = x \\cdot (r+bm) + (1-x) \\cdot (r-m)$. Note that $g$ is continuous, $g(\\frac{k}{n})$ is the average bankroll after $k$ wins in $n$ bets, and $g(p)$ is the expected value of betting $m$ dollars. So the Weak Law implies that:\n",
    "\n",
    "> As more and more people bet, the probability that the average bankroll is within $\\epsilon$ of the expected value tends to 1, for any $\\epsilon > 0$.\n",
    "\n",
    "You can convince yourself that this is true by crunching some numbers. We know that the bettors' average bankroll is chancy: it might be this or that or the other. Let's look at its probability distribution: for each value it might be, what is the probability it is that value? You can plot the distribution below for different values of the parameters. It assumes the initial bankroll is 100 dollars."
   ]
  },
  {
   "cell_type": "code",
   "execution_count": 101,
   "metadata": {
    "collapsed": false,
    "deletable": true,
    "editable": true
   },
   "outputs": [
    {
     "data": {
      "application/vnd.jupyter.widget-view+json": {
       "model_id": "1ef4a3db75ad4aa782864c0965200849",
       "version_major": 2,
       "version_minor": 0
      },
      "text/html": [
       "<p>Failed to display Jupyter Widget of type <code>interactive</code>.</p>\n",
       "<p>\n",
       "  If you're reading this message in the Jupyter Notebook or JupyterLab Notebook, it may mean\n",
       "  that the widgets JavaScript is still loading. If this message persists, it\n",
       "  likely means that the widgets JavaScript library is either not installed or\n",
       "  not enabled. See the <a href=\"https://ipywidgets.readthedocs.io/en/stable/user_install.html\">Jupyter\n",
       "  Widgets Documentation</a> for setup instructions.\n",
       "</p>\n",
       "<p>\n",
       "  If you're reading this message in another frontend (for example, a static\n",
       "  rendering on GitHub or <a href=\"https://nbviewer.jupyter.org/\">NBViewer</a>),\n",
       "  it may mean that your frontend doesn't currently support widgets.\n",
       "</p>\n"
      ],
      "text/plain": [
       "interactive(children=(FloatSlider(value=5.0, description='odds', max=10.0, step=0.5), FloatSlider(value=0.5, description='winProbability', max=1.0), IntSlider(value=50, description='numRounds', min=1), IntSlider(value=50, description='betAmount'), Output()), _dom_classes=('widget-interact',))"
      ]
     },
     "metadata": {},
     "output_type": "display_data"
    },
    {
     "data": {
      "text/plain": [
       "<function __main__.plotHorizontalBankrollDistribution(odds, winProbability, numRounds, betAmount, initialBankroll=1)>"
      ]
     },
     "execution_count": 101,
     "metadata": {},
     "output_type": "execute_result"
    }
   ],
   "source": [
    "def bd(n,m,p):\n",
    "    return binom(n,m)*(p**m)*(1-p)**(n-m)\n",
    "\n",
    "def horizontalBankrollDistribution(odds,winProbability,numRounds,betAmount,initialBankroll=1):\n",
    "    \"\"\"Finds distribution of bankroll after n horizontal rounds.\"\"\"\n",
    "    df = pd.DataFrame([[bd(numRounds,k,winProbability),\n",
    "        horizontalBankroll(numRounds,k,odds,betAmount,initialBankroll)] for k in range(numRounds+1)])\n",
    "    df = df.groupby(1)[0].apply(np.sum)\n",
    "    df = df.to_frame().reset_index()\n",
    "    df.columns = ['value','probability']\n",
    "    return df\n",
    "\n",
    "def plotHorizontalBankrollDistribution(odds,winProbability,numRounds,betAmount,initialBankroll=1):\n",
    "    \"\"\"Plots distribution of bankroll after n horizontal rounds.\"\"\"\n",
    "    pmf = horizontalBankrollDistribution(odds,winProbability,numRounds,betAmount,initialBankroll)\n",
    "    plt.plot(pmf['value'],pmf['probability'],'o')\n",
    "    plt.xlabel('average bankroll ($)'); plt.ylabel('probability')\n",
    "    plt.title(\"\"\"Probability distribution of average bankroll after \n",
    "    {} people have each bet {} dollars.\"\"\".format(numRounds,betAmount))\n",
    "    plt.show()\n",
    "    \n",
    "interact(plotHorizontalBankrollDistribution,odds=(0,10,0.5),winProbability=(0,1.),numRounds=(1,100),\n",
    "        betAmount=(0,100),initialBankroll=fixed(100))"
   ]
  },
  {
   "cell_type": "markdown",
   "metadata": {
    "deletable": true,
    "editable": true
   },
   "source": [
    "The distributions bear out what the Weak Law implies: that as more and more people bet, the probability that their average bankroll is within $\\epsilon$ of the expected value tends to 1, for any $\\epsilon > 0$. Let's plot those probabilities directly."
   ]
  },
  {
   "cell_type": "code",
   "execution_count": 102,
   "metadata": {
    "collapsed": false,
    "deletable": true,
    "editable": true
   },
   "outputs": [
    {
     "data": {
      "application/vnd.jupyter.widget-view+json": {
       "model_id": "00bdb883afc44296b4cef53b7f42f810",
       "version_major": 2,
       "version_minor": 0
      },
      "text/html": [
       "<p>Failed to display Jupyter Widget of type <code>interactive</code>.</p>\n",
       "<p>\n",
       "  If you're reading this message in the Jupyter Notebook or JupyterLab Notebook, it may mean\n",
       "  that the widgets JavaScript is still loading. If this message persists, it\n",
       "  likely means that the widgets JavaScript library is either not installed or\n",
       "  not enabled. See the <a href=\"https://ipywidgets.readthedocs.io/en/stable/user_install.html\">Jupyter\n",
       "  Widgets Documentation</a> for setup instructions.\n",
       "</p>\n",
       "<p>\n",
       "  If you're reading this message in another frontend (for example, a static\n",
       "  rendering on GitHub or <a href=\"https://nbviewer.jupyter.org/\">NBViewer</a>),\n",
       "  it may mean that your frontend doesn't currently support widgets.\n",
       "</p>\n"
      ],
      "text/plain": [
       "interactive(children=(IntSlider(value=20, description='e', max=30, min=5, step=5), FloatSlider(value=2.0, description='odds', max=10.0, step=0.5), FloatSlider(value=0.5, description='winProb', max=1.0), IntSlider(value=50, description='betAmount'), Output()), _dom_classes=('widget-interact',))"
      ]
     },
     "metadata": {},
     "output_type": "display_data"
    },
    {
     "data": {
      "text/plain": [
       "<function __main__.plotProbClose(e=20, odds=2, winProb=0.5, betAmount=50, initialBankroll=1)>"
      ]
     },
     "execution_count": 102,
     "metadata": {},
     "output_type": "execute_result"
    }
   ],
   "source": [
    "def g(x,odds,betAmount,initialBankroll=1):\n",
    "    \"\"\"Returns average bankroll when #wins/#bets = x.\"\"\"\n",
    "    return x*(initialBankroll+odds*betAmount) + (1-x)*(initialBankroll-betAmount)\n",
    "\n",
    "def probHorizontalClose(n,e,odds,winProb,betAmount,initialBankroll=1):\n",
    "    \"\"\"Computes probability that average bankroll is within e of expected value after n bets.\"\"\"\n",
    "    expectedValue = g(winProb,odds,betAmount,initialBankroll)\n",
    "    closeValues = np.absolute(np.array([g(i/n,odds,betAmount,initialBankroll) for i in range(n+1)]) - \n",
    "                                expectedValue) < e\n",
    "    return np.where(closeValues,\n",
    "             [bd(n,i,winProb) for i in range(0,n+1)],\n",
    "             np.zeros(n+1)).sum()\n",
    "\n",
    "def plotProbHorizontalClose(e=20,odds=2,winProb=.5,betAmount=50,initialBankroll=1):\n",
    "    \"\"\"Plots probability that average bankroll is close to expected value against number of bets.\"\"\"\n",
    "    plt.plot(range(1,101),[probHorizontalClose(i,e,odds,winProb,betAmount,initialBankroll) for i in range(1,101)])\n",
    "    plt.ylabel('probability'); plt.xlabel('number of people who have bet')\n",
    "    plt.title('Probability that average bankroll is within {} of expected bankroll.'.format(e))\n",
    "    plt.show()\n",
    "\n",
    "interact(plotProbClose,e=(5,30,5),odds=(0,10,.5),winProb=(0,1.),betAmount=(0,100),initialBankroll=fixed(100))"
   ]
  },
  {
   "cell_type": "markdown",
   "metadata": {
    "deletable": true,
    "editable": true
   },
   "source": [
    "A key consequence: because as more and more people bet their average bankroll tends to stabilize around the expected value, people who bet the amount which maximizes expected value eventually tend to be ahead of people who don't.\n",
    "\n",
    "Imagine two groups of people facing a horizontal gambling problem: one group bets the amount recommended by MEV; the other bets another amount. For any $\\delta > 0$, there exists an $N$ such that for all $n>N$ the probability that $n$ MEV-bettors are ahead of $n$ rival bettors is at least $1-\\delta$.\n",
    "\n",
    "You can investigate this graphically using the sliders below."
   ]
  },
  {
   "cell_type": "code",
   "execution_count": 103,
   "metadata": {
    "collapsed": false,
    "deletable": true,
    "editable": true
   },
   "outputs": [
    {
     "data": {
      "application/vnd.jupyter.widget-view+json": {
       "model_id": "aaecbbce033c425a935579600db4a6a1",
       "version_major": 2,
       "version_minor": 0
      },
      "text/html": [
       "<p>Failed to display Jupyter Widget of type <code>interactive</code>.</p>\n",
       "<p>\n",
       "  If you're reading this message in the Jupyter Notebook or JupyterLab Notebook, it may mean\n",
       "  that the widgets JavaScript is still loading. If this message persists, it\n",
       "  likely means that the widgets JavaScript library is either not installed or\n",
       "  not enabled. See the <a href=\"https://ipywidgets.readthedocs.io/en/stable/user_install.html\">Jupyter\n",
       "  Widgets Documentation</a> for setup instructions.\n",
       "</p>\n",
       "<p>\n",
       "  If you're reading this message in another frontend (for example, a static\n",
       "  rendering on GitHub or <a href=\"https://nbviewer.jupyter.org/\">NBViewer</a>),\n",
       "  it may mean that your frontend doesn't currently support widgets.\n",
       "</p>\n"
      ],
      "text/plain": [
       "interactive(children=(FloatSlider(value=5.0, description='odds', max=10.0, step=0.5), FloatSlider(value=0.0, description='winProbability', max=1.0), IntSlider(value=50, description='numRounds', min=1), IntSlider(value=50, description='betAmount1'), IntSlider(value=50, description='betAmount2'), Output()), _dom_classes=('widget-interact',))"
      ]
     },
     "metadata": {},
     "output_type": "display_data"
    },
    {
     "data": {
      "text/plain": [
       "<function __main__.plotHorizontalProbabilityAhead(odds, winProbability, numRounds, betAmount1, betAmount2)>"
      ]
     },
     "execution_count": 103,
     "metadata": {},
     "output_type": "execute_result"
    }
   ],
   "source": [
    "def horizontalProbabilityAhead(odds,winProbability,numRounds,betAmount1,betAmount2):\n",
    "    \"\"\"Finds P(X>Y), where X and Y are two bettors' bankrolls after n rounds.\"\"\"\n",
    "    # can't use horizontalBankrollDistribution, since it groups equal bankrolls and we need to keep them separate\n",
    "    # initial bankroll doesn't matter: we set it to 1\n",
    "    bankrolls1 = np.array([horizontalBankroll(numRounds,k,odds,betAmount1,1) for k in range(numRounds+1)])\n",
    "    bankrolls2 = np.array([horizontalBankroll(numRounds,k,odds,betAmount2,1) for k in range(numRounds+1)])\n",
    "    bprobs = np.array([bd(numRounds,k,winProbability) for k in range(numRounds+1)])\n",
    "    return np.where(bankrolls1 > bankrolls2,bprobs,np.zeros(numRounds+1)).sum()    \n",
    "\n",
    "def plotHorizontalProbabilityAhead(odds,winProbability,numRounds,betAmount1,betAmount2):\n",
    "    \"\"\"Plots P(X>Y), where X and Y are average bankrolls, against number of people who have bet.\"\"\"\n",
    "    probabilitiesAhead = [horizontalProbabilityAhead(odds,winProbability,k,betAmount1,betAmount2) \\\n",
    "                          for k in range(1,numRounds+1)]\n",
    "    plt.plot(range(1,numRounds+1),probabilitiesAhead)\n",
    "    plt.xlabel('number of people who have bet'); plt.ylabel('probability ahead')\n",
    "    plt.title(\"\"\"probability that the average bankroll of people who bet \\n {} dollars\\\n",
    " is greater than people who bet {} dollars\"\"\".format(betAmount1,betAmount2))\n",
    "    plt.show()\n",
    "\n",
    "interact(plotHorizontalProbabilityAhead,odds=(0,10,.5),winProbability=(0,1,.1),numRounds=(1,100),\n",
    "         betAmount1=(0,100),betAmount2=(0,100))"
   ]
  },
  {
   "cell_type": "markdown",
   "metadata": {
    "deletable": true,
    "editable": true
   },
   "source": [
    "Our original question was *How much should you bet in a gambling problem?* MEV's advice is to bet the amount which maximizes expected value. MEV can be defended by pointing out that *it does best in the horizontal long-run:* people who bet the amount which maximizes expected value eventually tend to be ahead of people who don't."
   ]
  },
  {
   "cell_type": "markdown",
   "metadata": {
    "deletable": true,
    "editable": true
   },
   "source": [
    "<a id='4.6 How does MEGR do in the long-run?'></a>"
   ]
  },
  {
   "cell_type": "markdown",
   "metadata": {
    "deletable": true,
    "editable": true
   },
   "source": [
    "### 4.6 How does MEGR do in the long-run?"
   ]
  },
  {
   "cell_type": "markdown",
   "metadata": {
    "deletable": true,
    "editable": true
   },
   "source": [
    "MEGR does best in the long-run. Let's unpack what that means.\n",
    "\n",
    "In a *vertical gambling problem*, you face a gambling problem with win probability $p$ and odds $b$:1 each day. Your bankroll before betting on Day 1 is $r$. And it rolls over: your bankroll before betting on Day $n+1$ is whatever your bankroll after betting is on Day $n$. You have to bet the same proportion of your bankroll each day.\n",
    "\n",
    "Take Example 1 above, where $p=\\frac{1}{2}$, $b=2$ and $r$ is 100 dollars. Suppose each day you bet proportion $m$, for some $m \\in [0,1]$. What will happen? Here's one way things might go. On Day 1, you bet and win, say. You now have $100(1+bm)$ dollars. (Why? Because you had 100 dollars, bet $100m$ dollars, and got back your bet plus $b$ times your bet.) On Day 2, you bet and lose, say. You now have $100(1+bm)(1-m)$ dollars. (Why? Because you had $100(1+bm)$ dollars, bet $100(1+bm)m$ dollars, and lost it.) On Day 3, you bet and win, say. You now have $100(1+bm)(1-m)(1+bm)$ dollars. (Why? Because you had $100(1+bm)(1-m)$ dollars, bet $100(1+bm)(1-m)m$ dollars and got back your bet plus $b$ times your bet.) And so on. We're interested in your final bankroll as you bet more and more times. \n",
    "\n",
    "It turns out that it's more convenient to proceed indirectly, by looking not at your final bankroll but at your bankroll's *growth rate*. What's that? Well, if your final bankroll after betting $n$ times with initial bankroll $r$ is $f$, then your bankroll's growth rate is $g = \\sqrt[n]{\\frac{f}{r}}$. If you multiply your initial bankroll $r$ by the growth rate $g$ each day $n$ times, once for each time you bet, then you get your final bankroll.\n",
    "\n",
    "$$ r \\cdot g^n = r \\cdot \\frac{f}{r} = f $$\n",
    "\n",
    "The growth rate, then, may be viewed as the rate of compound daily interest required to yield $f$ from $r$ in $n$ days. \n",
    "\n",
    "Given your initial bankroll $r$ and the number of bets $n$, your final bankroll comes to the same thing as the growth rate: either determines the other. Given $f$, we have $g = \\sqrt[n]{\\frac{f}{r}}$; and given $g$, we have $f = r \\cdot g^n$. The higher the final bankroll, the higher the growth rate; the higher the growth rate, the higher the final bankroll. Looking at growth rate rather than final bankroll happens to be more convenient, because the growth rate is bounded and the final bankroll isn't. But the change is just a change in point of view. It's a bit like changing the scale in which we measure your final bankroll. See Section TBD for further discussion.\n",
    "\n",
    "Each time you win in a vertical gambling problem, you multiply your bankroll by $(1+bm)$ and each time you lose, you multiply your bankroll by $(1-m)$. So if your initial bankroll is $r$ dollars, you bet $n$ times and win $k$ times, your final bankroll is:\n",
    "\n",
    "$$ r \\cdot (1+bm)^k \\cdot (1-m)^{n-k} $$\n",
    "\n",
    "And the growth rate is:\n",
    "\n",
    "$$ (1+bm)^{\\frac{k}{n}} \\cdot (1-m)^{\\frac{n-k}{n}} $$\n",
    "\n",
    "You can evaluate these two expressions, your final bankroll and the growth rate after $k$ wins in $n$ bets, for different values for $n$, $k$, $b$, and $m$ using the sliders below. When calculating your final bankroll, we assume your initial bankroll $r$ is 100 dollars."
   ]
  },
  {
   "cell_type": "code",
   "execution_count": 104,
   "metadata": {
    "collapsed": false,
    "deletable": true,
    "editable": true
   },
   "outputs": [
    {
     "data": {
      "application/vnd.jupyter.widget-view+json": {
       "model_id": "37ee279e8a0d49efb44f9b9c3d4a1af9",
       "version_major": 2,
       "version_minor": 0
      },
      "text/html": [
       "<p>Failed to display Jupyter Widget of type <code>interactive</code>.</p>\n",
       "<p>\n",
       "  If you're reading this message in the Jupyter Notebook or JupyterLab Notebook, it may mean\n",
       "  that the widgets JavaScript is still loading. If this message persists, it\n",
       "  likely means that the widgets JavaScript library is either not installed or\n",
       "  not enabled. See the <a href=\"https://ipywidgets.readthedocs.io/en/stable/user_install.html\">Jupyter\n",
       "  Widgets Documentation</a> for setup instructions.\n",
       "</p>\n",
       "<p>\n",
       "  If you're reading this message in another frontend (for example, a static\n",
       "  rendering on GitHub or <a href=\"https://nbviewer.jupyter.org/\">NBViewer</a>),\n",
       "  it may mean that your frontend doesn't currently support widgets.\n",
       "</p>\n"
      ],
      "text/plain": [
       "interactive(children=(IntSlider(value=50, description='n', min=1), IntSlider(value=30, description='k'), FloatSlider(value=2.0, description='odds', max=10.0, step=0.5), FloatSlider(value=0.5, description='betProp', max=1.0, step=0.05), Output()), _dom_classes=('widget-interact',))"
      ]
     },
     "metadata": {},
     "output_type": "display_data"
    },
    {
     "data": {
      "text/plain": [
       "<function __main__.displayVerticalStuff(n=50, k=30, odds=2, betProp=0.5)>"
      ]
     },
     "execution_count": 104,
     "metadata": {},
     "output_type": "execute_result"
    }
   ],
   "source": [
    "def verticalBankroll(n,k,odds,betProp,initialBankroll=1):\n",
    "    \"\"\"Finds final bankroll after k wins in n vertical rounds.\"\"\"\n",
    "    return initialBankroll * (1+odds*betProp)**k * (1-betProp)**(n-k)\n",
    "\n",
    "def verticalBankrollGrowthRate(n,k,odds,betProp):\n",
    "    \"\"\"Finds bankroll growth rate after k wins in n vertical rounds.\"\"\"\n",
    "    return ((1+odds*betProp)**k * (1-betProp)**(n-k))**(1/n)\n",
    "\n",
    "def displayVerticalStuff(n=50,k=30,odds=2,betProp=.5):\n",
    "    \"\"\"Returns bankroll after k wins in n vertical rounds.\"\"\"\n",
    "    if k > n:\n",
    "        print(\"That doesn't make sense: number of wins > number of bets!\")\n",
    "    else:\n",
    "        final = verticalBankroll(n,k,odds,betProp,100)\n",
    "        roundedFinal = int(np.around(final))\n",
    "        roundedGrowthRate = np.around(final,2)\n",
    "        print('Final bankroll is {} dollars (to nearest dollar).'.format(roundedFinal))\n",
    "        print('Bankroll growth rate is {} (to 2 decimal places).'.format(roundedGrowthRate))\n",
    "        \n",
    "interact(displayVerticalStuff,n=(1,100),k=(0,100),odds=(0,10,0.5),betProp=(0,1,0.05))"
   ]
  },
  {
   "cell_type": "markdown",
   "metadata": {
    "deletable": true,
    "editable": true
   },
   "source": [
    "How your growth rate changes as you bet more and more times is a chancy matter, since the outcome of each bet is chancy. You can plot how things might go for a few different choices of bet proportion using the sliders below. Whenever you move a slider, a fresh sequence of bets is simulated and it plots the growth rate against the number of bets for each choice of bet proportion."
   ]
  },
  {
   "cell_type": "code",
   "execution_count": 105,
   "metadata": {
    "collapsed": false,
    "deletable": true,
    "editable": true
   },
   "outputs": [
    {
     "data": {
      "application/vnd.jupyter.widget-view+json": {
       "model_id": "4733e4558baf4409a41ba55fb931cde4",
       "version_major": 2,
       "version_minor": 0
      },
      "text/html": [
       "<p>Failed to display Jupyter Widget of type <code>interactive</code>.</p>\n",
       "<p>\n",
       "  If you're reading this message in the Jupyter Notebook or JupyterLab Notebook, it may mean\n",
       "  that the widgets JavaScript is still loading. If this message persists, it\n",
       "  likely means that the widgets JavaScript library is either not installed or\n",
       "  not enabled. See the <a href=\"https://ipywidgets.readthedocs.io/en/stable/user_install.html\">Jupyter\n",
       "  Widgets Documentation</a> for setup instructions.\n",
       "</p>\n",
       "<p>\n",
       "  If you're reading this message in another frontend (for example, a static\n",
       "  rendering on GitHub or <a href=\"https://nbviewer.jupyter.org/\">NBViewer</a>),\n",
       "  it may mean that your frontend doesn't currently support widgets.\n",
       "</p>\n"
      ],
      "text/plain": [
       "interactive(children=(FloatSlider(value=5.0, description='odds', max=10.0, step=0.5), FloatSlider(value=0.5, description='winProbability', max=1.0), IntSlider(value=50, description='numRounds', min=1), FloatSlider(value=0.0, description='betProp0', max=1.0, step=0.05), FloatSlider(value=0.4, description='betProp1', max=1.0, step=0.05), FloatSlider(value=0.8, description='betProp2', max=1.0, step=0.05), FloatSlider(value=1.0, description='betProp3', max=1.0, step=0.05), Output()), _dom_classes=('widget-interact',))"
      ]
     },
     "metadata": {},
     "output_type": "display_data"
    },
    {
     "data": {
      "text/plain": [
       "<function __main__.plotFourVerticalGrowthRates(odds, winProbability, numRounds, betProp0=0.0, betProp1=0.4, betProp2=0.8, betProp3=1.0)>"
      ]
     },
     "execution_count": 105,
     "metadata": {},
     "output_type": "execute_result"
    }
   ],
   "source": [
    "def plotFourVerticalGrowthRates(odds,winProbability,numRounds,betProp0=0.,betProp1=.4,\n",
    "                             betProp2=.8,betProp3=1.):\n",
    "    \"\"\"Plots simulation of four growth rates after n rounds for given bet proportions.\"\"\"\n",
    "    cumWins = np.cumsum(np.random.random(numRounds) < winProbability)\n",
    "    betProps = [betProp0,betProp1,betProp2,betProp3]\n",
    "    for betProp in betProps:\n",
    "        growthRates = [verticalBankrollGrowthRate(numRounds,numWins,odds,betProp) \\\n",
    "         for (numRounds,numWins) in enumerate(cumWins,start=1)]\n",
    "        label = 'bet proportion: {}'.format(betProp)\n",
    "        plt.plot(range(1,numRounds+1),growthRates,label=label)\n",
    "    plt.xlabel('number of times you have bet'); plt.ylabel('growth rate')\n",
    "    plt.legend()\n",
    "    plt.show()\n",
    "    \n",
    "interact(plotFourVerticalGrowthRates,odds=(0,10,0.5),winProbability=(0,1.),\n",
    "         betProp0=(0,1,0.05),betProp1=(0,1,0.05),betProp2=(0,1,0.05),betProp3=(0,1,0.05),\n",
    "         numRounds=(1,100))"
   ]
  },
  {
   "cell_type": "markdown",
   "metadata": {
    "deletable": true,
    "editable": true
   },
   "source": [
    "You'll notice that if you bet proportion $m$ the growth rate is always between $1-m$ and $1+bm$. To see why, look back at the definition of the growth rate: if you always lose the growth rate is $1-m$, if you always win the growth rate is $1+bm$, and if you lose some times and win other times the growth rate is between the two.\n",
    "\n",
    "Try fixing the odds and win probability, and seeing what happens for a few different bet proportions, including the MEGR proportion, as the you bet more and more often. For example, set $p=0.5$ and $b=2$ and see what happens for a few different bet proportions, including the MEGR proportion of 0.25, as you bet more and more often. You'll see that betting the MEGR proportion tends eventually to lead to the highest growth rate.\n",
    "\n",
    "In fact, the simulations suggest something stronger: that as you bet more and more often, your growth rate tends to stabilize around the expected growth rate. For example, if $p = \\frac{1}{2}$, $b=2$ and you bet a quarter of your bankroll, then the growth rate after you have bet 100 times tends to be around 1.061, which is the expected growth rate. You can experiment with other values of $p$, $b$ and bet proportions.\n",
    "\n",
    "The Weak Law of Large Numbers confirms what the simulations suggest. It tells us that:\n",
    "\n",
    "> As you bet more and more often, the probability that the number of wins $k$ over the number of bets $n$ is within $\\epsilon$ of the win probability $p$ tends to 1, for any $\\epsilon > 0$.\n",
    "\n",
    "Recall that the growth rate after $k$ wins in $n$ bets is:\n",
    "\n",
    "$$ (1+bm)^{\\frac{k}{n}} \\cdot (1-m)^{\\frac{n-k}{n}} $$\n",
    "\n",
    "Define a function $g(x) = (1+bm)^x \\cdot (1-m)^{1-x}$. Note that $g$ is continuous, $g(\\frac{k}{n})$ is the growth rate after $k$ wins in $n$ bets, and $g(p)$ is the expected growth rate of betting proportion $m$. So the Weak Law implies that:\n",
    "\n",
    "> As you bet more and more often, the probability that the growth rate is within $\\epsilon$ of the expected growth rate tends to 1, for any $\\epsilon > 0$.\n",
    "\n",
    "You can convince yourself that this is true by crunching some numbers. We know that the growth rate is chancy: it might be this or that or the other. Let's look at its probability distribution: for each value it might be, what is the probability it is that value? You can plot the distribution below for different values of the parameters."
   ]
  },
  {
   "cell_type": "code",
   "execution_count": 106,
   "metadata": {
    "collapsed": false,
    "deletable": true,
    "editable": true
   },
   "outputs": [
    {
     "data": {
      "application/vnd.jupyter.widget-view+json": {
       "model_id": "c944a53aa53245d8bae9dd0d8a682464",
       "version_major": 2,
       "version_minor": 0
      },
      "text/html": [
       "<p>Failed to display Jupyter Widget of type <code>interactive</code>.</p>\n",
       "<p>\n",
       "  If you're reading this message in the Jupyter Notebook or JupyterLab Notebook, it may mean\n",
       "  that the widgets JavaScript is still loading. If this message persists, it\n",
       "  likely means that the widgets JavaScript library is either not installed or\n",
       "  not enabled. See the <a href=\"https://ipywidgets.readthedocs.io/en/stable/user_install.html\">Jupyter\n",
       "  Widgets Documentation</a> for setup instructions.\n",
       "</p>\n",
       "<p>\n",
       "  If you're reading this message in another frontend (for example, a static\n",
       "  rendering on GitHub or <a href=\"https://nbviewer.jupyter.org/\">NBViewer</a>),\n",
       "  it may mean that your frontend doesn't currently support widgets.\n",
       "</p>\n"
      ],
      "text/plain": [
       "interactive(children=(FloatSlider(value=5.0, description='odds', max=10.0, step=0.5), FloatSlider(value=0.5, description='winProbability', max=1.0), IntSlider(value=50, description='numRounds', min=1), FloatSlider(value=0.5, description='betProp', max=1.0, step=0.05), Output()), _dom_classes=('widget-interact',))"
      ]
     },
     "metadata": {},
     "output_type": "display_data"
    },
    {
     "data": {
      "text/plain": [
       "<function __main__.plotVerticalGrowthRateDistribution(odds, winProbability, numRounds, betProp)>"
      ]
     },
     "execution_count": 106,
     "metadata": {},
     "output_type": "execute_result"
    }
   ],
   "source": [
    "def verticalGrowthRateDistribution(odds,winProbability,numRounds,betProp):\n",
    "    \"\"\"Finds distribution of growth rate of bankroll after n vertical rounds.\"\"\"\n",
    "    df = pd.DataFrame([[bd(numRounds,k,winProbability),\n",
    "        verticalBankrollGrowthRate(numRounds,k,odds,betProp)] for k in range(numRounds+1)])\n",
    "    df = df.groupby(1)[0].apply(np.sum)\n",
    "    df = df.to_frame().reset_index()\n",
    "    df.columns = ['value','probability']\n",
    "    return df\n",
    "\n",
    "def plotVerticalGrowthRateDistribution(odds,winProbability,numRounds,betProp):\n",
    "    \"\"\"Plots distribution of bankroll growth after n vertical rounds.\"\"\"\n",
    "    pmf = verticalGrowthRateDistribution(odds,winProbability,numRounds,betProp)\n",
    "    plt.plot(pmf['value'],pmf['probability'])\n",
    "    plt.xlabel('growth rate'); plt.ylabel('probability')\n",
    "    plt.title(\"\"\"Probability distribution of growth rate\n",
    "    after you bet {} times at proportion {}.\"\"\".format(numRounds,betProp))\n",
    "    plt.show()\n",
    "    \n",
    "interact(plotVerticalGrowthRateDistribution,odds=(0,10,0.5),winProbability=(0,1.),numRounds=(1,100),\n",
    "        betProp=(0,1.,.05))"
   ]
  },
  {
   "cell_type": "markdown",
   "metadata": {
    "deletable": true,
    "editable": true
   },
   "source": [
    "The distributions bear out what the Weak Law implies: that as you bet more and more often, the probability that your growth rate is within $\\epsilon$ of the expected growth rate tends to 1, for any $\\epsilon > 0$. Let's plot those probabilities directly."
   ]
  },
  {
   "cell_type": "code",
   "execution_count": 107,
   "metadata": {
    "collapsed": false,
    "deletable": true,
    "editable": true
   },
   "outputs": [
    {
     "data": {
      "application/vnd.jupyter.widget-view+json": {
       "model_id": "7e2e9410a7b84d15ba5ee4351f41b432",
       "version_major": 2,
       "version_minor": 0
      },
      "text/html": [
       "<p>Failed to display Jupyter Widget of type <code>interactive</code>.</p>\n",
       "<p>\n",
       "  If you're reading this message in the Jupyter Notebook or JupyterLab Notebook, it may mean\n",
       "  that the widgets JavaScript is still loading. If this message persists, it\n",
       "  likely means that the widgets JavaScript library is either not installed or\n",
       "  not enabled. See the <a href=\"https://ipywidgets.readthedocs.io/en/stable/user_install.html\">Jupyter\n",
       "  Widgets Documentation</a> for setup instructions.\n",
       "</p>\n",
       "<p>\n",
       "  If you're reading this message in another frontend (for example, a static\n",
       "  rendering on GitHub or <a href=\"https://nbviewer.jupyter.org/\">NBViewer</a>),\n",
       "  it may mean that your frontend doesn't currently support widgets.\n",
       "</p>\n"
      ],
      "text/plain": [
       "interactive(children=(FloatSlider(value=0.2, description='e', max=1.0, step=0.05), FloatSlider(value=2.0, description='odds', max=10.0, step=0.5), FloatSlider(value=0.5, description='winProb', max=1.0), FloatSlider(value=0.25, description='betProp', max=1.0), Output()), _dom_classes=('widget-interact',))"
      ]
     },
     "metadata": {},
     "output_type": "display_data"
    },
    {
     "data": {
      "text/plain": [
       "<function __main__.plotProbVerticalClose(e=0.2, odds=2, winProb=0.5, betProp=0.25)>"
      ]
     },
     "execution_count": 107,
     "metadata": {},
     "output_type": "execute_result"
    }
   ],
   "source": [
    "def h(x,odds,betProp):\n",
    "    \"\"\"Returns growth rate when #wins/#bets = x.\"\"\"\n",
    "    return (1+odds*betProp)**x * (1-betProp)**(1-x)\n",
    "\n",
    "def probVerticalClose(n,e,odds,winProb,betProp):\n",
    "    \"\"\"Computes probability that growth rate is within e of expected growth rate after n bets.\"\"\"\n",
    "    expectedGrowthRate = h(winProb,odds,betProp)\n",
    "    closeValues = np.absolute(np.array([h(i/n,odds,betProp) for i in range(n+1)]) - \n",
    "                                expectedGrowthRate) < e\n",
    "    return np.where(closeValues,\n",
    "             [bd(n,i,winProb) for i in range(0,n+1)],\n",
    "             np.zeros(n+1)).sum()\n",
    "\n",
    "def plotProbVerticalClose(e=.2,odds=2,winProb=.5,betProp=.25):\n",
    "    \"\"\"Plots probability that growth rate is close to expected growth rate against number of bets.\"\"\"\n",
    "    plt.plot(range(1,101),[probVerticalClose(i,e,odds,winProb,betProp) for i in range(1,101)])\n",
    "    plt.ylabel('probability'); plt.xlabel('number of times you have bet')\n",
    "    plt.title('Probability that growth rate is within {} of expected growth rate.'.format(e))\n",
    "    plt.show()\n",
    "\n",
    "interact(plotProbVerticalClose,e=(0,1.,.05),odds=(0,10,.5),winProb=(0,1.),betProp=(0,1.))"
   ]
  },
  {
   "cell_type": "markdown",
   "metadata": {
    "deletable": true,
    "editable": true
   },
   "source": [
    "A key consequence: because as you bet more and more often the growth rate tends to stabilize around the expected growth rate, someone who bets the proportion which maximizes expected growth rate eventually tends to be ahead of someone who doesn't.\n",
    "\n",
    "Imagine two people facing a vertical gambling problem: one bets the proportion recommended by MEGR; the other bets another proportion. For any $\\delta > 0$, there exists an $N$ such that for all $n>N$ the probability that after $n$ bets the MEGR-bettor is ahead of the rival bettor is at least $1-\\delta$.\n",
    "\n",
    "You can investigate this graphically using the sliders below."
   ]
  },
  {
   "cell_type": "code",
   "execution_count": 108,
   "metadata": {
    "collapsed": false,
    "deletable": true,
    "editable": true
   },
   "outputs": [
    {
     "data": {
      "application/vnd.jupyter.widget-view+json": {
       "model_id": "4b24ba2c503a46bbb838aadf9c28691a",
       "version_major": 2,
       "version_minor": 0
      },
      "text/html": [
       "<p>Failed to display Jupyter Widget of type <code>interactive</code>.</p>\n",
       "<p>\n",
       "  If you're reading this message in the Jupyter Notebook or JupyterLab Notebook, it may mean\n",
       "  that the widgets JavaScript is still loading. If this message persists, it\n",
       "  likely means that the widgets JavaScript library is either not installed or\n",
       "  not enabled. See the <a href=\"https://ipywidgets.readthedocs.io/en/stable/user_install.html\">Jupyter\n",
       "  Widgets Documentation</a> for setup instructions.\n",
       "</p>\n",
       "<p>\n",
       "  If you're reading this message in another frontend (for example, a static\n",
       "  rendering on GitHub or <a href=\"https://nbviewer.jupyter.org/\">NBViewer</a>),\n",
       "  it may mean that your frontend doesn't currently support widgets.\n",
       "</p>\n"
      ],
      "text/plain": [
       "interactive(children=(FloatSlider(value=5.0, description='odds', max=10.0, step=0.5), FloatSlider(value=0.5, description='winProbability', max=1.0), IntSlider(value=100, description='numRounds', max=200, min=1), FloatSlider(value=0.2, description='betProp1', max=1.0, step=0.05), FloatSlider(value=0.8, description='betProp2', max=1.0, step=0.05), Output()), _dom_classes=('widget-interact',))"
      ]
     },
     "metadata": {},
     "output_type": "display_data"
    },
    {
     "data": {
      "text/plain": [
       "<function __main__.plotProbabilityAhead(odds, winProbability, numRounds, betProp1=0.2, betProp2=0.8)>"
      ]
     },
     "execution_count": 108,
     "metadata": {},
     "output_type": "execute_result"
    }
   ],
   "source": [
    "def verticalProbabilityAhead(odds,winProbability,numRounds,betProp1,betProp2):\n",
    "    \"\"\"Finds P(X>Y), where X and Y are two bettors' bankrolls after n vertical rounds.\"\"\"\n",
    "    # can't use verticalBankrollDistribution, since it groups equal bankrolls and we need to keep them separate\n",
    "    growthRates1 = np.array([verticalBankrollGrowthRate(numRounds,k,odds,betProp1) for k in range(numRounds+1)])\n",
    "    growthRates2 = np.array([verticalBankrollGrowthRate(numRounds,k,odds,betProp2) for k in range(numRounds+1)])\n",
    "    bprobs = np.array([bd(numRounds,k,winProbability) for k in range(numRounds+1)])\n",
    "    return np.where(growthRates1 > growthRates2,bprobs,np.zeros(numRounds+1)).sum()    \n",
    "\n",
    "def plotProbabilityAhead(odds,winProbability,numRounds,betProp1=.2,betProp2=.8):\n",
    "    \"\"\"Plots P(X>Y), where X and Y are final bankrolls, against number of times you have bet.\"\"\"\n",
    "    probabilitiesAhead = [verticalProbabilityAhead(odds,winProbability,k,betProp1,betProp2) \\\n",
    "                          for k in range(1,numRounds+1)]\n",
    "    plt.plot(range(1,numRounds+1),probabilitiesAhead)\n",
    "    plt.xlabel('number of times you have bet'); plt.ylabel('probability ahead')\n",
    "    plt.title(\"\"\"Probability that your growth rate is greater \\n \\\n",
    "when you bet {} than {} of your bankroll.\"\"\".format(betProp1,betProp2))\n",
    "    plt.show()\n",
    "\n",
    "interact(plotProbabilityAhead,odds=(0,10,.5),winProbability=(0,1.),numRounds=(1,200),\n",
    "         betProp1=(0,1.,.05),betProp2=(0,1.,.05))"
   ]
  },
  {
   "cell_type": "markdown",
   "metadata": {
    "deletable": true,
    "editable": true
   },
   "source": [
    "Our original question was *How much should you bet in a gambling problem?* MEGR's advice is to bet the amount which maximizes expected growth rate. MEGR can be defended by pointing out that *it does best in the vertical long-run:* in a vertical gambling problem, someone who bets the amount which maximizes expected growth rate eventually tends to be ahead of someone who doesn't."
   ]
  },
  {
   "cell_type": "markdown",
   "metadata": {
    "deletable": true,
    "editable": true
   },
   "source": [
    "<a id='4.7 Discussion'></a>"
   ]
  },
  {
   "cell_type": "markdown",
   "metadata": {
    "deletable": true,
    "editable": true
   },
   "source": [
    "### 4.7 Discussion"
   ]
  },
  {
   "cell_type": "markdown",
   "metadata": {
    "deletable": true,
    "editable": true
   },
   "source": [
    "#### Replicable choices, sustainable choices\n",
    "\n",
    "If many MEV-bettors each bet once, they'll do better on average than any rivals, including MEGR-bettors. MEV is the *replicable* choice. If one MEGR-bettor bets many times, she'll do better by the end than any rival, including MEV-bettors. MEGR is the *sustainable* choice. It's common to defend MEV by pointing out that it does best in the long-run. (It's one of the two defenses [R. A. Briggs](https://plato.stanford.edu/entries/rationality-normative-utility/#LonRunArg) describes in her survey about MEV.) But that is misleading: maybe MEV does best in the horizontal long-run, but the horizontal is just one dimension; in other dimensions, MEV doesn't do best.\n",
    "\n",
    "Compare: to control the roll of an aircraft, it's best to use the ailerons; to control the pitch, it's best to use the elevator; to control the yaw, it's best to use the rudder. If you try to control the aircraft using just the ailerons, or just the elevator, or just the rudder, things will go badly. Don't focus on a single dimension."
   ]
  },
  {
   "cell_type": "markdown",
   "metadata": {
    "deletable": true,
    "editable": true
   },
   "source": [
    "#### Parameterizing options, projecting behaviour\n",
    "\n",
    "When we talk about how MEV-bettors do in *vertical* gambling problems, or how MEGR-bettors do in *horizontal* gambling problems, we need to be clear about *what* they do, for they're out of their natural habitats. We need to make clear how we *project* behaviour in a one-off gambling problem to behaviour in a repeated gambling problem. \n",
    "\n",
    "Remember that MEV and MEGR parameterize the options in a one-off gambling problem differently: MEV sees your options as betting any *amount* $m \\in [0,r]$; MEGR sees your options as betting any *proportion* $m \\in [0,1]$. These different parameterizations suggest different projections: bet the same amount or bet the same proportion.\n",
    "\n",
    "By definition, bettors in vertical gambling problems, which are MEGR's natural habitat, bet the same proportion every time. In particular, MEV-bettors in vertical gambling problems bet the same proportion every time. By definition, bettors in horizontal gambling problems, which are MEV's natural habitat, bet the same amount every time. In particular, MEGR-bettors in horizontal gambling problems bet the same amount every time. As it happens, in a horizontal gambling problem, betting the same amount comes to the same thing as betting the same proportion, since all the bettors' initial bankrolls are equal.\n",
    "\n",
    "Parameterizing and projecting by amount or by proportion don't exhaust the options---far from it. So how should we parameterize and project? That's a fair question (cf. [the Bertrand Paradox](https://en.wikipedia.org/wiki/Bertrand_paradox_%28probability%29) and Goodman's New Riddle of Induction). The focus here is on the long-run and the short-run, not parameterization and projection; but the two issues may interact in interesting ways."
   ]
  },
  {
   "cell_type": "markdown",
   "metadata": {
    "deletable": true,
    "editable": true
   },
   "source": [
    "#### (In)essential parts of the story\n",
    "\n",
    "In a horizontal gambling problem, many people bet once, everyone bets the same amount, and we look at their total bankroll, or actually, since it turns out to be more convenient, their average bankroll. In a vertical gambling problem, one person bets many times, she bets the same proportion every time, and we look at her final bankroll, or actually, since it turns out to be more convenient, the growth rate. Of course, we could just as well say that in a horizontal gambling problem, one person bets many times, as long as we add that her bankroll resets every time, and that in a vertical gambling problem, many people bet once, as long as we add that each bettor's bankroll after betting becomes the next bettor's bankroll before betting. What matters is how the bankroll changes from bet to bet, not the number of bettors or how many times each of them bets. Contrasting many people betting once and one person betting many times just makes things easier to say."
   ]
  },
  {
   "cell_type": "markdown",
   "metadata": {
    "deletable": true,
    "editable": true
   },
   "source": [
    "#### How to iterate a decision problem?\n",
    "\n",
    "We generate a vertical or horizontal gambling problem from a one-off gambling problem by iterating the one-off problem. Iterating how? Let's separate two components. \n",
    "\n",
    "The first component is *structure*. In a horizontal gambling problem, an infinite sequence of people each face a gamble in turn, have the same initial bankroll, and everyone has to bet the same amount. In a vertical gambling problem, you face a gamble repeatedly, your bankroll rolls over, and you have to bet the same proportion every time. These descriptions fix the structure of horizontal and vertical gambling problems. In general, to describe the structure is to describe what the bettors *do*.\n",
    "\n",
    "The second component is the *performance measure*. In horizontal gambling problems, the performance measure is the total bankroll, or, which comes to the same thing, average bankroll. In vertical gambling problems, the performance measure is the final bankroll, or, which comes to the same thing, the growth rate. In general, the performance measure is the criterion by which you judge when this bettor, or group of bettors, outperforms that bettor, or group of bettors. (Don't confuse the performance measure with the bettors' utility functions, which do a quite different job. I discuss utility functions later in this section.)\n",
    "\n",
    "The two components, structure and performance measure, together describe how to iterate a one-off gambling problem. The discussion has focused on two ways to iterate one-off problems. Let's consider others.\n",
    "\n",
    "We could change the performance measure. Instead of using average bankroll in a horizontal gambling problem, we could use: the average of the squares, the average of the cube roots, the geometric or harmonic average, some function which combines average and variance. And so on. Instead of using growth rate in a vertical gambling problem, we could use: the growth rate of the logs, the growth rate of the ceilings, the minimum or maximum growth rate across bets, some function which combines growth rate and median. And so on. The options are endless. Some choices of performance measure won't change the analysis. They're changes of scale, like moving from total bankroll and final bankroll to average bankroll and growth rate. Other choices will change the analysis. Using average bankroll and growth rate is hardly arbitrary, but perhaps other options have equal claim and would yield different results.\n",
    "\n",
    "We could change the structure. Example: Imagine two bettors, $A$ and $B$, who each face a gambling problem with win probability $p$ and odds $b$:1 repeatedly. Each of their bankrolls before betting on Day 1 is $r$. After betting each day, they pool and divide their bankrolls, to give each their initial bankroll for the next day. They have to bet the same proportion each day and the same proportion as each other. The structure is a mix of the vertical and the horizontal: it involves two people each facing a vertical gambling problem, but with an additional step where their bankrolls are averaged after betting each day. What does best in this iterated gambling problem: what MEV recommends in the one-off gambling problem, what MEGR recommends in the one-off gambling problem, or something else? Of course, that's merely one example. The options are endless. \n",
    "\n",
    "When we iterate a gambling problem horizontally, what MEV recommends in the one-off problem does best. That is a long-run justification for MEV. When we iterate a gambling problem vertically, what MEGR recommends in the one-off problem does best. That is a long-run justification for MEGR. Conjecture: For most recommendations in one-off gambling problems, there is a way to iterate the one-off problem such that that recommendation does best. Most decision rules have a long-run justification. Long-run justifications of decision rules are cheap.\n",
    "\n",
    "To resolve the conjecture, think up ways to iterate one-off gambling problems, analyze them as in Sections 4.5 and 4.6, then reverse-engineer decision rules which are vindicated by the analyses. That's what I'll work on next."
   ]
  },
  {
   "cell_type": "markdown",
   "metadata": {},
   "source": [
    "#### Beyond gambling problems\n",
    "\n",
    "We've focused on a narrow class of decision problems: gambling problems. What about other decisions problems?\n",
    "\n",
    "In a standard decision-theoretic framework, a decision problem specifies, among other things, a range of available actions and associates an expected value with each action. Therefore MEV's advice---choose an action which maximizes expected value---is well-defined in all decision problems, not just gambling problems. MEGR's advice---choose an action which maximizes expected growth rate---is well-defined in *some* other decision problems, such as betting on gambles with multiple mutually exclusive outcomes, rather than just two outcomes. But it's not well-defined in all decision problems. For it to be well-defined, the actions and outcomes must lie on the same scale, roughly speaking. It would be nice to find a generalization of MEGR's advice which does apply across all decision problems. We might start on that problem by characterizing precisely when MEGR's advice is well-defined."
   ]
  },
  {
   "cell_type": "markdown",
   "metadata": {},
   "source": [
    "#### From long-run to long-run to short-run\n",
    "\n",
    "Distinguish three claims:\n",
    "\n",
    "1. MEV-bettors eventually tend to be ahead of rival bettors in horizontal gambling problems.\n",
    "2. People in a horizontal gambling problem should bet the MEV amount.\n",
    "3. Someone in a gambling problem should bet the MEV amount.\n",
    "\n",
    "Similarly,\n",
    "    \n",
    "<ol start=\"4\">\n",
    "  <li>An MEGR-bettor eventually tends to be ahead of a rival bettor in a vertical gambling problem.</li>\n",
    "  <li>Someone in a vertical gambling problem should bet the MEGR proportion.</li>\n",
    "  <li>Someone in a gambling problem should bet the MEGR proportion.</li>\n",
    "</ol>\n",
    "\n",
    "1 and 4 are true. That's what we established in the previous sections. (In fact, stronger things than 1 and 4 are true.) But what is the relation between 1, 2, and 3, or between 4, 5, and 6? I'll focus on 1, 2, 3. Similar things can be said about 4, 5, 6.\n",
    "\n",
    "*Does 1 support 2?* In Section 2, we discussed whether 7 supports 8:\n",
    "\n",
    "<ol start=\"7\">\n",
    "  <li>$x_n$ tends to 0 and $y_n$ tends to 1</li>\n",
    "  <li>$x_{100}$ is closer to 0 than $y_{100}$</li>\n",
    "</ol>\n",
    "\n",
    "Whether 1 supports 2 is similar, but note two differences. First, it's not true that MEV-bettors eventually *are* ahead of rival bettors; what is true is that MEV-bettors eventually *tend* to be ahead of rival bettors. 1 is probabilistic, not categorical. By contrast, 7 is categorical, not probabilistic. (But both are long-run.) Second, 8 is about particular members of the sequences, the 100$^{th}$ members. 2 isn't. Compare 2 to \"People in a horizontal gambling problem who bet the MEV amount tend to be ahead of people who don't after 100 bets.\"\n",
    "\n",
    "We might try to get from 1 to 2 via a principle like this: Option X is better than Option Y if someone who does X is more likely than not to end up ahead of someone who does Y. Applying the principle to horizontal gambling problems is tricky, since it's not clear what *ends up* means when the number of bets is unbounded. But anyway surely the principle is false. Consider one-off gambling problems: when $p < \\frac{1}{2}$, someone who bets nothing is more likely than not to end up ahead of someone who bets something; when $p > \\frac{1}{2}$, someone who bets something is more likely than not to end up ahead of someone who bets nothing. It doesn't follow that when $p < \\frac{1}{2}$ betting nothing is better than betting something or when $p > \\frac{1}{2}$ betting something is better than betting nothing. So even if the principle did apply neatly to horizontal gambling problems, it's false anyway.\n",
    "\n",
    "Stronger things than 1 are true. If 1 doesn't support 2, we might have better luck with them. Or we might not.\n",
    "\n",
    "*Does 2 support 3?* It's a bad strategy, in general, to evaluate a recommendation in one decision problem by seeing how that recommendation does in another decision problem. For one thing, the strategy just replaces one evaluation task (evaluate the recommendation in *this* decision problem) with another (evaluate the recommendation in *that* decision problem). When the second evaluation task is easier than the first, this may constitute progress; but when it isn't, it doesn't. For another thing, why should we evaluate a recommendation in one decision problem by seeing how it does in another? We don't evaluate weightlifters by seeing how they do in the pole-vault. To use 2 to support 3 is to evaluate recommendations in one decision problem, a gambling problem, by seeing how they do in another, a horizontal gambling problem. If the strategy is bad in general, is it any better in this particular case?\n",
    "\n",
    "To support the first point, earlier in the section I suggested that it's not straightforward to evaluate MEV's recommendation in horizontal gambling problems. On the second point, standard objections to evaluating MEV's recommendation in a gambling problem by seeing how it does in a horizontal gambling problem are that no decision *will* be repeated indefinitely, most *won't* even be repeated often, some *can't* be repeated often, and even those which *will* be repeated are not independent. To these we can add: if you should bet the MEV amount in a horizontal gambling problem, then you should bet the MEGR proportion in a vertical gambling problem; but MEV and MEGR disagree in one-off gambling problems.\n",
    "\n",
    "To spell out the last point in full: If 2 is true then 5 is true. If (if 2 is true then 3 is true) then (if 5 is true then 6 is true). Either 3 is false or 6 is false. So, 2 is false. And by a similar argument, 5 is false.\n",
    "\n",
    "*Does 1 support 3?* 1 is two long-runs away from 3, when you go via 2, for 1 is a long-run away from 2 and 2 is a long-run away from 3. I doubt whether 1 supports 2 or 2 supports 3. So I doubt whether 1 supports 3 via 2. 1 might support 3 not via 2. But I'm skeptical."
   ]
  },
  {
   "cell_type": "markdown",
   "metadata": {
    "deletable": true,
    "editable": true
   },
   "source": [
    "#### Maximize expected log value\n",
    "\n",
    "Fix a gamble with win probability $p$ and payoff odds $b:1$ and suppose your bankroll is $r$. The *expected log value of betting m dollars* is $p \\cdot log(r+bm) + (1-p) \\cdot log(r-m)$. Maximize Expected Log Value (MELV) advises you to bet the amount $m$ which maximizes this quantity. You can graph expected log value against amount bet in a variety of gambling problems using the sliders below. It assumes your initial bankroll is 100 dollars."
   ]
  },
  {
   "cell_type": "code",
   "execution_count": 109,
   "metadata": {
    "collapsed": false,
    "deletable": true,
    "editable": true
   },
   "outputs": [
    {
     "data": {
      "application/vnd.jupyter.widget-view+json": {
       "model_id": "64c31e68d0eb4af2a3dd3abe0e0d6dd2",
       "version_major": 2,
       "version_minor": 0
      },
      "text/html": [
       "<p>Failed to display Jupyter Widget of type <code>interactive</code>.</p>\n",
       "<p>\n",
       "  If you're reading this message in the Jupyter Notebook or JupyterLab Notebook, it may mean\n",
       "  that the widgets JavaScript is still loading. If this message persists, it\n",
       "  likely means that the widgets JavaScript library is either not installed or\n",
       "  not enabled. See the <a href=\"https://ipywidgets.readthedocs.io/en/stable/user_install.html\">Jupyter\n",
       "  Widgets Documentation</a> for setup instructions.\n",
       "</p>\n",
       "<p>\n",
       "  If you're reading this message in another frontend (for example, a static\n",
       "  rendering on GitHub or <a href=\"https://nbviewer.jupyter.org/\">NBViewer</a>),\n",
       "  it may mean that your frontend doesn't currently support widgets.\n",
       "</p>\n"
      ],
      "text/plain": [
       "interactive(children=(FloatSlider(value=2.0, description='odds', max=10.0, step=0.5), FloatSlider(value=0.5, description='winProb', max=1.0, step=0.05), Output()), _dom_classes=('widget-interact',))"
      ]
     },
     "metadata": {},
     "output_type": "display_data"
    },
    {
     "data": {
      "text/plain": [
       "<function __main__.plotExpectedLogValue(odds=2, winProb=0.5)>"
      ]
     },
     "execution_count": 109,
     "metadata": {},
     "output_type": "execute_result"
    }
   ],
   "source": [
    "def plotExpectedLogValue(odds=2,winProb=.5):\n",
    "    \"\"\"Plots expected log value against amount bet in a gambling problem.\"\"\"\n",
    "    plt.plot([winProb*np.log(100+odds*m) + (1-winProb)*np.log(100-m) for m in range(0,100)]) # upper bound is 100, not 101\n",
    "    plt.xlabel('amount bet ($)'); plt.ylabel('expected log value ($)')\n",
    "    plt.show()\n",
    "    \n",
    "interact(plotExpectedLogValue,odds=(0,10,.5),winProb=(0,1.,.05))"
   ]
  },
  {
   "cell_type": "markdown",
   "metadata": {
    "deletable": true,
    "editable": true
   },
   "source": [
    "In Example 1, where $p$ = 0.5 and $b$ = 2, the expected log value of betting $m$ dollars comes to $0.5 \\cdot log(100+2m) + 0.5 \\cdot log(100-m)$. In Example 2, where $p=\\frac{2}{3}$ and $b=1$, the expected log value of betting $m$ dollars comes to $\\frac{2}{3} \\cdot log(100+m) + \\frac{1}{3} \\cdot log(100-m)$. Setting the sliders and looking at the graphs suggests that expected log bankroll is maximized in Example 1 when $m$ is about 25 dollars, at about 4.664, and in Example 2 when $m$ is about 33 dollars, at about 4.661. So MELV recommends betting 25 dollars, which is a quarter of your bankroll, in Example 1, and about 33 dollars, which is about a third of your bankroll, in Example 2.\n",
    "\n",
    "We've seen these proportions before: they're the proportions MEGR recommends in Examples 1 and 2. That's no accident: it turns out that in any gambling problem, MELB's recommendation agrees with MEGR's recommendation. (MELB puts its recommendation in terms of amount and MEGR puts it in terms of proportion, but that doesn't matter.) So a third way to put MEGR's recommendation, along with *maximize expected growth rate* and *bet edge over odds*, is *maximize expected log value*.\n",
    "\n",
    "Does this fact show that MEV and MEGR really agree, except that MEV assumes the agent's utility is a linear function of money and MEGR assumes that it's logarithmic? No. Take an agent for whom utility can be identified with money and ask *How should she bet in Example 1?* MEV says she should bet her bankroll; MEGR says she should bet a quarter of her bankroll. They disagree. And similarly in other gambling problems. It's irrelevant to point out that MEV's recommendation for an agent with a linear utility function agrees with MEGR's recommendation for an agent with a logarithmic utility function. What matters is what they recommend for a fixed agent.\n",
    "\n",
    "I implicitly assumed throughout that the agent's utility is a linear function of money. That made things easy to think about and to say. Suppose instead that the agent's utility function is some non-linear function $u$ of money. We have to adjust the definitions of MEV and MEGR by applying $u$ to any dollar amounts. That's the easy part. The hard part is to adjust the definitions of horizontal and vertical gambling problems. As things stand, the long-run results above won't in general hold when $u$ is non-linear. (Imagine what happens when $u$ is bounded or non-increasing.) When you change how utility relates to money, you need also to change how you turn a one-off gambling problem into an infinite gambling problem, if you want the long-run results above still to hold.\n",
    "\n",
    "It's not obvous how non-linear utility functions interact with long-run defences of decision rules. One interesting question is whether non-linear utility functions break the symmetry between MEV and MEGR. In any case, this much is clear: MEV and MEGR do disagree."
   ]
  },
  {
   "cell_type": "markdown",
   "metadata": {
    "deletable": true,
    "editable": true
   },
   "source": [
    "#### Breaking the symmetry\n",
    "\n",
    "MEV's recommendation does best in horizontal gambling problems; MEGR's recommendation does best in vertical gambling problems. So does the long-run tell in favour of one over the other? The discussion of MEV and MEGR is symmetric. To break the symmetry, we'll have to look elsewhere.\n",
    "\n",
    "When you apply a decision rule to a decision problem, you get a recommendaton about the problem. In a long-run defence of the rule, you iterate the problem, iterate the recommendation, and show that the iterated recommendation does best in the iterated problem. Keep the problems and recommendations straight: the one-off problem and recommendation about the one-off problem, and the iterated problem and iterated recommendation. To get the recommendation about the one-off problem, you apply the rule to the one-off problem; to get the iterated recommendation, you iterate the recommendation about the one-off problem.\n",
    "\n",
    "A preliminary idea. Having got things straight, let's mix them up. Apply the decision rule to the iterated problem too, giving a recommendation about the iterated problem. Check whether the recommendation about the iterated problem is the same as the iterated recommendation about the one-off problem. If it is, the long-run defence is *nice*; if not, *nasty*. Nice long-run defences are better than nasty ones. That's the idea. \n",
    "\n",
    "It's tricky to apply the idea to MEV and MEGR. I'll briefly sketch two problems. In the long-run defence of MEV, the one-off problem is a gambling problem and the iterated problem is a horizontal gambling problem. What does MEV recommend when applied to the iterated problem? The options are to bet any amount in $[0,r]$. The states are the infinite sequences of outcomes of gambles. The difficulty comes in defining the outcomes: What is the bettors' average bankroll after all of them---infinitely many---have gambled? In the long-run defence of MEGR, the one-off problem is a gambling problem and the iterated problem is a vertical gambling problem. The problem is immediate: MEGR doesn't apply to vertical gambling problems."
   ]
  },
  {
   "cell_type": "markdown",
   "metadata": {},
   "source": [
    "#### Risk aversion\n",
    "\n",
    "Assume the win probability $p$ is less than 1.\n",
    "\n",
    "In a vertical gambling problem, betting proportion 1 is high-risk, high-reward. On the one hand, after your first loss, your bankroll is 0 dollars and you can't recover. You typically soon go bust and with probability 1 you go bust eventually. On the other hand, as long as you keep winning, the more you bet the more you make. Betting proportion less than 1 is lower-risk, lower-reward. On the one hand, you never go bust. Since you never bet everything, you always have something. On the other hand, as long as you keep winning, you would have made more had you bet more. When the edge of a gamble is positive, MEV recommends betting proportion 1. MEV is high-risk, high-reward. MEGR never recommends betting proportion 1. MEGR is lower-risk, lower-reward. \n",
    "\n",
    "Do these observations show that MEGR and MEV really agree, except that MEGR-bettors are risk-averse and MEV-bettors are not? No.\n",
    "\n",
    "An MEGR-bettor in a vertical gambling problem never goes bust. But nor does any other bettor who bets less than proportion 1. Never going bust is easy. That is not what distinguishes MEGR from its rivals. We've already seen what distinguishes MEGR from its rivals: in a vertical gambling problem, someone who bets the amount which maximizes expected growth rate eventually tends to be ahead of someone who doesn't.\n",
    "\n",
    "Fix a model of risk-aversion. Suppose we showed: for any gambling problem there exists a setting of the model's risk parameters such that MEV's risk-weighted recommendation agrees with MEGR's non-risk-weighted recommendation. Such a result wouldn't be significant. When two theories conflict and you add parameters to one it's to be expected that for any phenomenon you can set the parameters to bring the theories into line about that phenomenon. Now swap the quantifiers. Suppose we showed: there exists a setting of the model's risk parameters such that for any gambling problem MEV's risk-weighted recommendation agrees with MEGR's non-risk-weighted recommendation. That result would be significant."
   ]
  },
  {
   "cell_type": "markdown",
   "metadata": {
    "deletable": true,
    "editable": true
   },
   "source": [
    "#### Other long-run properties\n",
    "\n",
    "We applied the Weak Law of Large Numbers to horizontal and vertical gambling problems to see how bettors do in the long-run. But the Weak Law is just one result we could apply. There are others. For example, the Strong Law of Large Numbers tells us that:\n",
    "\n",
    "> With probability 1, as more and more people bet, or one person bets more and more often, the number of wins $k$ over the number of bets $n$ tends to the win probability $p$.\n",
    "\n",
    "And therefore:\n",
    "\n",
    "> With probability 1, as more and more people bet in a horizontal gambling problem their average bankroll tends to the expected value; and with probability 1, as you bet more and more often in a vertical gambling problem, the growth rate tends to the expected growth rate.\n",
    "\n",
    "The key consequences for us are that: in horizontal gambling problems, with probability 1 eventually people who bet the amount which maximizes expected value get ahead and stay ahead of people who don't; and in vertical gambling problems, with probability 1 eventually someone who bets the proportion which maximizes expected growth rate gets ahead and stays ahead of someone who doesn't. No doubt there are other results we could apply which would have other interesting consequences."
   ]
  }
 ],
 "metadata": {
  "kernelspec": {
   "display_name": "Python 3",
   "language": "python",
   "name": "python3"
  },
  "language_info": {
   "codemirror_mode": {
    "name": "ipython",
    "version": 3
   },
   "file_extension": ".py",
   "mimetype": "text/x-python",
   "name": "python",
   "nbconvert_exporter": "python",
   "pygments_lexer": "ipython3",
   "version": "3.5.2"
  }
 },
 "nbformat": 4,
 "nbformat_minor": 2
}
