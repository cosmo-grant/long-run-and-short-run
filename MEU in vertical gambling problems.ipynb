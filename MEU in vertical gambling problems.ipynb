{
 "cells": [
  {
   "cell_type": "markdown",
   "metadata": {},
   "source": [
    "Source: Samuelson (1971)\n",
    "\n",
    "Different versions:\n",
    " - Number of rounds fixed and known.\n",
    " - Probability distribution over number of rounds.\n",
    " - Choose when to stop.\n",
    " - Uniform proportion across rounds?\n",
    " \n",
    "What does MEU recommend?\n",
    "\n",
    "Samuelson shows that in first case, MEU says bet the bank?"
   ]
  }
 ],
 "metadata": {
  "kernelspec": {
   "display_name": "Python 3",
   "language": "python",
   "name": "python3"
  },
  "language_info": {
   "codemirror_mode": {
    "name": "ipython",
    "version": 3
   },
   "file_extension": ".py",
   "mimetype": "text/x-python",
   "name": "python",
   "nbconvert_exporter": "python",
   "pygments_lexer": "ipython3",
   "version": "3.6.5"
  }
 },
 "nbformat": 4,
 "nbformat_minor": 2
}
